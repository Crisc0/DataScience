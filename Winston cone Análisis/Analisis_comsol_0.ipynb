{
 "cells": [
  {
   "cell_type": "code",
   "execution_count": 59,
   "metadata": {},
   "outputs": [],
   "source": [
    "import pandas as pd\n",
    "from scipy import stats\n",
    "import numpy as np\n",
    "import scipy\n",
    "import matplotlib.pyplot as plt\n",
    "import matplotlib.mlab as mlab \n",
    "import statsmodels.api as sm\n",
    "import statsmodels.formula.api as smf\n",
    "import seaborn as sns\n",
    "from scipy import random\n",
    "from scipy.stats import norm\n",
    "import warnings\n",
    "from itertools import repeat\n",
    "warnings.filterwarnings(\"ignore\", category=DeprecationWarning)\n",
    "#plt.style.use('seaborn-whitegrid') # Gráficos estilo seaborn\n",
    "#plt.rcParams[\"figure.figsize\"] = (12, 4) # Tamaño gráficos\n",
    "#plt.rcParams[\"figure.dpi\"] = 100 # resolución gráficos"
   ]
  },
  {
   "cell_type": "markdown",
   "metadata": {},
   "source": [
    "# Cono de Winston "
   ]
  },
  {
   "cell_type": "code",
   "execution_count": 2,
   "metadata": {},
   "outputs": [],
   "source": [
    "df1 = pd.read_csv(\"winston_cone_f.csv\", sep = ',')  # sep = ',' sirve para separar en 2 columnas el excel leido."
   ]
  },
  {
   "cell_type": "code",
   "execution_count": 3,
   "metadata": {},
   "outputs": [
    {
     "data": {
      "text/html": [
       "<div>\n",
       "<style scoped>\n",
       "    .dataframe tbody tr th:only-of-type {\n",
       "        vertical-align: middle;\n",
       "    }\n",
       "\n",
       "    .dataframe tbody tr th {\n",
       "        vertical-align: top;\n",
       "    }\n",
       "\n",
       "    .dataframe thead th {\n",
       "        text-align: right;\n",
       "    }\n",
       "</style>\n",
       "<table border=\"1\" class=\"dataframe\">\n",
       "  <thead>\n",
       "    <tr style=\"text-align: right;\">\n",
       "      <th></th>\n",
       "      <th>Tiempo (ns)</th>\n",
       "      <th>Rayo 1</th>\n",
       "      <th>Rayo 2</th>\n",
       "      <th>Rayo 3</th>\n",
       "      <th>Rayo 4</th>\n",
       "      <th>Rayo 5</th>\n",
       "      <th>Rayo 6</th>\n",
       "      <th>Rayo 7</th>\n",
       "      <th>Rayo 8</th>\n",
       "      <th>Rayo 9</th>\n",
       "      <th>...</th>\n",
       "      <th>Rayo 1991</th>\n",
       "      <th>Rayo 1992</th>\n",
       "      <th>Rayo 1993</th>\n",
       "      <th>Rayo 1994</th>\n",
       "      <th>Rayo 1995</th>\n",
       "      <th>Rayo 1996</th>\n",
       "      <th>Rayo 1997</th>\n",
       "      <th>Rayo 1998</th>\n",
       "      <th>Rayo 1999</th>\n",
       "      <th>Rayo 2000</th>\n",
       "    </tr>\n",
       "  </thead>\n",
       "  <tbody>\n",
       "    <tr>\n",
       "      <th>0</th>\n",
       "      <td>0.0000</td>\n",
       "      <td>5.000000</td>\n",
       "      <td>5.000000</td>\n",
       "      <td>5.000000</td>\n",
       "      <td>5.000000</td>\n",
       "      <td>5.000000</td>\n",
       "      <td>5.000000</td>\n",
       "      <td>5.000000</td>\n",
       "      <td>5.000000</td>\n",
       "      <td>5.000000</td>\n",
       "      <td>...</td>\n",
       "      <td>5.000000</td>\n",
       "      <td>5.000000</td>\n",
       "      <td>5.000000</td>\n",
       "      <td>5.000000</td>\n",
       "      <td>5.000000</td>\n",
       "      <td>5.000000</td>\n",
       "      <td>5.000000</td>\n",
       "      <td>5.000000</td>\n",
       "      <td>5.000000</td>\n",
       "      <td>5.000000</td>\n",
       "    </tr>\n",
       "    <tr>\n",
       "      <th>1</th>\n",
       "      <td>0.0001</td>\n",
       "      <td>4.999346</td>\n",
       "      <td>4.999346</td>\n",
       "      <td>4.999346</td>\n",
       "      <td>4.999346</td>\n",
       "      <td>4.999346</td>\n",
       "      <td>4.999346</td>\n",
       "      <td>4.999346</td>\n",
       "      <td>4.999346</td>\n",
       "      <td>4.999346</td>\n",
       "      <td>...</td>\n",
       "      <td>4.999346</td>\n",
       "      <td>4.999346</td>\n",
       "      <td>4.999346</td>\n",
       "      <td>4.999346</td>\n",
       "      <td>4.999346</td>\n",
       "      <td>4.999346</td>\n",
       "      <td>4.999346</td>\n",
       "      <td>4.999346</td>\n",
       "      <td>4.999346</td>\n",
       "      <td>4.999346</td>\n",
       "    </tr>\n",
       "    <tr>\n",
       "      <th>2</th>\n",
       "      <td>0.0002</td>\n",
       "      <td>4.998691</td>\n",
       "      <td>4.998691</td>\n",
       "      <td>4.998691</td>\n",
       "      <td>4.998691</td>\n",
       "      <td>4.998691</td>\n",
       "      <td>4.998691</td>\n",
       "      <td>4.998691</td>\n",
       "      <td>4.998691</td>\n",
       "      <td>4.998691</td>\n",
       "      <td>...</td>\n",
       "      <td>4.998691</td>\n",
       "      <td>4.998691</td>\n",
       "      <td>4.998691</td>\n",
       "      <td>4.998691</td>\n",
       "      <td>4.998691</td>\n",
       "      <td>4.998691</td>\n",
       "      <td>4.998691</td>\n",
       "      <td>4.998691</td>\n",
       "      <td>4.998691</td>\n",
       "      <td>4.998691</td>\n",
       "    </tr>\n",
       "    <tr>\n",
       "      <th>3</th>\n",
       "      <td>0.0003</td>\n",
       "      <td>4.998037</td>\n",
       "      <td>4.998037</td>\n",
       "      <td>4.998037</td>\n",
       "      <td>4.998037</td>\n",
       "      <td>4.998037</td>\n",
       "      <td>4.998037</td>\n",
       "      <td>4.998037</td>\n",
       "      <td>4.998037</td>\n",
       "      <td>4.998037</td>\n",
       "      <td>...</td>\n",
       "      <td>4.998037</td>\n",
       "      <td>4.998037</td>\n",
       "      <td>4.998037</td>\n",
       "      <td>4.998037</td>\n",
       "      <td>4.998037</td>\n",
       "      <td>4.998037</td>\n",
       "      <td>4.998037</td>\n",
       "      <td>4.998037</td>\n",
       "      <td>4.998037</td>\n",
       "      <td>4.998037</td>\n",
       "    </tr>\n",
       "    <tr>\n",
       "      <th>4</th>\n",
       "      <td>0.0004</td>\n",
       "      <td>4.997383</td>\n",
       "      <td>4.997383</td>\n",
       "      <td>4.997383</td>\n",
       "      <td>4.997383</td>\n",
       "      <td>4.997383</td>\n",
       "      <td>4.997383</td>\n",
       "      <td>4.997383</td>\n",
       "      <td>4.997383</td>\n",
       "      <td>4.997383</td>\n",
       "      <td>...</td>\n",
       "      <td>4.997383</td>\n",
       "      <td>4.997383</td>\n",
       "      <td>4.997383</td>\n",
       "      <td>4.997383</td>\n",
       "      <td>4.997383</td>\n",
       "      <td>4.997383</td>\n",
       "      <td>4.997383</td>\n",
       "      <td>4.997383</td>\n",
       "      <td>4.997383</td>\n",
       "      <td>4.997383</td>\n",
       "    </tr>\n",
       "    <tr>\n",
       "      <th>...</th>\n",
       "      <td>...</td>\n",
       "      <td>...</td>\n",
       "      <td>...</td>\n",
       "      <td>...</td>\n",
       "      <td>...</td>\n",
       "      <td>...</td>\n",
       "      <td>...</td>\n",
       "      <td>...</td>\n",
       "      <td>...</td>\n",
       "      <td>...</td>\n",
       "      <td>...</td>\n",
       "      <td>...</td>\n",
       "      <td>...</td>\n",
       "      <td>...</td>\n",
       "      <td>...</td>\n",
       "      <td>...</td>\n",
       "      <td>...</td>\n",
       "      <td>...</td>\n",
       "      <td>...</td>\n",
       "      <td>...</td>\n",
       "      <td>...</td>\n",
       "    </tr>\n",
       "    <tr>\n",
       "      <th>3084</th>\n",
       "      <td>0.3084</td>\n",
       "      <td>3.363254</td>\n",
       "      <td>3.363240</td>\n",
       "      <td>3.363255</td>\n",
       "      <td>3.363243</td>\n",
       "      <td>3.363220</td>\n",
       "      <td>3.363218</td>\n",
       "      <td>3.363215</td>\n",
       "      <td>3.363220</td>\n",
       "      <td>3.363214</td>\n",
       "      <td>...</td>\n",
       "      <td>NaN</td>\n",
       "      <td>NaN</td>\n",
       "      <td>NaN</td>\n",
       "      <td>NaN</td>\n",
       "      <td>NaN</td>\n",
       "      <td>NaN</td>\n",
       "      <td>NaN</td>\n",
       "      <td>NaN</td>\n",
       "      <td>NaN</td>\n",
       "      <td>NaN</td>\n",
       "    </tr>\n",
       "    <tr>\n",
       "      <th>3085</th>\n",
       "      <td>0.3085</td>\n",
       "      <td>3.363254</td>\n",
       "      <td>3.363240</td>\n",
       "      <td>3.363255</td>\n",
       "      <td>3.363243</td>\n",
       "      <td>3.363220</td>\n",
       "      <td>3.363218</td>\n",
       "      <td>3.363215</td>\n",
       "      <td>3.363220</td>\n",
       "      <td>3.363214</td>\n",
       "      <td>...</td>\n",
       "      <td>NaN</td>\n",
       "      <td>NaN</td>\n",
       "      <td>NaN</td>\n",
       "      <td>NaN</td>\n",
       "      <td>NaN</td>\n",
       "      <td>NaN</td>\n",
       "      <td>NaN</td>\n",
       "      <td>NaN</td>\n",
       "      <td>NaN</td>\n",
       "      <td>NaN</td>\n",
       "    </tr>\n",
       "    <tr>\n",
       "      <th>3086</th>\n",
       "      <td>0.3086</td>\n",
       "      <td>3.363254</td>\n",
       "      <td>3.363240</td>\n",
       "      <td>3.363255</td>\n",
       "      <td>3.363243</td>\n",
       "      <td>3.363220</td>\n",
       "      <td>3.363218</td>\n",
       "      <td>3.363215</td>\n",
       "      <td>3.363220</td>\n",
       "      <td>3.363214</td>\n",
       "      <td>...</td>\n",
       "      <td>NaN</td>\n",
       "      <td>NaN</td>\n",
       "      <td>NaN</td>\n",
       "      <td>NaN</td>\n",
       "      <td>NaN</td>\n",
       "      <td>NaN</td>\n",
       "      <td>NaN</td>\n",
       "      <td>NaN</td>\n",
       "      <td>NaN</td>\n",
       "      <td>NaN</td>\n",
       "    </tr>\n",
       "    <tr>\n",
       "      <th>3087</th>\n",
       "      <td>0.3087</td>\n",
       "      <td>3.363254</td>\n",
       "      <td>3.363240</td>\n",
       "      <td>3.363255</td>\n",
       "      <td>3.363243</td>\n",
       "      <td>3.363220</td>\n",
       "      <td>3.363218</td>\n",
       "      <td>3.363215</td>\n",
       "      <td>3.363220</td>\n",
       "      <td>3.363214</td>\n",
       "      <td>...</td>\n",
       "      <td>NaN</td>\n",
       "      <td>NaN</td>\n",
       "      <td>NaN</td>\n",
       "      <td>NaN</td>\n",
       "      <td>NaN</td>\n",
       "      <td>NaN</td>\n",
       "      <td>NaN</td>\n",
       "      <td>NaN</td>\n",
       "      <td>NaN</td>\n",
       "      <td>NaN</td>\n",
       "    </tr>\n",
       "    <tr>\n",
       "      <th>3088</th>\n",
       "      <td>0.3088</td>\n",
       "      <td>3.363254</td>\n",
       "      <td>3.363240</td>\n",
       "      <td>3.363255</td>\n",
       "      <td>3.363243</td>\n",
       "      <td>3.363220</td>\n",
       "      <td>3.363218</td>\n",
       "      <td>3.363215</td>\n",
       "      <td>3.363220</td>\n",
       "      <td>3.363214</td>\n",
       "      <td>...</td>\n",
       "      <td>NaN</td>\n",
       "      <td>NaN</td>\n",
       "      <td>NaN</td>\n",
       "      <td>NaN</td>\n",
       "      <td>NaN</td>\n",
       "      <td>NaN</td>\n",
       "      <td>NaN</td>\n",
       "      <td>NaN</td>\n",
       "      <td>NaN</td>\n",
       "      <td>NaN</td>\n",
       "    </tr>\n",
       "  </tbody>\n",
       "</table>\n",
       "<p>3089 rows × 2001 columns</p>\n",
       "</div>"
      ],
      "text/plain": [
       "      Tiempo (ns)    Rayo 1    Rayo 2    Rayo 3    Rayo 4    Rayo 5    Rayo 6  \\\n",
       "0          0.0000  5.000000  5.000000  5.000000  5.000000  5.000000  5.000000   \n",
       "1          0.0001  4.999346  4.999346  4.999346  4.999346  4.999346  4.999346   \n",
       "2          0.0002  4.998691  4.998691  4.998691  4.998691  4.998691  4.998691   \n",
       "3          0.0003  4.998037  4.998037  4.998037  4.998037  4.998037  4.998037   \n",
       "4          0.0004  4.997383  4.997383  4.997383  4.997383  4.997383  4.997383   \n",
       "...           ...       ...       ...       ...       ...       ...       ...   \n",
       "3084       0.3084  3.363254  3.363240  3.363255  3.363243  3.363220  3.363218   \n",
       "3085       0.3085  3.363254  3.363240  3.363255  3.363243  3.363220  3.363218   \n",
       "3086       0.3086  3.363254  3.363240  3.363255  3.363243  3.363220  3.363218   \n",
       "3087       0.3087  3.363254  3.363240  3.363255  3.363243  3.363220  3.363218   \n",
       "3088       0.3088  3.363254  3.363240  3.363255  3.363243  3.363220  3.363218   \n",
       "\n",
       "        Rayo 7    Rayo 8    Rayo 9  ...  Rayo 1991  Rayo 1992  Rayo 1993  \\\n",
       "0     5.000000  5.000000  5.000000  ...   5.000000   5.000000   5.000000   \n",
       "1     4.999346  4.999346  4.999346  ...   4.999346   4.999346   4.999346   \n",
       "2     4.998691  4.998691  4.998691  ...   4.998691   4.998691   4.998691   \n",
       "3     4.998037  4.998037  4.998037  ...   4.998037   4.998037   4.998037   \n",
       "4     4.997383  4.997383  4.997383  ...   4.997383   4.997383   4.997383   \n",
       "...        ...       ...       ...  ...        ...        ...        ...   \n",
       "3084  3.363215  3.363220  3.363214  ...        NaN        NaN        NaN   \n",
       "3085  3.363215  3.363220  3.363214  ...        NaN        NaN        NaN   \n",
       "3086  3.363215  3.363220  3.363214  ...        NaN        NaN        NaN   \n",
       "3087  3.363215  3.363220  3.363214  ...        NaN        NaN        NaN   \n",
       "3088  3.363215  3.363220  3.363214  ...        NaN        NaN        NaN   \n",
       "\n",
       "      Rayo 1994  Rayo 1995  Rayo 1996  Rayo 1997  Rayo 1998  Rayo 1999  \\\n",
       "0      5.000000   5.000000   5.000000   5.000000   5.000000   5.000000   \n",
       "1      4.999346   4.999346   4.999346   4.999346   4.999346   4.999346   \n",
       "2      4.998691   4.998691   4.998691   4.998691   4.998691   4.998691   \n",
       "3      4.998037   4.998037   4.998037   4.998037   4.998037   4.998037   \n",
       "4      4.997383   4.997383   4.997383   4.997383   4.997383   4.997383   \n",
       "...         ...        ...        ...        ...        ...        ...   \n",
       "3084        NaN        NaN        NaN        NaN        NaN        NaN   \n",
       "3085        NaN        NaN        NaN        NaN        NaN        NaN   \n",
       "3086        NaN        NaN        NaN        NaN        NaN        NaN   \n",
       "3087        NaN        NaN        NaN        NaN        NaN        NaN   \n",
       "3088        NaN        NaN        NaN        NaN        NaN        NaN   \n",
       "\n",
       "      Rayo 2000  \n",
       "0      5.000000  \n",
       "1      4.999346  \n",
       "2      4.998691  \n",
       "3      4.998037  \n",
       "4      4.997383  \n",
       "...         ...  \n",
       "3084        NaN  \n",
       "3085        NaN  \n",
       "3086        NaN  \n",
       "3087        NaN  \n",
       "3088        NaN  \n",
       "\n",
       "[3089 rows x 2001 columns]"
      ]
     },
     "execution_count": 3,
     "metadata": {},
     "output_type": "execute_result"
    }
   ],
   "source": [
    "df1"
   ]
  },
  {
   "cell_type": "code",
   "execution_count": 4,
   "metadata": {},
   "outputs": [
    {
     "data": {
      "text/html": [
       "<div>\n",
       "<style scoped>\n",
       "    .dataframe tbody tr th:only-of-type {\n",
       "        vertical-align: middle;\n",
       "    }\n",
       "\n",
       "    .dataframe tbody tr th {\n",
       "        vertical-align: top;\n",
       "    }\n",
       "\n",
       "    .dataframe thead th {\n",
       "        text-align: right;\n",
       "    }\n",
       "</style>\n",
       "<table border=\"1\" class=\"dataframe\">\n",
       "  <thead>\n",
       "    <tr style=\"text-align: right;\">\n",
       "      <th></th>\n",
       "      <th>Tiempo (ns)</th>\n",
       "      <th>Rayo 1</th>\n",
       "      <th>Rayo 2</th>\n",
       "      <th>Rayo 3</th>\n",
       "      <th>Rayo 4</th>\n",
       "      <th>Rayo 5</th>\n",
       "      <th>Rayo 6</th>\n",
       "      <th>Rayo 7</th>\n",
       "      <th>Rayo 8</th>\n",
       "      <th>Rayo 9</th>\n",
       "      <th>...</th>\n",
       "      <th>Rayo 1991</th>\n",
       "      <th>Rayo 1992</th>\n",
       "      <th>Rayo 1993</th>\n",
       "      <th>Rayo 1994</th>\n",
       "      <th>Rayo 1995</th>\n",
       "      <th>Rayo 1996</th>\n",
       "      <th>Rayo 1997</th>\n",
       "      <th>Rayo 1998</th>\n",
       "      <th>Rayo 1999</th>\n",
       "      <th>Rayo 2000</th>\n",
       "    </tr>\n",
       "  </thead>\n",
       "  <tbody>\n",
       "    <tr>\n",
       "      <th>3088</th>\n",
       "      <td>0.3088</td>\n",
       "      <td>3.363254</td>\n",
       "      <td>3.36324</td>\n",
       "      <td>3.363255</td>\n",
       "      <td>3.363243</td>\n",
       "      <td>3.36322</td>\n",
       "      <td>3.363218</td>\n",
       "      <td>3.363215</td>\n",
       "      <td>3.36322</td>\n",
       "      <td>3.363214</td>\n",
       "      <td>...</td>\n",
       "      <td>NaN</td>\n",
       "      <td>NaN</td>\n",
       "      <td>NaN</td>\n",
       "      <td>NaN</td>\n",
       "      <td>NaN</td>\n",
       "      <td>NaN</td>\n",
       "      <td>NaN</td>\n",
       "      <td>NaN</td>\n",
       "      <td>NaN</td>\n",
       "      <td>NaN</td>\n",
       "    </tr>\n",
       "  </tbody>\n",
       "</table>\n",
       "<p>1 rows × 2001 columns</p>\n",
       "</div>"
      ],
      "text/plain": [
       "      Tiempo (ns)    Rayo 1   Rayo 2    Rayo 3    Rayo 4   Rayo 5    Rayo 6  \\\n",
       "3088       0.3088  3.363254  3.36324  3.363255  3.363243  3.36322  3.363218   \n",
       "\n",
       "        Rayo 7   Rayo 8    Rayo 9  ...  Rayo 1991  Rayo 1992  Rayo 1993  \\\n",
       "3088  3.363215  3.36322  3.363214  ...        NaN        NaN        NaN   \n",
       "\n",
       "      Rayo 1994  Rayo 1995  Rayo 1996  Rayo 1997  Rayo 1998  Rayo 1999  \\\n",
       "3088        NaN        NaN        NaN        NaN        NaN        NaN   \n",
       "\n",
       "      Rayo 2000  \n",
       "3088        NaN  \n",
       "\n",
       "[1 rows x 2001 columns]"
      ]
     },
     "execution_count": 4,
     "metadata": {},
     "output_type": "execute_result"
    }
   ],
   "source": [
    "df1.iloc[[3088]]"
   ]
  },
  {
   "cell_type": "code",
   "execution_count": 5,
   "metadata": {},
   "outputs": [],
   "source": [
    "lista_1=df1.iloc[[3088]].mean()"
   ]
  },
  {
   "cell_type": "code",
   "execution_count": 6,
   "metadata": {},
   "outputs": [
    {
     "data": {
      "text/plain": [
       "Tiempo (ns)    0.308800\n",
       "Rayo 1         3.363254\n",
       "Rayo 2         3.363240\n",
       "Rayo 3         3.363255\n",
       "Rayo 4         3.363243\n",
       "                 ...   \n",
       "Rayo 1996           NaN\n",
       "Rayo 1997           NaN\n",
       "Rayo 1998           NaN\n",
       "Rayo 1999           NaN\n",
       "Rayo 2000           NaN\n",
       "Length: 2001, dtype: float64"
      ]
     },
     "execution_count": 6,
     "metadata": {},
     "output_type": "execute_result"
    }
   ],
   "source": [
    "lista_1"
   ]
  },
  {
   "cell_type": "code",
   "execution_count": 7,
   "metadata": {},
   "outputs": [],
   "source": [
    "df_1 = pd.DataFrame()"
   ]
  },
  {
   "cell_type": "code",
   "execution_count": 8,
   "metadata": {},
   "outputs": [],
   "source": [
    "df_1['List1']=lista_1"
   ]
  },
  {
   "cell_type": "code",
   "execution_count": 9,
   "metadata": {},
   "outputs": [],
   "source": [
    "df_1= df_1.drop(df_1.index[[0]])"
   ]
  },
  {
   "cell_type": "code",
   "execution_count": 10,
   "metadata": {},
   "outputs": [
    {
     "data": {
      "text/html": [
       "<div>\n",
       "<style scoped>\n",
       "    .dataframe tbody tr th:only-of-type {\n",
       "        vertical-align: middle;\n",
       "    }\n",
       "\n",
       "    .dataframe tbody tr th {\n",
       "        vertical-align: top;\n",
       "    }\n",
       "\n",
       "    .dataframe thead th {\n",
       "        text-align: right;\n",
       "    }\n",
       "</style>\n",
       "<table border=\"1\" class=\"dataframe\">\n",
       "  <thead>\n",
       "    <tr style=\"text-align: right;\">\n",
       "      <th></th>\n",
       "      <th>List1</th>\n",
       "    </tr>\n",
       "  </thead>\n",
       "  <tbody>\n",
       "    <tr>\n",
       "      <th>Rayo 1</th>\n",
       "      <td>3.363254</td>\n",
       "    </tr>\n",
       "    <tr>\n",
       "      <th>Rayo 2</th>\n",
       "      <td>3.363240</td>\n",
       "    </tr>\n",
       "    <tr>\n",
       "      <th>Rayo 3</th>\n",
       "      <td>3.363255</td>\n",
       "    </tr>\n",
       "    <tr>\n",
       "      <th>Rayo 4</th>\n",
       "      <td>3.363243</td>\n",
       "    </tr>\n",
       "    <tr>\n",
       "      <th>Rayo 5</th>\n",
       "      <td>3.363220</td>\n",
       "    </tr>\n",
       "    <tr>\n",
       "      <th>...</th>\n",
       "      <td>...</td>\n",
       "    </tr>\n",
       "    <tr>\n",
       "      <th>Rayo 1996</th>\n",
       "      <td>NaN</td>\n",
       "    </tr>\n",
       "    <tr>\n",
       "      <th>Rayo 1997</th>\n",
       "      <td>NaN</td>\n",
       "    </tr>\n",
       "    <tr>\n",
       "      <th>Rayo 1998</th>\n",
       "      <td>NaN</td>\n",
       "    </tr>\n",
       "    <tr>\n",
       "      <th>Rayo 1999</th>\n",
       "      <td>NaN</td>\n",
       "    </tr>\n",
       "    <tr>\n",
       "      <th>Rayo 2000</th>\n",
       "      <td>NaN</td>\n",
       "    </tr>\n",
       "  </tbody>\n",
       "</table>\n",
       "<p>2000 rows × 1 columns</p>\n",
       "</div>"
      ],
      "text/plain": [
       "              List1\n",
       "Rayo 1     3.363254\n",
       "Rayo 2     3.363240\n",
       "Rayo 3     3.363255\n",
       "Rayo 4     3.363243\n",
       "Rayo 5     3.363220\n",
       "...             ...\n",
       "Rayo 1996       NaN\n",
       "Rayo 1997       NaN\n",
       "Rayo 1998       NaN\n",
       "Rayo 1999       NaN\n",
       "Rayo 2000       NaN\n",
       "\n",
       "[2000 rows x 1 columns]"
      ]
     },
     "execution_count": 10,
     "metadata": {},
     "output_type": "execute_result"
    }
   ],
   "source": [
    "df_1"
   ]
  },
  {
   "cell_type": "code",
   "execution_count": 12,
   "metadata": {},
   "outputs": [
    {
     "data": {
      "text/plain": [
       "431"
      ]
     },
     "execution_count": 12,
     "metadata": {},
     "output_type": "execute_result"
    }
   ],
   "source": [
    "df_1.isnull().sum().sum()"
   ]
  },
  {
   "cell_type": "markdown",
   "metadata": {},
   "source": [
    "## Valor promedio de los 200 rayos al llegar al detector"
   ]
  },
  {
   "cell_type": "code",
   "execution_count": 13,
   "metadata": {},
   "outputs": [
    {
     "data": {
      "text/plain": [
       "5202.145464272817"
      ]
     },
     "execution_count": 13,
     "metadata": {},
     "output_type": "execute_result"
    }
   ],
   "source": [
    "df_1['List1'].sum()"
   ]
  },
  {
   "cell_type": "code",
   "execution_count": 14,
   "metadata": {},
   "outputs": [],
   "source": [
    "Winston=5202.145464272817/2000"
   ]
  },
  {
   "cell_type": "code",
   "execution_count": 15,
   "metadata": {},
   "outputs": [
    {
     "data": {
      "text/plain": [
       "2.601072732136408"
      ]
     },
     "execution_count": 15,
     "metadata": {},
     "output_type": "execute_result"
    }
   ],
   "source": [
    "Winston"
   ]
  },
  {
   "cell_type": "markdown",
   "metadata": {},
   "source": [
    "# Desviacion estandar"
   ]
  },
  {
   "cell_type": "code",
   "execution_count": 11,
   "metadata": {},
   "outputs": [
    {
     "data": {
      "text/html": [
       "<div>\n",
       "<style scoped>\n",
       "    .dataframe tbody tr th:only-of-type {\n",
       "        vertical-align: middle;\n",
       "    }\n",
       "\n",
       "    .dataframe tbody tr th {\n",
       "        vertical-align: top;\n",
       "    }\n",
       "\n",
       "    .dataframe thead th {\n",
       "        text-align: right;\n",
       "    }\n",
       "</style>\n",
       "<table border=\"1\" class=\"dataframe\">\n",
       "  <thead>\n",
       "    <tr style=\"text-align: right;\">\n",
       "      <th></th>\n",
       "      <th>List1</th>\n",
       "    </tr>\n",
       "  </thead>\n",
       "  <tbody>\n",
       "    <tr>\n",
       "      <th>Rayo 1</th>\n",
       "      <td>3.363254</td>\n",
       "    </tr>\n",
       "    <tr>\n",
       "      <th>Rayo 2</th>\n",
       "      <td>3.363240</td>\n",
       "    </tr>\n",
       "    <tr>\n",
       "      <th>Rayo 3</th>\n",
       "      <td>3.363255</td>\n",
       "    </tr>\n",
       "    <tr>\n",
       "      <th>Rayo 4</th>\n",
       "      <td>3.363243</td>\n",
       "    </tr>\n",
       "    <tr>\n",
       "      <th>Rayo 5</th>\n",
       "      <td>3.363220</td>\n",
       "    </tr>\n",
       "    <tr>\n",
       "      <th>...</th>\n",
       "      <td>...</td>\n",
       "    </tr>\n",
       "    <tr>\n",
       "      <th>Rayo 1996</th>\n",
       "      <td>NaN</td>\n",
       "    </tr>\n",
       "    <tr>\n",
       "      <th>Rayo 1997</th>\n",
       "      <td>NaN</td>\n",
       "    </tr>\n",
       "    <tr>\n",
       "      <th>Rayo 1998</th>\n",
       "      <td>NaN</td>\n",
       "    </tr>\n",
       "    <tr>\n",
       "      <th>Rayo 1999</th>\n",
       "      <td>NaN</td>\n",
       "    </tr>\n",
       "    <tr>\n",
       "      <th>Rayo 2000</th>\n",
       "      <td>NaN</td>\n",
       "    </tr>\n",
       "  </tbody>\n",
       "</table>\n",
       "<p>2000 rows × 1 columns</p>\n",
       "</div>"
      ],
      "text/plain": [
       "              List1\n",
       "Rayo 1     3.363254\n",
       "Rayo 2     3.363240\n",
       "Rayo 3     3.363255\n",
       "Rayo 4     3.363243\n",
       "Rayo 5     3.363220\n",
       "...             ...\n",
       "Rayo 1996       NaN\n",
       "Rayo 1997       NaN\n",
       "Rayo 1998       NaN\n",
       "Rayo 1999       NaN\n",
       "Rayo 2000       NaN\n",
       "\n",
       "[2000 rows x 1 columns]"
      ]
     },
     "execution_count": 11,
     "metadata": {},
     "output_type": "execute_result"
    }
   ],
   "source": [
    "df_1"
   ]
  },
  {
   "cell_type": "code",
   "execution_count": 161,
   "metadata": {},
   "outputs": [],
   "source": [
    "num=[]\n",
    "for i in range(2000):\n",
    "    n=(df_1['List1'][i]-Winston)**2\n",
    "    num.append(n)\n",
    "    i=i+1\n"
   ]
  },
  {
   "cell_type": "code",
   "execution_count": 162,
   "metadata": {},
   "outputs": [],
   "source": [
    "df_1['numerador desviacion']=num"
   ]
  },
  {
   "cell_type": "code",
   "execution_count": 620,
   "metadata": {},
   "outputs": [
    {
     "data": {
      "text/html": [
       "<div>\n",
       "<style scoped>\n",
       "    .dataframe tbody tr th:only-of-type {\n",
       "        vertical-align: middle;\n",
       "    }\n",
       "\n",
       "    .dataframe tbody tr th {\n",
       "        vertical-align: top;\n",
       "    }\n",
       "\n",
       "    .dataframe thead th {\n",
       "        text-align: right;\n",
       "    }\n",
       "</style>\n",
       "<table border=\"1\" class=\"dataframe\">\n",
       "  <thead>\n",
       "    <tr style=\"text-align: right;\">\n",
       "      <th></th>\n",
       "      <th>List1</th>\n",
       "      <th>numerador desviacion</th>\n",
       "    </tr>\n",
       "  </thead>\n",
       "  <tbody>\n",
       "    <tr>\n",
       "      <th>Rayo 1</th>\n",
       "      <td>3.363254</td>\n",
       "      <td>0.580920</td>\n",
       "    </tr>\n",
       "    <tr>\n",
       "      <th>Rayo 2</th>\n",
       "      <td>3.363240</td>\n",
       "      <td>0.580899</td>\n",
       "    </tr>\n",
       "    <tr>\n",
       "      <th>Rayo 3</th>\n",
       "      <td>3.363255</td>\n",
       "      <td>0.580922</td>\n",
       "    </tr>\n",
       "    <tr>\n",
       "      <th>Rayo 4</th>\n",
       "      <td>3.363243</td>\n",
       "      <td>0.580904</td>\n",
       "    </tr>\n",
       "    <tr>\n",
       "      <th>Rayo 5</th>\n",
       "      <td>3.363220</td>\n",
       "      <td>0.580869</td>\n",
       "    </tr>\n",
       "    <tr>\n",
       "      <th>...</th>\n",
       "      <td>...</td>\n",
       "      <td>...</td>\n",
       "    </tr>\n",
       "    <tr>\n",
       "      <th>Rayo 1996</th>\n",
       "      <td>NaN</td>\n",
       "      <td>NaN</td>\n",
       "    </tr>\n",
       "    <tr>\n",
       "      <th>Rayo 1997</th>\n",
       "      <td>NaN</td>\n",
       "      <td>NaN</td>\n",
       "    </tr>\n",
       "    <tr>\n",
       "      <th>Rayo 1998</th>\n",
       "      <td>NaN</td>\n",
       "      <td>NaN</td>\n",
       "    </tr>\n",
       "    <tr>\n",
       "      <th>Rayo 1999</th>\n",
       "      <td>NaN</td>\n",
       "      <td>NaN</td>\n",
       "    </tr>\n",
       "    <tr>\n",
       "      <th>Rayo 2000</th>\n",
       "      <td>NaN</td>\n",
       "      <td>NaN</td>\n",
       "    </tr>\n",
       "  </tbody>\n",
       "</table>\n",
       "<p>2000 rows × 2 columns</p>\n",
       "</div>"
      ],
      "text/plain": [
       "              List1  numerador desviacion\n",
       "Rayo 1     3.363254              0.580920\n",
       "Rayo 2     3.363240              0.580899\n",
       "Rayo 3     3.363255              0.580922\n",
       "Rayo 4     3.363243              0.580904\n",
       "Rayo 5     3.363220              0.580869\n",
       "...             ...                   ...\n",
       "Rayo 1996       NaN                   NaN\n",
       "Rayo 1997       NaN                   NaN\n",
       "Rayo 1998       NaN                   NaN\n",
       "Rayo 1999       NaN                   NaN\n",
       "Rayo 2000       NaN                   NaN\n",
       "\n",
       "[2000 rows x 2 columns]"
      ]
     },
     "execution_count": 620,
     "metadata": {},
     "output_type": "execute_result"
    }
   ],
   "source": [
    "df_1"
   ]
  },
  {
   "cell_type": "code",
   "execution_count": 621,
   "metadata": {},
   "outputs": [
    {
     "data": {
      "text/plain": [
       "801.3705672992573"
      ]
     },
     "execution_count": 621,
     "metadata": {},
     "output_type": "execute_result"
    }
   ],
   "source": [
    "df_1['numerador desviacion'].sum()"
   ]
  },
  {
   "cell_type": "code",
   "execution_count": 622,
   "metadata": {},
   "outputs": [],
   "source": [
    "Sigma1=801.3705672992573/2000"
   ]
  },
  {
   "cell_type": "code",
   "execution_count": 639,
   "metadata": {},
   "outputs": [
    {
     "data": {
      "text/plain": [
       "0.4006852836496287"
      ]
     },
     "execution_count": 639,
     "metadata": {},
     "output_type": "execute_result"
    }
   ],
   "source": [
    "Sigma1"
   ]
  },
  {
   "cell_type": "code",
   "execution_count": 624,
   "metadata": {},
   "outputs": [],
   "source": [
    "u1=Winston"
   ]
  },
  {
   "cell_type": "code",
   "execution_count": 638,
   "metadata": {},
   "outputs": [
    {
     "data": {
      "text/plain": [
       "2.601072732136408"
      ]
     },
     "execution_count": 638,
     "metadata": {},
     "output_type": "execute_result"
    }
   ],
   "source": [
    "u1"
   ]
  },
  {
   "cell_type": "markdown",
   "metadata": {},
   "source": [
    "# Cono de Winston_mod"
   ]
  },
  {
   "cell_type": "code",
   "execution_count": 16,
   "metadata": {},
   "outputs": [],
   "source": [
    "df2 = pd.read_csv(\"winston_cone_mod_f.csv\", sep = ',')  # sep = ',' sirve para separar en 2 columnas el excel leido."
   ]
  },
  {
   "cell_type": "code",
   "execution_count": 17,
   "metadata": {},
   "outputs": [
    {
     "data": {
      "text/html": [
       "<div>\n",
       "<style scoped>\n",
       "    .dataframe tbody tr th:only-of-type {\n",
       "        vertical-align: middle;\n",
       "    }\n",
       "\n",
       "    .dataframe tbody tr th {\n",
       "        vertical-align: top;\n",
       "    }\n",
       "\n",
       "    .dataframe thead th {\n",
       "        text-align: right;\n",
       "    }\n",
       "</style>\n",
       "<table border=\"1\" class=\"dataframe\">\n",
       "  <thead>\n",
       "    <tr style=\"text-align: right;\">\n",
       "      <th></th>\n",
       "      <th>Tiempo (ns)</th>\n",
       "      <th>Rayo 1</th>\n",
       "      <th>Rayo 2</th>\n",
       "      <th>Rayo 3</th>\n",
       "      <th>Rayo 4</th>\n",
       "      <th>Rayo 5</th>\n",
       "      <th>Rayo 6</th>\n",
       "      <th>Rayo 7</th>\n",
       "      <th>Rayo 8</th>\n",
       "      <th>Rayo 9</th>\n",
       "      <th>...</th>\n",
       "      <th>Rayo 1991</th>\n",
       "      <th>Rayo 1992</th>\n",
       "      <th>Rayo 1993</th>\n",
       "      <th>Rayo 1994</th>\n",
       "      <th>Rayo 1995</th>\n",
       "      <th>Rayo 1996</th>\n",
       "      <th>Rayo 1997</th>\n",
       "      <th>Rayo 1998</th>\n",
       "      <th>Rayo 1999</th>\n",
       "      <th>Rayo 2000</th>\n",
       "    </tr>\n",
       "  </thead>\n",
       "  <tbody>\n",
       "    <tr>\n",
       "      <th>3176</th>\n",
       "      <td>0.3176</td>\n",
       "      <td>3.363261</td>\n",
       "      <td>3.363236</td>\n",
       "      <td>3.363242</td>\n",
       "      <td>3.363248</td>\n",
       "      <td>3.363246</td>\n",
       "      <td>3.363238</td>\n",
       "      <td>3.363181</td>\n",
       "      <td>3.363188</td>\n",
       "      <td>3.363194</td>\n",
       "      <td>...</td>\n",
       "      <td>NaN</td>\n",
       "      <td>NaN</td>\n",
       "      <td>NaN</td>\n",
       "      <td>NaN</td>\n",
       "      <td>NaN</td>\n",
       "      <td>NaN</td>\n",
       "      <td>NaN</td>\n",
       "      <td>NaN</td>\n",
       "      <td>NaN</td>\n",
       "      <td>3.251932</td>\n",
       "    </tr>\n",
       "    <tr>\n",
       "      <th>3177</th>\n",
       "      <td>0.3177</td>\n",
       "      <td>3.363261</td>\n",
       "      <td>3.363236</td>\n",
       "      <td>3.363242</td>\n",
       "      <td>3.363248</td>\n",
       "      <td>3.363246</td>\n",
       "      <td>3.363238</td>\n",
       "      <td>3.363181</td>\n",
       "      <td>3.363188</td>\n",
       "      <td>3.363194</td>\n",
       "      <td>...</td>\n",
       "      <td>NaN</td>\n",
       "      <td>NaN</td>\n",
       "      <td>NaN</td>\n",
       "      <td>NaN</td>\n",
       "      <td>NaN</td>\n",
       "      <td>NaN</td>\n",
       "      <td>NaN</td>\n",
       "      <td>NaN</td>\n",
       "      <td>NaN</td>\n",
       "      <td>3.251932</td>\n",
       "    </tr>\n",
       "    <tr>\n",
       "      <th>3178</th>\n",
       "      <td>0.3178</td>\n",
       "      <td>3.363261</td>\n",
       "      <td>3.363236</td>\n",
       "      <td>3.363242</td>\n",
       "      <td>3.363248</td>\n",
       "      <td>3.363246</td>\n",
       "      <td>3.363238</td>\n",
       "      <td>3.363181</td>\n",
       "      <td>3.363188</td>\n",
       "      <td>3.363194</td>\n",
       "      <td>...</td>\n",
       "      <td>NaN</td>\n",
       "      <td>NaN</td>\n",
       "      <td>NaN</td>\n",
       "      <td>NaN</td>\n",
       "      <td>NaN</td>\n",
       "      <td>NaN</td>\n",
       "      <td>NaN</td>\n",
       "      <td>NaN</td>\n",
       "      <td>NaN</td>\n",
       "      <td>3.251932</td>\n",
       "    </tr>\n",
       "    <tr>\n",
       "      <th>3179</th>\n",
       "      <td>0.3179</td>\n",
       "      <td>3.363261</td>\n",
       "      <td>3.363236</td>\n",
       "      <td>3.363242</td>\n",
       "      <td>3.363248</td>\n",
       "      <td>3.363246</td>\n",
       "      <td>3.363238</td>\n",
       "      <td>3.363181</td>\n",
       "      <td>3.363188</td>\n",
       "      <td>3.363194</td>\n",
       "      <td>...</td>\n",
       "      <td>NaN</td>\n",
       "      <td>NaN</td>\n",
       "      <td>NaN</td>\n",
       "      <td>NaN</td>\n",
       "      <td>NaN</td>\n",
       "      <td>NaN</td>\n",
       "      <td>NaN</td>\n",
       "      <td>NaN</td>\n",
       "      <td>NaN</td>\n",
       "      <td>3.251932</td>\n",
       "    </tr>\n",
       "    <tr>\n",
       "      <th>3180</th>\n",
       "      <td>0.3180</td>\n",
       "      <td>3.363261</td>\n",
       "      <td>3.363236</td>\n",
       "      <td>3.363242</td>\n",
       "      <td>3.363248</td>\n",
       "      <td>3.363246</td>\n",
       "      <td>3.363238</td>\n",
       "      <td>3.363181</td>\n",
       "      <td>3.363188</td>\n",
       "      <td>3.363194</td>\n",
       "      <td>...</td>\n",
       "      <td>NaN</td>\n",
       "      <td>NaN</td>\n",
       "      <td>NaN</td>\n",
       "      <td>NaN</td>\n",
       "      <td>NaN</td>\n",
       "      <td>NaN</td>\n",
       "      <td>NaN</td>\n",
       "      <td>NaN</td>\n",
       "      <td>NaN</td>\n",
       "      <td>3.251932</td>\n",
       "    </tr>\n",
       "    <tr>\n",
       "      <th>3181</th>\n",
       "      <td>0.3181</td>\n",
       "      <td>3.363261</td>\n",
       "      <td>3.363236</td>\n",
       "      <td>3.363242</td>\n",
       "      <td>3.363248</td>\n",
       "      <td>3.363246</td>\n",
       "      <td>3.363238</td>\n",
       "      <td>3.363181</td>\n",
       "      <td>3.363188</td>\n",
       "      <td>3.363194</td>\n",
       "      <td>...</td>\n",
       "      <td>NaN</td>\n",
       "      <td>NaN</td>\n",
       "      <td>NaN</td>\n",
       "      <td>NaN</td>\n",
       "      <td>NaN</td>\n",
       "      <td>NaN</td>\n",
       "      <td>NaN</td>\n",
       "      <td>NaN</td>\n",
       "      <td>NaN</td>\n",
       "      <td>3.251932</td>\n",
       "    </tr>\n",
       "    <tr>\n",
       "      <th>3182</th>\n",
       "      <td>0.3182</td>\n",
       "      <td>3.363261</td>\n",
       "      <td>3.363236</td>\n",
       "      <td>3.363242</td>\n",
       "      <td>3.363248</td>\n",
       "      <td>3.363246</td>\n",
       "      <td>3.363238</td>\n",
       "      <td>3.363181</td>\n",
       "      <td>3.363188</td>\n",
       "      <td>3.363194</td>\n",
       "      <td>...</td>\n",
       "      <td>NaN</td>\n",
       "      <td>NaN</td>\n",
       "      <td>NaN</td>\n",
       "      <td>NaN</td>\n",
       "      <td>NaN</td>\n",
       "      <td>NaN</td>\n",
       "      <td>NaN</td>\n",
       "      <td>NaN</td>\n",
       "      <td>NaN</td>\n",
       "      <td>3.251932</td>\n",
       "    </tr>\n",
       "    <tr>\n",
       "      <th>3183</th>\n",
       "      <td>0.3183</td>\n",
       "      <td>3.363261</td>\n",
       "      <td>3.363236</td>\n",
       "      <td>3.363242</td>\n",
       "      <td>3.363248</td>\n",
       "      <td>3.363246</td>\n",
       "      <td>3.363238</td>\n",
       "      <td>3.363181</td>\n",
       "      <td>3.363188</td>\n",
       "      <td>3.363194</td>\n",
       "      <td>...</td>\n",
       "      <td>NaN</td>\n",
       "      <td>NaN</td>\n",
       "      <td>NaN</td>\n",
       "      <td>NaN</td>\n",
       "      <td>NaN</td>\n",
       "      <td>NaN</td>\n",
       "      <td>NaN</td>\n",
       "      <td>NaN</td>\n",
       "      <td>NaN</td>\n",
       "      <td>3.251932</td>\n",
       "    </tr>\n",
       "    <tr>\n",
       "      <th>3184</th>\n",
       "      <td>0.3184</td>\n",
       "      <td>3.363261</td>\n",
       "      <td>3.363236</td>\n",
       "      <td>3.363242</td>\n",
       "      <td>3.363248</td>\n",
       "      <td>3.363246</td>\n",
       "      <td>3.363238</td>\n",
       "      <td>3.363181</td>\n",
       "      <td>3.363188</td>\n",
       "      <td>3.363194</td>\n",
       "      <td>...</td>\n",
       "      <td>NaN</td>\n",
       "      <td>NaN</td>\n",
       "      <td>NaN</td>\n",
       "      <td>NaN</td>\n",
       "      <td>NaN</td>\n",
       "      <td>NaN</td>\n",
       "      <td>NaN</td>\n",
       "      <td>NaN</td>\n",
       "      <td>NaN</td>\n",
       "      <td>3.251932</td>\n",
       "    </tr>\n",
       "    <tr>\n",
       "      <th>3185</th>\n",
       "      <td>0.3185</td>\n",
       "      <td>3.363261</td>\n",
       "      <td>3.363236</td>\n",
       "      <td>3.363242</td>\n",
       "      <td>3.363248</td>\n",
       "      <td>3.363246</td>\n",
       "      <td>3.363238</td>\n",
       "      <td>3.363181</td>\n",
       "      <td>3.363188</td>\n",
       "      <td>3.363194</td>\n",
       "      <td>...</td>\n",
       "      <td>NaN</td>\n",
       "      <td>NaN</td>\n",
       "      <td>NaN</td>\n",
       "      <td>NaN</td>\n",
       "      <td>NaN</td>\n",
       "      <td>NaN</td>\n",
       "      <td>NaN</td>\n",
       "      <td>NaN</td>\n",
       "      <td>NaN</td>\n",
       "      <td>3.251932</td>\n",
       "    </tr>\n",
       "  </tbody>\n",
       "</table>\n",
       "<p>10 rows × 2001 columns</p>\n",
       "</div>"
      ],
      "text/plain": [
       "      Tiempo (ns)    Rayo 1    Rayo 2    Rayo 3    Rayo 4    Rayo 5    Rayo 6  \\\n",
       "3176       0.3176  3.363261  3.363236  3.363242  3.363248  3.363246  3.363238   \n",
       "3177       0.3177  3.363261  3.363236  3.363242  3.363248  3.363246  3.363238   \n",
       "3178       0.3178  3.363261  3.363236  3.363242  3.363248  3.363246  3.363238   \n",
       "3179       0.3179  3.363261  3.363236  3.363242  3.363248  3.363246  3.363238   \n",
       "3180       0.3180  3.363261  3.363236  3.363242  3.363248  3.363246  3.363238   \n",
       "3181       0.3181  3.363261  3.363236  3.363242  3.363248  3.363246  3.363238   \n",
       "3182       0.3182  3.363261  3.363236  3.363242  3.363248  3.363246  3.363238   \n",
       "3183       0.3183  3.363261  3.363236  3.363242  3.363248  3.363246  3.363238   \n",
       "3184       0.3184  3.363261  3.363236  3.363242  3.363248  3.363246  3.363238   \n",
       "3185       0.3185  3.363261  3.363236  3.363242  3.363248  3.363246  3.363238   \n",
       "\n",
       "        Rayo 7    Rayo 8    Rayo 9  ...  Rayo 1991  Rayo 1992  Rayo 1993  \\\n",
       "3176  3.363181  3.363188  3.363194  ...        NaN        NaN        NaN   \n",
       "3177  3.363181  3.363188  3.363194  ...        NaN        NaN        NaN   \n",
       "3178  3.363181  3.363188  3.363194  ...        NaN        NaN        NaN   \n",
       "3179  3.363181  3.363188  3.363194  ...        NaN        NaN        NaN   \n",
       "3180  3.363181  3.363188  3.363194  ...        NaN        NaN        NaN   \n",
       "3181  3.363181  3.363188  3.363194  ...        NaN        NaN        NaN   \n",
       "3182  3.363181  3.363188  3.363194  ...        NaN        NaN        NaN   \n",
       "3183  3.363181  3.363188  3.363194  ...        NaN        NaN        NaN   \n",
       "3184  3.363181  3.363188  3.363194  ...        NaN        NaN        NaN   \n",
       "3185  3.363181  3.363188  3.363194  ...        NaN        NaN        NaN   \n",
       "\n",
       "      Rayo 1994  Rayo 1995  Rayo 1996  Rayo 1997  Rayo 1998  Rayo 1999  \\\n",
       "3176        NaN        NaN        NaN        NaN        NaN        NaN   \n",
       "3177        NaN        NaN        NaN        NaN        NaN        NaN   \n",
       "3178        NaN        NaN        NaN        NaN        NaN        NaN   \n",
       "3179        NaN        NaN        NaN        NaN        NaN        NaN   \n",
       "3180        NaN        NaN        NaN        NaN        NaN        NaN   \n",
       "3181        NaN        NaN        NaN        NaN        NaN        NaN   \n",
       "3182        NaN        NaN        NaN        NaN        NaN        NaN   \n",
       "3183        NaN        NaN        NaN        NaN        NaN        NaN   \n",
       "3184        NaN        NaN        NaN        NaN        NaN        NaN   \n",
       "3185        NaN        NaN        NaN        NaN        NaN        NaN   \n",
       "\n",
       "      Rayo 2000  \n",
       "3176   3.251932  \n",
       "3177   3.251932  \n",
       "3178   3.251932  \n",
       "3179   3.251932  \n",
       "3180   3.251932  \n",
       "3181   3.251932  \n",
       "3182   3.251932  \n",
       "3183   3.251932  \n",
       "3184   3.251932  \n",
       "3185   3.251932  \n",
       "\n",
       "[10 rows x 2001 columns]"
      ]
     },
     "execution_count": 17,
     "metadata": {},
     "output_type": "execute_result"
    }
   ],
   "source": [
    "df2.tail(10)"
   ]
  },
  {
   "cell_type": "code",
   "execution_count": 18,
   "metadata": {},
   "outputs": [
    {
     "data": {
      "text/html": [
       "<div>\n",
       "<style scoped>\n",
       "    .dataframe tbody tr th:only-of-type {\n",
       "        vertical-align: middle;\n",
       "    }\n",
       "\n",
       "    .dataframe tbody tr th {\n",
       "        vertical-align: top;\n",
       "    }\n",
       "\n",
       "    .dataframe thead th {\n",
       "        text-align: right;\n",
       "    }\n",
       "</style>\n",
       "<table border=\"1\" class=\"dataframe\">\n",
       "  <thead>\n",
       "    <tr style=\"text-align: right;\">\n",
       "      <th></th>\n",
       "      <th>Tiempo (ns)</th>\n",
       "      <th>Rayo 1</th>\n",
       "      <th>Rayo 2</th>\n",
       "      <th>Rayo 3</th>\n",
       "      <th>Rayo 4</th>\n",
       "      <th>Rayo 5</th>\n",
       "      <th>Rayo 6</th>\n",
       "      <th>Rayo 7</th>\n",
       "      <th>Rayo 8</th>\n",
       "      <th>Rayo 9</th>\n",
       "      <th>...</th>\n",
       "      <th>Rayo 1991</th>\n",
       "      <th>Rayo 1992</th>\n",
       "      <th>Rayo 1993</th>\n",
       "      <th>Rayo 1994</th>\n",
       "      <th>Rayo 1995</th>\n",
       "      <th>Rayo 1996</th>\n",
       "      <th>Rayo 1997</th>\n",
       "      <th>Rayo 1998</th>\n",
       "      <th>Rayo 1999</th>\n",
       "      <th>Rayo 2000</th>\n",
       "    </tr>\n",
       "  </thead>\n",
       "  <tbody>\n",
       "    <tr>\n",
       "      <th>3185</th>\n",
       "      <td>0.3185</td>\n",
       "      <td>3.363261</td>\n",
       "      <td>3.363236</td>\n",
       "      <td>3.363242</td>\n",
       "      <td>3.363248</td>\n",
       "      <td>3.363246</td>\n",
       "      <td>3.363238</td>\n",
       "      <td>3.363181</td>\n",
       "      <td>3.363188</td>\n",
       "      <td>3.363194</td>\n",
       "      <td>...</td>\n",
       "      <td>NaN</td>\n",
       "      <td>NaN</td>\n",
       "      <td>NaN</td>\n",
       "      <td>NaN</td>\n",
       "      <td>NaN</td>\n",
       "      <td>NaN</td>\n",
       "      <td>NaN</td>\n",
       "      <td>NaN</td>\n",
       "      <td>NaN</td>\n",
       "      <td>3.251932</td>\n",
       "    </tr>\n",
       "  </tbody>\n",
       "</table>\n",
       "<p>1 rows × 2001 columns</p>\n",
       "</div>"
      ],
      "text/plain": [
       "      Tiempo (ns)    Rayo 1    Rayo 2    Rayo 3    Rayo 4    Rayo 5    Rayo 6  \\\n",
       "3185       0.3185  3.363261  3.363236  3.363242  3.363248  3.363246  3.363238   \n",
       "\n",
       "        Rayo 7    Rayo 8    Rayo 9  ...  Rayo 1991  Rayo 1992  Rayo 1993  \\\n",
       "3185  3.363181  3.363188  3.363194  ...        NaN        NaN        NaN   \n",
       "\n",
       "      Rayo 1994  Rayo 1995  Rayo 1996  Rayo 1997  Rayo 1998  Rayo 1999  \\\n",
       "3185        NaN        NaN        NaN        NaN        NaN        NaN   \n",
       "\n",
       "      Rayo 2000  \n",
       "3185   3.251932  \n",
       "\n",
       "[1 rows x 2001 columns]"
      ]
     },
     "execution_count": 18,
     "metadata": {},
     "output_type": "execute_result"
    }
   ],
   "source": [
    "df2.iloc[[3185]]"
   ]
  },
  {
   "cell_type": "code",
   "execution_count": 19,
   "metadata": {},
   "outputs": [],
   "source": [
    "lista_2=df2.iloc[[3185]].mean()"
   ]
  },
  {
   "cell_type": "code",
   "execution_count": 20,
   "metadata": {},
   "outputs": [
    {
     "data": {
      "text/plain": [
       "Tiempo (ns)    0.318500\n",
       "Rayo 1         3.363261\n",
       "Rayo 2         3.363236\n",
       "Rayo 3         3.363242\n",
       "Rayo 4         3.363248\n",
       "                 ...   \n",
       "Rayo 1996           NaN\n",
       "Rayo 1997           NaN\n",
       "Rayo 1998           NaN\n",
       "Rayo 1999           NaN\n",
       "Rayo 2000      3.251932\n",
       "Length: 2001, dtype: float64"
      ]
     },
     "execution_count": 20,
     "metadata": {},
     "output_type": "execute_result"
    }
   ],
   "source": [
    "lista_2"
   ]
  },
  {
   "cell_type": "code",
   "execution_count": 21,
   "metadata": {},
   "outputs": [],
   "source": [
    "df_2 = pd.DataFrame()"
   ]
  },
  {
   "cell_type": "code",
   "execution_count": 22,
   "metadata": {},
   "outputs": [],
   "source": [
    "df_2['List2']=lista_2"
   ]
  },
  {
   "cell_type": "code",
   "execution_count": 23,
   "metadata": {},
   "outputs": [],
   "source": [
    "df_2= df_2.drop(df_2.index[[0]])"
   ]
  },
  {
   "cell_type": "code",
   "execution_count": 24,
   "metadata": {},
   "outputs": [
    {
     "data": {
      "text/html": [
       "<div>\n",
       "<style scoped>\n",
       "    .dataframe tbody tr th:only-of-type {\n",
       "        vertical-align: middle;\n",
       "    }\n",
       "\n",
       "    .dataframe tbody tr th {\n",
       "        vertical-align: top;\n",
       "    }\n",
       "\n",
       "    .dataframe thead th {\n",
       "        text-align: right;\n",
       "    }\n",
       "</style>\n",
       "<table border=\"1\" class=\"dataframe\">\n",
       "  <thead>\n",
       "    <tr style=\"text-align: right;\">\n",
       "      <th></th>\n",
       "      <th>List2</th>\n",
       "    </tr>\n",
       "  </thead>\n",
       "  <tbody>\n",
       "    <tr>\n",
       "      <th>Rayo 1</th>\n",
       "      <td>3.363261</td>\n",
       "    </tr>\n",
       "    <tr>\n",
       "      <th>Rayo 2</th>\n",
       "      <td>3.363236</td>\n",
       "    </tr>\n",
       "    <tr>\n",
       "      <th>Rayo 3</th>\n",
       "      <td>3.363242</td>\n",
       "    </tr>\n",
       "    <tr>\n",
       "      <th>Rayo 4</th>\n",
       "      <td>3.363248</td>\n",
       "    </tr>\n",
       "    <tr>\n",
       "      <th>Rayo 5</th>\n",
       "      <td>3.363246</td>\n",
       "    </tr>\n",
       "    <tr>\n",
       "      <th>...</th>\n",
       "      <td>...</td>\n",
       "    </tr>\n",
       "    <tr>\n",
       "      <th>Rayo 1996</th>\n",
       "      <td>NaN</td>\n",
       "    </tr>\n",
       "    <tr>\n",
       "      <th>Rayo 1997</th>\n",
       "      <td>NaN</td>\n",
       "    </tr>\n",
       "    <tr>\n",
       "      <th>Rayo 1998</th>\n",
       "      <td>NaN</td>\n",
       "    </tr>\n",
       "    <tr>\n",
       "      <th>Rayo 1999</th>\n",
       "      <td>NaN</td>\n",
       "    </tr>\n",
       "    <tr>\n",
       "      <th>Rayo 2000</th>\n",
       "      <td>3.251932</td>\n",
       "    </tr>\n",
       "  </tbody>\n",
       "</table>\n",
       "<p>2000 rows × 1 columns</p>\n",
       "</div>"
      ],
      "text/plain": [
       "              List2\n",
       "Rayo 1     3.363261\n",
       "Rayo 2     3.363236\n",
       "Rayo 3     3.363242\n",
       "Rayo 4     3.363248\n",
       "Rayo 5     3.363246\n",
       "...             ...\n",
       "Rayo 1996       NaN\n",
       "Rayo 1997       NaN\n",
       "Rayo 1998       NaN\n",
       "Rayo 1999       NaN\n",
       "Rayo 2000  3.251932\n",
       "\n",
       "[2000 rows x 1 columns]"
      ]
     },
     "execution_count": 24,
     "metadata": {},
     "output_type": "execute_result"
    }
   ],
   "source": [
    "df_2"
   ]
  },
  {
   "cell_type": "markdown",
   "metadata": {},
   "source": [
    "## Valor promedio de los 200 rayos al llegar al detector"
   ]
  },
  {
   "cell_type": "code",
   "execution_count": 25,
   "metadata": {},
   "outputs": [
    {
     "data": {
      "text/plain": [
       "6000.080892483977"
      ]
     },
     "execution_count": 25,
     "metadata": {},
     "output_type": "execute_result"
    }
   ],
   "source": [
    "df_2['List2'].sum()"
   ]
  },
  {
   "cell_type": "code",
   "execution_count": 26,
   "metadata": {},
   "outputs": [],
   "source": [
    "Winston_mod=6000.080892483977/2000"
   ]
  },
  {
   "cell_type": "code",
   "execution_count": 27,
   "metadata": {},
   "outputs": [
    {
     "data": {
      "text/plain": [
       "3.0000404462419885"
      ]
     },
     "execution_count": 27,
     "metadata": {},
     "output_type": "execute_result"
    }
   ],
   "source": [
    "Winston_mod"
   ]
  },
  {
   "cell_type": "markdown",
   "metadata": {},
   "source": [
    "## Desviacion estandar"
   ]
  },
  {
   "cell_type": "code",
   "execution_count": 172,
   "metadata": {},
   "outputs": [
    {
     "data": {
      "text/html": [
       "<div>\n",
       "<style scoped>\n",
       "    .dataframe tbody tr th:only-of-type {\n",
       "        vertical-align: middle;\n",
       "    }\n",
       "\n",
       "    .dataframe tbody tr th {\n",
       "        vertical-align: top;\n",
       "    }\n",
       "\n",
       "    .dataframe thead th {\n",
       "        text-align: right;\n",
       "    }\n",
       "</style>\n",
       "<table border=\"1\" class=\"dataframe\">\n",
       "  <thead>\n",
       "    <tr style=\"text-align: right;\">\n",
       "      <th></th>\n",
       "      <th>List2</th>\n",
       "    </tr>\n",
       "  </thead>\n",
       "  <tbody>\n",
       "    <tr>\n",
       "      <th>Rayo 1</th>\n",
       "      <td>3.363261</td>\n",
       "    </tr>\n",
       "    <tr>\n",
       "      <th>Rayo 2</th>\n",
       "      <td>3.363236</td>\n",
       "    </tr>\n",
       "    <tr>\n",
       "      <th>Rayo 3</th>\n",
       "      <td>3.363242</td>\n",
       "    </tr>\n",
       "    <tr>\n",
       "      <th>Rayo 4</th>\n",
       "      <td>3.363248</td>\n",
       "    </tr>\n",
       "    <tr>\n",
       "      <th>Rayo 5</th>\n",
       "      <td>3.363246</td>\n",
       "    </tr>\n",
       "    <tr>\n",
       "      <th>...</th>\n",
       "      <td>...</td>\n",
       "    </tr>\n",
       "    <tr>\n",
       "      <th>Rayo 1996</th>\n",
       "      <td>NaN</td>\n",
       "    </tr>\n",
       "    <tr>\n",
       "      <th>Rayo 1997</th>\n",
       "      <td>NaN</td>\n",
       "    </tr>\n",
       "    <tr>\n",
       "      <th>Rayo 1998</th>\n",
       "      <td>NaN</td>\n",
       "    </tr>\n",
       "    <tr>\n",
       "      <th>Rayo 1999</th>\n",
       "      <td>NaN</td>\n",
       "    </tr>\n",
       "    <tr>\n",
       "      <th>Rayo 2000</th>\n",
       "      <td>3.251932</td>\n",
       "    </tr>\n",
       "  </tbody>\n",
       "</table>\n",
       "<p>2000 rows × 1 columns</p>\n",
       "</div>"
      ],
      "text/plain": [
       "              List2\n",
       "Rayo 1     3.363261\n",
       "Rayo 2     3.363236\n",
       "Rayo 3     3.363242\n",
       "Rayo 4     3.363248\n",
       "Rayo 5     3.363246\n",
       "...             ...\n",
       "Rayo 1996       NaN\n",
       "Rayo 1997       NaN\n",
       "Rayo 1998       NaN\n",
       "Rayo 1999       NaN\n",
       "Rayo 2000  3.251932\n",
       "\n",
       "[2000 rows x 1 columns]"
      ]
     },
     "execution_count": 172,
     "metadata": {},
     "output_type": "execute_result"
    }
   ],
   "source": [
    "df_2"
   ]
  },
  {
   "cell_type": "code",
   "execution_count": 173,
   "metadata": {},
   "outputs": [],
   "source": [
    "num2=[]\n",
    "for i in range(2000):\n",
    "    n2=(df_2['List2'][i]-Winston_mod)**2\n",
    "    num2.append(n2)\n",
    "    i=i+1"
   ]
  },
  {
   "cell_type": "code",
   "execution_count": 174,
   "metadata": {},
   "outputs": [],
   "source": [
    "df_2['numerador desviacion']=num2"
   ]
  },
  {
   "cell_type": "code",
   "execution_count": 175,
   "metadata": {},
   "outputs": [
    {
     "data": {
      "text/html": [
       "<div>\n",
       "<style scoped>\n",
       "    .dataframe tbody tr th:only-of-type {\n",
       "        vertical-align: middle;\n",
       "    }\n",
       "\n",
       "    .dataframe tbody tr th {\n",
       "        vertical-align: top;\n",
       "    }\n",
       "\n",
       "    .dataframe thead th {\n",
       "        text-align: right;\n",
       "    }\n",
       "</style>\n",
       "<table border=\"1\" class=\"dataframe\">\n",
       "  <thead>\n",
       "    <tr style=\"text-align: right;\">\n",
       "      <th></th>\n",
       "      <th>List2</th>\n",
       "      <th>numerador desviacion</th>\n",
       "    </tr>\n",
       "  </thead>\n",
       "  <tbody>\n",
       "    <tr>\n",
       "      <th>Rayo 1</th>\n",
       "      <td>3.363261</td>\n",
       "      <td>0.131929</td>\n",
       "    </tr>\n",
       "    <tr>\n",
       "      <th>Rayo 2</th>\n",
       "      <td>3.363236</td>\n",
       "      <td>0.131911</td>\n",
       "    </tr>\n",
       "    <tr>\n",
       "      <th>Rayo 3</th>\n",
       "      <td>3.363242</td>\n",
       "      <td>0.131915</td>\n",
       "    </tr>\n",
       "    <tr>\n",
       "      <th>Rayo 4</th>\n",
       "      <td>3.363248</td>\n",
       "      <td>0.131920</td>\n",
       "    </tr>\n",
       "    <tr>\n",
       "      <th>Rayo 5</th>\n",
       "      <td>3.363246</td>\n",
       "      <td>0.131918</td>\n",
       "    </tr>\n",
       "    <tr>\n",
       "      <th>...</th>\n",
       "      <td>...</td>\n",
       "      <td>...</td>\n",
       "    </tr>\n",
       "    <tr>\n",
       "      <th>Rayo 1996</th>\n",
       "      <td>NaN</td>\n",
       "      <td>NaN</td>\n",
       "    </tr>\n",
       "    <tr>\n",
       "      <th>Rayo 1997</th>\n",
       "      <td>NaN</td>\n",
       "      <td>NaN</td>\n",
       "    </tr>\n",
       "    <tr>\n",
       "      <th>Rayo 1998</th>\n",
       "      <td>NaN</td>\n",
       "      <td>NaN</td>\n",
       "    </tr>\n",
       "    <tr>\n",
       "      <th>Rayo 1999</th>\n",
       "      <td>NaN</td>\n",
       "      <td>NaN</td>\n",
       "    </tr>\n",
       "    <tr>\n",
       "      <th>Rayo 2000</th>\n",
       "      <td>3.251932</td>\n",
       "      <td>0.063449</td>\n",
       "    </tr>\n",
       "  </tbody>\n",
       "</table>\n",
       "<p>2000 rows × 2 columns</p>\n",
       "</div>"
      ],
      "text/plain": [
       "              List2  numerador desviacion\n",
       "Rayo 1     3.363261              0.131929\n",
       "Rayo 2     3.363236              0.131911\n",
       "Rayo 3     3.363242              0.131915\n",
       "Rayo 4     3.363248              0.131920\n",
       "Rayo 5     3.363246              0.131918\n",
       "...             ...                   ...\n",
       "Rayo 1996       NaN                   NaN\n",
       "Rayo 1997       NaN                   NaN\n",
       "Rayo 1998       NaN                   NaN\n",
       "Rayo 1999       NaN                   NaN\n",
       "Rayo 2000  3.251932              0.063449\n",
       "\n",
       "[2000 rows x 2 columns]"
      ]
     },
     "execution_count": 175,
     "metadata": {},
     "output_type": "execute_result"
    }
   ],
   "source": [
    "df_2"
   ]
  },
  {
   "cell_type": "code",
   "execution_count": 177,
   "metadata": {},
   "outputs": [
    {
     "data": {
      "text/plain": [
       "156.11834157372695"
      ]
     },
     "execution_count": 177,
     "metadata": {},
     "output_type": "execute_result"
    }
   ],
   "source": [
    "df_2['numerador desviacion'].sum()"
   ]
  },
  {
   "cell_type": "code",
   "execution_count": 178,
   "metadata": {},
   "outputs": [],
   "source": [
    "Sigma2=156.11834157372695/2000"
   ]
  },
  {
   "cell_type": "code",
   "execution_count": 179,
   "metadata": {},
   "outputs": [
    {
     "data": {
      "text/plain": [
       "0.07805917078686347"
      ]
     },
     "execution_count": 179,
     "metadata": {},
     "output_type": "execute_result"
    }
   ],
   "source": [
    "Sigma2"
   ]
  },
  {
   "cell_type": "code",
   "execution_count": 180,
   "metadata": {},
   "outputs": [],
   "source": [
    "u2=Winston_mod"
   ]
  },
  {
   "cell_type": "code",
   "execution_count": 181,
   "metadata": {},
   "outputs": [
    {
     "data": {
      "text/plain": [
       "3.0000404462419885"
      ]
     },
     "execution_count": 181,
     "metadata": {},
     "output_type": "execute_result"
    }
   ],
   "source": [
    "u2"
   ]
  },
  {
   "cell_type": "markdown",
   "metadata": {},
   "source": [
    "## Barra"
   ]
  },
  {
   "cell_type": "code",
   "execution_count": 28,
   "metadata": {},
   "outputs": [],
   "source": [
    "df3 = pd.read_csv(\"barra_f.csv\", sep = ',')  # sep = ',' sirve para separar en 2 columnas el excel leido."
   ]
  },
  {
   "cell_type": "code",
   "execution_count": 29,
   "metadata": {},
   "outputs": [
    {
     "data": {
      "text/html": [
       "<div>\n",
       "<style scoped>\n",
       "    .dataframe tbody tr th:only-of-type {\n",
       "        vertical-align: middle;\n",
       "    }\n",
       "\n",
       "    .dataframe tbody tr th {\n",
       "        vertical-align: top;\n",
       "    }\n",
       "\n",
       "    .dataframe thead th {\n",
       "        text-align: right;\n",
       "    }\n",
       "</style>\n",
       "<table border=\"1\" class=\"dataframe\">\n",
       "  <thead>\n",
       "    <tr style=\"text-align: right;\">\n",
       "      <th></th>\n",
       "      <th>Tiempo (ns)</th>\n",
       "      <th>Rayo 1</th>\n",
       "      <th>Rayo 2</th>\n",
       "      <th>Rayo 3</th>\n",
       "      <th>Rayo 4</th>\n",
       "      <th>Rayo 5</th>\n",
       "      <th>Rayo 6</th>\n",
       "      <th>Rayo 7</th>\n",
       "      <th>Rayo 8</th>\n",
       "      <th>Rayo 9</th>\n",
       "      <th>...</th>\n",
       "      <th>Rayo 1991</th>\n",
       "      <th>Rayo 1992</th>\n",
       "      <th>Rayo 1993</th>\n",
       "      <th>Rayo 1994</th>\n",
       "      <th>Rayo 1995</th>\n",
       "      <th>Rayo 1996</th>\n",
       "      <th>Rayo 1997</th>\n",
       "      <th>Rayo 1998</th>\n",
       "      <th>Rayo 1999</th>\n",
       "      <th>Rayo 2000</th>\n",
       "    </tr>\n",
       "  </thead>\n",
       "  <tbody>\n",
       "    <tr>\n",
       "      <th>0</th>\n",
       "      <td>0.0000</td>\n",
       "      <td>5.000000</td>\n",
       "      <td>5.000000</td>\n",
       "      <td>5.000000</td>\n",
       "      <td>5.000000</td>\n",
       "      <td>5.000000</td>\n",
       "      <td>5.000000</td>\n",
       "      <td>5.000000</td>\n",
       "      <td>5.000000</td>\n",
       "      <td>5.000000</td>\n",
       "      <td>...</td>\n",
       "      <td>5.000000</td>\n",
       "      <td>5.000000</td>\n",
       "      <td>5.000000</td>\n",
       "      <td>5.000000</td>\n",
       "      <td>5.000000</td>\n",
       "      <td>5.000000</td>\n",
       "      <td>5.000000</td>\n",
       "      <td>5.000000</td>\n",
       "      <td>5.000000</td>\n",
       "      <td>5.000000</td>\n",
       "    </tr>\n",
       "    <tr>\n",
       "      <th>1</th>\n",
       "      <td>0.0001</td>\n",
       "      <td>4.999346</td>\n",
       "      <td>4.999346</td>\n",
       "      <td>4.999346</td>\n",
       "      <td>4.999346</td>\n",
       "      <td>4.999346</td>\n",
       "      <td>4.999346</td>\n",
       "      <td>4.999346</td>\n",
       "      <td>4.999346</td>\n",
       "      <td>4.999346</td>\n",
       "      <td>...</td>\n",
       "      <td>4.999346</td>\n",
       "      <td>4.999346</td>\n",
       "      <td>4.999346</td>\n",
       "      <td>4.999346</td>\n",
       "      <td>4.999346</td>\n",
       "      <td>4.999346</td>\n",
       "      <td>4.999346</td>\n",
       "      <td>4.999346</td>\n",
       "      <td>4.999346</td>\n",
       "      <td>4.999346</td>\n",
       "    </tr>\n",
       "    <tr>\n",
       "      <th>2</th>\n",
       "      <td>0.0002</td>\n",
       "      <td>4.998691</td>\n",
       "      <td>4.998691</td>\n",
       "      <td>4.998691</td>\n",
       "      <td>4.998691</td>\n",
       "      <td>4.998691</td>\n",
       "      <td>4.998691</td>\n",
       "      <td>4.998691</td>\n",
       "      <td>4.998691</td>\n",
       "      <td>4.998691</td>\n",
       "      <td>...</td>\n",
       "      <td>4.998691</td>\n",
       "      <td>4.998691</td>\n",
       "      <td>4.998691</td>\n",
       "      <td>4.998691</td>\n",
       "      <td>4.998691</td>\n",
       "      <td>4.998691</td>\n",
       "      <td>4.998691</td>\n",
       "      <td>4.998691</td>\n",
       "      <td>4.998691</td>\n",
       "      <td>4.998691</td>\n",
       "    </tr>\n",
       "    <tr>\n",
       "      <th>3</th>\n",
       "      <td>0.0003</td>\n",
       "      <td>4.998037</td>\n",
       "      <td>4.998037</td>\n",
       "      <td>4.998037</td>\n",
       "      <td>4.998037</td>\n",
       "      <td>4.998037</td>\n",
       "      <td>4.998037</td>\n",
       "      <td>4.998037</td>\n",
       "      <td>4.998037</td>\n",
       "      <td>4.998037</td>\n",
       "      <td>...</td>\n",
       "      <td>4.998037</td>\n",
       "      <td>4.998037</td>\n",
       "      <td>4.998037</td>\n",
       "      <td>4.998037</td>\n",
       "      <td>4.998037</td>\n",
       "      <td>4.998037</td>\n",
       "      <td>4.998037</td>\n",
       "      <td>4.998037</td>\n",
       "      <td>4.998037</td>\n",
       "      <td>4.998037</td>\n",
       "    </tr>\n",
       "    <tr>\n",
       "      <th>4</th>\n",
       "      <td>0.0004</td>\n",
       "      <td>4.997383</td>\n",
       "      <td>4.997383</td>\n",
       "      <td>4.997383</td>\n",
       "      <td>4.997383</td>\n",
       "      <td>4.997383</td>\n",
       "      <td>4.997383</td>\n",
       "      <td>4.997383</td>\n",
       "      <td>4.997383</td>\n",
       "      <td>4.997383</td>\n",
       "      <td>...</td>\n",
       "      <td>4.997383</td>\n",
       "      <td>4.997383</td>\n",
       "      <td>4.997383</td>\n",
       "      <td>4.997383</td>\n",
       "      <td>4.997383</td>\n",
       "      <td>4.997383</td>\n",
       "      <td>4.997383</td>\n",
       "      <td>4.997383</td>\n",
       "      <td>4.997383</td>\n",
       "      <td>4.997383</td>\n",
       "    </tr>\n",
       "    <tr>\n",
       "      <th>...</th>\n",
       "      <td>...</td>\n",
       "      <td>...</td>\n",
       "      <td>...</td>\n",
       "      <td>...</td>\n",
       "      <td>...</td>\n",
       "      <td>...</td>\n",
       "      <td>...</td>\n",
       "      <td>...</td>\n",
       "      <td>...</td>\n",
       "      <td>...</td>\n",
       "      <td>...</td>\n",
       "      <td>...</td>\n",
       "      <td>...</td>\n",
       "      <td>...</td>\n",
       "      <td>...</td>\n",
       "      <td>...</td>\n",
       "      <td>...</td>\n",
       "      <td>...</td>\n",
       "      <td>...</td>\n",
       "      <td>...</td>\n",
       "      <td>...</td>\n",
       "    </tr>\n",
       "    <tr>\n",
       "      <th>3061</th>\n",
       "      <td>0.3061</td>\n",
       "      <td>3.361047</td>\n",
       "      <td>3.361019</td>\n",
       "      <td>3.361046</td>\n",
       "      <td>3.361050</td>\n",
       "      <td>3.361024</td>\n",
       "      <td>3.361005</td>\n",
       "      <td>3.360993</td>\n",
       "      <td>3.361012</td>\n",
       "      <td>3.361021</td>\n",
       "      <td>...</td>\n",
       "      <td>3.327533</td>\n",
       "      <td>NaN</td>\n",
       "      <td>NaN</td>\n",
       "      <td>NaN</td>\n",
       "      <td>NaN</td>\n",
       "      <td>NaN</td>\n",
       "      <td>NaN</td>\n",
       "      <td>NaN</td>\n",
       "      <td>NaN</td>\n",
       "      <td>NaN</td>\n",
       "    </tr>\n",
       "    <tr>\n",
       "      <th>3062</th>\n",
       "      <td>0.3062</td>\n",
       "      <td>3.361047</td>\n",
       "      <td>3.361019</td>\n",
       "      <td>3.361046</td>\n",
       "      <td>3.361050</td>\n",
       "      <td>3.361024</td>\n",
       "      <td>3.361005</td>\n",
       "      <td>3.360993</td>\n",
       "      <td>3.361012</td>\n",
       "      <td>3.361021</td>\n",
       "      <td>...</td>\n",
       "      <td>3.327098</td>\n",
       "      <td>NaN</td>\n",
       "      <td>NaN</td>\n",
       "      <td>NaN</td>\n",
       "      <td>NaN</td>\n",
       "      <td>NaN</td>\n",
       "      <td>NaN</td>\n",
       "      <td>NaN</td>\n",
       "      <td>NaN</td>\n",
       "      <td>NaN</td>\n",
       "    </tr>\n",
       "    <tr>\n",
       "      <th>3063</th>\n",
       "      <td>0.3063</td>\n",
       "      <td>3.361047</td>\n",
       "      <td>3.361019</td>\n",
       "      <td>3.361046</td>\n",
       "      <td>3.361050</td>\n",
       "      <td>3.361024</td>\n",
       "      <td>3.361005</td>\n",
       "      <td>3.360993</td>\n",
       "      <td>3.361012</td>\n",
       "      <td>3.361021</td>\n",
       "      <td>...</td>\n",
       "      <td>3.326662</td>\n",
       "      <td>NaN</td>\n",
       "      <td>NaN</td>\n",
       "      <td>NaN</td>\n",
       "      <td>NaN</td>\n",
       "      <td>NaN</td>\n",
       "      <td>NaN</td>\n",
       "      <td>NaN</td>\n",
       "      <td>NaN</td>\n",
       "      <td>NaN</td>\n",
       "    </tr>\n",
       "    <tr>\n",
       "      <th>3064</th>\n",
       "      <td>0.3064</td>\n",
       "      <td>3.361047</td>\n",
       "      <td>3.361019</td>\n",
       "      <td>3.361046</td>\n",
       "      <td>3.361050</td>\n",
       "      <td>3.361024</td>\n",
       "      <td>3.361005</td>\n",
       "      <td>3.360993</td>\n",
       "      <td>3.361012</td>\n",
       "      <td>3.361021</td>\n",
       "      <td>...</td>\n",
       "      <td>3.326227</td>\n",
       "      <td>NaN</td>\n",
       "      <td>NaN</td>\n",
       "      <td>NaN</td>\n",
       "      <td>NaN</td>\n",
       "      <td>NaN</td>\n",
       "      <td>NaN</td>\n",
       "      <td>NaN</td>\n",
       "      <td>NaN</td>\n",
       "      <td>NaN</td>\n",
       "    </tr>\n",
       "    <tr>\n",
       "      <th>3065</th>\n",
       "      <td>0.3065</td>\n",
       "      <td>3.361047</td>\n",
       "      <td>3.361019</td>\n",
       "      <td>3.361046</td>\n",
       "      <td>3.361050</td>\n",
       "      <td>3.361024</td>\n",
       "      <td>3.361005</td>\n",
       "      <td>3.360993</td>\n",
       "      <td>3.361012</td>\n",
       "      <td>3.361021</td>\n",
       "      <td>...</td>\n",
       "      <td>3.326006</td>\n",
       "      <td>NaN</td>\n",
       "      <td>NaN</td>\n",
       "      <td>NaN</td>\n",
       "      <td>NaN</td>\n",
       "      <td>NaN</td>\n",
       "      <td>NaN</td>\n",
       "      <td>NaN</td>\n",
       "      <td>NaN</td>\n",
       "      <td>NaN</td>\n",
       "    </tr>\n",
       "  </tbody>\n",
       "</table>\n",
       "<p>3066 rows × 2001 columns</p>\n",
       "</div>"
      ],
      "text/plain": [
       "      Tiempo (ns)    Rayo 1    Rayo 2    Rayo 3    Rayo 4    Rayo 5    Rayo 6  \\\n",
       "0          0.0000  5.000000  5.000000  5.000000  5.000000  5.000000  5.000000   \n",
       "1          0.0001  4.999346  4.999346  4.999346  4.999346  4.999346  4.999346   \n",
       "2          0.0002  4.998691  4.998691  4.998691  4.998691  4.998691  4.998691   \n",
       "3          0.0003  4.998037  4.998037  4.998037  4.998037  4.998037  4.998037   \n",
       "4          0.0004  4.997383  4.997383  4.997383  4.997383  4.997383  4.997383   \n",
       "...           ...       ...       ...       ...       ...       ...       ...   \n",
       "3061       0.3061  3.361047  3.361019  3.361046  3.361050  3.361024  3.361005   \n",
       "3062       0.3062  3.361047  3.361019  3.361046  3.361050  3.361024  3.361005   \n",
       "3063       0.3063  3.361047  3.361019  3.361046  3.361050  3.361024  3.361005   \n",
       "3064       0.3064  3.361047  3.361019  3.361046  3.361050  3.361024  3.361005   \n",
       "3065       0.3065  3.361047  3.361019  3.361046  3.361050  3.361024  3.361005   \n",
       "\n",
       "        Rayo 7    Rayo 8    Rayo 9  ...  Rayo 1991  Rayo 1992  Rayo 1993  \\\n",
       "0     5.000000  5.000000  5.000000  ...   5.000000   5.000000   5.000000   \n",
       "1     4.999346  4.999346  4.999346  ...   4.999346   4.999346   4.999346   \n",
       "2     4.998691  4.998691  4.998691  ...   4.998691   4.998691   4.998691   \n",
       "3     4.998037  4.998037  4.998037  ...   4.998037   4.998037   4.998037   \n",
       "4     4.997383  4.997383  4.997383  ...   4.997383   4.997383   4.997383   \n",
       "...        ...       ...       ...  ...        ...        ...        ...   \n",
       "3061  3.360993  3.361012  3.361021  ...   3.327533        NaN        NaN   \n",
       "3062  3.360993  3.361012  3.361021  ...   3.327098        NaN        NaN   \n",
       "3063  3.360993  3.361012  3.361021  ...   3.326662        NaN        NaN   \n",
       "3064  3.360993  3.361012  3.361021  ...   3.326227        NaN        NaN   \n",
       "3065  3.360993  3.361012  3.361021  ...   3.326006        NaN        NaN   \n",
       "\n",
       "      Rayo 1994  Rayo 1995  Rayo 1996  Rayo 1997  Rayo 1998  Rayo 1999  \\\n",
       "0      5.000000   5.000000   5.000000   5.000000   5.000000   5.000000   \n",
       "1      4.999346   4.999346   4.999346   4.999346   4.999346   4.999346   \n",
       "2      4.998691   4.998691   4.998691   4.998691   4.998691   4.998691   \n",
       "3      4.998037   4.998037   4.998037   4.998037   4.998037   4.998037   \n",
       "4      4.997383   4.997383   4.997383   4.997383   4.997383   4.997383   \n",
       "...         ...        ...        ...        ...        ...        ...   \n",
       "3061        NaN        NaN        NaN        NaN        NaN        NaN   \n",
       "3062        NaN        NaN        NaN        NaN        NaN        NaN   \n",
       "3063        NaN        NaN        NaN        NaN        NaN        NaN   \n",
       "3064        NaN        NaN        NaN        NaN        NaN        NaN   \n",
       "3065        NaN        NaN        NaN        NaN        NaN        NaN   \n",
       "\n",
       "      Rayo 2000  \n",
       "0      5.000000  \n",
       "1      4.999346  \n",
       "2      4.998691  \n",
       "3      4.998037  \n",
       "4      4.997383  \n",
       "...         ...  \n",
       "3061        NaN  \n",
       "3062        NaN  \n",
       "3063        NaN  \n",
       "3064        NaN  \n",
       "3065        NaN  \n",
       "\n",
       "[3066 rows x 2001 columns]"
      ]
     },
     "execution_count": 29,
     "metadata": {},
     "output_type": "execute_result"
    }
   ],
   "source": [
    "df3"
   ]
  },
  {
   "cell_type": "code",
   "execution_count": 30,
   "metadata": {},
   "outputs": [
    {
     "data": {
      "text/html": [
       "<div>\n",
       "<style scoped>\n",
       "    .dataframe tbody tr th:only-of-type {\n",
       "        vertical-align: middle;\n",
       "    }\n",
       "\n",
       "    .dataframe tbody tr th {\n",
       "        vertical-align: top;\n",
       "    }\n",
       "\n",
       "    .dataframe thead th {\n",
       "        text-align: right;\n",
       "    }\n",
       "</style>\n",
       "<table border=\"1\" class=\"dataframe\">\n",
       "  <thead>\n",
       "    <tr style=\"text-align: right;\">\n",
       "      <th></th>\n",
       "      <th>Tiempo (ns)</th>\n",
       "      <th>Rayo 1</th>\n",
       "      <th>Rayo 2</th>\n",
       "      <th>Rayo 3</th>\n",
       "      <th>Rayo 4</th>\n",
       "      <th>Rayo 5</th>\n",
       "      <th>Rayo 6</th>\n",
       "      <th>Rayo 7</th>\n",
       "      <th>Rayo 8</th>\n",
       "      <th>Rayo 9</th>\n",
       "      <th>...</th>\n",
       "      <th>Rayo 1991</th>\n",
       "      <th>Rayo 1992</th>\n",
       "      <th>Rayo 1993</th>\n",
       "      <th>Rayo 1994</th>\n",
       "      <th>Rayo 1995</th>\n",
       "      <th>Rayo 1996</th>\n",
       "      <th>Rayo 1997</th>\n",
       "      <th>Rayo 1998</th>\n",
       "      <th>Rayo 1999</th>\n",
       "      <th>Rayo 2000</th>\n",
       "    </tr>\n",
       "  </thead>\n",
       "  <tbody>\n",
       "    <tr>\n",
       "      <th>3065</th>\n",
       "      <td>0.3065</td>\n",
       "      <td>3.361047</td>\n",
       "      <td>3.361019</td>\n",
       "      <td>3.361046</td>\n",
       "      <td>3.36105</td>\n",
       "      <td>3.361024</td>\n",
       "      <td>3.361005</td>\n",
       "      <td>3.360993</td>\n",
       "      <td>3.361012</td>\n",
       "      <td>3.361021</td>\n",
       "      <td>...</td>\n",
       "      <td>3.326006</td>\n",
       "      <td>NaN</td>\n",
       "      <td>NaN</td>\n",
       "      <td>NaN</td>\n",
       "      <td>NaN</td>\n",
       "      <td>NaN</td>\n",
       "      <td>NaN</td>\n",
       "      <td>NaN</td>\n",
       "      <td>NaN</td>\n",
       "      <td>NaN</td>\n",
       "    </tr>\n",
       "  </tbody>\n",
       "</table>\n",
       "<p>1 rows × 2001 columns</p>\n",
       "</div>"
      ],
      "text/plain": [
       "      Tiempo (ns)    Rayo 1    Rayo 2    Rayo 3   Rayo 4    Rayo 5    Rayo 6  \\\n",
       "3065       0.3065  3.361047  3.361019  3.361046  3.36105  3.361024  3.361005   \n",
       "\n",
       "        Rayo 7    Rayo 8    Rayo 9  ...  Rayo 1991  Rayo 1992  Rayo 1993  \\\n",
       "3065  3.360993  3.361012  3.361021  ...   3.326006        NaN        NaN   \n",
       "\n",
       "      Rayo 1994  Rayo 1995  Rayo 1996  Rayo 1997  Rayo 1998  Rayo 1999  \\\n",
       "3065        NaN        NaN        NaN        NaN        NaN        NaN   \n",
       "\n",
       "      Rayo 2000  \n",
       "3065        NaN  \n",
       "\n",
       "[1 rows x 2001 columns]"
      ]
     },
     "execution_count": 30,
     "metadata": {},
     "output_type": "execute_result"
    }
   ],
   "source": [
    "df3.iloc[[3065]]"
   ]
  },
  {
   "cell_type": "code",
   "execution_count": 31,
   "metadata": {},
   "outputs": [],
   "source": [
    "lista_3=df3.iloc[[3065]].mean()"
   ]
  },
  {
   "cell_type": "code",
   "execution_count": 32,
   "metadata": {},
   "outputs": [
    {
     "data": {
      "text/plain": [
       "Tiempo (ns)    0.306500\n",
       "Rayo 1         3.361047\n",
       "Rayo 2         3.361019\n",
       "Rayo 3         3.361046\n",
       "Rayo 4         3.361050\n",
       "                 ...   \n",
       "Rayo 1996           NaN\n",
       "Rayo 1997           NaN\n",
       "Rayo 1998           NaN\n",
       "Rayo 1999           NaN\n",
       "Rayo 2000           NaN\n",
       "Length: 2001, dtype: float64"
      ]
     },
     "execution_count": 32,
     "metadata": {},
     "output_type": "execute_result"
    }
   ],
   "source": [
    "lista_3"
   ]
  },
  {
   "cell_type": "code",
   "execution_count": 33,
   "metadata": {},
   "outputs": [],
   "source": [
    "df_3 = pd.DataFrame()"
   ]
  },
  {
   "cell_type": "code",
   "execution_count": 34,
   "metadata": {},
   "outputs": [],
   "source": [
    "df_3['List3']=lista_3"
   ]
  },
  {
   "cell_type": "code",
   "execution_count": 35,
   "metadata": {},
   "outputs": [],
   "source": [
    "df_3= df_3.drop(df_3.index[[0]])"
   ]
  },
  {
   "cell_type": "code",
   "execution_count": 36,
   "metadata": {},
   "outputs": [
    {
     "data": {
      "text/html": [
       "<div>\n",
       "<style scoped>\n",
       "    .dataframe tbody tr th:only-of-type {\n",
       "        vertical-align: middle;\n",
       "    }\n",
       "\n",
       "    .dataframe tbody tr th {\n",
       "        vertical-align: top;\n",
       "    }\n",
       "\n",
       "    .dataframe thead th {\n",
       "        text-align: right;\n",
       "    }\n",
       "</style>\n",
       "<table border=\"1\" class=\"dataframe\">\n",
       "  <thead>\n",
       "    <tr style=\"text-align: right;\">\n",
       "      <th></th>\n",
       "      <th>List3</th>\n",
       "    </tr>\n",
       "  </thead>\n",
       "  <tbody>\n",
       "    <tr>\n",
       "      <th>Rayo 1</th>\n",
       "      <td>3.361047</td>\n",
       "    </tr>\n",
       "    <tr>\n",
       "      <th>Rayo 2</th>\n",
       "      <td>3.361019</td>\n",
       "    </tr>\n",
       "    <tr>\n",
       "      <th>Rayo 3</th>\n",
       "      <td>3.361046</td>\n",
       "    </tr>\n",
       "    <tr>\n",
       "      <th>Rayo 4</th>\n",
       "      <td>3.361050</td>\n",
       "    </tr>\n",
       "    <tr>\n",
       "      <th>Rayo 5</th>\n",
       "      <td>3.361024</td>\n",
       "    </tr>\n",
       "    <tr>\n",
       "      <th>...</th>\n",
       "      <td>...</td>\n",
       "    </tr>\n",
       "    <tr>\n",
       "      <th>Rayo 1996</th>\n",
       "      <td>NaN</td>\n",
       "    </tr>\n",
       "    <tr>\n",
       "      <th>Rayo 1997</th>\n",
       "      <td>NaN</td>\n",
       "    </tr>\n",
       "    <tr>\n",
       "      <th>Rayo 1998</th>\n",
       "      <td>NaN</td>\n",
       "    </tr>\n",
       "    <tr>\n",
       "      <th>Rayo 1999</th>\n",
       "      <td>NaN</td>\n",
       "    </tr>\n",
       "    <tr>\n",
       "      <th>Rayo 2000</th>\n",
       "      <td>NaN</td>\n",
       "    </tr>\n",
       "  </tbody>\n",
       "</table>\n",
       "<p>2000 rows × 1 columns</p>\n",
       "</div>"
      ],
      "text/plain": [
       "              List3\n",
       "Rayo 1     3.361047\n",
       "Rayo 2     3.361019\n",
       "Rayo 3     3.361046\n",
       "Rayo 4     3.361050\n",
       "Rayo 5     3.361024\n",
       "...             ...\n",
       "Rayo 1996       NaN\n",
       "Rayo 1997       NaN\n",
       "Rayo 1998       NaN\n",
       "Rayo 1999       NaN\n",
       "Rayo 2000       NaN\n",
       "\n",
       "[2000 rows x 1 columns]"
      ]
     },
     "execution_count": 36,
     "metadata": {},
     "output_type": "execute_result"
    }
   ],
   "source": [
    "df_3"
   ]
  },
  {
   "cell_type": "code",
   "execution_count": 37,
   "metadata": {},
   "outputs": [
    {
     "data": {
      "text/plain": [
       "288.8187642136903"
      ]
     },
     "execution_count": 37,
     "metadata": {},
     "output_type": "execute_result"
    }
   ],
   "source": [
    "df_3['List3'].sum()"
   ]
  },
  {
   "cell_type": "code",
   "execution_count": 38,
   "metadata": {},
   "outputs": [],
   "source": [
    "Barra=288.8187642136903/2000"
   ]
  },
  {
   "cell_type": "code",
   "execution_count": 39,
   "metadata": {},
   "outputs": [
    {
     "data": {
      "text/plain": [
       "0.14440938210684515"
      ]
     },
     "execution_count": 39,
     "metadata": {},
     "output_type": "execute_result"
    }
   ],
   "source": [
    "Barra"
   ]
  },
  {
   "cell_type": "markdown",
   "metadata": {},
   "source": [
    "## Desviacion estandar"
   ]
  },
  {
   "cell_type": "code",
   "execution_count": 182,
   "metadata": {},
   "outputs": [
    {
     "data": {
      "text/html": [
       "<div>\n",
       "<style scoped>\n",
       "    .dataframe tbody tr th:only-of-type {\n",
       "        vertical-align: middle;\n",
       "    }\n",
       "\n",
       "    .dataframe tbody tr th {\n",
       "        vertical-align: top;\n",
       "    }\n",
       "\n",
       "    .dataframe thead th {\n",
       "        text-align: right;\n",
       "    }\n",
       "</style>\n",
       "<table border=\"1\" class=\"dataframe\">\n",
       "  <thead>\n",
       "    <tr style=\"text-align: right;\">\n",
       "      <th></th>\n",
       "      <th>List3</th>\n",
       "    </tr>\n",
       "  </thead>\n",
       "  <tbody>\n",
       "    <tr>\n",
       "      <th>Rayo 1</th>\n",
       "      <td>3.361047</td>\n",
       "    </tr>\n",
       "    <tr>\n",
       "      <th>Rayo 2</th>\n",
       "      <td>3.361019</td>\n",
       "    </tr>\n",
       "    <tr>\n",
       "      <th>Rayo 3</th>\n",
       "      <td>3.361046</td>\n",
       "    </tr>\n",
       "    <tr>\n",
       "      <th>Rayo 4</th>\n",
       "      <td>3.361050</td>\n",
       "    </tr>\n",
       "    <tr>\n",
       "      <th>Rayo 5</th>\n",
       "      <td>3.361024</td>\n",
       "    </tr>\n",
       "    <tr>\n",
       "      <th>...</th>\n",
       "      <td>...</td>\n",
       "    </tr>\n",
       "    <tr>\n",
       "      <th>Rayo 1996</th>\n",
       "      <td>NaN</td>\n",
       "    </tr>\n",
       "    <tr>\n",
       "      <th>Rayo 1997</th>\n",
       "      <td>NaN</td>\n",
       "    </tr>\n",
       "    <tr>\n",
       "      <th>Rayo 1998</th>\n",
       "      <td>NaN</td>\n",
       "    </tr>\n",
       "    <tr>\n",
       "      <th>Rayo 1999</th>\n",
       "      <td>NaN</td>\n",
       "    </tr>\n",
       "    <tr>\n",
       "      <th>Rayo 2000</th>\n",
       "      <td>NaN</td>\n",
       "    </tr>\n",
       "  </tbody>\n",
       "</table>\n",
       "<p>2000 rows × 1 columns</p>\n",
       "</div>"
      ],
      "text/plain": [
       "              List3\n",
       "Rayo 1     3.361047\n",
       "Rayo 2     3.361019\n",
       "Rayo 3     3.361046\n",
       "Rayo 4     3.361050\n",
       "Rayo 5     3.361024\n",
       "...             ...\n",
       "Rayo 1996       NaN\n",
       "Rayo 1997       NaN\n",
       "Rayo 1998       NaN\n",
       "Rayo 1999       NaN\n",
       "Rayo 2000       NaN\n",
       "\n",
       "[2000 rows x 1 columns]"
      ]
     },
     "execution_count": 182,
     "metadata": {},
     "output_type": "execute_result"
    }
   ],
   "source": [
    "df_3"
   ]
  },
  {
   "cell_type": "code",
   "execution_count": 184,
   "metadata": {},
   "outputs": [],
   "source": [
    "num3=[]\n",
    "for i in range(2000):\n",
    "    n3=(df_3['List3'][i]-Barra)**2\n",
    "    num3.append(n3)\n",
    "    i=i+1"
   ]
  },
  {
   "cell_type": "code",
   "execution_count": 185,
   "metadata": {},
   "outputs": [],
   "source": [
    "df_3['numerador desviacion']=num3"
   ]
  },
  {
   "cell_type": "code",
   "execution_count": 186,
   "metadata": {},
   "outputs": [
    {
     "data": {
      "text/html": [
       "<div>\n",
       "<style scoped>\n",
       "    .dataframe tbody tr th:only-of-type {\n",
       "        vertical-align: middle;\n",
       "    }\n",
       "\n",
       "    .dataframe tbody tr th {\n",
       "        vertical-align: top;\n",
       "    }\n",
       "\n",
       "    .dataframe thead th {\n",
       "        text-align: right;\n",
       "    }\n",
       "</style>\n",
       "<table border=\"1\" class=\"dataframe\">\n",
       "  <thead>\n",
       "    <tr style=\"text-align: right;\">\n",
       "      <th></th>\n",
       "      <th>List3</th>\n",
       "      <th>numerador desviacion</th>\n",
       "    </tr>\n",
       "  </thead>\n",
       "  <tbody>\n",
       "    <tr>\n",
       "      <th>Rayo 1</th>\n",
       "      <td>3.361047</td>\n",
       "      <td>10.346759</td>\n",
       "    </tr>\n",
       "    <tr>\n",
       "      <th>Rayo 2</th>\n",
       "      <td>3.361019</td>\n",
       "      <td>10.346576</td>\n",
       "    </tr>\n",
       "    <tr>\n",
       "      <th>Rayo 3</th>\n",
       "      <td>3.361046</td>\n",
       "      <td>10.346754</td>\n",
       "    </tr>\n",
       "    <tr>\n",
       "      <th>Rayo 4</th>\n",
       "      <td>3.361050</td>\n",
       "      <td>10.346774</td>\n",
       "    </tr>\n",
       "    <tr>\n",
       "      <th>Rayo 5</th>\n",
       "      <td>3.361024</td>\n",
       "      <td>10.346608</td>\n",
       "    </tr>\n",
       "    <tr>\n",
       "      <th>...</th>\n",
       "      <td>...</td>\n",
       "      <td>...</td>\n",
       "    </tr>\n",
       "    <tr>\n",
       "      <th>Rayo 1996</th>\n",
       "      <td>NaN</td>\n",
       "      <td>NaN</td>\n",
       "    </tr>\n",
       "    <tr>\n",
       "      <th>Rayo 1997</th>\n",
       "      <td>NaN</td>\n",
       "      <td>NaN</td>\n",
       "    </tr>\n",
       "    <tr>\n",
       "      <th>Rayo 1998</th>\n",
       "      <td>NaN</td>\n",
       "      <td>NaN</td>\n",
       "    </tr>\n",
       "    <tr>\n",
       "      <th>Rayo 1999</th>\n",
       "      <td>NaN</td>\n",
       "      <td>NaN</td>\n",
       "    </tr>\n",
       "    <tr>\n",
       "      <th>Rayo 2000</th>\n",
       "      <td>NaN</td>\n",
       "      <td>NaN</td>\n",
       "    </tr>\n",
       "  </tbody>\n",
       "</table>\n",
       "<p>2000 rows × 2 columns</p>\n",
       "</div>"
      ],
      "text/plain": [
       "              List3  numerador desviacion\n",
       "Rayo 1     3.361047             10.346759\n",
       "Rayo 2     3.361019             10.346576\n",
       "Rayo 3     3.361046             10.346754\n",
       "Rayo 4     3.361050             10.346774\n",
       "Rayo 5     3.361024             10.346608\n",
       "...             ...                   ...\n",
       "Rayo 1996       NaN                   NaN\n",
       "Rayo 1997       NaN                   NaN\n",
       "Rayo 1998       NaN                   NaN\n",
       "Rayo 1999       NaN                   NaN\n",
       "Rayo 2000       NaN                   NaN\n",
       "\n",
       "[2000 rows x 2 columns]"
      ]
     },
     "execution_count": 186,
     "metadata": {},
     "output_type": "execute_result"
    }
   ],
   "source": [
    "df_3"
   ]
  },
  {
   "cell_type": "code",
   "execution_count": 189,
   "metadata": {},
   "outputs": [
    {
     "data": {
      "text/plain": [
       "888.3406614324"
      ]
     },
     "execution_count": 189,
     "metadata": {},
     "output_type": "execute_result"
    }
   ],
   "source": [
    "df_3['numerador desviacion'].sum()"
   ]
  },
  {
   "cell_type": "code",
   "execution_count": 190,
   "metadata": {},
   "outputs": [],
   "source": [
    "Sigma3=888.3406614324/2000"
   ]
  },
  {
   "cell_type": "code",
   "execution_count": 191,
   "metadata": {},
   "outputs": [
    {
     "data": {
      "text/plain": [
       "0.4441703307162"
      ]
     },
     "execution_count": 191,
     "metadata": {},
     "output_type": "execute_result"
    }
   ],
   "source": [
    "Sigma3"
   ]
  },
  {
   "cell_type": "code",
   "execution_count": 192,
   "metadata": {},
   "outputs": [],
   "source": [
    "u3=Barra"
   ]
  },
  {
   "cell_type": "code",
   "execution_count": 193,
   "metadata": {},
   "outputs": [
    {
     "data": {
      "text/plain": [
       "0.14440938210684515"
      ]
     },
     "execution_count": 193,
     "metadata": {},
     "output_type": "execute_result"
    }
   ],
   "source": [
    "u3"
   ]
  },
  {
   "cell_type": "code",
   "execution_count": 40,
   "metadata": {},
   "outputs": [],
   "source": [
    "data = pd.DataFrame()"
   ]
  },
  {
   "cell_type": "code",
   "execution_count": 41,
   "metadata": {},
   "outputs": [],
   "source": [
    "data['List1']=lista_1\n",
    "data['List2']=lista_2\n",
    "data['List3']=lista_3"
   ]
  },
  {
   "cell_type": "code",
   "execution_count": 42,
   "metadata": {},
   "outputs": [
    {
     "data": {
      "text/html": [
       "<div>\n",
       "<style scoped>\n",
       "    .dataframe tbody tr th:only-of-type {\n",
       "        vertical-align: middle;\n",
       "    }\n",
       "\n",
       "    .dataframe tbody tr th {\n",
       "        vertical-align: top;\n",
       "    }\n",
       "\n",
       "    .dataframe thead th {\n",
       "        text-align: right;\n",
       "    }\n",
       "</style>\n",
       "<table border=\"1\" class=\"dataframe\">\n",
       "  <thead>\n",
       "    <tr style=\"text-align: right;\">\n",
       "      <th></th>\n",
       "      <th>List1</th>\n",
       "      <th>List2</th>\n",
       "      <th>List3</th>\n",
       "    </tr>\n",
       "  </thead>\n",
       "  <tbody>\n",
       "    <tr>\n",
       "      <th>Tiempo (ns)</th>\n",
       "      <td>0.308800</td>\n",
       "      <td>0.318500</td>\n",
       "      <td>0.306500</td>\n",
       "    </tr>\n",
       "    <tr>\n",
       "      <th>Rayo 1</th>\n",
       "      <td>3.363254</td>\n",
       "      <td>3.363261</td>\n",
       "      <td>3.361047</td>\n",
       "    </tr>\n",
       "    <tr>\n",
       "      <th>Rayo 2</th>\n",
       "      <td>3.363240</td>\n",
       "      <td>3.363236</td>\n",
       "      <td>3.361019</td>\n",
       "    </tr>\n",
       "    <tr>\n",
       "      <th>Rayo 3</th>\n",
       "      <td>3.363255</td>\n",
       "      <td>3.363242</td>\n",
       "      <td>3.361046</td>\n",
       "    </tr>\n",
       "    <tr>\n",
       "      <th>Rayo 4</th>\n",
       "      <td>3.363243</td>\n",
       "      <td>3.363248</td>\n",
       "      <td>3.361050</td>\n",
       "    </tr>\n",
       "    <tr>\n",
       "      <th>...</th>\n",
       "      <td>...</td>\n",
       "      <td>...</td>\n",
       "      <td>...</td>\n",
       "    </tr>\n",
       "    <tr>\n",
       "      <th>Rayo 1996</th>\n",
       "      <td>NaN</td>\n",
       "      <td>NaN</td>\n",
       "      <td>NaN</td>\n",
       "    </tr>\n",
       "    <tr>\n",
       "      <th>Rayo 1997</th>\n",
       "      <td>NaN</td>\n",
       "      <td>NaN</td>\n",
       "      <td>NaN</td>\n",
       "    </tr>\n",
       "    <tr>\n",
       "      <th>Rayo 1998</th>\n",
       "      <td>NaN</td>\n",
       "      <td>NaN</td>\n",
       "      <td>NaN</td>\n",
       "    </tr>\n",
       "    <tr>\n",
       "      <th>Rayo 1999</th>\n",
       "      <td>NaN</td>\n",
       "      <td>NaN</td>\n",
       "      <td>NaN</td>\n",
       "    </tr>\n",
       "    <tr>\n",
       "      <th>Rayo 2000</th>\n",
       "      <td>NaN</td>\n",
       "      <td>3.251932</td>\n",
       "      <td>NaN</td>\n",
       "    </tr>\n",
       "  </tbody>\n",
       "</table>\n",
       "<p>2001 rows × 3 columns</p>\n",
       "</div>"
      ],
      "text/plain": [
       "                List1     List2     List3\n",
       "Tiempo (ns)  0.308800  0.318500  0.306500\n",
       "Rayo 1       3.363254  3.363261  3.361047\n",
       "Rayo 2       3.363240  3.363236  3.361019\n",
       "Rayo 3       3.363255  3.363242  3.361046\n",
       "Rayo 4       3.363243  3.363248  3.361050\n",
       "...               ...       ...       ...\n",
       "Rayo 1996         NaN       NaN       NaN\n",
       "Rayo 1997         NaN       NaN       NaN\n",
       "Rayo 1998         NaN       NaN       NaN\n",
       "Rayo 1999         NaN       NaN       NaN\n",
       "Rayo 2000         NaN  3.251932       NaN\n",
       "\n",
       "[2001 rows x 3 columns]"
      ]
     },
     "execution_count": 42,
     "metadata": {},
     "output_type": "execute_result"
    }
   ],
   "source": [
    "data"
   ]
  },
  {
   "cell_type": "code",
   "execution_count": 43,
   "metadata": {},
   "outputs": [
    {
     "data": {
      "text/html": [
       "<div>\n",
       "<style scoped>\n",
       "    .dataframe tbody tr th:only-of-type {\n",
       "        vertical-align: middle;\n",
       "    }\n",
       "\n",
       "    .dataframe tbody tr th {\n",
       "        vertical-align: top;\n",
       "    }\n",
       "\n",
       "    .dataframe thead th {\n",
       "        text-align: right;\n",
       "    }\n",
       "</style>\n",
       "<table border=\"1\" class=\"dataframe\">\n",
       "  <thead>\n",
       "    <tr style=\"text-align: right;\">\n",
       "      <th></th>\n",
       "      <th>List1</th>\n",
       "      <th>List2</th>\n",
       "      <th>List3</th>\n",
       "    </tr>\n",
       "  </thead>\n",
       "  <tbody>\n",
       "    <tr>\n",
       "      <th>Rayo 1</th>\n",
       "      <td>3.363254</td>\n",
       "      <td>3.363261</td>\n",
       "      <td>3.361047</td>\n",
       "    </tr>\n",
       "    <tr>\n",
       "      <th>Rayo 2</th>\n",
       "      <td>3.363240</td>\n",
       "      <td>3.363236</td>\n",
       "      <td>3.361019</td>\n",
       "    </tr>\n",
       "    <tr>\n",
       "      <th>Rayo 3</th>\n",
       "      <td>3.363255</td>\n",
       "      <td>3.363242</td>\n",
       "      <td>3.361046</td>\n",
       "    </tr>\n",
       "    <tr>\n",
       "      <th>Rayo 4</th>\n",
       "      <td>3.363243</td>\n",
       "      <td>3.363248</td>\n",
       "      <td>3.361050</td>\n",
       "    </tr>\n",
       "    <tr>\n",
       "      <th>Rayo 5</th>\n",
       "      <td>3.363220</td>\n",
       "      <td>3.363246</td>\n",
       "      <td>3.361024</td>\n",
       "    </tr>\n",
       "    <tr>\n",
       "      <th>...</th>\n",
       "      <td>...</td>\n",
       "      <td>...</td>\n",
       "      <td>...</td>\n",
       "    </tr>\n",
       "    <tr>\n",
       "      <th>Rayo 1996</th>\n",
       "      <td>NaN</td>\n",
       "      <td>NaN</td>\n",
       "      <td>NaN</td>\n",
       "    </tr>\n",
       "    <tr>\n",
       "      <th>Rayo 1997</th>\n",
       "      <td>NaN</td>\n",
       "      <td>NaN</td>\n",
       "      <td>NaN</td>\n",
       "    </tr>\n",
       "    <tr>\n",
       "      <th>Rayo 1998</th>\n",
       "      <td>NaN</td>\n",
       "      <td>NaN</td>\n",
       "      <td>NaN</td>\n",
       "    </tr>\n",
       "    <tr>\n",
       "      <th>Rayo 1999</th>\n",
       "      <td>NaN</td>\n",
       "      <td>NaN</td>\n",
       "      <td>NaN</td>\n",
       "    </tr>\n",
       "    <tr>\n",
       "      <th>Rayo 2000</th>\n",
       "      <td>NaN</td>\n",
       "      <td>3.251932</td>\n",
       "      <td>NaN</td>\n",
       "    </tr>\n",
       "  </tbody>\n",
       "</table>\n",
       "<p>2000 rows × 3 columns</p>\n",
       "</div>"
      ],
      "text/plain": [
       "              List1     List2     List3\n",
       "Rayo 1     3.363254  3.363261  3.361047\n",
       "Rayo 2     3.363240  3.363236  3.361019\n",
       "Rayo 3     3.363255  3.363242  3.361046\n",
       "Rayo 4     3.363243  3.363248  3.361050\n",
       "Rayo 5     3.363220  3.363246  3.361024\n",
       "...             ...       ...       ...\n",
       "Rayo 1996       NaN       NaN       NaN\n",
       "Rayo 1997       NaN       NaN       NaN\n",
       "Rayo 1998       NaN       NaN       NaN\n",
       "Rayo 1999       NaN       NaN       NaN\n",
       "Rayo 2000       NaN  3.251932       NaN\n",
       "\n",
       "[2000 rows x 3 columns]"
      ]
     },
     "execution_count": 43,
     "metadata": {},
     "output_type": "execute_result"
    }
   ],
   "source": [
    "data.drop(data.index[[0]])"
   ]
  },
  {
   "cell_type": "markdown",
   "metadata": {},
   "source": [
    "### Dataframe de las 3 geometrias sin valores nan"
   ]
  },
  {
   "cell_type": "code",
   "execution_count": 44,
   "metadata": {},
   "outputs": [
    {
     "data": {
      "text/html": [
       "<div>\n",
       "<style scoped>\n",
       "    .dataframe tbody tr th:only-of-type {\n",
       "        vertical-align: middle;\n",
       "    }\n",
       "\n",
       "    .dataframe tbody tr th {\n",
       "        vertical-align: top;\n",
       "    }\n",
       "\n",
       "    .dataframe thead th {\n",
       "        text-align: right;\n",
       "    }\n",
       "</style>\n",
       "<table border=\"1\" class=\"dataframe\">\n",
       "  <thead>\n",
       "    <tr style=\"text-align: right;\">\n",
       "      <th></th>\n",
       "      <th>List1</th>\n",
       "      <th>List2</th>\n",
       "      <th>List3</th>\n",
       "    </tr>\n",
       "  </thead>\n",
       "  <tbody>\n",
       "    <tr>\n",
       "      <th>Tiempo (ns)</th>\n",
       "      <td>0.308800</td>\n",
       "      <td>0.318500</td>\n",
       "      <td>0.306500</td>\n",
       "    </tr>\n",
       "    <tr>\n",
       "      <th>Rayo 1</th>\n",
       "      <td>3.363254</td>\n",
       "      <td>3.363261</td>\n",
       "      <td>3.361047</td>\n",
       "    </tr>\n",
       "    <tr>\n",
       "      <th>Rayo 2</th>\n",
       "      <td>3.363240</td>\n",
       "      <td>3.363236</td>\n",
       "      <td>3.361019</td>\n",
       "    </tr>\n",
       "    <tr>\n",
       "      <th>Rayo 3</th>\n",
       "      <td>3.363255</td>\n",
       "      <td>3.363242</td>\n",
       "      <td>3.361046</td>\n",
       "    </tr>\n",
       "    <tr>\n",
       "      <th>Rayo 4</th>\n",
       "      <td>3.363243</td>\n",
       "      <td>3.363248</td>\n",
       "      <td>3.361050</td>\n",
       "    </tr>\n",
       "    <tr>\n",
       "      <th>...</th>\n",
       "      <td>...</td>\n",
       "      <td>...</td>\n",
       "      <td>...</td>\n",
       "    </tr>\n",
       "    <tr>\n",
       "      <th>Rayo 1996</th>\n",
       "      <td>NaN</td>\n",
       "      <td>NaN</td>\n",
       "      <td>NaN</td>\n",
       "    </tr>\n",
       "    <tr>\n",
       "      <th>Rayo 1997</th>\n",
       "      <td>NaN</td>\n",
       "      <td>NaN</td>\n",
       "      <td>NaN</td>\n",
       "    </tr>\n",
       "    <tr>\n",
       "      <th>Rayo 1998</th>\n",
       "      <td>NaN</td>\n",
       "      <td>NaN</td>\n",
       "      <td>NaN</td>\n",
       "    </tr>\n",
       "    <tr>\n",
       "      <th>Rayo 1999</th>\n",
       "      <td>NaN</td>\n",
       "      <td>NaN</td>\n",
       "      <td>NaN</td>\n",
       "    </tr>\n",
       "    <tr>\n",
       "      <th>Rayo 2000</th>\n",
       "      <td>NaN</td>\n",
       "      <td>3.251932</td>\n",
       "      <td>NaN</td>\n",
       "    </tr>\n",
       "  </tbody>\n",
       "</table>\n",
       "<p>2001 rows × 3 columns</p>\n",
       "</div>"
      ],
      "text/plain": [
       "                List1     List2     List3\n",
       "Tiempo (ns)  0.308800  0.318500  0.306500\n",
       "Rayo 1       3.363254  3.363261  3.361047\n",
       "Rayo 2       3.363240  3.363236  3.361019\n",
       "Rayo 3       3.363255  3.363242  3.361046\n",
       "Rayo 4       3.363243  3.363248  3.361050\n",
       "...               ...       ...       ...\n",
       "Rayo 1996         NaN       NaN       NaN\n",
       "Rayo 1997         NaN       NaN       NaN\n",
       "Rayo 1998         NaN       NaN       NaN\n",
       "Rayo 1999         NaN       NaN       NaN\n",
       "Rayo 2000         NaN  3.251932       NaN\n",
       "\n",
       "[2001 rows x 3 columns]"
      ]
     },
     "execution_count": 44,
     "metadata": {},
     "output_type": "execute_result"
    }
   ],
   "source": [
    "data"
   ]
  },
  {
   "cell_type": "code",
   "execution_count": 45,
   "metadata": {},
   "outputs": [
    {
     "data": {
      "text/plain": [
       "(431, 177, 1914)"
      ]
     },
     "execution_count": 45,
     "metadata": {},
     "output_type": "execute_result"
    }
   ],
   "source": [
    "data['List1'].isnull().sum(),data['List2'].isnull().sum(),data['List3'].isnull().sum()"
   ]
  },
  {
   "cell_type": "code",
   "execution_count": 46,
   "metadata": {},
   "outputs": [],
   "source": [
    "data = data.dropna(how='all')"
   ]
  },
  {
   "cell_type": "code",
   "execution_count": 47,
   "metadata": {},
   "outputs": [
    {
     "data": {
      "text/html": [
       "<div>\n",
       "<style scoped>\n",
       "    .dataframe tbody tr th:only-of-type {\n",
       "        vertical-align: middle;\n",
       "    }\n",
       "\n",
       "    .dataframe tbody tr th {\n",
       "        vertical-align: top;\n",
       "    }\n",
       "\n",
       "    .dataframe thead th {\n",
       "        text-align: right;\n",
       "    }\n",
       "</style>\n",
       "<table border=\"1\" class=\"dataframe\">\n",
       "  <thead>\n",
       "    <tr style=\"text-align: right;\">\n",
       "      <th></th>\n",
       "      <th>List1</th>\n",
       "      <th>List2</th>\n",
       "      <th>List3</th>\n",
       "    </tr>\n",
       "  </thead>\n",
       "  <tbody>\n",
       "    <tr>\n",
       "      <th>Tiempo (ns)</th>\n",
       "      <td>0.308800</td>\n",
       "      <td>0.318500</td>\n",
       "      <td>0.306500</td>\n",
       "    </tr>\n",
       "    <tr>\n",
       "      <th>Rayo 1</th>\n",
       "      <td>3.363254</td>\n",
       "      <td>3.363261</td>\n",
       "      <td>3.361047</td>\n",
       "    </tr>\n",
       "    <tr>\n",
       "      <th>Rayo 2</th>\n",
       "      <td>3.363240</td>\n",
       "      <td>3.363236</td>\n",
       "      <td>3.361019</td>\n",
       "    </tr>\n",
       "    <tr>\n",
       "      <th>Rayo 3</th>\n",
       "      <td>3.363255</td>\n",
       "      <td>3.363242</td>\n",
       "      <td>3.361046</td>\n",
       "    </tr>\n",
       "    <tr>\n",
       "      <th>Rayo 4</th>\n",
       "      <td>3.363243</td>\n",
       "      <td>3.363248</td>\n",
       "      <td>3.361050</td>\n",
       "    </tr>\n",
       "    <tr>\n",
       "      <th>...</th>\n",
       "      <td>...</td>\n",
       "      <td>...</td>\n",
       "      <td>...</td>\n",
       "    </tr>\n",
       "    <tr>\n",
       "      <th>Rayo 1988</th>\n",
       "      <td>NaN</td>\n",
       "      <td>NaN</td>\n",
       "      <td>3.325978</td>\n",
       "    </tr>\n",
       "    <tr>\n",
       "      <th>Rayo 1989</th>\n",
       "      <td>NaN</td>\n",
       "      <td>NaN</td>\n",
       "      <td>3.325986</td>\n",
       "    </tr>\n",
       "    <tr>\n",
       "      <th>Rayo 1990</th>\n",
       "      <td>NaN</td>\n",
       "      <td>NaN</td>\n",
       "      <td>3.325995</td>\n",
       "    </tr>\n",
       "    <tr>\n",
       "      <th>Rayo 1991</th>\n",
       "      <td>NaN</td>\n",
       "      <td>NaN</td>\n",
       "      <td>3.326006</td>\n",
       "    </tr>\n",
       "    <tr>\n",
       "      <th>Rayo 2000</th>\n",
       "      <td>NaN</td>\n",
       "      <td>3.251932</td>\n",
       "      <td>NaN</td>\n",
       "    </tr>\n",
       "  </tbody>\n",
       "</table>\n",
       "<p>1830 rows × 3 columns</p>\n",
       "</div>"
      ],
      "text/plain": [
       "                List1     List2     List3\n",
       "Tiempo (ns)  0.308800  0.318500  0.306500\n",
       "Rayo 1       3.363254  3.363261  3.361047\n",
       "Rayo 2       3.363240  3.363236  3.361019\n",
       "Rayo 3       3.363255  3.363242  3.361046\n",
       "Rayo 4       3.363243  3.363248  3.361050\n",
       "...               ...       ...       ...\n",
       "Rayo 1988         NaN       NaN  3.325978\n",
       "Rayo 1989         NaN       NaN  3.325986\n",
       "Rayo 1990         NaN       NaN  3.325995\n",
       "Rayo 1991         NaN       NaN  3.326006\n",
       "Rayo 2000         NaN  3.251932       NaN\n",
       "\n",
       "[1830 rows x 3 columns]"
      ]
     },
     "execution_count": 47,
     "metadata": {},
     "output_type": "execute_result"
    }
   ],
   "source": [
    "data"
   ]
  },
  {
   "cell_type": "code",
   "execution_count": 48,
   "metadata": {},
   "outputs": [],
   "source": [
    "data = data.fillna(0)"
   ]
  },
  {
   "cell_type": "code",
   "execution_count": 49,
   "metadata": {},
   "outputs": [
    {
     "data": {
      "text/html": [
       "<div>\n",
       "<style scoped>\n",
       "    .dataframe tbody tr th:only-of-type {\n",
       "        vertical-align: middle;\n",
       "    }\n",
       "\n",
       "    .dataframe tbody tr th {\n",
       "        vertical-align: top;\n",
       "    }\n",
       "\n",
       "    .dataframe thead th {\n",
       "        text-align: right;\n",
       "    }\n",
       "</style>\n",
       "<table border=\"1\" class=\"dataframe\">\n",
       "  <thead>\n",
       "    <tr style=\"text-align: right;\">\n",
       "      <th></th>\n",
       "      <th>List1</th>\n",
       "      <th>List2</th>\n",
       "      <th>List3</th>\n",
       "    </tr>\n",
       "  </thead>\n",
       "  <tbody>\n",
       "    <tr>\n",
       "      <th>Tiempo (ns)</th>\n",
       "      <td>0.308800</td>\n",
       "      <td>0.318500</td>\n",
       "      <td>0.306500</td>\n",
       "    </tr>\n",
       "    <tr>\n",
       "      <th>Rayo 1</th>\n",
       "      <td>3.363254</td>\n",
       "      <td>3.363261</td>\n",
       "      <td>3.361047</td>\n",
       "    </tr>\n",
       "    <tr>\n",
       "      <th>Rayo 2</th>\n",
       "      <td>3.363240</td>\n",
       "      <td>3.363236</td>\n",
       "      <td>3.361019</td>\n",
       "    </tr>\n",
       "    <tr>\n",
       "      <th>Rayo 3</th>\n",
       "      <td>3.363255</td>\n",
       "      <td>3.363242</td>\n",
       "      <td>3.361046</td>\n",
       "    </tr>\n",
       "    <tr>\n",
       "      <th>Rayo 4</th>\n",
       "      <td>3.363243</td>\n",
       "      <td>3.363248</td>\n",
       "      <td>3.361050</td>\n",
       "    </tr>\n",
       "    <tr>\n",
       "      <th>...</th>\n",
       "      <td>...</td>\n",
       "      <td>...</td>\n",
       "      <td>...</td>\n",
       "    </tr>\n",
       "    <tr>\n",
       "      <th>Rayo 1988</th>\n",
       "      <td>0.000000</td>\n",
       "      <td>0.000000</td>\n",
       "      <td>3.325978</td>\n",
       "    </tr>\n",
       "    <tr>\n",
       "      <th>Rayo 1989</th>\n",
       "      <td>0.000000</td>\n",
       "      <td>0.000000</td>\n",
       "      <td>3.325986</td>\n",
       "    </tr>\n",
       "    <tr>\n",
       "      <th>Rayo 1990</th>\n",
       "      <td>0.000000</td>\n",
       "      <td>0.000000</td>\n",
       "      <td>3.325995</td>\n",
       "    </tr>\n",
       "    <tr>\n",
       "      <th>Rayo 1991</th>\n",
       "      <td>0.000000</td>\n",
       "      <td>0.000000</td>\n",
       "      <td>3.326006</td>\n",
       "    </tr>\n",
       "    <tr>\n",
       "      <th>Rayo 2000</th>\n",
       "      <td>0.000000</td>\n",
       "      <td>3.251932</td>\n",
       "      <td>0.000000</td>\n",
       "    </tr>\n",
       "  </tbody>\n",
       "</table>\n",
       "<p>1830 rows × 3 columns</p>\n",
       "</div>"
      ],
      "text/plain": [
       "                List1     List2     List3\n",
       "Tiempo (ns)  0.308800  0.318500  0.306500\n",
       "Rayo 1       3.363254  3.363261  3.361047\n",
       "Rayo 2       3.363240  3.363236  3.361019\n",
       "Rayo 3       3.363255  3.363242  3.361046\n",
       "Rayo 4       3.363243  3.363248  3.361050\n",
       "...               ...       ...       ...\n",
       "Rayo 1988    0.000000  0.000000  3.325978\n",
       "Rayo 1989    0.000000  0.000000  3.325986\n",
       "Rayo 1990    0.000000  0.000000  3.325995\n",
       "Rayo 1991    0.000000  0.000000  3.326006\n",
       "Rayo 2000    0.000000  3.251932  0.000000\n",
       "\n",
       "[1830 rows x 3 columns]"
      ]
     },
     "execution_count": 49,
     "metadata": {},
     "output_type": "execute_result"
    }
   ],
   "source": [
    "data"
   ]
  },
  {
   "cell_type": "code",
   "execution_count": 715,
   "metadata": {},
   "outputs": [],
   "source": [
    "prom=data['List1'].mean()"
   ]
  },
  {
   "cell_type": "code",
   "execution_count": 716,
   "metadata": {},
   "outputs": [],
   "source": [
    "nu1=[]\n",
    "for i in range(2000):\n",
    "    N1=(data['List1'][i]-prom)**2\n",
    "    nu1.append(N1)\n",
    "    i=i+1"
   ]
  },
  {
   "cell_type": "code",
   "execution_count": 718,
   "metadata": {},
   "outputs": [],
   "source": [
    "data['numerador desviacion']=nu1"
   ]
  },
  {
   "cell_type": "markdown",
   "metadata": {},
   "source": [
    "dividir por el largo nuevo de la columna"
   ]
  },
  {
   "cell_type": "code",
   "execution_count": 719,
   "metadata": {},
   "outputs": [
    {
     "data": {
      "text/html": [
       "<div>\n",
       "<style scoped>\n",
       "    .dataframe tbody tr th:only-of-type {\n",
       "        vertical-align: middle;\n",
       "    }\n",
       "\n",
       "    .dataframe tbody tr th {\n",
       "        vertical-align: top;\n",
       "    }\n",
       "\n",
       "    .dataframe thead th {\n",
       "        text-align: right;\n",
       "    }\n",
       "</style>\n",
       "<table border=\"1\" class=\"dataframe\">\n",
       "  <thead>\n",
       "    <tr style=\"text-align: right;\">\n",
       "      <th></th>\n",
       "      <th>List1</th>\n",
       "      <th>List2</th>\n",
       "      <th>List3</th>\n",
       "      <th>numerador desviacion</th>\n",
       "    </tr>\n",
       "  </thead>\n",
       "  <tbody>\n",
       "    <tr>\n",
       "      <th>Rayo 1</th>\n",
       "      <td>3.363254</td>\n",
       "      <td>3.363261</td>\n",
       "      <td>3.361047</td>\n",
       "      <td>0.580920</td>\n",
       "    </tr>\n",
       "    <tr>\n",
       "      <th>Rayo 2</th>\n",
       "      <td>3.363240</td>\n",
       "      <td>3.363236</td>\n",
       "      <td>3.361019</td>\n",
       "      <td>0.580899</td>\n",
       "    </tr>\n",
       "    <tr>\n",
       "      <th>Rayo 3</th>\n",
       "      <td>3.363255</td>\n",
       "      <td>3.363242</td>\n",
       "      <td>3.361046</td>\n",
       "      <td>0.580922</td>\n",
       "    </tr>\n",
       "    <tr>\n",
       "      <th>Rayo 4</th>\n",
       "      <td>3.363243</td>\n",
       "      <td>3.363248</td>\n",
       "      <td>3.361050</td>\n",
       "      <td>0.580904</td>\n",
       "    </tr>\n",
       "    <tr>\n",
       "      <th>Rayo 5</th>\n",
       "      <td>3.363220</td>\n",
       "      <td>3.363246</td>\n",
       "      <td>3.361024</td>\n",
       "      <td>0.580869</td>\n",
       "    </tr>\n",
       "    <tr>\n",
       "      <th>...</th>\n",
       "      <td>...</td>\n",
       "      <td>...</td>\n",
       "      <td>...</td>\n",
       "      <td>...</td>\n",
       "    </tr>\n",
       "    <tr>\n",
       "      <th>Rayo 1996</th>\n",
       "      <td>0.000000</td>\n",
       "      <td>0.000000</td>\n",
       "      <td>0.000000</td>\n",
       "      <td>6.765579</td>\n",
       "    </tr>\n",
       "    <tr>\n",
       "      <th>Rayo 1997</th>\n",
       "      <td>0.000000</td>\n",
       "      <td>0.000000</td>\n",
       "      <td>0.000000</td>\n",
       "      <td>6.765579</td>\n",
       "    </tr>\n",
       "    <tr>\n",
       "      <th>Rayo 1998</th>\n",
       "      <td>0.000000</td>\n",
       "      <td>0.000000</td>\n",
       "      <td>0.000000</td>\n",
       "      <td>6.765579</td>\n",
       "    </tr>\n",
       "    <tr>\n",
       "      <th>Rayo 1999</th>\n",
       "      <td>0.000000</td>\n",
       "      <td>0.000000</td>\n",
       "      <td>0.000000</td>\n",
       "      <td>6.765579</td>\n",
       "    </tr>\n",
       "    <tr>\n",
       "      <th>Rayo 2000</th>\n",
       "      <td>0.000000</td>\n",
       "      <td>3.251932</td>\n",
       "      <td>0.000000</td>\n",
       "      <td>6.765579</td>\n",
       "    </tr>\n",
       "  </tbody>\n",
       "</table>\n",
       "<p>2000 rows × 4 columns</p>\n",
       "</div>"
      ],
      "text/plain": [
       "              List1     List2     List3  numerador desviacion\n",
       "Rayo 1     3.363254  3.363261  3.361047              0.580920\n",
       "Rayo 2     3.363240  3.363236  3.361019              0.580899\n",
       "Rayo 3     3.363255  3.363242  3.361046              0.580922\n",
       "Rayo 4     3.363243  3.363248  3.361050              0.580904\n",
       "Rayo 5     3.363220  3.363246  3.361024              0.580869\n",
       "...             ...       ...       ...                   ...\n",
       "Rayo 1996  0.000000  0.000000  0.000000              6.765579\n",
       "Rayo 1997  0.000000  0.000000  0.000000              6.765579\n",
       "Rayo 1998  0.000000  0.000000  0.000000              6.765579\n",
       "Rayo 1999  0.000000  0.000000  0.000000              6.765579\n",
       "Rayo 2000  0.000000  3.251932  0.000000              6.765579\n",
       "\n",
       "[2000 rows x 4 columns]"
      ]
     },
     "execution_count": 719,
     "metadata": {},
     "output_type": "execute_result"
    }
   ],
   "source": [
    "data"
   ]
  },
  {
   "cell_type": "code",
   "execution_count": 722,
   "metadata": {},
   "outputs": [],
   "source": [
    "desv=data['numerador desviacion'].mean()"
   ]
  },
  {
   "cell_type": "code",
   "execution_count": 662,
   "metadata": {},
   "outputs": [
    {
     "data": {
      "text/plain": [
       "3.3155802831566707"
      ]
     },
     "execution_count": 662,
     "metadata": {},
     "output_type": "execute_result"
    }
   ],
   "source": [
    "data['List1'].mean(skipna=True)"
   ]
  },
  {
   "cell_type": "markdown",
   "metadata": {},
   "source": [
    "## graficos"
   ]
  },
  {
   "cell_type": "code",
   "execution_count": 50,
   "metadata": {},
   "outputs": [],
   "source": [
    "list=(Winston,Winston_mod,Barra)"
   ]
  },
  {
   "cell_type": "code",
   "execution_count": 51,
   "metadata": {},
   "outputs": [],
   "source": [
    "lista_name=['Winston','Winston_mod','Barra']"
   ]
  },
  {
   "cell_type": "code",
   "execution_count": 52,
   "metadata": {},
   "outputs": [],
   "source": [
    "df = pd.DataFrame()"
   ]
  },
  {
   "cell_type": "code",
   "execution_count": 53,
   "metadata": {},
   "outputs": [],
   "source": [
    "df['Geometría']=lista_name"
   ]
  },
  {
   "cell_type": "code",
   "execution_count": 54,
   "metadata": {},
   "outputs": [],
   "source": [
    "df['Energía Promedio']=list"
   ]
  },
  {
   "cell_type": "code",
   "execution_count": 55,
   "metadata": {},
   "outputs": [
    {
     "data": {
      "text/html": [
       "<div>\n",
       "<style scoped>\n",
       "    .dataframe tbody tr th:only-of-type {\n",
       "        vertical-align: middle;\n",
       "    }\n",
       "\n",
       "    .dataframe tbody tr th {\n",
       "        vertical-align: top;\n",
       "    }\n",
       "\n",
       "    .dataframe thead th {\n",
       "        text-align: right;\n",
       "    }\n",
       "</style>\n",
       "<table border=\"1\" class=\"dataframe\">\n",
       "  <thead>\n",
       "    <tr style=\"text-align: right;\">\n",
       "      <th></th>\n",
       "      <th>Geometría</th>\n",
       "      <th>Energía Promedio</th>\n",
       "    </tr>\n",
       "  </thead>\n",
       "  <tbody>\n",
       "    <tr>\n",
       "      <th>0</th>\n",
       "      <td>Winston</td>\n",
       "      <td>2.601073</td>\n",
       "    </tr>\n",
       "    <tr>\n",
       "      <th>1</th>\n",
       "      <td>Winston_mod</td>\n",
       "      <td>3.000040</td>\n",
       "    </tr>\n",
       "    <tr>\n",
       "      <th>2</th>\n",
       "      <td>Barra</td>\n",
       "      <td>0.144409</td>\n",
       "    </tr>\n",
       "  </tbody>\n",
       "</table>\n",
       "</div>"
      ],
      "text/plain": [
       "     Geometría  Energía Promedio\n",
       "0      Winston          2.601073\n",
       "1  Winston_mod          3.000040\n",
       "2        Barra          0.144409"
      ]
     },
     "execution_count": 55,
     "metadata": {},
     "output_type": "execute_result"
    }
   ],
   "source": [
    "df"
   ]
  },
  {
   "cell_type": "code",
   "execution_count": 60,
   "metadata": {},
   "outputs": [
    {
     "data": {
      "text/plain": [
       "<matplotlib.legend.Legend at 0x2242f5d5a00>"
      ]
     },
     "execution_count": 60,
     "metadata": {},
     "output_type": "execute_result"
    },
    {
     "data": {
      "image/png": "[encoded data removed]",
      "text/plain": [
       "<Figure size 648x360 with 1 Axes>"
      ]
     },
     "metadata": {},
     "output_type": "display_data"
    }
   ],
   "source": [
    "df.plot(x='Geometría', y='Energía Promedio', kind=\"bar\")\n",
    "plt.tick_params(axis=\"x\", rotation=0, labelsize=15)\n",
    "plt.rcParams[\"figure.figsize\"] = (9, 5)\n",
    "plt.xlabel('Geometrias', fontsize=20) # Titulo eje x\n",
    "plt.ylabel('Energía', fontsize=20) # Titulo eje x\n",
    "plt.ylim(0,4)\n",
    "plt.title('Comparación de energía para distintas geometrias', fontsize=18)  # Titulo de la grafica\n",
    "plt.legend(prop={'size': 15})"
   ]
  },
  {
   "cell_type": "code",
   "execution_count": 61,
   "metadata": {},
   "outputs": [
    {
     "data": {
      "image/png": "[encoded data removed]",
      "text/plain": [
       "<Figure size 432x576 with 1 Axes>"
      ]
     },
     "metadata": {},
     "output_type": "display_data"
    }
   ],
   "source": [
    "from tkinter import CENTER\n",
    "\n",
    "\n",
    "plt.figure(figsize=(6,8))\n",
    "plt.pie(df['Energía Promedio'],labels= df['Geometría'],shadow=True,autopct='%1.1f%%',explode=[0,0.1,0.2],textprops={'fontsize': 15})\n",
    "plt.title('Comparación energía de los rayos en distintas geometrias',fontsize=18,loc='center')\n",
    "plt.show()\n"
   ]
  },
  {
   "cell_type": "markdown",
   "metadata": {},
   "source": [
    "# winston"
   ]
  },
  {
   "cell_type": "markdown",
   "metadata": {},
   "source": [
    "#### numero de rayos desaparecidos"
   ]
  },
  {
   "cell_type": "code",
   "execution_count": 201,
   "metadata": {},
   "outputs": [
    {
     "data": {
      "text/plain": [
       "List1                   431\n",
       "numerador desviacion    431\n",
       "dtype: int64"
      ]
     },
     "execution_count": 201,
     "metadata": {},
     "output_type": "execute_result"
    }
   ],
   "source": [
    "df_1.isnull().sum()"
   ]
  },
  {
   "cell_type": "code",
   "execution_count": 202,
   "metadata": {},
   "outputs": [
    {
     "data": {
      "text/plain": [
       "List1     numerador desviacion\n",
       "3.296500  0.483619                1\n",
       "3.322471  0.520416                1\n",
       "3.322459  0.520398                1\n",
       "3.322455  0.520393                1\n",
       "3.322444  0.520376                1\n",
       "                                 ..\n",
       "3.302596  0.492134                1\n",
       "3.302584  0.492118                1\n",
       "3.302542  0.492059                1\n",
       "3.302501  0.492001                1\n",
       "3.363255  0.580922                1\n",
       "Length: 1569, dtype: int64"
      ]
     },
     "execution_count": 202,
     "metadata": {},
     "output_type": "execute_result"
    }
   ],
   "source": [
    "df_1.value_counts()"
   ]
  },
  {
   "cell_type": "code",
   "execution_count": 62,
   "metadata": {},
   "outputs": [
    {
     "data": {
      "text/html": [
       "<div>\n",
       "<style scoped>\n",
       "    .dataframe tbody tr th:only-of-type {\n",
       "        vertical-align: middle;\n",
       "    }\n",
       "\n",
       "    .dataframe tbody tr th {\n",
       "        vertical-align: top;\n",
       "    }\n",
       "\n",
       "    .dataframe thead th {\n",
       "        text-align: right;\n",
       "    }\n",
       "</style>\n",
       "<table border=\"1\" class=\"dataframe\">\n",
       "  <thead>\n",
       "    <tr style=\"text-align: right;\">\n",
       "      <th></th>\n",
       "      <th>List1</th>\n",
       "      <th>List2</th>\n",
       "      <th>List3</th>\n",
       "    </tr>\n",
       "  </thead>\n",
       "  <tbody>\n",
       "    <tr>\n",
       "      <th>Tiempo (ns)</th>\n",
       "      <td>0.308800</td>\n",
       "      <td>0.318500</td>\n",
       "      <td>0.306500</td>\n",
       "    </tr>\n",
       "    <tr>\n",
       "      <th>Rayo 1</th>\n",
       "      <td>3.363254</td>\n",
       "      <td>3.363261</td>\n",
       "      <td>3.361047</td>\n",
       "    </tr>\n",
       "    <tr>\n",
       "      <th>Rayo 2</th>\n",
       "      <td>3.363240</td>\n",
       "      <td>3.363236</td>\n",
       "      <td>3.361019</td>\n",
       "    </tr>\n",
       "    <tr>\n",
       "      <th>Rayo 3</th>\n",
       "      <td>3.363255</td>\n",
       "      <td>3.363242</td>\n",
       "      <td>3.361046</td>\n",
       "    </tr>\n",
       "    <tr>\n",
       "      <th>Rayo 4</th>\n",
       "      <td>3.363243</td>\n",
       "      <td>3.363248</td>\n",
       "      <td>3.361050</td>\n",
       "    </tr>\n",
       "    <tr>\n",
       "      <th>...</th>\n",
       "      <td>...</td>\n",
       "      <td>...</td>\n",
       "      <td>...</td>\n",
       "    </tr>\n",
       "    <tr>\n",
       "      <th>Rayo 1988</th>\n",
       "      <td>0.000000</td>\n",
       "      <td>0.000000</td>\n",
       "      <td>3.325978</td>\n",
       "    </tr>\n",
       "    <tr>\n",
       "      <th>Rayo 1989</th>\n",
       "      <td>0.000000</td>\n",
       "      <td>0.000000</td>\n",
       "      <td>3.325986</td>\n",
       "    </tr>\n",
       "    <tr>\n",
       "      <th>Rayo 1990</th>\n",
       "      <td>0.000000</td>\n",
       "      <td>0.000000</td>\n",
       "      <td>3.325995</td>\n",
       "    </tr>\n",
       "    <tr>\n",
       "      <th>Rayo 1991</th>\n",
       "      <td>0.000000</td>\n",
       "      <td>0.000000</td>\n",
       "      <td>3.326006</td>\n",
       "    </tr>\n",
       "    <tr>\n",
       "      <th>Rayo 2000</th>\n",
       "      <td>0.000000</td>\n",
       "      <td>3.251932</td>\n",
       "      <td>0.000000</td>\n",
       "    </tr>\n",
       "  </tbody>\n",
       "</table>\n",
       "<p>1830 rows × 3 columns</p>\n",
       "</div>"
      ],
      "text/plain": [
       "                List1     List2     List3\n",
       "Tiempo (ns)  0.308800  0.318500  0.306500\n",
       "Rayo 1       3.363254  3.363261  3.361047\n",
       "Rayo 2       3.363240  3.363236  3.361019\n",
       "Rayo 3       3.363255  3.363242  3.361046\n",
       "Rayo 4       3.363243  3.363248  3.361050\n",
       "...               ...       ...       ...\n",
       "Rayo 1988    0.000000  0.000000  3.325978\n",
       "Rayo 1989    0.000000  0.000000  3.325986\n",
       "Rayo 1990    0.000000  0.000000  3.325995\n",
       "Rayo 1991    0.000000  0.000000  3.326006\n",
       "Rayo 2000    0.000000  3.251932  0.000000\n",
       "\n",
       "[1830 rows x 3 columns]"
      ]
     },
     "execution_count": 62,
     "metadata": {},
     "output_type": "execute_result"
    }
   ],
   "source": [
    "data"
   ]
  },
  {
   "cell_type": "code",
   "execution_count": 330,
   "metadata": {},
   "outputs": [],
   "source": [
    "from scipy.optimize import curve_fit"
   ]
  },
  {
   "cell_type": "code",
   "execution_count": 367,
   "metadata": {},
   "outputs": [],
   "source": [
    "from scipy.stats import norm\n",
    "\n",
    "import matplotlib.pyplot as plt"
   ]
  },
  {
   "cell_type": "code",
   "execution_count": 400,
   "metadata": {},
   "outputs": [
    {
     "name": "stderr",
     "output_type": "stream",
     "text": [
      "c:\\Users\\ccana\\AppData\\Local\\Programs\\Python\\Python39\\lib\\site-packages\\seaborn\\distributions.py:2557: FutureWarning: `distplot` is a deprecated function and will be removed in a future version. Please adapt your code to use either `displot` (a figure-level function with similar flexibility) or `histplot` (an axes-level function for histograms).\n",
      "  warnings.warn(msg, FutureWarning)\n"
     ]
    },
    {
     "data": {
      "image/png": "[encoded data removed]",
      "text/plain": [
       "<Figure size 1440x504 with 1 Axes>"
      ]
     },
     "metadata": {},
     "output_type": "display_data"
    }
   ],
   "source": [
    "plt.figure(figsize = (20,7))\n",
    "sns.distplot(df_1['List1'].dropna(), rug=False,axlabel=\"Indice de Desarrollo Humano\",bins=50,\n",
    "fit=stats.norm, color='sienna').set_title('Distribución del Indice de Desarrollo Humano');\n"
   ]
  },
  {
   "cell_type": "code",
   "execution_count": 63,
   "metadata": {},
   "outputs": [
    {
     "data": {
      "text/plain": [
       "(0.0, 160.0)"
      ]
     },
     "execution_count": 63,
     "metadata": {},
     "output_type": "execute_result"
    },
    {
     "data": {
      "image/png": "[encoded data removed]",
      "text/plain": [
       "<Figure size 1440x504 with 1 Axes>"
      ]
     },
     "metadata": {},
     "output_type": "display_data"
    }
   ],
   "source": [
    "plt.figure(figsize = (20,7))\n",
    "sns.histplot(data, x='List1', kde=True,bins=100)\n",
    "plt.ylim(0,160)\n",
    "#plt.xlim(3.29,3.37)\n"
   ]
  },
  {
   "cell_type": "code",
   "execution_count": 64,
   "metadata": {},
   "outputs": [
    {
     "data": {
      "text/plain": [
       "(3.29, 3.37)"
      ]
     },
     "execution_count": 64,
     "metadata": {},
     "output_type": "execute_result"
    },
    {
     "data": {
      "image/png": "[encoded data removed]",
      "text/plain": [
       "<Figure size 1440x504 with 1 Axes>"
      ]
     },
     "metadata": {},
     "output_type": "display_data"
    }
   ],
   "source": [
    "plt.figure(figsize = (20,7))\n",
    "sns.histplot(data=df_1.dropna(), x='List1', kde=True,bins=100)\n",
    "plt.ylim(0,160)\n",
    "plt.xlim(3.29,3.37)\n",
    "\n",
    "\n"
   ]
  },
  {
   "cell_type": "markdown",
   "metadata": {},
   "source": [
    "## winston_mod"
   ]
  },
  {
   "cell_type": "markdown",
   "metadata": {},
   "source": [
    "#### numero de rayos desaparecidos"
   ]
  },
  {
   "cell_type": "code",
   "execution_count": 68,
   "metadata": {},
   "outputs": [
    {
     "data": {
      "text/plain": [
       "List2    177\n",
       "dtype: int64"
      ]
     },
     "execution_count": 68,
     "metadata": {},
     "output_type": "execute_result"
    }
   ],
   "source": [
    "df_2.isnull().sum()"
   ]
  },
  {
   "cell_type": "code",
   "execution_count": 65,
   "metadata": {},
   "outputs": [
    {
     "data": {
      "text/plain": [
       "(3.24, 3.37)"
      ]
     },
     "execution_count": 65,
     "metadata": {},
     "output_type": "execute_result"
    },
    {
     "data": {
      "image/png": "[encoded data removed]",
      "text/plain": [
       "<Figure size 1800x504 with 1 Axes>"
      ]
     },
     "metadata": {},
     "output_type": "display_data"
    }
   ],
   "source": [
    "plt.figure(figsize = (25,7))\n",
    "sns.histplot(data=df_2, x='List2', kde=True,bins=100)\n",
    "plt.ylim(0,100)\n",
    "plt.xlim(3.24,3.37)"
   ]
  },
  {
   "cell_type": "markdown",
   "metadata": {},
   "source": [
    "## barra"
   ]
  },
  {
   "cell_type": "markdown",
   "metadata": {},
   "source": [
    "#### numero de rayos desaparecidos"
   ]
  },
  {
   "cell_type": "code",
   "execution_count": 205,
   "metadata": {},
   "outputs": [
    {
     "data": {
      "text/plain": [
       "List3                   1914\n",
       "numerador desviacion    1914\n",
       "dtype: int64"
      ]
     },
     "execution_count": 205,
     "metadata": {},
     "output_type": "execute_result"
    }
   ],
   "source": [
    "df_3.isnull().sum()"
   ]
  },
  {
   "cell_type": "code",
   "execution_count": 66,
   "metadata": {},
   "outputs": [
    {
     "data": {
      "text/plain": [
       "(3.32, 3.37)"
      ]
     },
     "execution_count": 66,
     "metadata": {},
     "output_type": "execute_result"
    },
    {
     "data": {
      "image/png": "[encoded data removed]",
      "text/plain": [
       "<Figure size 1440x504 with 1 Axes>"
      ]
     },
     "metadata": {},
     "output_type": "display_data"
    }
   ],
   "source": [
    "plt.figure(figsize = (20,7))\n",
    "sns.histplot(data=df_3, x='List3', kde=True,bins=50)\n",
    "plt.ylim(0,100)\n",
    "plt.xlim(3.32,3.37)"
   ]
  },
  {
   "cell_type": "code",
   "execution_count": 113,
   "metadata": {},
   "outputs": [
    {
     "data": {
      "image/png": "[encoded data removed]",
      "text/plain": [
       "<Figure size 1800x576 with 1 Axes>"
      ]
     },
     "metadata": {},
     "output_type": "display_data"
    }
   ],
   "source": [
    "plt.figure(figsize = (25,8))\n",
    "sns.histplot(data=df_1.dropna(axis=0), x='List1', kde=True,bins=50,alpha=0.5,color='orange',label=\"Winston_cone\",line_kws = {'color':'red','linestyle': 'dashed'},multiple=\"stack\")\n",
    "sns.histplot(data=df_2.dropna(axis=0), x='List2', kde=True,bins=50,alpha=0.5,color='blue',label='Winston_cone_mod',multiple=\"stack\")\n",
    "sns.histplot(data=df_3.dropna(axis=0), x='List3', kde=True,bins=50,alpha=0.5,color='green',label='Barra',multiple=\"stack\")\n",
    "plt.ylim(0,300)\n",
    "plt.legend(prop={'size': 15})\n",
    "#plt.xlim(3.23999,3.367)\n",
    "x_min, x_max = plt.xlim()"
   ]
  },
  {
   "cell_type": "code",
   "execution_count": 770,
   "metadata": {},
   "outputs": [
    {
     "data": {
      "text/plain": [
       "3.361049542593047"
      ]
     },
     "execution_count": 770,
     "metadata": {},
     "output_type": "execute_result"
    }
   ],
   "source": [
    "df_3['List3'].max()"
   ]
  },
  {
   "cell_type": "code",
   "execution_count": 178,
   "metadata": {},
   "outputs": [
    {
     "data": {
      "text/html": [
       "<div>\n",
       "<style scoped>\n",
       "    .dataframe tbody tr th:only-of-type {\n",
       "        vertical-align: middle;\n",
       "    }\n",
       "\n",
       "    .dataframe tbody tr th {\n",
       "        vertical-align: top;\n",
       "    }\n",
       "\n",
       "    .dataframe thead th {\n",
       "        text-align: right;\n",
       "    }\n",
       "</style>\n",
       "<table border=\"1\" class=\"dataframe\">\n",
       "  <thead>\n",
       "    <tr style=\"text-align: right;\">\n",
       "      <th></th>\n",
       "      <th>List1</th>\n",
       "      <th>List2</th>\n",
       "      <th>List3</th>\n",
       "    </tr>\n",
       "  </thead>\n",
       "  <tbody>\n",
       "    <tr>\n",
       "      <th>Tiempo (ns)</th>\n",
       "      <td>0.308800</td>\n",
       "      <td>0.318500</td>\n",
       "      <td>0.306500</td>\n",
       "    </tr>\n",
       "    <tr>\n",
       "      <th>Rayo 1</th>\n",
       "      <td>3.363254</td>\n",
       "      <td>3.363261</td>\n",
       "      <td>3.361047</td>\n",
       "    </tr>\n",
       "    <tr>\n",
       "      <th>Rayo 2</th>\n",
       "      <td>3.363240</td>\n",
       "      <td>3.363236</td>\n",
       "      <td>3.361019</td>\n",
       "    </tr>\n",
       "    <tr>\n",
       "      <th>Rayo 3</th>\n",
       "      <td>3.363255</td>\n",
       "      <td>3.363242</td>\n",
       "      <td>3.361046</td>\n",
       "    </tr>\n",
       "    <tr>\n",
       "      <th>Rayo 4</th>\n",
       "      <td>3.363243</td>\n",
       "      <td>3.363248</td>\n",
       "      <td>3.361050</td>\n",
       "    </tr>\n",
       "    <tr>\n",
       "      <th>...</th>\n",
       "      <td>...</td>\n",
       "      <td>...</td>\n",
       "      <td>...</td>\n",
       "    </tr>\n",
       "    <tr>\n",
       "      <th>Rayo 1988</th>\n",
       "      <td>0.000000</td>\n",
       "      <td>0.000000</td>\n",
       "      <td>3.325978</td>\n",
       "    </tr>\n",
       "    <tr>\n",
       "      <th>Rayo 1989</th>\n",
       "      <td>0.000000</td>\n",
       "      <td>0.000000</td>\n",
       "      <td>3.325986</td>\n",
       "    </tr>\n",
       "    <tr>\n",
       "      <th>Rayo 1990</th>\n",
       "      <td>0.000000</td>\n",
       "      <td>0.000000</td>\n",
       "      <td>3.325995</td>\n",
       "    </tr>\n",
       "    <tr>\n",
       "      <th>Rayo 1991</th>\n",
       "      <td>0.000000</td>\n",
       "      <td>0.000000</td>\n",
       "      <td>3.326006</td>\n",
       "    </tr>\n",
       "    <tr>\n",
       "      <th>Rayo 2000</th>\n",
       "      <td>0.000000</td>\n",
       "      <td>3.251932</td>\n",
       "      <td>0.000000</td>\n",
       "    </tr>\n",
       "  </tbody>\n",
       "</table>\n",
       "<p>1830 rows × 3 columns</p>\n",
       "</div>"
      ],
      "text/plain": [
       "                List1     List2     List3\n",
       "Tiempo (ns)  0.308800  0.318500  0.306500\n",
       "Rayo 1       3.363254  3.363261  3.361047\n",
       "Rayo 2       3.363240  3.363236  3.361019\n",
       "Rayo 3       3.363255  3.363242  3.361046\n",
       "Rayo 4       3.363243  3.363248  3.361050\n",
       "...               ...       ...       ...\n",
       "Rayo 1988    0.000000  0.000000  3.325978\n",
       "Rayo 1989    0.000000  0.000000  3.325986\n",
       "Rayo 1990    0.000000  0.000000  3.325995\n",
       "Rayo 1991    0.000000  0.000000  3.326006\n",
       "Rayo 2000    0.000000  3.251932  0.000000\n",
       "\n",
       "[1830 rows x 3 columns]"
      ]
     },
     "execution_count": 178,
     "metadata": {},
     "output_type": "execute_result"
    }
   ],
   "source": [
    "data"
   ]
  },
  {
   "cell_type": "code",
   "execution_count": 271,
   "metadata": {},
   "outputs": [],
   "source": [
    "from matplotlib.ticker import AutoMinorLocator\n",
    "from matplotlib import gridspec"
   ]
  },
  {
   "cell_type": "code",
   "execution_count": 302,
   "metadata": {},
   "outputs": [
    {
     "data": {
      "image/png": "[encoded data removed]",
      "text/plain": [
       "<Figure size 1800x576 with 1 Axes>"
      ]
     },
     "metadata": {},
     "output_type": "display_data"
    }
   ],
   "source": [
    "plt.figure(figsize = (25,8))\n",
    "sns.histplot(data=data, x='List1', kde=False,bins=100,alpha=0.5,color='orange',label=\"Winston_cone\",line_kws = {'color':'red','linestyle': 'dashed'},multiple=\"stack\")\n",
    "sns.histplot(data=data, x='List2', kde=False,bins=100,alpha=0.5,color='blue',label='Winston_cone_mod',multiple=\"stack\")\n",
    "sns.histplot(data=data, x='List3',kde=False,bins=100,alpha=0.5,color='green',label='Barra',multiple=\"stack\")\n",
    "plt.ylim(0,2000)\n",
    "plt.legend(prop={'size': 15})\n",
    "#plt.xticks(range(0, 3))\n",
    "\n",
    "#plt.xlim(3.23999,3.367)\n",
    "#data['List1'][0][3].set_xlim((0,1))\n",
    "#ax_list[0][1].set_xlim((0.01, 0.07))\n",
    "x_min, x_max = plt.xlim()\n",
    "\n",
    "\n",
    "plt.xlabel('\\nEnergía', c=txt_color2, fontsize=14)\n",
    "plt.ylabel('Número de Rayos', c=txt_color2, fontsize=14)\n",
    "plt.tight_layout()\n",
    "plt.savefig('costs.png', facecolor=facecolor)\n"
   ]
  },
  {
   "cell_type": "code",
   "execution_count": 317,
   "metadata": {},
   "outputs": [
    {
     "ename": "NameError",
     "evalue": "name 'histplot' is not defined",
     "output_type": "error",
     "traceback": [
      "\u001b[1;31m---------------------------------------------------------------------------\u001b[0m",
      "\u001b[1;31mNameError\u001b[0m                                 Traceback (most recent call last)",
      "\u001b[1;32m<ipython-input-317-4b2f3402db41>\u001b[0m in \u001b[0;36m<module>\u001b[1;34m\u001b[0m\n\u001b[0;32m     39\u001b[0m \u001b[0ma1\u001b[0m\u001b[1;33m=\u001b[0m\u001b[0mplt\u001b[0m\u001b[1;33m.\u001b[0m\u001b[0mxlim\u001b[0m\u001b[1;33m(\u001b[0m\u001b[1;36m3.23999\u001b[0m\u001b[1;33m,\u001b[0m\u001b[1;36m3.367\u001b[0m\u001b[1;33m)\u001b[0m\u001b[1;33m\u001b[0m\u001b[1;33m\u001b[0m\u001b[0m\n\u001b[0;32m     40\u001b[0m \u001b[1;32mif\u001b[0m \u001b[0mplt\u001b[0m\u001b[1;33m.\u001b[0m\u001b[0mxlim\u001b[0m\u001b[1;33m(\u001b[0m\u001b[1;36m0.5\u001b[0m\u001b[1;33m,\u001b[0m\u001b[1;36m3\u001b[0m\u001b[1;33m)\u001b[0m\u001b[1;33m:\u001b[0m\u001b[1;33m\u001b[0m\u001b[1;33m\u001b[0m\u001b[0m\n\u001b[1;32m---> 41\u001b[1;33m     \u001b[0mhistplot\u001b[0m\u001b[1;33m.\u001b[0m\u001b[0mremove\u001b[0m\u001b[1;33m(\u001b[0m\u001b[1;33m)\u001b[0m\u001b[1;33m\u001b[0m\u001b[1;33m\u001b[0m\u001b[0m\n\u001b[0m\u001b[0;32m     42\u001b[0m \u001b[1;33m\u001b[0m\u001b[0m\n",
      "\u001b[1;31mNameError\u001b[0m: name 'histplot' is not defined"
     ]
    },
    {
     "data": {
      "image/png": "[encoded data removed]",
      "text/plain": [
       "<Figure size 1800x576 with 1 Axes>"
      ]
     },
     "metadata": {},
     "output_type": "display_data"
    }
   ],
   "source": [
    "plt.figure(figsize = (25,8))\n",
    "sns.histplot(data=data, x='List1', kde=False,bins=100,alpha=0.5,color='orange',label=\"Winston_cone\",line_kws = {'color':'red','linestyle': 'dashed'},multiple=\"stack\")\n",
    "sns.histplot(data=data, x='List2', kde=False,bins=100,alpha=0.5,color='blue',label='Winston_cone_mod',multiple=\"stack\")\n",
    "sns.histplot(data=data, x='List3',kde=False,bins=100,alpha=0.5,color='green',label='Barra',multiple=\"stack\")\n",
    "plt.ylim(0,2000)\n",
    "plt.legend(prop={'size': 15})\n",
    "#plt.xticks(range(0, 3))\n",
    "\n",
    "#plt.xlim(3.23999,3.367)\n",
    "#data['List1'][0][3].set_xlim((0,1))\n",
    "#ax_list[0][1].set_xlim((0.01, 0.07))\n",
    "x_min, x_max = plt.xlim()\n",
    "\n",
    "\n",
    "facecolor = '#EAEAEA'\n",
    "color_bars = '#3475D0'\n",
    "txt_color1 = '#252525'\n",
    "txt_color2 = '#004C74'\n",
    "\n",
    "# define minor ticks and draw a grid with them\n",
    "minor_locator = AutoMinorLocator(2)\n",
    "plt.gca().xaxis.set_minor_locator(minor_locator)\n",
    "plt.grid(which='minor', color='white', lw = 0.5)\n",
    "\"\"\"\n",
    "# x ticks\n",
    "xticks = [(bins[idx+1] + value)/2 for idx, value in enumerate(bins[:-1])]\n",
    "xticks_labels = [ \"{:.2f}\\nto\\n{:.2f}\".format(value, bins[idx+1]) for idx, value in enumerate(bins[:-1])]\n",
    "plt.xticks(xticks, labels = xticks_labels)\n",
    "plt.tick_params(axis='x', which='both',length=0)\n",
    "\"\"\"\n",
    "\n",
    "plt.xlabel('\\nEnergía', c=txt_color2, fontsize=14)\n",
    "plt.ylabel('Número de Rayos', c=txt_color2, fontsize=14)\n",
    "plt.tight_layout()\n",
    "plt.savefig('costs.png', facecolor=facecolor)\n",
    "\n",
    "#plt.hist('x',range=[0, 3.6])\n",
    "#plt.xticks(np.arange(0, 5, 3))\n",
    "a1=plt.xlim(3.23999,3.367)\n",
    "if plt.xlim(0.5,3):\n",
    "    histplot.remove()\n",
    "\n"
   ]
  },
  {
   "cell_type": "code",
   "execution_count": 300,
   "metadata": {},
   "outputs": [
    {
     "data": {
      "image/png": "[encoded data removed]",
      "text/plain": [
       "<Figure size 1800x576 with 1 Axes>"
      ]
     },
     "metadata": {},
     "output_type": "display_data"
    }
   ],
   "source": [
    "plt.figure(figsize = (25,8))\n",
    "sns.histplot(data=data, x='List1',weights=None, stat='count',binwidth=None, kde=False,bins=100,alpha=0.5,color='orange',label=\"Winston_cone\",line_kws = {'color':'red','linestyle': 'dashed'},multiple=\"stack\",binrange=(3.296499837312763,3.363255446588808))\n",
    "sns.histplot(data=data, x='List2', kde=False,bins=100,alpha=0.5,color='blue',label='Winston_cone_mod',multiple=\"stack\",binrange=(3.2423144090796665,3.363260676054719))\n",
    "sns.histplot(data=data, x='List3', kde=False,bins=100,alpha=0.5,color='green',label='Barra',multiple=\"stack\",binrange=(3.3259649123250914,3.361049542593047))\n",
    "#sns.histplot(data=data, x='List1',bins=100,alpha=0.5,color='orange',label='Winston_cone_mod',binrange=(0,0))\n",
    "\n",
    "plt.ylim(0,155)\n",
    "plt.legend(prop={'size': 15})\n",
    "#plt.xlim(3.23999,3.367)\n",
    "x_min, x_max = plt.xlim()\n",
    "\n",
    "\n",
    "plt.xlabel('\\nEnergía', c=txt_color2, fontsize=14)\n",
    "plt.ylabel('Número de Rayos', c=txt_color2, fontsize=14)\n",
    "plt.tight_layout()\n",
    "plt.savefig('costs.png', facecolor=facecolor)"
   ]
  },
  {
   "cell_type": "code",
   "execution_count": 301,
   "metadata": {},
   "outputs": [
    {
     "data": {
      "image/png": "[encoded data removed]",
      "text/plain": [
       "<Figure size 1800x576 with 1 Axes>"
      ]
     },
     "metadata": {},
     "output_type": "display_data"
    }
   ],
   "source": [
    "plt.figure(figsize = (25,8))\n",
    "sns.histplot(data=data, x='List1', kde=False,bins=500,alpha=0.4,color='orange',label=\"Winston_cone\",line_kws = {'color':'red','linestyle': 'dashed'},multiple=\"stack\")\n",
    "sns.histplot(data=data, x='List2', kde=False,bins=500,alpha=0.4,color='blue',label='Winston_cone_mod',multiple=\"stack\")\n",
    "sns.histplot(data=data, x='List3', kde=False,bins=500,alpha=0.5,color='green',label='Barra',multiple=\"stack\")\n",
    "plt.ylim(0,550)\n",
    "plt.legend(prop={'size': 15})\n",
    "plt.xlim(3.23999,3.367)\n",
    "x_min, x_max = plt.xlim()\n",
    "\n",
    "\n",
    "plt.xlabel('\\nEnergía', c=txt_color2, fontsize=14)\n",
    "plt.ylabel('Número de Rayos', c=txt_color2, fontsize=14)\n",
    "plt.tight_layout()\n",
    "plt.savefig('costs.png', facecolor=facecolor)"
   ]
  },
  {
   "cell_type": "code",
   "execution_count": 687,
   "metadata": {},
   "outputs": [
    {
     "data": {
      "text/plain": [
       "3.363255446588808"
      ]
     },
     "execution_count": 687,
     "metadata": {},
     "output_type": "execute_result"
    }
   ],
   "source": [
    "data['List1'].max()"
   ]
  },
  {
   "cell_type": "code",
   "execution_count": 690,
   "metadata": {},
   "outputs": [
    {
     "name": "stderr",
     "output_type": "stream",
     "text": [
      "c:\\Users\\ccana\\AppData\\Local\\Programs\\Python\\Python39\\lib\\site-packages\\seaborn\\distributions.py:2557: FutureWarning: `distplot` is a deprecated function and will be removed in a future version. Please adapt your code to use either `displot` (a figure-level function with similar flexibility) or `histplot` (an axes-level function for histograms).\n",
      "  warnings.warn(msg, FutureWarning)\n",
      "c:\\Users\\ccana\\AppData\\Local\\Programs\\Python\\Python39\\lib\\site-packages\\seaborn\\distributions.py:2056: FutureWarning: The `axis` variable is no longer used and will be removed. Instead, assign variables directly to `x` or `y`.\n",
      "  warnings.warn(msg, FutureWarning)\n",
      "c:\\Users\\ccana\\AppData\\Local\\Programs\\Python\\Python39\\lib\\site-packages\\seaborn\\distributions.py:2557: FutureWarning: `distplot` is a deprecated function and will be removed in a future version. Please adapt your code to use either `displot` (a figure-level function with similar flexibility) or `histplot` (an axes-level function for histograms).\n",
      "  warnings.warn(msg, FutureWarning)\n",
      "c:\\Users\\ccana\\AppData\\Local\\Programs\\Python\\Python39\\lib\\site-packages\\seaborn\\distributions.py:2056: FutureWarning: The `axis` variable is no longer used and will be removed. Instead, assign variables directly to `x` or `y`.\n",
      "  warnings.warn(msg, FutureWarning)\n",
      "c:\\Users\\ccana\\AppData\\Local\\Programs\\Python\\Python39\\lib\\site-packages\\seaborn\\distributions.py:2557: FutureWarning: `distplot` is a deprecated function and will be removed in a future version. Please adapt your code to use either `displot` (a figure-level function with similar flexibility) or `histplot` (an axes-level function for histograms).\n",
      "  warnings.warn(msg, FutureWarning)\n",
      "c:\\Users\\ccana\\AppData\\Local\\Programs\\Python\\Python39\\lib\\site-packages\\seaborn\\distributions.py:2056: FutureWarning: The `axis` variable is no longer used and will be removed. Instead, assign variables directly to `x` or `y`.\n",
      "  warnings.warn(msg, FutureWarning)\n"
     ]
    },
    {
     "data": {
      "text/plain": [
       "<matplotlib.legend.Legend at 0x2028ef16e20>"
      ]
     },
     "execution_count": 690,
     "metadata": {},
     "output_type": "execute_result"
    },
    {
     "data": {
      "image/png": "[encoded data removed]",
      "text/plain": [
       "<Figure size 1800x504 with 1 Axes>"
      ]
     },
     "metadata": {},
     "output_type": "display_data"
    }
   ],
   "source": [
    "plt.figure(figsize = (25,7))\n",
    "x_min, x_max = plt.xlim()\n",
    "y_min, y_max = plt.ylim()\n",
    "plt.xlim(0,3.5)\n",
    "plt.ylim(0,30)\n",
    "sns.distplot(data['List1'].dropna(axis=0), rug=True,label=\"Winston_cone\",bins=100,\n",
    " color='sienna').set_title('');\n",
    "sns.distplot(data['List2'].dropna(axis=0), rug=True,label='Winston_cone_mod',bins=100,\n",
    " color='purple').set_title('');\n",
    "sns.distplot(data['List3'].dropna(axis=0), rug=True,label='Barra',bins=100, color='yellow').set_title('Distribucion de energía para las geometrias');\n",
    "plt.legend(prop={'size': 15})"
   ]
  },
  {
   "cell_type": "code",
   "execution_count": 696,
   "metadata": {},
   "outputs": [
    {
     "data": {
      "text/plain": [
       "Rayo 1       3.363254\n",
       "Rayo 2       3.363240\n",
       "Rayo 3       3.363255\n",
       "Rayo 4       3.363243\n",
       "Rayo 5       3.363220\n",
       "               ...   \n",
       "Rayo 1996    0.000000\n",
       "Rayo 1997    0.000000\n",
       "Rayo 1998    0.000000\n",
       "Rayo 1999    0.000000\n",
       "Rayo 2000    0.000000\n",
       "Name: List1, Length: 2000, dtype: float64"
      ]
     },
     "execution_count": 696,
     "metadata": {},
     "output_type": "execute_result"
    }
   ],
   "source": [
    "data['List1']"
   ]
  },
  {
   "cell_type": "code",
   "execution_count": 695,
   "metadata": {},
   "outputs": [
    {
     "name": "stderr",
     "output_type": "stream",
     "text": [
      "c:\\Users\\ccana\\AppData\\Local\\Programs\\Python\\Python39\\lib\\site-packages\\seaborn\\distributions.py:2557: FutureWarning: `distplot` is a deprecated function and will be removed in a future version. Please adapt your code to use either `displot` (a figure-level function with similar flexibility) or `histplot` (an axes-level function for histograms).\n",
      "  warnings.warn(msg, FutureWarning)\n",
      "c:\\Users\\ccana\\AppData\\Local\\Programs\\Python\\Python39\\lib\\site-packages\\seaborn\\distributions.py:2557: FutureWarning: `distplot` is a deprecated function and will be removed in a future version. Please adapt your code to use either `displot` (a figure-level function with similar flexibility) or `histplot` (an axes-level function for histograms).\n",
      "  warnings.warn(msg, FutureWarning)\n",
      "c:\\Users\\ccana\\AppData\\Local\\Programs\\Python\\Python39\\lib\\site-packages\\seaborn\\distributions.py:2557: FutureWarning: `distplot` is a deprecated function and will be removed in a future version. Please adapt your code to use either `displot` (a figure-level function with similar flexibility) or `histplot` (an axes-level function for histograms).\n",
      "  warnings.warn(msg, FutureWarning)\n"
     ]
    },
    {
     "data": {
      "text/plain": [
       "<matplotlib.legend.Legend at 0x2028f939c40>"
      ]
     },
     "execution_count": 695,
     "metadata": {},
     "output_type": "execute_result"
    },
    {
     "data": {
      "image/png": "[encoded data removed]",
      "text/plain": [
       "<Figure size 1800x504 with 1 Axes>"
      ]
     },
     "metadata": {},
     "output_type": "display_data"
    }
   ],
   "source": [
    "plt.figure(figsize = (25,7))\n",
    "x_min, x_max = plt.xlim()\n",
    "y_min, y_max = plt.ylim()\n",
    "plt.ylim(0,200)\n",
    "sns.distplot(df_1['List1'], rug=False,label=\"Winston_cone\",bins=50,fit=stats.norm,\n",
    " color='sienna').set_title('Distribución del Indice de Desarrollo Humano');\n",
    "sns.distplot(df_2['List2'], rug=False,label='Winston_cone_mod',bins=50,fit=stats.norm,\n",
    " color='purple').set_title('Distribución del Indice de Desarrollo Humano');\n",
    "sns.distplot(df_3['List3'], rug=False,label='Barra',bins=50, fit=stats.norm,color='blue').set_title('Distribución del Indice de Desarrollo Humano');\n",
    "plt.legend(prop={'size': 15})"
   ]
  },
  {
   "cell_type": "code",
   "execution_count": 459,
   "metadata": {},
   "outputs": [
    {
     "name": "stderr",
     "output_type": "stream",
     "text": [
      "c:\\Users\\ccana\\AppData\\Local\\Programs\\Python\\Python39\\lib\\site-packages\\seaborn\\distributions.py:2557: FutureWarning: `distplot` is a deprecated function and will be removed in a future version. Please adapt your code to use either `displot` (a figure-level function with similar flexibility) or `histplot` (an axes-level function for histograms).\n",
      "  warnings.warn(msg, FutureWarning)\n"
     ]
    },
    {
     "data": {
      "text/plain": [
       "<AxesSubplot: xlabel='List3', ylabel='Density'>"
      ]
     },
     "execution_count": 459,
     "metadata": {},
     "output_type": "execute_result"
    },
    {
     "data": {
      "image/png": "[encoded data removed]",
      "text/plain": [
       "<Figure size 648x360 with 1 Axes>"
      ]
     },
     "metadata": {},
     "output_type": "display_data"
    }
   ],
   "source": [
    "sns.distplot(df_3['List3'],bins=10)"
   ]
  },
  {
   "cell_type": "code",
   "execution_count": 91,
   "metadata": {},
   "outputs": [
    {
     "data": {
      "text/plain": [
       "<matplotlib.legend.Legend at 0x2243454fe50>"
      ]
     },
     "execution_count": 91,
     "metadata": {},
     "output_type": "execute_result"
    },
    {
     "data": {
      "image/png": "[encoded data removed]",
      "text/plain": [
       "<Figure size 1008x432 with 1 Axes>"
      ]
     },
     "metadata": {},
     "output_type": "display_data"
    }
   ],
   "source": [
    "plt.figure(figsize = (14,6))\n",
    "df_1['List1'].plot.kde(bw_method=0.3,label=\"Winston_cone\")\n",
    "df_2['List2'].plot.kde(bw_method=0.3,label='Winston_cone_mod')\n",
    "df_3['List3'].plot.kde(bw_method=0.3,label='Barra')\n",
    "plt.legend()"
   ]
  },
  {
   "cell_type": "code",
   "execution_count": 490,
   "metadata": {},
   "outputs": [
    {
     "data": {
      "text/plain": [
       "List1                   3.363255\n",
       "numerador desviacion    0.580922\n",
       "dtype: float64"
      ]
     },
     "execution_count": 490,
     "metadata": {},
     "output_type": "execute_result"
    }
   ],
   "source": [
    "df_1.max()"
   ]
  },
  {
   "cell_type": "code",
   "execution_count": 97,
   "metadata": {},
   "outputs": [
    {
     "ename": "NameError",
     "evalue": "name 'mu1' is not defined",
     "output_type": "error",
     "traceback": [
      "\u001b[1;31m---------------------------------------------------------------------------\u001b[0m",
      "\u001b[1;31mNameError\u001b[0m                                 Traceback (most recent call last)",
      "\u001b[1;32m<ipython-input-97-d35a0a628763>\u001b[0m in \u001b[0;36m<module>\u001b[1;34m\u001b[0m\n\u001b[0;32m      2\u001b[0m \u001b[0mmu\u001b[0m\u001b[1;33m,\u001b[0m \u001b[0msigma\u001b[0m \u001b[1;33m=\u001b[0m \u001b[0mscipy\u001b[0m\u001b[1;33m.\u001b[0m\u001b[0mstats\u001b[0m\u001b[1;33m.\u001b[0m\u001b[0mnorm\u001b[0m\u001b[1;33m.\u001b[0m\u001b[0mfit\u001b[0m\u001b[1;33m(\u001b[0m\u001b[0mdata\u001b[0m\u001b[1;33m[\u001b[0m\u001b[1;34m'List1'\u001b[0m\u001b[1;33m]\u001b[0m\u001b[1;33m.\u001b[0m\u001b[0mdropna\u001b[0m\u001b[1;33m(\u001b[0m\u001b[0maxis\u001b[0m\u001b[1;33m=\u001b[0m\u001b[1;36m0\u001b[0m\u001b[1;33m)\u001b[0m\u001b[1;33m)\u001b[0m\u001b[1;33m\u001b[0m\u001b[1;33m\u001b[0m\u001b[0m\n\u001b[0;32m      3\u001b[0m \u001b[0mplt\u001b[0m\u001b[1;33m.\u001b[0m\u001b[0mxlim\u001b[0m\u001b[1;33m(\u001b[0m\u001b[1;36m3.29\u001b[0m\u001b[1;33m,\u001b[0m\u001b[1;36m3.367\u001b[0m\u001b[1;33m)\u001b[0m\u001b[1;33m\u001b[0m\u001b[1;33m\u001b[0m\u001b[0m\n\u001b[1;32m----> 4\u001b[1;33m \u001b[0mbest_fit_line\u001b[0m \u001b[1;33m=\u001b[0m \u001b[0mscipy\u001b[0m\u001b[1;33m.\u001b[0m\u001b[0mstats\u001b[0m\u001b[1;33m.\u001b[0m\u001b[0mnorm\u001b[0m\u001b[1;33m.\u001b[0m\u001b[0mpdf\u001b[0m\u001b[1;33m(\u001b[0m\u001b[0mbins\u001b[0m\u001b[1;33m,\u001b[0m \u001b[0mmu1\u001b[0m\u001b[1;33m,\u001b[0m \u001b[0mSigma1\u001b[0m\u001b[1;33m)\u001b[0m\u001b[1;33m\u001b[0m\u001b[1;33m\u001b[0m\u001b[0m\n\u001b[0m\u001b[0;32m      5\u001b[0m \u001b[0mprint\u001b[0m\u001b[1;33m(\u001b[0m\u001b[0mmu\u001b[0m\u001b[1;33m,\u001b[0m \u001b[0msigma\u001b[0m\u001b[1;33m)\u001b[0m\u001b[1;33m\u001b[0m\u001b[1;33m\u001b[0m\u001b[0m\n\u001b[0;32m      6\u001b[0m \u001b[0mplt\u001b[0m\u001b[1;33m.\u001b[0m\u001b[0mplot\u001b[0m\u001b[1;33m(\u001b[0m\u001b[0mbins\u001b[0m\u001b[1;33m,\u001b[0m \u001b[0mbest_fit_line\u001b[0m\u001b[1;33m)\u001b[0m\u001b[1;33m\u001b[0m\u001b[1;33m\u001b[0m\u001b[0m\n",
      "\u001b[1;31mNameError\u001b[0m: name 'mu1' is not defined"
     ]
    },
    {
     "data": {
      "image/png": "[encoded data removed]",
      "text/plain": [
       "<Figure size 648x360 with 1 Axes>"
      ]
     },
     "metadata": {},
     "output_type": "display_data"
    }
   ],
   "source": [
    "_, bins, _ = plt.hist(data['List1'].dropna(how='all'), 50, density=1, alpha=0.5)\n",
    "mu, sigma = scipy.stats.norm.fit(data['List1'].dropna(axis=0))\n",
    "plt.xlim(3.29,3.367)\n",
    "best_fit_line = scipy.stats.norm.pdf(bins, mu1, Sigma1)\n",
    "print(mu, sigma)\n",
    "plt.plot(bins, best_fit_line)"
   ]
  },
  {
   "cell_type": "code",
   "execution_count": 99,
   "metadata": {},
   "outputs": [
    {
     "data": {
      "image/png": "[encoded data removed]",
      "text/plain": [
       "<Figure size 648x360 with 1 Axes>"
      ]
     },
     "metadata": {},
     "output_type": "display_data"
    }
   ],
   "source": [
    "# Fit a normal distribution to\n",
    "# the data:\n",
    "# mean and standard deviation\n",
    "mu, std = norm.fit(df_1['List1'].dropna(axis=0)) \n",
    "  \n",
    "# Plot the histogram.\n",
    "plt.hist(df_1['List1'].dropna(axis=0), bins=50, density=True, alpha=0.6, color='b')\n",
    "  \n",
    "# Plot the PDF.\n",
    "xmin, xmax = plt.xlim()\n",
    "x = np.linspace(xmin, xmax, 10000)\n",
    "p = norm.pdf(x, mu, std)\n",
    "  \n",
    "plt.plot(x, p, 'k', linewidth=2)\n",
    "title = \"Fit Values: {:.2f} and {:.2f}\".format(mu, std)\n",
    "plt.title(title)\n",
    "  \n",
    "plt.show()"
   ]
  },
  {
   "cell_type": "code",
   "execution_count": 100,
   "metadata": {},
   "outputs": [
    {
     "data": {
      "image/png": "[encoded data removed]",
      "text/plain": [
       "<Figure size 648x360 with 1 Axes>"
      ]
     },
     "metadata": {},
     "output_type": "display_data"
    }
   ],
   "source": [
    "# Fit a normal distribution to\n",
    "# the data:\n",
    "# mean and standard deviation\n",
    "mu, std = norm.fit(data) \n",
    "  \n",
    "# Plot the histogram.\n",
    "plt.hist(df_1['List1'].dropna(axis=0), bins=50, density=True, alpha=0.6, color='b')\n",
    "  \n",
    "# Plot the PDF.\n",
    "xmin, xmax = plt.xlim()\n",
    "x = np.linspace(xmin, xmax, 10000)\n",
    "p = norm.pdf(x, mu, std)\n",
    "  \n",
    "plt.plot(x, p, 'k', linewidth=2)\n",
    "title = \"Fit Values: {:.2f} and {:.2f}\".format(mu, std)\n",
    "plt.title(title)\n",
    "  \n",
    "plt.show()"
   ]
  },
  {
   "cell_type": "code",
   "execution_count": 587,
   "metadata": {},
   "outputs": [],
   "source": [
    "import inspect"
   ]
  },
  {
   "cell_type": "code",
   "execution_count": 608,
   "metadata": {},
   "outputs": [
    {
     "data": {
      "text/plain": [
       "2.601072732136408"
      ]
     },
     "execution_count": 608,
     "metadata": {},
     "output_type": "execute_result"
    }
   ],
   "source": [
    "Winston"
   ]
  },
  {
   "cell_type": "code",
   "execution_count": 634,
   "metadata": {},
   "outputs": [
    {
     "data": {
      "text/plain": [
       "(3.33, 0.02332611721028046)"
      ]
     },
     "execution_count": 634,
     "metadata": {},
     "output_type": "execute_result"
    }
   ],
   "source": [
    "parametros"
   ]
  },
  {
   "cell_type": "code",
   "execution_count": 641,
   "metadata": {},
   "outputs": [
    {
     "data": {
      "text/plain": [
       "(0.4006852836496287, 2.601072732136408)"
      ]
     },
     "execution_count": 641,
     "metadata": {},
     "output_type": "execute_result"
    }
   ],
   "source": [
    "Sigma1,u1"
   ]
  },
  {
   "cell_type": "code",
   "execution_count": null,
   "metadata": {},
   "outputs": [],
   "source": [
    "df2.iloc[[3185]]"
   ]
  },
  {
   "cell_type": "code",
   "execution_count": 111,
   "metadata": {},
   "outputs": [
    {
     "ename": "ValueError",
     "evalue": "The 'color' keyword argument must have one color per dataset, but 3 datasets and 1 colors were provided",
     "output_type": "error",
     "traceback": [
      "\u001b[1;31m---------------------------------------------------------------------------\u001b[0m",
      "\u001b[1;31mValueError\u001b[0m                                Traceback (most recent call last)",
      "\u001b[1;32m<ipython-input-111-a2e61731b18d>\u001b[0m in \u001b[0;36m<module>\u001b[1;34m\u001b[0m\n\u001b[0;32m     23\u001b[0m \u001b[0mfig\u001b[0m\u001b[1;33m,\u001b[0m \u001b[0max\u001b[0m \u001b[1;33m=\u001b[0m \u001b[0mplt\u001b[0m\u001b[1;33m.\u001b[0m\u001b[0msubplots\u001b[0m\u001b[1;33m(\u001b[0m\u001b[0mfigsize\u001b[0m\u001b[1;33m=\u001b[0m\u001b[1;33m(\u001b[0m\u001b[1;36m7\u001b[0m\u001b[1;33m,\u001b[0m\u001b[1;36m4\u001b[0m\u001b[1;33m)\u001b[0m\u001b[1;33m)\u001b[0m\u001b[1;33m\u001b[0m\u001b[1;33m\u001b[0m\u001b[0m\n\u001b[0;32m     24\u001b[0m \u001b[0max\u001b[0m\u001b[1;33m.\u001b[0m\u001b[0mplot\u001b[0m\u001b[1;33m(\u001b[0m\u001b[0mx_hat\u001b[0m\u001b[1;33m,\u001b[0m \u001b[0my_hat\u001b[0m\u001b[1;33m,\u001b[0m \u001b[0mlinewidth\u001b[0m\u001b[1;33m=\u001b[0m\u001b[1;36m2\u001b[0m\u001b[1;33m,\u001b[0m \u001b[0mlabel\u001b[0m\u001b[1;33m=\u001b[0m\u001b[0mdistribucion\u001b[0m\u001b[1;33m.\u001b[0m\u001b[0mname\u001b[0m\u001b[1;33m)\u001b[0m\u001b[1;33m\u001b[0m\u001b[1;33m\u001b[0m\u001b[0m\n\u001b[1;32m---> 25\u001b[1;33m \u001b[0max\u001b[0m\u001b[1;33m.\u001b[0m\u001b[0mhist\u001b[0m\u001b[1;33m(\u001b[0m\u001b[0mx\u001b[0m\u001b[1;33m=\u001b[0m\u001b[0mdata\u001b[0m\u001b[1;33m,\u001b[0m \u001b[0mdensity\u001b[0m\u001b[1;33m=\u001b[0m\u001b[1;32mTrue\u001b[0m\u001b[1;33m,\u001b[0m \u001b[0mbins\u001b[0m\u001b[1;33m=\u001b[0m\u001b[1;36m100\u001b[0m\u001b[1;33m,\u001b[0m \u001b[0mcolor\u001b[0m\u001b[1;33m=\u001b[0m\u001b[1;34m'b'\u001b[0m\u001b[1;33m,\u001b[0m \u001b[0malpha\u001b[0m\u001b[1;33m=\u001b[0m\u001b[1;36m0.5\u001b[0m\u001b[1;33m)\u001b[0m\u001b[1;33m\u001b[0m\u001b[1;33m\u001b[0m\u001b[0m\n\u001b[0m\u001b[0;32m     26\u001b[0m \u001b[0max\u001b[0m\u001b[1;33m.\u001b[0m\u001b[0mplot\u001b[0m\u001b[1;33m(\u001b[0m\u001b[0mdata\u001b[0m\u001b[1;33m,\u001b[0m \u001b[0mnp\u001b[0m\u001b[1;33m.\u001b[0m\u001b[0mfull_like\u001b[0m\u001b[1;33m(\u001b[0m\u001b[0mdata\u001b[0m\u001b[1;33m,\u001b[0m \u001b[1;33m-\u001b[0m\u001b[1;36m0.01\u001b[0m\u001b[1;33m)\u001b[0m\u001b[1;33m,\u001b[0m \u001b[1;34m'|k'\u001b[0m\u001b[1;33m,\u001b[0m \u001b[0mmarkeredgewidth\u001b[0m\u001b[1;33m=\u001b[0m\u001b[1;36m1\u001b[0m\u001b[1;33m)\u001b[0m\u001b[1;33m\u001b[0m\u001b[1;33m\u001b[0m\u001b[0m\n\u001b[0;32m     27\u001b[0m \u001b[0mplt\u001b[0m\u001b[1;33m.\u001b[0m\u001b[0mxlim\u001b[0m\u001b[1;33m(\u001b[0m\u001b[1;36m3.3\u001b[0m\u001b[1;33m,\u001b[0m\u001b[1;36m3.36\u001b[0m\u001b[1;33m)\u001b[0m\u001b[1;33m\u001b[0m\u001b[1;33m\u001b[0m\u001b[0m\n",
      "\u001b[1;32m~\\AppData\\Roaming\\Python\\Python39\\site-packages\\matplotlib\\__init__.py\u001b[0m in \u001b[0;36minner\u001b[1;34m(ax, data, *args, **kwargs)\u001b[0m\n\u001b[0;32m   1421\u001b[0m     \u001b[1;32mdef\u001b[0m \u001b[0minner\u001b[0m\u001b[1;33m(\u001b[0m\u001b[0max\u001b[0m\u001b[1;33m,\u001b[0m \u001b[1;33m*\u001b[0m\u001b[0margs\u001b[0m\u001b[1;33m,\u001b[0m \u001b[0mdata\u001b[0m\u001b[1;33m=\u001b[0m\u001b[1;32mNone\u001b[0m\u001b[1;33m,\u001b[0m \u001b[1;33m**\u001b[0m\u001b[0mkwargs\u001b[0m\u001b[1;33m)\u001b[0m\u001b[1;33m:\u001b[0m\u001b[1;33m\u001b[0m\u001b[1;33m\u001b[0m\u001b[0m\n\u001b[0;32m   1422\u001b[0m         \u001b[1;32mif\u001b[0m \u001b[0mdata\u001b[0m \u001b[1;32mis\u001b[0m \u001b[1;32mNone\u001b[0m\u001b[1;33m:\u001b[0m\u001b[1;33m\u001b[0m\u001b[1;33m\u001b[0m\u001b[0m\n\u001b[1;32m-> 1423\u001b[1;33m             \u001b[1;32mreturn\u001b[0m \u001b[0mfunc\u001b[0m\u001b[1;33m(\u001b[0m\u001b[0max\u001b[0m\u001b[1;33m,\u001b[0m \u001b[1;33m*\u001b[0m\u001b[0mmap\u001b[0m\u001b[1;33m(\u001b[0m\u001b[0msanitize_sequence\u001b[0m\u001b[1;33m,\u001b[0m \u001b[0margs\u001b[0m\u001b[1;33m)\u001b[0m\u001b[1;33m,\u001b[0m \u001b[1;33m**\u001b[0m\u001b[0mkwargs\u001b[0m\u001b[1;33m)\u001b[0m\u001b[1;33m\u001b[0m\u001b[1;33m\u001b[0m\u001b[0m\n\u001b[0m\u001b[0;32m   1424\u001b[0m \u001b[1;33m\u001b[0m\u001b[0m\n\u001b[0;32m   1425\u001b[0m         \u001b[0mbound\u001b[0m \u001b[1;33m=\u001b[0m \u001b[0mnew_sig\u001b[0m\u001b[1;33m.\u001b[0m\u001b[0mbind\u001b[0m\u001b[1;33m(\u001b[0m\u001b[0max\u001b[0m\u001b[1;33m,\u001b[0m \u001b[1;33m*\u001b[0m\u001b[0margs\u001b[0m\u001b[1;33m,\u001b[0m \u001b[1;33m**\u001b[0m\u001b[0mkwargs\u001b[0m\u001b[1;33m)\u001b[0m\u001b[1;33m\u001b[0m\u001b[1;33m\u001b[0m\u001b[0m\n",
      "\u001b[1;32m~\\AppData\\Roaming\\Python\\Python39\\site-packages\\matplotlib\\axes\\_axes.py\u001b[0m in \u001b[0;36mhist\u001b[1;34m(self, x, bins, range, density, weights, cumulative, bottom, histtype, align, orientation, rwidth, log, color, label, stacked, **kwargs)\u001b[0m\n\u001b[0;32m   6659\u001b[0m             \u001b[0mcolor\u001b[0m \u001b[1;33m=\u001b[0m \u001b[0mmcolors\u001b[0m\u001b[1;33m.\u001b[0m\u001b[0mto_rgba_array\u001b[0m\u001b[1;33m(\u001b[0m\u001b[0mcolor\u001b[0m\u001b[1;33m)\u001b[0m\u001b[1;33m\u001b[0m\u001b[1;33m\u001b[0m\u001b[0m\n\u001b[0;32m   6660\u001b[0m             \u001b[1;32mif\u001b[0m \u001b[0mlen\u001b[0m\u001b[1;33m(\u001b[0m\u001b[0mcolor\u001b[0m\u001b[1;33m)\u001b[0m \u001b[1;33m!=\u001b[0m \u001b[0mnx\u001b[0m\u001b[1;33m:\u001b[0m\u001b[1;33m\u001b[0m\u001b[1;33m\u001b[0m\u001b[0m\n\u001b[1;32m-> 6661\u001b[1;33m                 raise ValueError(f\"The 'color' keyword argument must have one \"\n\u001b[0m\u001b[0;32m   6662\u001b[0m                                  \u001b[1;34mf\"color per dataset, but {nx} datasets and \"\u001b[0m\u001b[1;33m\u001b[0m\u001b[1;33m\u001b[0m\u001b[0m\n\u001b[0;32m   6663\u001b[0m                                  f\"{len(color)} colors were provided\")\n",
      "\u001b[1;31mValueError\u001b[0m: The 'color' keyword argument must have one color per dataset, but 3 datasets and 1 colors were provided"
     ]
    },
    {
     "data": {
      "image/png": "[encoded data removed]",
      "text/plain": [
       "<Figure size 504x288 with 1 Axes>"
      ]
     },
     "metadata": {},
     "output_type": "display_data"
    }
   ],
   "source": [
    "import inspect\n",
    "# 1) Se define el tipo de distribución\n",
    "distribucion = stats.norm\n",
    "\n",
    "# 2) Con el método fit() se obtienen los parámetros\n",
    "parametros = distribucion.fit(data=data)\n",
    "#parametros = (2.601072732136408, 0.4006852836496287)\n",
    "# 3) Se crea un diccionario que incluya el nombre de cada parámetro\n",
    "nombre_parametros = [p for p in inspect.signature(distribucion._pdf).parameters \\\n",
    "                     if not p=='x'] + [\"loc\",\"scale\"]\n",
    "parametros_dict = dict(zip(nombre_parametros, parametros))\n",
    "\n",
    "# 3) Se calcula el log likelihood\n",
    "log_likelihood = distribucion.logpdf(data, *parametros).sum()\n",
    "\n",
    "# 4) Se calcula el AIC y el BIC\n",
    "aic = -2 * log_likelihood + 2 * len(parametros)\n",
    "bic = -2 * log_likelihood + np.log(data.shape[0]) * len(parametros)\n",
    "\n",
    "# 5) Gráfico\n",
    "x_hat = np.linspace(3.2, 3.4, num=100)\n",
    "y_hat = distribucion.pdf(x_hat, *parametros)\n",
    "fig, ax = plt.subplots(figsize=(7,4))\n",
    "ax.plot(x_hat, y_hat, linewidth=2, label=distribucion.name)\n",
    "ax.hist(x=data, density=True, bins=100, color='b', alpha=0.5)\n",
    "ax.plot(data, np.full_like(data, -0.01), '|k', markeredgewidth=1)\n",
    "plt.xlim(3.3,3.36)\n",
    "ax.set_title('Distribución precio diamantes')\n",
    "ax.set_xlabel('precio')\n",
    "ax.set_ylabel('Densidad de probabilidad')\n",
    "ax.legend();\n",
    "print(parametros)"
   ]
  }
 ],
 "metadata": {
  "kernelspec": {
   "display_name": "Python 3.9.4 64-bit",
   "language": "python",
   "name": "python3"
  },
  "language_info": {
   "codemirror_mode": {
    "name": "ipython",
    "version": 3
   },
   "file_extension": ".py",
   "mimetype": "text/x-python",
   "name": "python",
   "nbconvert_exporter": "python",
   "pygments_lexer": "ipython3",
   "version": "3.9.6"
  },
  "orig_nbformat": 4,
  "vscode": {
   "interpreter": {
    "hash": "a385336d18fffc452249d5ed1b3a8ee7ae7a2a41ca71dc9964cc654059f8c064"
   }
  }
 },
 "nbformat": 4,
 "nbformat_minor": 2
}

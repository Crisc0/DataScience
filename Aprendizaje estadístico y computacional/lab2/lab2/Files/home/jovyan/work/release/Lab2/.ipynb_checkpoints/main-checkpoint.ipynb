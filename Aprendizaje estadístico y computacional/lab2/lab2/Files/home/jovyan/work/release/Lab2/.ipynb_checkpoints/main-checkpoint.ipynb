{
 "cells": [
  {
   "cell_type": "markdown",
   "id": "f07918f7",
   "metadata": {
    "deletable": false,
    "editable": false,
    "nbgrader": {
     "cell_type": "markdown",
     "checksum": "20007d81e1c092ffa089ef82dbcb0322",
     "grade": false,
     "grade_id": "cell-7c1cd39fa71a83ff",
     "locked": true,
     "schema_version": 3,
     "solution": false,
     "task": false
    }
   },
   "source": [
    "# Lab 2: Comparación de modelos\n",
    "\n",
    "## ¡Bienvenido/a!\n",
    "\n",
    "Te invitamos a realizar el primer trabajo.\n",
    "- Objetivo: comparar modelos de regresión y clasificación en Python.\n",
    "- Tipo de actividad: Individual\n",
    "- Tipo de evaluación: Sumativa \n",
    "- Ponderación: 12%\n",
    "- Puntaje: 100 puntos\n",
    "- Calificación: Escala de 1 a 7, con una exigencia de 50%. La nota mínima para aprobar es 4.0.\n",
    "\n",
    "### Objetivo\n",
    "\n",
    "El propósito de esta tarea es profundizar en los conceptos de validación cruzada en los contextos de regresión y clasificación. Asimismo, se pretende que el estudiante comprenda la relevancia de la selección y comparación de modelos en la resolución de problemas de aprendizaje automático.\n",
    "\n",
    "En el caso del problema de la regresión, se llevará a cabo una comparación entre la regresión lineal, el k-NN y los árboles de regresión. Para el problema de clasificación, se realizará una comparación entre la regresión logística, el k-NN y los árboles de clasificación."
   ]
  },
  {
   "cell_type": "code",
   "execution_count": null,
   "id": "04905150",
   "metadata": {
    "deletable": false,
    "editable": false,
    "nbgrader": {
     "cell_type": "code",
     "checksum": "406b254efb8f5b084ad64538f0d7fa82",
     "grade": false,
     "grade_id": "cell-db4e1308710c1c09",
     "locked": true,
     "schema_version": 3,
     "solution": false,
     "task": false
    }
   },
   "outputs": [],
   "source": [
    "# Módulos básicos para análisis y manipulación de datos\n",
    "import numpy as np\n",
    "import pandas as pd\n",
    "\n",
    "# Modelos de regresión y clasificación\n",
    "import statsmodels.api as sm\n",
    "from sklearn.linear_model import LinearRegression\n",
    "from sklearn.linear_model import LogisticRegression\n",
    "from sklearn.neighbors import KNeighborsRegressor\n",
    "from sklearn.neighbors import KNeighborsClassifier\n",
    "from sklearn.tree import DecisionTreeRegressor\n",
    "from sklearn.tree import DecisionTreeClassifier\n",
    "\n",
    "# Preprocesamiento de datos\n",
    "from sklearn.preprocessing import MinMaxScaler\n",
    "\n",
    "# Módulos para evaluación de modelos\n",
    "from sklearn.model_selection import cross_val_score\n",
    "from sklearn.model_selection import train_test_split\n",
    "from sklearn import metrics\n",
    "\n",
    "# Bases de datos del Lab\n",
    "import faraway.datasets.ozone as ozone\n",
    "import faraway.datasets.prostate as prostate "
   ]
  },
  {
   "cell_type": "markdown",
   "id": "d9c1ae44",
   "metadata": {
    "deletable": false,
    "editable": false,
    "nbgrader": {
     "cell_type": "markdown",
     "checksum": "dc098b8d0d129fcfa261ce0bc03704ae",
     "grade": false,
     "grade_id": "cell-2cf31be990a1fc38",
     "locked": true,
     "schema_version": 3,
     "solution": false,
     "task": false
    }
   },
   "source": [
    "# Problema 1\n",
    "\n",
    "Responda a las siguientes preguntas utilizando el conjunto de datos ozone. Considere $O^3$ como variable respuesta, mientras que las demás variables serán consideradas como variables explicativas"
   ]
  },
  {
   "cell_type": "code",
   "execution_count": null,
   "id": "30857f75",
   "metadata": {
    "deletable": false,
    "editable": false,
    "nbgrader": {
     "cell_type": "code",
     "checksum": "f4c7e4c725a3bcc41fb633b07a3fdf68",
     "grade": false,
     "grade_id": "cell-1bd6e03c3fa5066e",
     "locked": true,
     "schema_version": 3,
     "solution": false,
     "task": false
    }
   },
   "outputs": [],
   "source": [
    "ozone_data = ozone.load()  # El objeto data contiene los datos para el problema 1"
   ]
  },
  {
   "cell_type": "markdown",
   "id": "4dc6502a",
   "metadata": {
    "deletable": false,
    "editable": false,
    "nbgrader": {
     "cell_type": "markdown",
     "checksum": "47dfbd534029306e85de8374516411dd",
     "grade": false,
     "grade_id": "cell-38b836e8a75db128",
     "locked": true,
     "schema_version": 3,
     "solution": false,
     "task": false
    }
   },
   "source": [
    "1.1 - Realizar una descomposición aleatoria de la base de datos con la proporción 70%-30% para train y test, respectivamente. Utilice el número 111 como semilla de aleatorización.\n",
    "\n",
    "Guardar la información en los siguientes objetos:\n",
    "- `train`: partición de entrenamiento    (incluyendo todas las variables).\n",
    "- `test`: partición para la validacíon   (incluyendo todas las variables).\n",
    "\n",
    "Recuerde respetar la semilla de aleatorización, la proporción de la partición y el nombre de los objetos. Además, utilice `train_test_split(ozone_data, ...)` para obtener de inmediato las particiones de entrenamiento y validación con todas las variables."
   ]
  },
  {
   "cell_type": "code",
   "execution_count": null,
   "id": "2e04cd11",
   "metadata": {
    "deletable": false,
    "nbgrader": {
     "cell_type": "code",
     "checksum": "24bb494e8d3a7432c843da5473acf56f",
     "grade": false,
     "grade_id": "cell-95cf6303e4a311d8",
     "locked": false,
     "schema_version": 3,
     "solution": true,
     "task": false
    }
   },
   "outputs": [],
   "source": [
    "train = None      # Variable que debe modificar\n",
    "test = None       # Variable que debe modificar\n",
    "\n",
    "# your code here\n",
    "raise NotImplementedError"
   ]
  },
  {
   "cell_type": "code",
   "execution_count": null,
   "id": "587dc96d",
   "metadata": {
    "deletable": false,
    "editable": false,
    "nbgrader": {
     "cell_type": "code",
     "checksum": "27f4c97bbb17271fc087ebbb3f7cb875",
     "grade": true,
     "grade_id": "cell-f077d430d2ca7567",
     "locked": true,
     "points": 2,
     "schema_version": 3,
     "solution": false,
     "task": false
    }
   },
   "outputs": [],
   "source": [
    "# Test 1 - P 1.1"
   ]
  },
  {
   "cell_type": "code",
   "execution_count": null,
   "id": "9fcab63f",
   "metadata": {
    "deletable": false,
    "editable": false,
    "nbgrader": {
     "cell_type": "code",
     "checksum": "403bad245fccf3a83eee18a4303f8cb7",
     "grade": true,
     "grade_id": "cell-40aa496cf49d47c7",
     "locked": true,
     "points": 2,
     "schema_version": 3,
     "solution": false,
     "task": false
    }
   },
   "outputs": [],
   "source": [
    "# Test 2 - P 1.1"
   ]
  },
  {
   "cell_type": "markdown",
   "id": "afe786df",
   "metadata": {
    "deletable": false,
    "editable": false,
    "nbgrader": {
     "cell_type": "markdown",
     "checksum": "2112b2056a498bc01990ee8d05807691",
     "grade": false,
     "grade_id": "cell-daf8a4064b8aa377",
     "locked": true,
     "schema_version": 3,
     "solution": false,
     "task": false
    }
   },
   "source": [
    "1.2 - Utilizando la partición de entrenamiento, ajuste los siguientes modelos:\n",
    "- Regresión lineal múltiple con intercepto.\n",
    "- k-NN con $k=10$ (`n_neighbors=10`) y utilizando como métrica la distancia euclidiana (`metric='euclidean'`). Para este modelo, además, estandarizar las variables utilizando el método min-max (`MinMaxScaler()`).\n",
    "- Árbol de regresión con profundidad máxima de 4 (`max_depth=4`) y número mínimo para realizar una partición en 20 (`min_samples_split=20`). Además, utilice la semilla de aleatorización 123 (`random_state=123`).\n",
    "\n",
    "Luego de ajustar los modelos, calcule el error cuadrático medio (MSE) de cada uno de ellos sobre la partición de entrenamiento, el cual \n",
    "representará que tan bien se ajusta el modelo a los datos de entrenamiento, y el error cuadrático medio sobre la partición de validación, el cual representará la capacidad de predicción y generalización del modelo.\n",
    "\n",
    "Recuerde que el MSE se calcula como:\n",
    "$$\n",
    "MSE = \\frac{1}{n}\\sum_{i=1}^n (y_i - \\hat{y}_i)^2\n",
    "$$\n",
    "donde $y_i$ es el valor real de la variable respuesta y $\\hat{y}_i$ es el valor predicho por el modelo.\n",
    "\n",
    "Para esta pregunta, se espera que usted entregue dos vectores de largo 3, uno para el MSE de entrenamiento y otro para el MSE de validación. El primer elemento de cada vector corresponde al MSE de la regresión lineal, el segundo elemento corresponde al MSE del k-NN y el tercer elemento corresponde al MSE del árbol de regresión. \n",
    "\n",
    "Los nombres de los vectores deben ser `mse_train` y `mse_test`, respectivamente."
   ]
  },
  {
   "cell_type": "code",
   "execution_count": null,
   "id": "880d2465",
   "metadata": {
    "deletable": false,
    "nbgrader": {
     "cell_type": "code",
     "checksum": "51353f3ad734858e4b9c466583ba3e31",
     "grade": false,
     "grade_id": "cell-f604f613acad37d5",
     "locked": false,
     "schema_version": 3,
     "solution": true,
     "task": false
    }
   },
   "outputs": [],
   "source": [
    "mse_train = None       # Variable que debe modificar\n",
    "mse_test = None        # Variable que debe modificar\n",
    "\n",
    "# your code here\n",
    "raise NotImplementedError"
   ]
  },
  {
   "cell_type": "code",
   "execution_count": null,
   "id": "ed58c300",
   "metadata": {
    "deletable": false,
    "editable": false,
    "nbgrader": {
     "cell_type": "code",
     "checksum": "54d236130e31d6f9aae127c5b27226b9",
     "grade": true,
     "grade_id": "cell-8c9d78e481bc631e",
     "locked": true,
     "points": 5,
     "schema_version": 3,
     "solution": false,
     "task": false
    }
   },
   "outputs": [],
   "source": [
    "# Test 1 - P 1.2"
   ]
  },
  {
   "cell_type": "code",
   "execution_count": null,
   "id": "0d18fcb4",
   "metadata": {
    "deletable": false,
    "editable": false,
    "nbgrader": {
     "cell_type": "code",
     "checksum": "042c8b7e224e869856efeca554ecd75b",
     "grade": true,
     "grade_id": "cell-4154df26ff3c3036",
     "locked": true,
     "points": 5,
     "schema_version": 3,
     "solution": false,
     "task": false
    }
   },
   "outputs": [],
   "source": [
    "# Test 2 - P 1.2"
   ]
  },
  {
   "cell_type": "markdown",
   "id": "d7c47702",
   "metadata": {
    "deletable": false,
    "editable": false,
    "nbgrader": {
     "cell_type": "markdown",
     "checksum": "f6373d82639710969de29c79ea61b996",
     "grade": false,
     "grade_id": "cell-2c72de4160a5765d",
     "locked": true,
     "schema_version": 3,
     "solution": false,
     "task": false
    }
   },
   "source": [
    "1.3 - Con los resultados obtenidos en la pregunta anterior: ¿qué modelo debería elegir?. Base su respuesta en el error cuadrático medio tanto para la partición de entrenamiento como de validación.\n",
    "\n",
    "Para responder esta pregunta, debe entregar un string con el nombre `best_model_train` para la elección utilizando la muestra de entrenamiento y otro con el nombre `best_model_test` para la elección con la muestra de validación, estos string deben contener el nombre del modelo elegido. \n",
    "\n",
    "Los nombres de los modelos en el string pueden ser los siguientes: \"LM\", \"k-NN\" y \"DTree\" para la regresión lineal, k-NN y árbol de regresión, respectivamente. Por ejemplo, si el modelo elegido es la regresión lineal, entonces debe entregar el string \"LM\".\n",
    "\n",
    "Además, responda, en el string `Interpretacion` una de las siguientes alternativas:\n",
    "- \"Como los modelos difieren se prefiere utilizar el modelo escogido con la muestra de validación ya que tiene menos posibilidad de caer en un sobreajuste.\"\n",
    "- \"Como los modelos difieren se prefiere utilizar el modelo escogido con la muestra de entrenamiento ya que se ajusta mejor a los datos.\"\n",
    "- \"En ambos casos se escoge el mismo modelo.\""
   ]
  },
  {
   "cell_type": "code",
   "execution_count": null,
   "id": "488a27d6",
   "metadata": {
    "deletable": false,
    "nbgrader": {
     "cell_type": "code",
     "checksum": "f69fc1a14a11314e65e51f2ecbb3e90b",
     "grade": false,
     "grade_id": "cell-cee28a858712e640",
     "locked": false,
     "schema_version": 3,
     "solution": true,
     "task": false
    }
   },
   "outputs": [],
   "source": [
    "best_model_train = None      # Variable que debe modificar\n",
    "best_model_test = None       # Variable que debe modificar\n",
    "Interpretacion = None        # Variable que debe modificar\n",
    "\n",
    "# your code here\n",
    "raise NotImplementedError"
   ]
  },
  {
   "cell_type": "code",
   "execution_count": null,
   "id": "cff041bf",
   "metadata": {
    "deletable": false,
    "editable": false,
    "nbgrader": {
     "cell_type": "code",
     "checksum": "58941f7dec199fbbc1d5ac14bdf84b23",
     "grade": true,
     "grade_id": "cell-54672bda389fb6e9",
     "locked": true,
     "points": 2,
     "schema_version": 3,
     "solution": false,
     "task": false
    }
   },
   "outputs": [],
   "source": [
    "# Test 1 - P 1.3"
   ]
  },
  {
   "cell_type": "code",
   "execution_count": null,
   "id": "7729f260",
   "metadata": {
    "deletable": false,
    "editable": false,
    "nbgrader": {
     "cell_type": "code",
     "checksum": "a6bb4c07d2afafc7ac2f5a1ec2853687",
     "grade": true,
     "grade_id": "cell-628aeb414694d4aa",
     "locked": true,
     "points": 2,
     "schema_version": 3,
     "solution": false,
     "task": false
    }
   },
   "outputs": [],
   "source": [
    "# Test 2 - P 1.3"
   ]
  },
  {
   "cell_type": "code",
   "execution_count": null,
   "id": "ab9f3a96",
   "metadata": {
    "deletable": false,
    "editable": false,
    "nbgrader": {
     "cell_type": "code",
     "checksum": "83c96bddb28998ee80c65e825f08e399",
     "grade": true,
     "grade_id": "cell-1cf864a15a72503f",
     "locked": true,
     "points": 2,
     "schema_version": 3,
     "solution": false,
     "task": false
    }
   },
   "outputs": [],
   "source": [
    "# Test 3 - P 1.3"
   ]
  },
  {
   "cell_type": "markdown",
   "id": "3a0bc40d",
   "metadata": {
    "deletable": false,
    "editable": false,
    "nbgrader": {
     "cell_type": "markdown",
     "checksum": "12222912f2d9dd4443312470c1a7d358",
     "grade": false,
     "grade_id": "cell-1d95ca74b73ed23d",
     "locked": true,
     "schema_version": 3,
     "solution": false,
     "task": false
    }
   },
   "source": [
    "1.4 - Utilizando la partición de entrenamiento, realice una validación cruzada k-fold con $k=5$ para cada uno de los modelos de la pregunta anterior. Utilice el MSE como métrica de desempeño. Debe reportar el error cuadrático medio promedio y la desviación estándar del error cuadrático medio para cada modelo. Utilice la función `cross_val_score` para realizar la validación cruzada k-fold.\n",
    "\n",
    "Se espera que usted entregue dos vectores de largo 3, uno para el MSE promedio y otro para la desviación estándar del MSE. El primer elemento de cada vector corresponde al MSE de la regresión lineal, el segundo elemento corresponde al MSE del k-NN y el tercer elemento corresponde al MSE del árbol de decisión.\n",
    "\n",
    "El nombre de los vectores deben ser `mse_cv_mean` y `mse_cv_std`, respectivamente.\n",
    "\n",
    "La desviación estándar del MSE será utilizada para determinar la variabilidad del error de predicción del modelo. Por lo tanto, un modelo con menor desviación estándar del MSE será preferible. Esta medida de variabilidad es importante, ya que nos permite determinar si el modelo es robusto o no. Ya que si el modelo es robusto, entonces el error de predicción no variará mucho al cambiar la partición de entrenamiento. En caso contrario, cuando los modelos están sobreajustados, el error de predicción variará mucho al cambiar la partición de entrenamiento.\n",
    "\n",
    "\n",
    "**Observación**: En el caso del k-vecino más cercano \"k-NN\" determine mediante la validación cruzada el número de vecinos óptimos utilizado el MSE como medida de error y como métrica la distancia \"euclidiana\" de las variables de entrada estandarizadas por MinMax. Guarde el número de vecinos en `K` donde la búsqueda del óptimo se realiza en la grilla de 1 a 15, es decir, K debe ser un valor entero entre 1 y 15.\n",
    "\n",
    "Para los otros métodos debe utilizar los mismos parámetros de la pregunta anterior, es decir, la profundidad máxima del árbol debe ser 4 y el número mínimo para realizar una partición debe ser 20. Además, debe utilizar la semilla de aleatorización 123 como parámetro del modelo de árbol de regresión (`random_state=123`)."
   ]
  },
  {
   "cell_type": "code",
   "execution_count": null,
   "id": "c8aa9613",
   "metadata": {
    "deletable": false,
    "nbgrader": {
     "cell_type": "code",
     "checksum": "16038546031c9820d381914e9d6f0fe4",
     "grade": false,
     "grade_id": "cell-3a8a2a0ef656b819",
     "locked": false,
     "schema_version": 3,
     "solution": true,
     "task": false
    }
   },
   "outputs": [],
   "source": [
    "mse_cv_mean = None       # Variable que debe modificar\n",
    "mse_cv_std = None        # Variable que debe modificar\n",
    "K = None                 # Variable que debe modificar\n",
    "\n",
    "# your code here\n",
    "raise NotImplementedError"
   ]
  },
  {
   "cell_type": "code",
   "execution_count": null,
   "id": "2bc6f316",
   "metadata": {
    "deletable": false,
    "editable": false,
    "nbgrader": {
     "cell_type": "code",
     "checksum": "9cf63e94ed9f20fd3a2e8d2c31190b1d",
     "grade": true,
     "grade_id": "cell-173d38c0b203ac98",
     "locked": true,
     "points": 5,
     "schema_version": 3,
     "solution": false,
     "task": false
    }
   },
   "outputs": [],
   "source": [
    "# Test 1 - P 1.4"
   ]
  },
  {
   "cell_type": "code",
   "execution_count": null,
   "id": "efa02085",
   "metadata": {
    "deletable": false,
    "editable": false,
    "nbgrader": {
     "cell_type": "code",
     "checksum": "5a595d677ceda8011fe91956adee5eb8",
     "grade": true,
     "grade_id": "cell-f1fd5c38416c53ec",
     "locked": true,
     "points": 5,
     "schema_version": 3,
     "solution": false,
     "task": false
    }
   },
   "outputs": [],
   "source": [
    "# Test 2 - P 1.4"
   ]
  },
  {
   "cell_type": "code",
   "execution_count": null,
   "id": "6fdc1a82",
   "metadata": {
    "deletable": false,
    "editable": false,
    "nbgrader": {
     "cell_type": "code",
     "checksum": "af72dac8294bdba17db72a115ba23a28",
     "grade": true,
     "grade_id": "cell-f7cdaf164743ed9d",
     "locked": true,
     "points": 5,
     "schema_version": 3,
     "solution": false,
     "task": false
    }
   },
   "outputs": [],
   "source": [
    "# Test 3 - P 1.4"
   ]
  },
  {
   "cell_type": "markdown",
   "id": "bd1b337b",
   "metadata": {
    "deletable": false,
    "editable": false,
    "nbgrader": {
     "cell_type": "markdown",
     "checksum": "41fc53f811d25b7d1a0ede358360d569",
     "grade": false,
     "grade_id": "cell-f0d84a49f24f9837",
     "locked": true,
     "schema_version": 3,
     "solution": false,
     "task": false
    }
   },
   "source": [
    "1.5 - Según los resultados obtenidos en la pregunta anterior, ¿qué modelo debería elegir?. Base su respuesta en el error cuadrático medio promedio de la validación cruzada. \n",
    "\n",
    "Además, para el modelo seleccionado cuantificar el error de generalización mediante el RMSE.\n",
    "\n",
    "Recuerde que el RMSE se calcula como:\n",
    "$$\n",
    "RMSE = \\sqrt{MSE}=\\sqrt{\\frac{1}{m}\\sum_{i=1}^{m}e_i^2},\\quad\\text{donde}\\quad e_i=y_i-\\hat{y}_i,~~i=1,\\dots,m.\n",
    "$$\n",
    "\n",
    "\n",
    "Para responder esta pregunta, debe entregar un string con el nombre `best_model_cv` que corresponda al nombre del modelo elegido, mientras que el error de generalización medido a través del RMSE debe quedar guardado en `best_rmse_test`. \n",
    "\n",
    "Los nombres de los modelos en el string deben ser los siguientes: \"LM\", \"k-NN\" y \"DTree\" para la regresión lineal, k-NN y árbol de regresión, respectivamente. "
   ]
  },
  {
   "cell_type": "code",
   "execution_count": null,
   "id": "db762750",
   "metadata": {
    "deletable": false,
    "nbgrader": {
     "cell_type": "code",
     "checksum": "f6daae05b72322378fee8af637a1384b",
     "grade": false,
     "grade_id": "cell-bf3caff976e1e1f3",
     "locked": false,
     "schema_version": 3,
     "solution": true,
     "task": false
    }
   },
   "outputs": [],
   "source": [
    "best_model_cv = None       # Variable que debe modificar\n",
    "best_rmse_test = None      # Variable que debe modificar\n",
    "\n",
    "# your code here\n",
    "raise NotImplementedError"
   ]
  },
  {
   "cell_type": "code",
   "execution_count": null,
   "id": "a72ed6ed",
   "metadata": {
    "deletable": false,
    "editable": false,
    "nbgrader": {
     "cell_type": "code",
     "checksum": "39a31af0bd83e6ae27cf894d447767c2",
     "grade": true,
     "grade_id": "cell-a2996881b5f9e7e4",
     "locked": true,
     "points": 3,
     "schema_version": 3,
     "solution": false,
     "task": false
    }
   },
   "outputs": [],
   "source": [
    "# Test 1 - P 1.5"
   ]
  },
  {
   "cell_type": "code",
   "execution_count": null,
   "id": "50a71c1e",
   "metadata": {
    "deletable": false,
    "editable": false,
    "nbgrader": {
     "cell_type": "code",
     "checksum": "677a1e74647f9c00f41915e5ed474cae",
     "grade": true,
     "grade_id": "cell-ddd1cb4eacda61d0",
     "locked": true,
     "points": 4,
     "schema_version": 3,
     "solution": false,
     "task": false
    }
   },
   "outputs": [],
   "source": [
    "# Test 2 - P 1.5"
   ]
  },
  {
   "cell_type": "markdown",
   "id": "32bfc70d",
   "metadata": {
    "deletable": false,
    "editable": false,
    "nbgrader": {
     "cell_type": "markdown",
     "checksum": "d682328defa65414044ee9d102eead3d",
     "grade": false,
     "grade_id": "cell-a8a2a02642921e63",
     "locked": true,
     "schema_version": 3,
     "solution": false,
     "task": false
    }
   },
   "source": [
    "1.6 - Con respecto al arbol de regresión, sería interesante determinar la importancia de las variables, es decir, que tan importante es cada variable en la predicción de la variable respuesta. Para ello, ajuste un árbol de regresión con profundidad máxima de 4 y número mínimo para realizar una partición en 20 (`max_depth=4`, `min_samples_split=20`) utilizando todas las variables explicativas. Luego, calcule la importancia de las variables utilizando el método `feature_importances_` del modelo ajustado. Finalmente, ordene las variables de mayor a menor importancia y seleccione las 5 variables más importantes. ¿Coinciden con las variables significativas del modelo de regresión lineal? (`p-value < 0.05`). Para responder esto último, debe ajustar un modelo de regresión lineal utilizando todas las variables explicativas (con intercepto) y luego calcular el p-value de cada variable del modelo ajustado.\n",
    "\n",
    "Para esta pregunta, se espera que usted entregue un vector de largo 5 con los nombres de las variables más importantes. El nombre del vector debe ser `top5` y \n",
    "debe estar ordenado de mayor a menor importancia. Además, debe entregar un vector booleano de largo 5 con los valores `True` y `False` que indiquen si la variable correspondiente al vector `top5` es significativa en el modelo de regresión lineal. El nombre del vector debe ser `top5_significance`.\n",
    "\n",
    "**Importante**: para esta pregunta, debe utilizar la semilla de aleatorización 123 como parámetro del modelo de árbol de regresión (`random_state=123`)."
   ]
  },
  {
   "cell_type": "code",
   "execution_count": null,
   "id": "caae2dd1",
   "metadata": {
    "deletable": false,
    "nbgrader": {
     "cell_type": "code",
     "checksum": "b80da4178d3c067795a283104a0f5f52",
     "grade": false,
     "grade_id": "cell-aaf1402fe6810a0e",
     "locked": false,
     "schema_version": 3,
     "solution": true,
     "task": false
    }
   },
   "outputs": [],
   "source": [
    "top5 = None                     # Variable que debe modificar\n",
    "top5_significance = None        # Variable que debe modificar\n",
    "\n",
    "# your code here\n",
    "raise NotImplementedError"
   ]
  },
  {
   "cell_type": "code",
   "execution_count": null,
   "id": "2c0e4514",
   "metadata": {
    "deletable": false,
    "editable": false,
    "nbgrader": {
     "cell_type": "code",
     "checksum": "02cbaaa1b735109eadf434755dfd9c73",
     "grade": true,
     "grade_id": "cell-b566f4a9394de81b",
     "locked": true,
     "points": 4,
     "schema_version": 3,
     "solution": false,
     "task": false
    }
   },
   "outputs": [],
   "source": [
    "# Test 1 - P 1.6"
   ]
  },
  {
   "cell_type": "code",
   "execution_count": null,
   "id": "db5a238a",
   "metadata": {
    "deletable": false,
    "editable": false,
    "nbgrader": {
     "cell_type": "code",
     "checksum": "80ae957f7f83ff4c6a724813e14da4b6",
     "grade": true,
     "grade_id": "cell-3379dc15412349e6",
     "locked": true,
     "points": 4,
     "schema_version": 3,
     "solution": false,
     "task": false
    }
   },
   "outputs": [],
   "source": [
    "# Test 2 - P 1.6"
   ]
  },
  {
   "cell_type": "markdown",
   "id": "329f7691",
   "metadata": {
    "deletable": false,
    "editable": false,
    "nbgrader": {
     "cell_type": "markdown",
     "checksum": "26a54fcb47b4343acd5bf5d29dd55243",
     "grade": false,
     "grade_id": "cell-8d7d65c5974a8789",
     "locked": true,
     "schema_version": 3,
     "solution": false,
     "task": false
    }
   },
   "source": [
    "# Problema 2\n",
    "\n",
    "Para esta segunda sección, se utilizará el conjunto de datos `prostate`. Este conjunto de datos contiene información sobre 97 pacientes con cáncer de próstata. Considere la variable respuesta como `svi` (seminal vesicle invasion). Esta variable indica si el cáncer se ha extendido a la vesícula seminal (1) o no (0). Las demás variables serán consideradas como variables explicativas. \n",
    "\n",
    "El objetivo es ajustar y comparar diferentes modelos de clasificación para predecir si el cáncer se ha extendido a la vesícula seminal o no. Para ello, se utilizarán los siguientes modelos:\n",
    "\n",
    "- Regresión logística.\n",
    "- k-NN.\n",
    "- Árbol de clasificación.\n",
    "\n",
    "Los datos se cargarán automáticamente en la siguiente celda, con el nombre `prostate_data`."
   ]
  },
  {
   "cell_type": "code",
   "execution_count": null,
   "id": "045f32e1",
   "metadata": {
    "deletable": false,
    "editable": false,
    "nbgrader": {
     "cell_type": "code",
     "checksum": "ef16d8fbafed93b353b500158fcc1b35",
     "grade": false,
     "grade_id": "cell-70419243dda3ff87",
     "locked": true,
     "schema_version": 3,
     "solution": false,
     "task": false
    }
   },
   "outputs": [],
   "source": [
    "prostate_data = prostate.load()  # cargamos los datos del problema 2"
   ]
  },
  {
   "cell_type": "markdown",
   "id": "a71938c3",
   "metadata": {
    "deletable": false,
    "editable": false,
    "nbgrader": {
     "cell_type": "markdown",
     "checksum": "8f50c4b24737e77f97c27f2788ae0aac",
     "grade": false,
     "grade_id": "cell-9230593945976578",
     "locked": true,
     "schema_version": 3,
     "solution": false,
     "task": false
    }
   },
   "source": [
    "2.1 - Realizar una descomposición aleatoria estratificada (por la variable respuesta) de la base de datos con la proporción 70%-30% para train y test, respectivamente. Utilice el número 12345 como semilla de aleatorización. Esta descomposición estratificada es necesaria para que la proporción de 1's y 0's sea la misma en ambas particiones. Utilice el argumento `stratify` para crear la partición estratificada.\n",
    "\n",
    "Guardar la información en los siguientes objetos:\n",
    "- `train2`: partición de entrenamiento    (incluyendo todas las variables).\n",
    "- `test2`: partición para la validacíon   (incluyendo todas las variables).\n",
    "\n",
    "Recuerde respetar la semilla de aleatorización, la proporción de la partición y el nombre de los objetos. Además, utilice `train_test_split(prostate_data, ...)` para obtener de inmediato las particiones de entrenamiento y validación con todas las variables."
   ]
  },
  {
   "cell_type": "code",
   "execution_count": null,
   "id": "fbff1a57",
   "metadata": {
    "deletable": false,
    "nbgrader": {
     "cell_type": "code",
     "checksum": "52a7c65f22cc9ade2c045ef1194fe801",
     "grade": false,
     "grade_id": "cell-a45e4631d2de6a0f",
     "locked": false,
     "schema_version": 3,
     "solution": true,
     "task": false
    }
   },
   "outputs": [],
   "source": [
    "train2 = None      # Variable que debe modificar\n",
    "test2 = None       # Variable que debe modificar\n",
    "\n",
    "# your code here\n",
    "raise NotImplementedError"
   ]
  },
  {
   "cell_type": "code",
   "execution_count": null,
   "id": "a261031c",
   "metadata": {
    "deletable": false,
    "editable": false,
    "nbgrader": {
     "cell_type": "code",
     "checksum": "b4915367c5c476f85f3f092652fdefdd",
     "grade": true,
     "grade_id": "cell-64ce414dc03a993f",
     "locked": true,
     "points": 2,
     "schema_version": 3,
     "solution": false,
     "task": false
    }
   },
   "outputs": [],
   "source": [
    "# Test 1 - P 2.1"
   ]
  },
  {
   "cell_type": "code",
   "execution_count": null,
   "id": "e72e1d00",
   "metadata": {
    "deletable": false,
    "editable": false,
    "nbgrader": {
     "cell_type": "code",
     "checksum": "e7d8b5ee833fb7392b0691fbe530d6a4",
     "grade": true,
     "grade_id": "cell-947b62ff6fc1149b",
     "locked": true,
     "points": 5,
     "schema_version": 3,
     "solution": false,
     "task": false
    }
   },
   "outputs": [],
   "source": [
    "# Test 2 - P 2.1"
   ]
  },
  {
   "cell_type": "markdown",
   "id": "8b7bd292",
   "metadata": {
    "deletable": false,
    "editable": false,
    "nbgrader": {
     "cell_type": "markdown",
     "checksum": "3d82ce92f67dff5ae9e3d6ffe590437c",
     "grade": false,
     "grade_id": "cell-54d65b7a16252e48",
     "locked": true,
     "schema_version": 3,
     "solution": false,
     "task": false
    }
   },
   "source": [
    "2.2 - Utilizando la partición de entrenamiento (`train2`), ajuste los siguientes modelos:\n",
    "- Regresión logística con intercepto (`fit_intercept=True`) y método de optimización `newton-cg` (`solver='newton-cg'`).\n",
    "- k-NN con $k=10$ (`n_neighbors=10`) y utilizando como métrica la distancia euclidiana (`metric='euclidean'`). Para este modelo, además, normalice las variables utilizando el método min-max (`MinMaxScaler()`).\n",
    "- Árbol de clasificación con profundidad máxima de 4 (`max_depth=4`) y número mínimo para realizar una partición en 10 (`min_samples_split=10`). Además, utilice como semilla de aleatorización el número 123 (`random_state=123`).\n",
    "\n",
    "Luego de ajustar los modelos, calcule la exactitud (`accuracy`), sensibilidad (`recall`), presición (`precision`) y el $F_1\\text{-}Score$ de cada uno de ellos sobre los datos de validación (`test2`).\n",
    "\n",
    "Para esta pregunta, se espera que usted entregue un `data frame` de 3 filas y 4 columnas. Las filas corresponden a los modelos y las columnas corresponden a las métricas. Los nombres de las filas deben ser `logit`, `knn` y `dtree`, respectivamente. Los nombres de las columnas deben ser `accuracy`, `recall`, `precision` y `f1_score`, respectivamente.\n",
    "\n",
    "El data frame debe llamarse `performance_metrics`.\n",
    "\n",
    "Nota: para la clasificación de las observaciones, se debe utilizar el umbral de 0.5. Es decir, si la probabilidad de que la observación pertenezca a la clase 1 es mayor o igual a 0.5, entonces se clasifica como 1. En caso contrario, se clasifica como 0."
   ]
  },
  {
   "cell_type": "code",
   "execution_count": null,
   "id": "d413c32c",
   "metadata": {
    "deletable": false,
    "nbgrader": {
     "cell_type": "code",
     "checksum": "cb829ec53a9dcf922bb229db4ec411ac",
     "grade": false,
     "grade_id": "cell-cac0f2ec407f047b",
     "locked": false,
     "schema_version": 3,
     "solution": true,
     "task": false
    }
   },
   "outputs": [],
   "source": [
    "performance_metrics = pd.DataFrame(columns=['accuracy', 'recall', 'precision', 'f1_score'], index=['logit', 'knn', 'dtree'])\n",
    "\n",
    "# your code here\n",
    "raise NotImplementedError"
   ]
  },
  {
   "cell_type": "code",
   "execution_count": null,
   "id": "9b7c8f1d",
   "metadata": {
    "deletable": false,
    "editable": false,
    "nbgrader": {
     "cell_type": "code",
     "checksum": "bd5467cff460d4434ba33da1a89c0040",
     "grade": true,
     "grade_id": "cell-cc7d6047c32216c6",
     "locked": true,
     "points": 2,
     "schema_version": 3,
     "solution": false,
     "task": false
    }
   },
   "outputs": [],
   "source": [
    "# Test 1 - P 2.2"
   ]
  },
  {
   "cell_type": "code",
   "execution_count": null,
   "id": "4b427d4d",
   "metadata": {
    "deletable": false,
    "editable": false,
    "nbgrader": {
     "cell_type": "code",
     "checksum": "ae449e951de7abf3cb90359584c2ab79",
     "grade": true,
     "grade_id": "cell-cd758dce70a3239d",
     "locked": true,
     "points": 12,
     "schema_version": 3,
     "solution": false,
     "task": false
    }
   },
   "outputs": [],
   "source": [
    "# Test 2 - P 2.2"
   ]
  },
  {
   "cell_type": "markdown",
   "id": "a26d3f20",
   "metadata": {
    "deletable": false,
    "editable": false,
    "nbgrader": {
     "cell_type": "markdown",
     "checksum": "587524de2de2394d4f4b192dcc263446",
     "grade": false,
     "grade_id": "cell-2a9023ed743dfc81",
     "locked": true,
     "schema_version": 3,
     "solution": false,
     "task": false
    }
   },
   "source": [
    "2.3 - En el contexto del problema anterior, la clasificación correcta de los pacientes en los cuales el cáncer se ha extendido a la vesícula seminal es más importante que la clasificación correcta de los pacientes en los cuales el cáncer no se ha extendido. Por lo tanto, es necesario ajustar los modelos de clasificación para que tengan un mejor desempeño en la clasificación de los pacientes en los cuales el cáncer se ha extendido a la vesícula seminal. Para ello, se utilizará la muestra de entrenamiento (`train2`) con la técnica de validación cruzada k-fold con $k=5$ para ajustar cada uno de los modelos de clasificación. Además, como es crucial detectar los casos positivos, se utilizará el $F_{\\beta}$-score con $\\beta=10$ como métrica de desempeño. De esta manera, se le dará más peso a la sensibilidad (`recall`). \n",
    "\n",
    "Se espera que usted entregue un `data frame` de 2 filas y 3 columnas. Las columnas corresponden a los modelos y las las filas corresponden a las métricas. Las métricas son el $F_{\\beta}$-score promedio y la desviación estándar del $F_{\\beta}$-score. Los nombres de las columnas deben ser `logit`, `knn` y `dtree`, respectivamente. Los nombres de las filas deben ser `f_score_mean` y `f_score_std`, respectivamente.\n",
    "\n",
    "El data frame debe llamarse `f_score`.\n",
    "\n",
    "**Nota**: utilizar la semilla de aleatorización 123 para el modelo de árbol de clasificación (`random_state=123`). Además, recordar utilizar `solver='newton-cg'` y `fit_intercept=True` para el modelo de regresión logística. Por último, utilizar `n_neighbors=10` y `metric='euclidean'` para el modelo de k-NN, y `max_depth=4` , `min_samples_split=10` para el modelo de árbol de clasificación.\n",
    "\n",
    "Utilice la función `cross_val_score` para realizar la validación cruzada k-fold y dentro de la opción de la función `metrics.fbeta_score` utilizar `zero_division=0`.\n"
   ]
  },
  {
   "cell_type": "code",
   "execution_count": null,
   "id": "d7c55e57",
   "metadata": {
    "deletable": false,
    "nbgrader": {
     "cell_type": "code",
     "checksum": "ce7c1851ca2f05987f47d48776968d54",
     "grade": false,
     "grade_id": "cell-e4467121c14a8ebf",
     "locked": false,
     "schema_version": 3,
     "solution": true,
     "task": false
    }
   },
   "outputs": [],
   "source": [
    "f_score = pd.DataFrame(columns=['logit', 'knn', 'dtree'], index=['f_score_mean', 'f_score_std'])\n",
    "\n",
    "# your code here\n",
    "raise NotImplementedError"
   ]
  },
  {
   "cell_type": "code",
   "execution_count": null,
   "id": "95ce8847",
   "metadata": {
    "deletable": false,
    "editable": false,
    "nbgrader": {
     "cell_type": "code",
     "checksum": "9333e09bafdb3bdf0694f1f1b32fd07d",
     "grade": true,
     "grade_id": "cell-86221deacbaabc89",
     "locked": true,
     "points": 2,
     "schema_version": 3,
     "solution": false,
     "task": false
    }
   },
   "outputs": [],
   "source": [
    "# Test 1 - P 2.3"
   ]
  },
  {
   "cell_type": "code",
   "execution_count": null,
   "id": "b10eab67",
   "metadata": {
    "deletable": false,
    "editable": false,
    "nbgrader": {
     "cell_type": "code",
     "checksum": "d8dc0bc28ba59945359f0bcd26a051c4",
     "grade": true,
     "grade_id": "cell-a2ead82617d70c0a",
     "locked": true,
     "points": 12,
     "schema_version": 3,
     "solution": false,
     "task": false
    }
   },
   "outputs": [],
   "source": [
    "# Test 2 - P 2.3"
   ]
  },
  {
   "cell_type": "markdown",
   "id": "f9b0fbf3",
   "metadata": {
    "deletable": false,
    "editable": false,
    "nbgrader": {
     "cell_type": "markdown",
     "checksum": "9688502d94776998a755447effead287",
     "grade": false,
     "grade_id": "cell-e0fa943a66567e89",
     "locked": true,
     "schema_version": 3,
     "solution": false,
     "task": false
    }
   },
   "source": [
    "2.4 - Según los resultados obtenidos en la pregunta anterior, ¿qué modelo debería elegir?. \n",
    "\n",
    "Además, medir el error de generalización del modelo escogido mediante el accuracy.\n",
    "\n",
    "Para responder esta pregunta, debe entregar un string con el nombre `best_model` que corresponda al nombre del modelo elegido, y un objeto con el nombre `best_accuracy` con el valor del accuracy como una medida de la generalización del modelo escogido. \n",
    "\n",
    "Los nombres de los modelos en el string pueden ser los\n",
    "siguientes: \"logit\", \"knn\" y \"dtree\" para la regresión logística, k-NN y árbol de clasificación, respectivamente."
   ]
  },
  {
   "cell_type": "code",
   "execution_count": null,
   "id": "109d4a08",
   "metadata": {
    "deletable": false,
    "nbgrader": {
     "cell_type": "code",
     "checksum": "a0023ccf2fc287c6d7860b54e6022c69",
     "grade": false,
     "grade_id": "cell-63624a56c8f7189c",
     "locked": false,
     "schema_version": 3,
     "solution": true,
     "task": false
    }
   },
   "outputs": [],
   "source": [
    "best_model = None          # Variable que debe modificar\n",
    "best_accuracy = None       # Variable que debe modificar\n",
    "\n",
    "# your code here\n",
    "raise NotImplementedError"
   ]
  },
  {
   "cell_type": "code",
   "execution_count": null,
   "id": "4d950670",
   "metadata": {
    "deletable": false,
    "editable": false,
    "nbgrader": {
     "cell_type": "code",
     "checksum": "f1ee27202ed7b9f955a9e5763bb29f7e",
     "grade": true,
     "grade_id": "cell-6c46243a0beb3855",
     "locked": true,
     "points": 5,
     "schema_version": 3,
     "solution": false,
     "task": false
    }
   },
   "outputs": [],
   "source": [
    "# Test 1 - P 2.4"
   ]
  },
  {
   "cell_type": "code",
   "execution_count": null,
   "id": "1d05a307",
   "metadata": {
    "deletable": false,
    "editable": false,
    "nbgrader": {
     "cell_type": "code",
     "checksum": "786a884f43dd1d128240048e857f3912",
     "grade": true,
     "grade_id": "cell-c3e90b16538bb336",
     "locked": true,
     "points": 10,
     "schema_version": 3,
     "solution": false,
     "task": false
    }
   },
   "outputs": [],
   "source": [
    "# Test 2 - P 2.4 "
   ]
  }
 ],
 "metadata": {
  "kernelspec": {
   "display_name": "Python 3 (ipykernel)",
   "language": "python",
   "name": "python3"
  },
  "language_info": {
   "codemirror_mode": {
    "name": "ipython",
    "version": 3
   },
   "file_extension": ".py",
   "mimetype": "text/x-python",
   "name": "python",
   "nbconvert_exporter": "python",
   "pygments_lexer": "ipython3",
   "version": "3.10.6"
  }
 },
 "nbformat": 4,
 "nbformat_minor": 5
}

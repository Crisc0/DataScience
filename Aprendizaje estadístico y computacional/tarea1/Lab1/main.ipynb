{
 "cells": [
  {
   "cell_type": "markdown",
   "id": "4941ed47",
   "metadata": {
    "deletable": false,
    "editable": false,
    "nbgrader": {
     "cell_type": "markdown",
     "checksum": "531ddcbf1b580f6371d1408bdb5100d4",
     "grade": false,
     "grade_id": "cell-390f6854db991958",
     "locked": true,
     "schema_version": 3,
     "solution": false,
     "task": false
    }
   },
   "source": [
    "# Lab 1: Métodos de Regresión\n",
    "\n",
    "## ¡Bienvenido/a!\n",
    "\n",
    "Te invitamos a realizar el primer trabajo.\n",
    "- Objetivo: implementar modelos de regresión lineal y logística en Python.\n",
    "- Tipo de actividad: Individual\n",
    "- Tipo de evaluación: Sumativa \n",
    "- Ponderación: 12%\n",
    "- Puntaje: 100 puntos\n",
    "- Calificación: Escala de 1 a 7, con una exigencia de 50%. La nota mínima para aprobar es 4.0.\n",
    "\n",
    "### Introducción\n",
    "\n",
    "Esta tarea tiene como propósito abordar y profundizar en los aspectos del modelo de regresión lineal y logística. Se enfoca en las técnicas de selección de variables que aplican a estos modelos y se dan los primeros pasos para comprender cómo este tipo de modelos nos permite predecir o clasificar nuevas observaciones, cuantificando de alguna manera el error o la calidad del ajuste.\n"
   ]
  },
  {
   "cell_type": "code",
   "execution_count": 3,
   "id": "cc5db591",
   "metadata": {
    "deletable": false,
    "editable": false,
    "nbgrader": {
     "cell_type": "code",
     "checksum": "355d299bc565edcebb72242f24a8f98c",
     "grade": false,
     "grade_id": "cell-b550ae6d9617b9fe",
     "locked": true,
     "schema_version": 3,
     "solution": false,
     "task": false
    }
   },
   "outputs": [],
   "source": [
    "# Packages y módulos que utilizaremos \n",
    "import numpy as np\n",
    "import pandas as pd\n",
    "from sklearn.linear_model import LinearRegression\n",
    "from sklearn.linear_model import LogisticRegression\n",
    "from sklearn.model_selection import train_test_split\n",
    "from sklearn import metrics\n",
    "import statsmodels.api as sm\n",
    "from statsmodels.stats.outliers_influence import variance_inflation_factor\n",
    "\n",
    "# Bases de datos del Lab\n",
    "import faraway.datasets.ozone as ozone\n",
    "import faraway.datasets.prostate as prostate "
   ]
  },
  {
   "cell_type": "markdown",
   "id": "24375f5d",
   "metadata": {
    "deletable": false,
    "editable": false,
    "nbgrader": {
     "cell_type": "markdown",
     "checksum": "bbc1dace19f6b945d17094601d334152",
     "grade": false,
     "grade_id": "cell-73f4c5be7bf31081",
     "locked": true,
     "schema_version": 3,
     "solution": false,
     "task": false
    }
   },
   "source": [
    "## Problema 1\n",
    "\n",
    "Responda a las siguientes preguntas utilizando el conjunto de datos `ozone`. Considere $O^3$ como variable respuesta, mientras que las demás variables serán consideradas como variables explicativas"
   ]
  },
  {
   "cell_type": "code",
   "execution_count": 4,
   "id": "7a6b1f5e",
   "metadata": {
    "deletable": false,
    "editable": false,
    "nbgrader": {
     "cell_type": "code",
     "checksum": "4c7a579e6cd47f2356ee250e4c5a35c3",
     "grade": false,
     "grade_id": "cell-289ff9ed6fd63e86",
     "locked": true,
     "schema_version": 3,
     "solution": false,
     "task": false
    }
   },
   "outputs": [],
   "source": [
    "data = ozone.load()  # El objeto data contiene los datos para el problema 1"
   ]
  },
  {
   "cell_type": "code",
   "execution_count": 5,
   "id": "d23a892c",
   "metadata": {},
   "outputs": [
    {
     "data": {
      "text/html": [
       "<div>\n",
       "<style scoped>\n",
       "    .dataframe tbody tr th:only-of-type {\n",
       "        vertical-align: middle;\n",
       "    }\n",
       "\n",
       "    .dataframe tbody tr th {\n",
       "        vertical-align: top;\n",
       "    }\n",
       "\n",
       "    .dataframe thead th {\n",
       "        text-align: right;\n",
       "    }\n",
       "</style>\n",
       "<table border=\"1\" class=\"dataframe\">\n",
       "  <thead>\n",
       "    <tr style=\"text-align: right;\">\n",
       "      <th></th>\n",
       "      <th>O3</th>\n",
       "      <th>vh</th>\n",
       "      <th>wind</th>\n",
       "      <th>humidity</th>\n",
       "      <th>temp</th>\n",
       "      <th>ibh</th>\n",
       "      <th>dpg</th>\n",
       "      <th>ibt</th>\n",
       "      <th>vis</th>\n",
       "      <th>doy</th>\n",
       "    </tr>\n",
       "  </thead>\n",
       "  <tbody>\n",
       "    <tr>\n",
       "      <th>0</th>\n",
       "      <td>3</td>\n",
       "      <td>5710</td>\n",
       "      <td>4</td>\n",
       "      <td>28</td>\n",
       "      <td>40</td>\n",
       "      <td>2693</td>\n",
       "      <td>-25</td>\n",
       "      <td>87</td>\n",
       "      <td>250</td>\n",
       "      <td>33</td>\n",
       "    </tr>\n",
       "    <tr>\n",
       "      <th>1</th>\n",
       "      <td>5</td>\n",
       "      <td>5700</td>\n",
       "      <td>3</td>\n",
       "      <td>37</td>\n",
       "      <td>45</td>\n",
       "      <td>590</td>\n",
       "      <td>-24</td>\n",
       "      <td>128</td>\n",
       "      <td>100</td>\n",
       "      <td>34</td>\n",
       "    </tr>\n",
       "    <tr>\n",
       "      <th>2</th>\n",
       "      <td>5</td>\n",
       "      <td>5760</td>\n",
       "      <td>3</td>\n",
       "      <td>51</td>\n",
       "      <td>54</td>\n",
       "      <td>1450</td>\n",
       "      <td>25</td>\n",
       "      <td>139</td>\n",
       "      <td>60</td>\n",
       "      <td>35</td>\n",
       "    </tr>\n",
       "    <tr>\n",
       "      <th>3</th>\n",
       "      <td>6</td>\n",
       "      <td>5720</td>\n",
       "      <td>4</td>\n",
       "      <td>69</td>\n",
       "      <td>35</td>\n",
       "      <td>1568</td>\n",
       "      <td>15</td>\n",
       "      <td>121</td>\n",
       "      <td>60</td>\n",
       "      <td>36</td>\n",
       "    </tr>\n",
       "    <tr>\n",
       "      <th>4</th>\n",
       "      <td>4</td>\n",
       "      <td>5790</td>\n",
       "      <td>6</td>\n",
       "      <td>19</td>\n",
       "      <td>45</td>\n",
       "      <td>2631</td>\n",
       "      <td>-33</td>\n",
       "      <td>123</td>\n",
       "      <td>100</td>\n",
       "      <td>37</td>\n",
       "    </tr>\n",
       "    <tr>\n",
       "      <th>...</th>\n",
       "      <td>...</td>\n",
       "      <td>...</td>\n",
       "      <td>...</td>\n",
       "      <td>...</td>\n",
       "      <td>...</td>\n",
       "      <td>...</td>\n",
       "      <td>...</td>\n",
       "      <td>...</td>\n",
       "      <td>...</td>\n",
       "      <td>...</td>\n",
       "    </tr>\n",
       "    <tr>\n",
       "      <th>325</th>\n",
       "      <td>8</td>\n",
       "      <td>5630</td>\n",
       "      <td>4</td>\n",
       "      <td>50</td>\n",
       "      <td>50</td>\n",
       "      <td>2851</td>\n",
       "      <td>-5</td>\n",
       "      <td>100</td>\n",
       "      <td>70</td>\n",
       "      <td>384</td>\n",
       "    </tr>\n",
       "    <tr>\n",
       "      <th>326</th>\n",
       "      <td>2</td>\n",
       "      <td>5730</td>\n",
       "      <td>3</td>\n",
       "      <td>53</td>\n",
       "      <td>51</td>\n",
       "      <td>111</td>\n",
       "      <td>-14</td>\n",
       "      <td>225</td>\n",
       "      <td>200</td>\n",
       "      <td>387</td>\n",
       "    </tr>\n",
       "    <tr>\n",
       "      <th>327</th>\n",
       "      <td>3</td>\n",
       "      <td>5690</td>\n",
       "      <td>3</td>\n",
       "      <td>23</td>\n",
       "      <td>51</td>\n",
       "      <td>5000</td>\n",
       "      <td>-36</td>\n",
       "      <td>107</td>\n",
       "      <td>70</td>\n",
       "      <td>388</td>\n",
       "    </tr>\n",
       "    <tr>\n",
       "      <th>328</th>\n",
       "      <td>5</td>\n",
       "      <td>5650</td>\n",
       "      <td>3</td>\n",
       "      <td>61</td>\n",
       "      <td>50</td>\n",
       "      <td>3704</td>\n",
       "      <td>18</td>\n",
       "      <td>83</td>\n",
       "      <td>40</td>\n",
       "      <td>389</td>\n",
       "    </tr>\n",
       "    <tr>\n",
       "      <th>329</th>\n",
       "      <td>1</td>\n",
       "      <td>5550</td>\n",
       "      <td>4</td>\n",
       "      <td>85</td>\n",
       "      <td>39</td>\n",
       "      <td>5000</td>\n",
       "      <td>8</td>\n",
       "      <td>44</td>\n",
       "      <td>100</td>\n",
       "      <td>390</td>\n",
       "    </tr>\n",
       "  </tbody>\n",
       "</table>\n",
       "<p>330 rows × 10 columns</p>\n",
       "</div>"
      ],
      "text/plain": [
       "     O3    vh  wind  humidity  temp   ibh  dpg  ibt  vis  doy\n",
       "0     3  5710     4        28    40  2693  -25   87  250   33\n",
       "1     5  5700     3        37    45   590  -24  128  100   34\n",
       "2     5  5760     3        51    54  1450   25  139   60   35\n",
       "3     6  5720     4        69    35  1568   15  121   60   36\n",
       "4     4  5790     6        19    45  2631  -33  123  100   37\n",
       "..   ..   ...   ...       ...   ...   ...  ...  ...  ...  ...\n",
       "325   8  5630     4        50    50  2851   -5  100   70  384\n",
       "326   2  5730     3        53    51   111  -14  225  200  387\n",
       "327   3  5690     3        23    51  5000  -36  107   70  388\n",
       "328   5  5650     3        61    50  3704   18   83   40  389\n",
       "329   1  5550     4        85    39  5000    8   44  100  390\n",
       "\n",
       "[330 rows x 10 columns]"
      ]
     },
     "execution_count": 5,
     "metadata": {},
     "output_type": "execute_result"
    }
   ],
   "source": [
    "data"
   ]
  },
  {
   "cell_type": "markdown",
   "id": "cdad32e9",
   "metadata": {
    "deletable": false,
    "editable": false,
    "nbgrader": {
     "cell_type": "markdown",
     "checksum": "9b235c9f77883fac25d9e735da74abbb",
     "grade": false,
     "grade_id": "cell-dfd6d00d4bced8d2",
     "locked": true,
     "schema_version": 3,
     "solution": false,
     "task": false
    }
   },
   "source": [
    "#### 1.1 - Realizar una descomposición aleatoria de la base de datos con la proporción 80%-20% para train y test, respectivamente. Utilice el número 123 como semilla de aleatorización."
   ]
  },
  {
   "cell_type": "code",
   "execution_count": null,
   "id": "df83f92d",
   "metadata": {
    "deletable": false,
    "nbgrader": {
     "cell_type": "code",
     "checksum": "a5220582f730be1717cac19f07b056ff",
     "grade": false,
     "grade_id": "cell-3f7ed0546090e0e6",
     "locked": false,
     "schema_version": 3,
     "solution": true,
     "task": false
    }
   },
   "outputs": [],
   "source": [
    "## Guardar la información en:\n",
    "# --> train: partición de entrenamiento    (incluyendo todas las variables)\n",
    "# --> test: partición para la validacíon   (incluyendo todas las variables)\n",
    "\n",
    "## Aquí va su código \n",
    "\n",
    "train, test = None, None    # Modifique estos objetos\n",
    "\n",
    "# your code here\n",
    "raise NotImplementedError"
   ]
  },
  {
   "cell_type": "code",
   "execution_count": 11,
   "id": "2271e243",
   "metadata": {},
   "outputs": [
    {
     "name": "stdout",
     "output_type": "stream",
     "text": [
      "Tamaño del  entrenamiento: (264, 9)\n",
      "Tamaño de prueba: (66, 9)\n"
     ]
    }
   ],
   "source": [
    "X = data[['vh', 'wind', 'humidity', 'temp', 'ibh', 'dpg', 'ibt', 'vis', 'doy']]\n",
    "y = data['O3']\n",
    "X_train, X_test, y_train, y_test = train_test_split(X, y, test_size=0.2, random_state=123)\n",
    "print(\"Tamaño del  entrenamiento:\", X_train.shape)\n",
    "print(\"Tamaño de prueba:\", X_test.shape)\n"
   ]
  },
  {
   "cell_type": "code",
   "execution_count": 82,
   "id": "086be775",
   "metadata": {},
   "outputs": [
    {
     "name": "stdout",
     "output_type": "stream",
     "text": [
      "Tamaño de entrenamiento: (264, 9)\n",
      "Tamaño de prueba: (66, 9)\n"
     ]
    }
   ],
   "source": [
    "train, test = train_test_split(data, test_size=0.2, random_state=123)\n",
    "X_train = train[['vh', 'wind', 'humidity', 'temp', 'ibh', 'dpg', 'ibt', 'vis', 'doy']]\n",
    "y_train = train['O3']\n",
    "X_test = test[['vh', 'wind', 'humidity', 'temp', 'ibh', 'dpg', 'ibt', 'vis', 'doy']]\n",
    "y_test = test['O3']\n",
    "print(\"Tamaño de entrenamiento:\", X_train.shape)\n",
    "print(\"Tamaño de prueba:\", X_test.shape)\n"
   ]
  },
  {
   "cell_type": "code",
   "execution_count": 71,
   "id": "3a7390f5",
   "metadata": {},
   "outputs": [
    {
     "name": "stdout",
     "output_type": "stream",
     "text": [
      "Tamaño del  entrenamiento: (264, 9)\n",
      "Tamaño de prueba: (66, 9)\n"
     ]
    }
   ],
   "source": [
    "X = data[['vh', 'wind', 'humidity', 'temp', 'ibh', 'dpg', 'ibt', 'vis', 'doy']]\n",
    "y = data['O3']\n",
    "Train, Test = train_test_split(data, random_state=123)\n",
    "print(\"Tamaño del  entrenamiento:\", X_train.shape)\n",
    "print(\"Tamaño de prueba:\", X_test.shape)"
   ]
  },
  {
   "cell_type": "code",
   "execution_count": 12,
   "id": "622b9e11",
   "metadata": {
    "deletable": false,
    "editable": false,
    "nbgrader": {
     "cell_type": "code",
     "checksum": "a49a4a13e04071b7917772e762570b26",
     "grade": true,
     "grade_id": "cell-8bfa95137bbe415d",
     "locked": true,
     "points": 5,
     "schema_version": 3,
     "solution": false,
     "task": false
    }
   },
   "outputs": [],
   "source": [
    "# Testing para la pregunta 1.1"
   ]
  },
  {
   "cell_type": "markdown",
   "id": "07306bef",
   "metadata": {
    "deletable": false,
    "editable": false,
    "nbgrader": {
     "cell_type": "markdown",
     "checksum": "91a263c69b81ad2060ff97b5c3bd03f6",
     "grade": false,
     "grade_id": "cell-ec9fbd6a4058945d",
     "locked": true,
     "schema_version": 3,
     "solution": false,
     "task": false
    }
   },
   "source": [
    "#### 1.2- Utilizando el conjunto de entrenamiento, ajuste un modelo de regresión lineal múltiple por mínimos cuadrados ordinarios. Considere el modelo con todas las variables disponibles (incluyendo intercepto). Determine que variables son estadísticamente significativas al 5%. "
   ]
  },
  {
   "cell_type": "code",
   "execution_count": null,
   "id": "428fa7a8",
   "metadata": {
    "deletable": false,
    "nbgrader": {
     "cell_type": "code",
     "checksum": "ca78dbca324df563a6c07b496cdc6bff",
     "grade": false,
     "grade_id": "cell-2327441601b525e6",
     "locked": false,
     "schema_version": 3,
     "solution": true,
     "task": false
    }
   },
   "outputs": [],
   "source": [
    "# Debe entregar un vector booleano (True/False) que indique si la variable es significativa (True) o no (False).\n",
    "# El orden de las variables en el vector debe ser: [const, vh, wind, humidity, temp, ibh, dpg, ibt, vis, doy]\n",
    "# const = intercepto. \n",
    "# El vector debe tener por nombre sigVars\n",
    "# Ejemplo: sigVars = [True, False, True, False, True, False, True, False, True, False]\n",
    "\n",
    "## Aquí va su código \n",
    "\n",
    "sigVars = None # Modifique este objeto \n",
    "\n",
    "# your code here\n",
    "raise NotImplementedError"
   ]
  },
  {
   "cell_type": "code",
   "execution_count": 23,
   "id": "19fcae99",
   "metadata": {},
   "outputs": [
    {
     "name": "stdout",
     "output_type": "stream",
     "text": [
      "                            OLS Regression Results                            \n",
      "==============================================================================\n",
      "Dep. Variable:                     O3   R-squared:                       0.694\n",
      "Model:                            OLS   Adj. R-squared:                  0.683\n",
      "Method:                 Least Squares   F-statistic:                     63.96\n",
      "Date:                Tue, 20 Aug 2024   Prob (F-statistic):           3.08e-60\n",
      "Time:                        17:29:52   Log-Likelihood:                -767.04\n",
      "No. Observations:                 264   AIC:                             1554.\n",
      "Df Residuals:                     254   BIC:                             1590.\n",
      "Df Model:                           9                                         \n",
      "Covariance Type:            nonrobust                                         \n",
      "==============================================================================\n",
      "                 coef    std err          t      P>|t|      [0.025      0.975]\n",
      "------------------------------------------------------------------------------\n",
      "const         30.3074     33.267      0.911      0.363     -35.207      95.822\n",
      "vh            -0.0072      0.006     -1.181      0.239      -0.019       0.005\n",
      "wind          -0.0839      0.154     -0.545      0.586      -0.387       0.219\n",
      "humidity       0.0742      0.021      3.467      0.001       0.032       0.116\n",
      "temp           0.2674      0.058      4.595      0.000       0.153       0.382\n",
      "ibh           -0.0001      0.000     -0.397      0.692      -0.001       0.001\n",
      "dpg           -0.0006      0.013     -0.049      0.961      -0.026       0.025\n",
      "ibt            0.0359      0.015      2.333      0.020       0.006       0.066\n",
      "vis           -0.0069      0.004     -1.638      0.103      -0.015       0.001\n",
      "doy           -0.0100      0.003     -3.193      0.002      -0.016      -0.004\n",
      "==============================================================================\n",
      "Omnibus:                        1.318   Durbin-Watson:                   2.166\n",
      "Prob(Omnibus):                  0.517   Jarque-Bera (JB):                1.386\n",
      "Skew:                           0.165   Prob(JB):                        0.500\n",
      "Kurtosis:                       2.870   Cond. No.                     7.58e+05\n",
      "==============================================================================\n",
      "\n",
      "Notes:\n",
      "[1] Standard Errors assume that the covariance matrix of the errors is correctly specified.\n",
      "[2] The condition number is large, 7.58e+05. This might indicate that there are\n",
      "strong multicollinearity or other numerical problems.\n",
      "Vector: [False, False, False, True, True, False, False, True, False, True]\n"
     ]
    }
   ],
   "source": [
    "X_train_const = sm.add_constant(X_train)\n",
    "model = sm.OLS(y_train, X_train_const).fit()\n",
    "print(model.summary())\n",
    "p_values = model.pvalues\n",
    "sigVars = [p < 0.05 for p in p_values]\n",
    "print(\"Vector:\", sigVars)\n"
   ]
  },
  {
   "cell_type": "markdown",
   "metadata": {},
   "source": [
    "### conclusiones\n",
    "Las variables que son significativas son aquellas con un p<0.05 \n",
    "\n",
    "humidity: p = 0.001\n",
    "temp:     p = 0.000\n",
    "ibt:      p = 0.020\n",
    "doy:      p = 0.002"
   ]
  },
  {
   "cell_type": "code",
   "execution_count": 17,
   "id": "f8d559fa",
   "metadata": {
    "deletable": false,
    "editable": false,
    "nbgrader": {
     "cell_type": "code",
     "checksum": "7ba9930b6684d745375787696058b394",
     "grade": true,
     "grade_id": "cell-89ff2c87d7f4dc5f",
     "locked": true,
     "points": 2,
     "schema_version": 3,
     "solution": false,
     "task": false
    }
   },
   "outputs": [],
   "source": [
    "\n",
    "# Testing 1 para la pregunta 1.2"
   ]
  },
  {
   "cell_type": "code",
   "execution_count": 18,
   "id": "984f89bb",
   "metadata": {
    "deletable": false,
    "editable": false,
    "nbgrader": {
     "cell_type": "code",
     "checksum": "a19e8e80c01b82f372cc8b15a5ccb59a",
     "grade": true,
     "grade_id": "cell-23f2e798e4f9743b",
     "locked": true,
     "points": 3,
     "schema_version": 3,
     "solution": false,
     "task": false
    }
   },
   "outputs": [],
   "source": [
    "# Testing 2 para la pregunta 1.2"
   ]
  },
  {
   "cell_type": "markdown",
   "id": "f1e75a92",
   "metadata": {
    "deletable": false,
    "editable": false,
    "nbgrader": {
     "cell_type": "markdown",
     "checksum": "d700d3e197cc034e0555aa4c9d42c9d8",
     "grade": false,
     "grade_id": "cell-a943d78a051f59f5",
     "locked": true,
     "schema_version": 3,
     "solution": false,
     "task": false
    }
   },
   "source": [
    "#### 1.3 - ¿Cuál es el coeficiente de determinación del modelo ajustado anteriormente?"
   ]
  },
  {
   "cell_type": "code",
   "execution_count": null,
   "id": "b275dfa7",
   "metadata": {
    "deletable": false,
    "nbgrader": {
     "cell_type": "code",
     "checksum": "45950893f9145b6e46b1548f3de81f30",
     "grade": false,
     "grade_id": "cell-269a223802b56f15",
     "locked": false,
     "schema_version": 3,
     "solution": true,
     "task": false
    }
   },
   "outputs": [],
   "source": [
    "# Guarde el coeficiente de determinación ($R^2$) en un objeto númerico de nombre R2.\n",
    "# En caso de redondear, considerar al menos 4 decimales de precisión\n",
    "\n",
    "R2 = None # Modifique este objeto \n",
    "\n",
    "# your code here\n",
    "raise NotImplementedError"
   ]
  },
  {
   "cell_type": "code",
   "execution_count": 72,
   "id": "43066958",
   "metadata": {},
   "outputs": [
    {
     "name": "stdout",
     "output_type": "stream",
     "text": [
      "R^2 0.6938475174333434\n"
     ]
    }
   ],
   "source": [
    "r2= model.rsquared\n",
    "print(\"R^2\", r)"
   ]
  },
  {
   "cell_type": "code",
   "execution_count": 21,
   "id": "c2b22817",
   "metadata": {},
   "outputs": [
    {
     "name": "stdout",
     "output_type": "stream",
     "text": [
      "                            OLS Regression Results                            \n",
      "==============================================================================\n",
      "Dep. Variable:                     O3   R-squared:                       0.694\n",
      "Model:                            OLS   Adj. R-squared:                  0.683\n",
      "Method:                 Least Squares   F-statistic:                     63.96\n",
      "Date:                Tue, 20 Aug 2024   Prob (F-statistic):           3.08e-60\n",
      "Time:                        17:29:39   Log-Likelihood:                -767.04\n",
      "No. Observations:                 264   AIC:                             1554.\n",
      "Df Residuals:                     254   BIC:                             1590.\n",
      "Df Model:                           9                                         \n",
      "Covariance Type:            nonrobust                                         \n",
      "==============================================================================\n",
      "                 coef    std err          t      P>|t|      [0.025      0.975]\n",
      "------------------------------------------------------------------------------\n",
      "const         30.3074     33.267      0.911      0.363     -35.207      95.822\n",
      "vh            -0.0072      0.006     -1.181      0.239      -0.019       0.005\n",
      "wind          -0.0839      0.154     -0.545      0.586      -0.387       0.219\n",
      "humidity       0.0742      0.021      3.467      0.001       0.032       0.116\n",
      "temp           0.2674      0.058      4.595      0.000       0.153       0.382\n",
      "ibh           -0.0001      0.000     -0.397      0.692      -0.001       0.001\n",
      "dpg           -0.0006      0.013     -0.049      0.961      -0.026       0.025\n",
      "ibt            0.0359      0.015      2.333      0.020       0.006       0.066\n",
      "vis           -0.0069      0.004     -1.638      0.103      -0.015       0.001\n",
      "doy           -0.0100      0.003     -3.193      0.002      -0.016      -0.004\n",
      "==============================================================================\n",
      "Omnibus:                        1.318   Durbin-Watson:                   2.166\n",
      "Prob(Omnibus):                  0.517   Jarque-Bera (JB):                1.386\n",
      "Skew:                           0.165   Prob(JB):                        0.500\n",
      "Kurtosis:                       2.870   Cond. No.                     7.58e+05\n",
      "==============================================================================\n",
      "\n",
      "Notes:\n",
      "[1] Standard Errors assume that the covariance matrix of the errors is correctly specified.\n",
      "[2] The condition number is large, 7.58e+05. This might indicate that there are\n",
      "strong multicollinearity or other numerical problems.\n"
     ]
    }
   ],
   "source": [
    "print(model.summary())"
   ]
  },
  {
   "cell_type": "code",
   "execution_count": 22,
   "id": "942698b2",
   "metadata": {
    "deletable": false,
    "editable": false,
    "nbgrader": {
     "cell_type": "code",
     "checksum": "f7bddd549330c5db737c84eed91ddb69",
     "grade": true,
     "grade_id": "cell-d35166975cfb4d7f",
     "locked": true,
     "points": 5,
     "schema_version": 3,
     "solution": false,
     "task": false
    }
   },
   "outputs": [],
   "source": [
    "# Testing para la pregunta 1.3"
   ]
  },
  {
   "cell_type": "markdown",
   "id": "c930ee4a",
   "metadata": {
    "deletable": false,
    "editable": false,
    "nbgrader": {
     "cell_type": "markdown",
     "checksum": "c40ffa04f8dfd46f206c66d5e5a2cc3d",
     "grade": false,
     "grade_id": "cell-61515b1434f15d5c",
     "locked": true,
     "schema_version": 3,
     "solution": false,
     "task": false
    }
   },
   "source": [
    "#### 1.4 - ¿Cuál es el error cuadrático medio del modelo ajustado anteriormente? \n",
    "\n",
    "Recuerde que el MSE se define como:\n",
    "\n",
    "\\begin{equation*}\n",
    " MSE=\\dfrac{1}{n}\\sum_{i=1}^{n}e_i^2\n",
    "\\end{equation*}"
   ]
  },
  {
   "cell_type": "code",
   "execution_count": null,
   "id": "0a62ba57",
   "metadata": {
    "deletable": false,
    "nbgrader": {
     "cell_type": "code",
     "checksum": "d41fcbc67014e6896e2398ce0a9689f4",
     "grade": false,
     "grade_id": "cell-6fb1cced9a8aa995",
     "locked": false,
     "schema_version": 3,
     "solution": true,
     "task": false
    }
   },
   "outputs": [],
   "source": [
    "# Guardar el error cuadrático medio en un objeto númerico de nombre MSE\n",
    "MSE = None # Modifique este objeto \n",
    "\n",
    "# your code here\n",
    "raise NotImplementedError"
   ]
  },
  {
   "cell_type": "code",
   "execution_count": 33,
   "id": "425eddc8",
   "metadata": {},
   "outputs": [
    {
     "name": "stdout",
     "output_type": "stream",
     "text": [
      "Error cuadrático medio 17.670801302232345\n"
     ]
    }
   ],
   "source": [
    "X_test_const = sm.add_constant(X_test)\n",
    "y_pred = model.predict(X_test_const)\n",
    "mse = metrics.mean_squared_error(y_test, y_pred)\n",
    "print(\"Error cuadrático medio\", mse)\n"
   ]
  },
  {
   "cell_type": "code",
   "execution_count": 76,
   "id": "d55b1384",
   "metadata": {},
   "outputs": [
    {
     "name": "stdout",
     "output_type": "stream",
     "text": [
      "MSE: 19.55081161581369\n"
     ]
    }
   ],
   "source": [
    "X_train_const = sm.add_constant(X_train)\n",
    "y_train_pred = model.predict(X_train_const)\n",
    "MSE = metrics.mean_squared_error(y_train, y_train_pred)\n",
    "print(\"MSE:\", MSE)\n"
   ]
  },
  {
   "cell_type": "code",
   "execution_count": null,
   "id": "5974de1a",
   "metadata": {
    "deletable": false,
    "editable": false,
    "nbgrader": {
     "cell_type": "code",
     "checksum": "9e89e0c3fe2330af6c314d7cd1a6ac32",
     "grade": true,
     "grade_id": "cell-cfcbafdd122fe780",
     "locked": true,
     "points": 5,
     "schema_version": 3,
     "solution": false,
     "task": false
    }
   },
   "outputs": [],
   "source": [
    "# Testing para la pregunta 1.4"
   ]
  },
  {
   "cell_type": "markdown",
   "id": "8e5b874b",
   "metadata": {
    "deletable": false,
    "editable": false,
    "nbgrader": {
     "cell_type": "markdown",
     "checksum": "ec9d5b13586a77e59bbaa7b5292ab801",
     "grade": false,
     "grade_id": "cell-06c8189fef8a4576",
     "locked": true,
     "schema_version": 3,
     "solution": false,
     "task": false
    }
   },
   "source": [
    "#### 1.5 - Construya un segundo modelo de regresión lineal múltiple (sin intercepto) utilizando las variables significativas del punto anterior. Luego, compare ambos modelos según AIC (Akaike Information Criterion). Según esta métrica, ¿cuál modelo es preferible?. \n",
    "\n",
    "Entregar el AIC de cada modelo en un vector de dos dimensiones de nombre `AIC`. Donde el primer elemento corresponde al AIC del modelo con todas las variables y el último elemento el AIC del modelo que solo incluye las variables significativas. Además, entregar un booleano de nombre `preferible` que indique si el modelo con menos variables es preferible (True) o no (False)."
   ]
  },
  {
   "cell_type": "code",
   "execution_count": null,
   "id": "bf181a05",
   "metadata": {
    "deletable": false,
    "nbgrader": {
     "cell_type": "code",
     "checksum": "46b526059b049a1f53f33a819ad2779a",
     "grade": false,
     "grade_id": "cell-8894f22f8d40ff9b",
     "locked": false,
     "schema_version": 3,
     "solution": true,
     "task": false
    }
   },
   "outputs": [],
   "source": [
    "# your code here\n",
    "raise NotImplementedError"
   ]
  },
  {
   "cell_type": "code",
   "execution_count": 45,
   "id": "5b044a57",
   "metadata": {},
   "outputs": [
    {
     "name": "stdout",
     "output_type": "stream",
     "text": [
      "AIC con todas las variables: 1554.0759808495568\n",
      "AIC con variables significativas: 1549.3095063721744\n",
      "Vector AIC: [1554.07598085 1549.30950637]\n",
      "preferible: True\n"
     ]
    }
   ],
   "source": [
    "train, test = train_test_split(data, test_size=0.2, random_state=123)\n",
    "X_train = train[['vh', 'wind', 'humidity', 'temp', 'ibh', 'dpg', 'ibt', 'vis', 'doy']]\n",
    "y_train = train['O3']\n",
    "X_test = test[['vh', 'wind', 'humidity', 'temp', 'ibh', 'dpg', 'ibt', 'vis', 'doy']]\n",
    "y_test = test['O3']\n",
    "X_train_const = sm.add_constant(X_train)\n",
    "model = sm.OLS(y_train, X_train_const).fit()\n",
    "\n",
    "# con variables significativas\n",
    "X_train_significativas = X_train[['humidity', 'temp', 'ibt', 'doy']]\n",
    "X_train_sig = sm.add_constant(X_train_significativas)\n",
    "model_sig = sm.OLS(y_train, X_train_sig).fit()\n",
    "aic = model.aic\n",
    "aic_sig= model_sig.aic\n",
    "AIC = np.array([aic, aic_sig])\n",
    "mejor = aic_sig < aic\n",
    "print(\"AIC con todas las variables:\", aic)\n",
    "print(\"AIC con variables significativas:\", aic_sig)\n",
    "print(\"Vector AIC:\", AIC)\n",
    "print(\"preferible:\", mejor)\n"
   ]
  },
  {
   "cell_type": "code",
   "execution_count": 84,
   "id": "99dd289c",
   "metadata": {},
   "outputs": [
    {
     "name": "stdout",
     "output_type": "stream",
     "text": [
      "AIC con todas las variables: 1554.0759808495568\n",
      "AIC con variables significativas: 1549.3095063721744\n",
      "Vector AIC: [1554.07598085 1549.30950637]\n",
      "preferible: True\n"
     ]
    }
   ],
   "source": [
    "train, test = train_test_split(data, test_size=0.2, random_state=123)\n",
    "X_train = train[['vh', 'wind', 'humidity', 'temp', 'ibh', 'dpg', 'ibt', 'vis', 'doy']]\n",
    "y_train = train['O3']\n",
    "X_test = test[['vh', 'wind', 'humidity', 'temp', 'ibh', 'dpg', 'ibt', 'vis', 'doy']]\n",
    "y_test = test['O3']\n",
    "X_train_const = sm.add_constant(X_train)\n",
    "model = sm.OLS(y_train, X_train_const).fit()\n",
    "\n",
    "# con variables significativas\n",
    "X_train_significativas = X_train[['humidity', 'temp', 'ibt', 'doy']]\n",
    "X_train_sig = sm.add_constant(X_train_significativas)\n",
    "model_sig = sm.OLS(y_train, X_train_sig).fit()\n",
    "aic = model.aic\n",
    "aic_sig= model_sig.aic\n",
    "AIC = np.array([aic, aic_sig])\n",
    "mejor = aic_sig < aic\n",
    "print(\"AIC con todas las variables:\", aic)\n",
    "print(\"AIC con variables significativas:\", aic_sig)\n",
    "print(\"Vector AIC:\", AIC)\n",
    "print(\"preferible:\", mejor)"
   ]
  },
  {
   "cell_type": "code",
   "execution_count": 85,
   "id": "6e5045ef",
   "metadata": {},
   "outputs": [
    {
     "name": "stdout",
     "output_type": "stream",
     "text": [
      "AIC con todas las variables: 1554.0759808495568\n",
      "AIC con variables significativas: 1549.3095063721744\n",
      "Vector AIC: [1554.07598085 1549.30950637]\n",
      "Preferible: True\n"
     ]
    }
   ],
   "source": [
    "train, test = train_test_split(data, test_size=0.2, random_state=123)\n",
    "X_train = train[['vh', 'wind', 'humidity', 'temp', 'ibh', 'dpg', 'ibt', 'vis', 'doy']]\n",
    "y_train = train['O3']\n",
    "X_test = test[['vh', 'wind', 'humidity', 'temp', 'ibh', 'dpg', 'ibt', 'vis', 'doy']]\n",
    "y_test = test['O3']\n",
    "X_train_const = sm.add_constant(X_train)\n",
    "model = sm.OLS(y_train, X_train_const).fit()\n",
    "\n",
    "X_train_significativas = X_train[['humidity', 'temp', 'ibt', 'doy']]\n",
    "X_train_sig = sm.add_constant(X_train_significativas)\n",
    "model_sig = sm.OLS(y_train, X_train_sig).fit()\n",
    "aic = model.aic\n",
    "aic_sig = model_sig.aic\n",
    "AIC = np.array([aic, aic_sig])\n",
    "Preferible = aic_sig < aic\n",
    "print(\"AIC con todas las variables:\", aic)\n",
    "print(\"AIC con variables significativas:\", aic_sig)\n",
    "print(\"Vector AIC:\", AIC)\n",
    "print(\"Preferible:\", Preferible)\n"
   ]
  },
  {
   "cell_type": "code",
   "execution_count": 86,
   "id": "a0526448",
   "metadata": {},
   "outputs": [
    {
     "name": "stdout",
     "output_type": "stream",
     "text": [
      "Vector AIC: [1554.07598085 1549.30950637 1549.30950637]\n",
      "Preferible: False\n"
     ]
    }
   ],
   "source": [
    "train, test = train_test_split(data, test_size=0.2, random_state=123)\n",
    "\n",
    "# Separar características y variable objetivo en los conjuntos de entrenamiento y prueba\n",
    "X_train = train[['vh', 'wind', 'humidity', 'temp', 'ibh', 'dpg', 'ibt', 'vis', 'doy']]\n",
    "y_train = train['O3']\n",
    "X_test = test[['vh', 'wind', 'humidity', 'temp', 'ibh', 'dpg', 'ibt', 'vis', 'doy']]\n",
    "y_test = test['O3']\n",
    "\n",
    "# Modelo con todas las variables y constante\n",
    "X_train_const = sm.add_constant(X_train)\n",
    "model = sm.OLS(y_train, X_train_const).fit()\n",
    "\n",
    "# Modelo con variables significativas y constante\n",
    "X_train_significativas = X_train[['humidity', 'temp', 'ibt', 'doy']]\n",
    "X_train_sig = sm.add_constant(X_train_significativas)\n",
    "model_sig = sm.OLS(y_train, X_train_sig).fit()\n",
    "\n",
    "# Modelo con variables significativas sin constante\n",
    "X_train_significativas_no_const = sm.add_constant(X_train_significativas, has_constant='add')\n",
    "model_sig_no_const = sm.OLS(y_train, X_train_significativas_no_const, hasconst=False).fit()\n",
    "\n",
    "# Calcular AIC para los modelos\n",
    "aic = model.aic\n",
    "aic_sig = model_sig.aic\n",
    "aic_sig_no_const = model_sig_no_const.aic\n",
    "\n",
    "# Vector AIC con todos los modelos\n",
    "AIC = np.array([aic, aic_sig, aic_sig_no_const])\n",
    "\n",
    "# Determinar el mejor modelo basado en AIC\n",
    "preferible = (aic_sig_no_const < aic) and (aic_sig_no_const < aic_sig)\n",
    "\n",
    "# Imprimir los resultados\n",
    "print(\"Vector AIC:\", AIC)\n",
    "print(\"Preferible:\", preferible)"
   ]
  },
  {
   "cell_type": "code",
   "execution_count": 89,
   "id": "520bd425",
   "metadata": {},
   "outputs": [
    {
     "name": "stdout",
     "output_type": "stream",
     "text": [
      "AIC con todas las variables: 1554.0759808495568\n",
      "AIC con variables significativas: 1597.0207391599592\n",
      "Vector AIC: [1554.07598085 1597.02073916]\n",
      "Preferible: False\n"
     ]
    }
   ],
   "source": [
    "train, test = train_test_split(data, test_size=0.2, random_state=123)\n",
    "X_train = train[['vh', 'wind', 'humidity', 'temp', 'ibh', 'dpg', 'ibt', 'vis', 'doy']]\n",
    "y_train = train['O3']\n",
    "X_test = test[['vh', 'wind', 'humidity', 'temp', 'ibh', 'dpg', 'ibt', 'vis', 'doy']]\n",
    "y_test = test['O3']\n",
    "\n",
    "X_train_const = sm.add_constant(X_train)\n",
    "model = sm.OLS(y_train, X_train_const).fit()\n",
    "\n",
    "\n",
    "significant_vars = model.pvalues[model.pvalues < 0.05].index.tolist()\n",
    "if 'const' in significant_vars:\n",
    "    significant_vars.remove('const')  \n",
    "\n",
    "X_train_significativas = train[significant_vars]\n",
    "model_sig = sm.OLS(y_train, X_train_significativas).fit()\n",
    "aic = model.aic\n",
    "aic_sig = model_sig.aic\n",
    "AIC = np.array([aic, aic_sig])\n",
    "Preferible = aic_sig < aic\n",
    "print(\"AIC con todas las variables:\", aic)\n",
    "print(\"AIC con variables significativas:\", aic_sig)\n",
    "print(\"Vector AIC:\", AIC)\n",
    "print(\"Preferible:\", Preferible)\n"
   ]
  },
  {
   "cell_type": "code",
   "execution_count": 90,
   "id": "5d844770",
   "metadata": {},
   "outputs": [
    {
     "name": "stdout",
     "output_type": "stream",
     "text": [
      "Vector AIC: [1554.07598085 1597.02073916]\n",
      "Preferible: False\n"
     ]
    }
   ],
   "source": [
    "train, test = train_test_split(data, test_size=0.2, random_state=123)\n",
    "X_train = train[['vh', 'wind', 'humidity', 'temp', 'ibh', 'dpg', 'ibt', 'vis', 'doy']]\n",
    "y_train = train['O3']\n",
    "X_test = test[['vh', 'wind', 'humidity', 'temp', 'ibh', 'dpg', 'ibt', 'vis', 'doy']]\n",
    "y_test = test['O3']\n",
    "X_train_const = sm.add_constant(X_train)\n",
    "model = sm.OLS(y_train, X_train_const).fit()\n",
    "sig = model.pvalues[model.pvalues < 0.05].index.tolist()\n",
    "if 'const' in sig:\n",
    "    sig.remove('const') \n",
    "X_train_significativas = train[sig]\n",
    "model_sig = sm.OLS(y_train, X_train_significativas).fit()\n",
    "aic = model.aic\n",
    "aic_sig = model_sig.aic\n",
    "AIC = np.array([aic, aic_sig])\n",
    "Preferible = aic_sig < aic\n",
    "print(\"Vector AIC:\", AIC)\n",
    "print(\"Preferible:\", Preferible)\n"
   ]
  },
  {
   "cell_type": "code",
   "execution_count": 91,
   "id": "ef8b8f48",
   "metadata": {},
   "outputs": [
    {
     "name": "stdout",
     "output_type": "stream",
     "text": [
      "Vector AIC: [1554.07598085 1597.02073916]\n",
      "Preferible: False\n"
     ]
    }
   ],
   "source": [
    "import numpy as np\n",
    "import pandas as pd\n",
    "import statsmodels.api as sm\n",
    "from sklearn.model_selection import train_test_split\n",
    "\n",
    "# Supongamos que 'data' es tu DataFrame\n",
    "# Descomposición aleatoria de la base de datos\n",
    "train, test = train_test_split(data, test_size=0.2, random_state=123)\n",
    "X_train = train[['vh', 'wind', 'humidity', 'temp', 'ibh', 'dpg', 'ibt', 'vis', 'doy']]\n",
    "y_train = train['O3']\n",
    "X_test = test[['vh', 'wind', 'humidity', 'temp', 'ibh', 'dpg', 'ibt', 'vis', 'doy']]\n",
    "y_test = test['O3']\n",
    "\n",
    "# Modelo con todas las variables (incluyendo intercepto)\n",
    "X_train_const = sm.add_constant(X_train)\n",
    "model = sm.OLS(y_train, X_train_const).fit()\n",
    "\n",
    "# Determinar variables significativas al 5%\n",
    "significant_vars = model.pvalues[model.pvalues < 0.05].index.tolist()\n",
    "if 'const' in significant_vars:\n",
    "    significant_vars.remove('const')  # Remover el intercepto si está en la lista\n",
    "\n",
    "# Construir el segundo modelo sin intercepto utilizando las variables significativas\n",
    "X_train_significativas = train[significant_vars]\n",
    "model_sig = sm.OLS(y_train, X_train_significativas).fit()\n",
    "\n",
    "# Calcular AIC de ambos modelos\n",
    "aic = model.aic\n",
    "aic_sig = model_sig.aic\n",
    "AIC = np.array([aic, aic_sig])\n",
    "Preferible = aic_sig < aic\n",
    "\n",
    "# Resultados\n",
    "print(\"Vector AIC:\", AIC)\n",
    "print(\"Preferible:\", Preferible)\n"
   ]
  },
  {
   "cell_type": "code",
   "execution_count": 93,
   "id": "150e73d4",
   "metadata": {},
   "outputs": [
    {
     "name": "stdout",
     "output_type": "stream",
     "text": [
      "Vector AIC: [1554.07598085 1597.02073916]\n",
      "Preferible: False\n"
     ]
    }
   ],
   "source": [
    "train, test = train_test_split(data, test_size=0.2, random_state=123)\n",
    "X_train = train[['vh', 'wind', 'humidity', 'temp', 'ibh', 'dpg', 'ibt', 'vis', 'doy']]\n",
    "y_train = train['O3']\n",
    "X_test = test[['vh', 'wind', 'humidity', 'temp', 'ibh', 'dpg', 'ibt', 'vis', 'doy']]\n",
    "y_test = test['O3']\n",
    "\n",
    "X_train_const = sm.add_constant(X_train)\n",
    "model = sm.OLS(y_train, X_train_const).fit()\n",
    "\n",
    "X_train_significativas = train[['humidity', 'temp', 'ibt', 'doy']]\n",
    "model_sig = sm.OLS(y_train, X_train_significativas).fit()\n",
    "aic = model.aic\n",
    "aic_sig = model_sig.aic\n",
    "AIC = np.array([aic, aic_sig])\n",
    "Preferible = aic_sig < aic\n",
    "print(\"Vector AIC:\", AIC)\n",
    "print(\"Preferible:\", Preferible)\n"
   ]
  },
  {
   "cell_type": "code",
   "execution_count": 97,
   "id": "64bcab6b",
   "metadata": {},
   "outputs": [
    {
     "ename": "IndexError",
     "evalue": "boolean index did not match indexed array along dimension 0; dimension is 9 but corresponding boolean dimension is 10",
     "output_type": "error",
     "traceback": [
      "\u001b[1;31m---------------------------------------------------------------------------\u001b[0m",
      "\u001b[1;31mIndexError\u001b[0m                                Traceback (most recent call last)",
      "Cell \u001b[1;32mIn [97], line 16\u001b[0m\n\u001b[0;32m     13\u001b[0m aic_full \u001b[38;5;241m=\u001b[39m model_full\u001b[38;5;241m.\u001b[39maic\n\u001b[0;32m     15\u001b[0m \u001b[38;5;66;03m# Modelo con variables significativas (sin intercepto)\u001b[39;00m\n\u001b[1;32m---> 16\u001b[0m X_train_sig \u001b[38;5;241m=\u001b[39m X_train[\u001b[43mX_train\u001b[49m\u001b[38;5;241;43m.\u001b[39;49m\u001b[43mcolumns\u001b[49m\u001b[43m[\u001b[49m\u001b[43msigVars\u001b[49m\u001b[43m]\u001b[49m]\n\u001b[0;32m     17\u001b[0m model_sig \u001b[38;5;241m=\u001b[39m sm\u001b[38;5;241m.\u001b[39mOLS(y_train, X_train_sig)\u001b[38;5;241m.\u001b[39mfit()\n\u001b[0;32m     18\u001b[0m aic_sig \u001b[38;5;241m=\u001b[39m model_sig\u001b[38;5;241m.\u001b[39maic\n",
      "File \u001b[1;32m~\\AppData\\Local\\Packages\\PythonSoftwareFoundation.Python.3.10_qbz5n2kfra8p0\\LocalCache\\local-packages\\Python310\\site-packages\\pandas\\core\\indexes\\base.py:5377\u001b[0m, in \u001b[0;36mIndex.__getitem__\u001b[1;34m(self, key)\u001b[0m\n\u001b[0;32m   5374\u001b[0m     \u001b[38;5;28;01melse\u001b[39;00m:\n\u001b[0;32m   5375\u001b[0m         key \u001b[38;5;241m=\u001b[39m np\u001b[38;5;241m.\u001b[39masarray(key, dtype\u001b[38;5;241m=\u001b[39m\u001b[38;5;28mbool\u001b[39m)\n\u001b[1;32m-> 5377\u001b[0m result \u001b[38;5;241m=\u001b[39m \u001b[43mgetitem\u001b[49m\u001b[43m(\u001b[49m\u001b[43mkey\u001b[49m\u001b[43m)\u001b[49m\n\u001b[0;32m   5378\u001b[0m \u001b[38;5;66;03m# Because we ruled out integer above, we always get an arraylike here\u001b[39;00m\n\u001b[0;32m   5379\u001b[0m \u001b[38;5;28;01mif\u001b[39;00m result\u001b[38;5;241m.\u001b[39mndim \u001b[38;5;241m>\u001b[39m \u001b[38;5;241m1\u001b[39m:\n",
      "\u001b[1;31mIndexError\u001b[0m: boolean index did not match indexed array along dimension 0; dimension is 9 but corresponding boolean dimension is 10"
     ]
    }
   ],
   "source": [
    "import statsmodels.api as sm\n",
    "\n",
    "train, test = train_test_split(data, test_size=0.2, random_state=123)\n",
    "X_train = train[['vh', 'wind', 'humidity', 'temp', 'ibh', 'dpg', 'ibt', 'vis', 'doy']]\n",
    "y_train = train['O3']\n",
    "X_test = test[['vh', 'wind', 'humidity', 'temp', 'ibh', 'dpg', 'ibt', 'vis', 'doy']]\n",
    "y_test = test['O3']\n",
    "\n",
    "\n",
    "# Modelo con todas las variables (con intercepto)\n",
    "X_train_const = sm.add_constant(X_train)\n",
    "model_full = sm.OLS(y_train, X_train_const).fit()\n",
    "aic_full = model_full.aic\n",
    "\n",
    "# Modelo con variables significativas (sin intercepto)\n",
    "X_train_sig = X_train[X_train.columns[sigVars]]\n",
    "model_sig = sm.OLS(y_train, X_train_sig).fit()\n",
    "aic_sig = model_sig.aic\n",
    "\n",
    "# Vector AIC\n",
    "AIC = [aic_full, aic_sig]\n",
    "\n",
    "# Modelo preferible (menor AIC)\n",
    "preferible = aic_sig < aic_full\n",
    "\n",
    "# Imprimir resultados\n",
    "print(\"AIC del modelo completo:\", AIC[0])\n",
    "print(\"AIC del modelo con variables significativas:\", AIC[1])\n",
    "print(\"¿El modelo con menos variables es preferible? (True = sí, False = no):\", preferible)\n"
   ]
  },
  {
   "cell_type": "code",
   "execution_count": 103,
   "id": "4c0e4a7e",
   "metadata": {},
   "outputs": [
    {
     "name": "stdout",
     "output_type": "stream",
     "text": [
      "AIC del modelo completo: 1554.0759808495568\n",
      "AIC del modelo con variables significativas: 1597.0207391599592\n",
      "preferible? : False\n"
     ]
    }
   ],
   "source": [
    "train, test = train_test_split(data, test_size=0.2, random_state=123)\n",
    "X_train = train[['vh', 'wind', 'humidity', 'temp', 'ibh', 'dpg', 'ibt', 'vis', 'doy']]\n",
    "y_train = train['O3']\n",
    "X_test = test[['vh', 'wind', 'humidity', 'temp', 'ibh', 'dpg', 'ibt', 'vis', 'doy']]\n",
    "y_test = test['O3']\n",
    "\n",
    "X_train_const = sm.add_constant(X_train)\n",
    "model_full = sm.OLS(y_train, X_train_const).fit()\n",
    "aic_full = model_full.aic\n",
    "\n",
    "X_train_significativas = train[['humidity', 'temp', 'ibt', 'doy']]\n",
    "model_sig = sm.OLS(y_train, X_train_significativas).fit()\n",
    "aic_sig = model_sig.aic\n",
    "AIC = [aic_full, aic_sig]\n",
    "preferible = aic_sig < aic_full\n",
    "print(\"AIC del modelo completo:\", AIC[0])\n",
    "print(\"AIC del modelo con variables significativas:\", AIC[1])\n",
    "print(\"preferible? :\", preferible)\n"
   ]
  },
  {
   "cell_type": "code",
   "execution_count": 100,
   "id": "bfd1178a",
   "metadata": {},
   "outputs": [
    {
     "data": {
      "text/plain": [
       "1597.0207391599592"
      ]
     },
     "execution_count": 100,
     "metadata": {},
     "output_type": "execute_result"
    }
   ],
   "source": [
    "AIC[1]"
   ]
  },
  {
   "cell_type": "code",
   "execution_count": null,
   "id": "56e292ba",
   "metadata": {
    "deletable": false,
    "editable": false,
    "nbgrader": {
     "cell_type": "code",
     "checksum": "eaf9e6fee8801f946edc1e5b0fce641a",
     "grade": true,
     "grade_id": "cell-481a040defc566cd",
     "locked": true,
     "points": 8,
     "schema_version": 3,
     "solution": false,
     "task": false
    }
   },
   "outputs": [],
   "source": [
    "# Testing para la pregunta 1.5"
   ]
  },
  {
   "cell_type": "markdown",
   "id": "6d6c6dae",
   "metadata": {
    "deletable": false,
    "editable": false,
    "nbgrader": {
     "cell_type": "markdown",
     "checksum": "d77799e38ad1e00857669569bf060fa1",
     "grade": false,
     "grade_id": "cell-0dc6353ee057e8d0",
     "locked": true,
     "schema_version": 3,
     "solution": false,
     "task": false
    }
   },
   "source": [
    "#### 1.6 - Ajuste un tercer modelo de regresión lineal (sin intercepto), pero ahora utilizando la técnica de selección de variables \"forward stepwise\", basada en el AIC. Para este caso, debe comenzar con el modelo que solo incluye las variables significativas del punto 3. Luego, debe agregar una variable a la vez, seleccionando la variable que minimice el AIC. Este proceso debe repetirse hasta que no sea posible agregar más variables. ¿Cuál es el AIC de este modelo? ¿Cuáles variables fueron seleccionadas?¿Es estadísticamente significativo el modelo? (Test F).\n",
    "\n",
    "Entregar el AIC del modelo en un vector de una dimensión de nombre `AIC_forward`. Además, entregar un vector con el nombre de las `variables_seleccionadas`. Utilizar los nombres: vh, wind, humidity, temp, ibh, dpg, ibt, vis y doy. Por ejemplo, si wind y humidity son variables seleccionadas en este modelo, entonces \n",
    "`variables_seleccionadas = ['wind','humidity']`.\n",
    "\n",
    "También, debe responder si este modelo es preferible a los anteriores según AIC. Entregar un booleano de nombre `preferible_forward` que indique si el modelo con menos variables es preferible (True) o no (False). \n",
    "\n",
    "Finalmente guardar el estadístico de prueba y el p-valor de la prueba F en un objeto denominado `testF` el cual será una lista donde `testF[0]`debe contener el estadístico de prueba, mientras que `testF[1]` debe contener el p-valor. Por ejemplo, si `model` es el modelo final seleccionado entonces `testF = [model.fvalue, model.f_pvalue]`."
   ]
  },
  {
   "cell_type": "code",
   "execution_count": null,
   "id": "bbd2545c",
   "metadata": {
    "deletable": false,
    "nbgrader": {
     "cell_type": "code",
     "checksum": "05f6bd5ff3721d0e406d7f2e4433dd1e",
     "grade": false,
     "grade_id": "cell-c2785e930cd7af6b",
     "locked": false,
     "schema_version": 3,
     "solution": true,
     "task": false
    }
   },
   "outputs": [],
   "source": [
    "AIC_forward = None                # Variable que debe modificar\n",
    "variables_seleccionadas = None    # Variable que debe modificar\n",
    "preferible_forward = None         # Variable que debe modificar\n",
    "\n",
    "# your code here\n",
    "raise NotImplementedError"
   ]
  },
  {
   "cell_type": "code",
   "execution_count": 55,
   "metadata": {},
   "outputs": [
    {
     "name": "stdout",
     "output_type": "stream",
     "text": [
      "AIC inicial: 1549.3095063721744\n",
      "Variables iniciales: ['humidity', 'temp', 'ibt', 'doy']\n",
      "Mejor AIC actualizado: 1548.4262703397376\n",
      "Variables seleccionadas: ['humidity', 'temp', 'ibt', 'doy', 'vis']\n",
      "Mejor AIC actualizado: 1548.6991665136575\n",
      "Variables seleccionadas: ['humidity', 'temp', 'ibt', 'doy', 'vis', 'vh']\n",
      "Mejor AIC actualizado: 1550.2405136156212\n",
      "Variables seleccionadas: ['humidity', 'temp', 'ibt', 'doy', 'vis', 'vh', 'wind']\n",
      "Mejor AIC actualizado: 1552.0785005908094\n",
      "Variables seleccionadas: ['humidity', 'temp', 'ibt', 'doy', 'vis', 'vh', 'wind', 'ibh']\n",
      "Mejor AIC actualizado: 1554.0759808495568\n",
      "Variables seleccionadas: ['humidity', 'temp', 'ibt', 'doy', 'vis', 'vh', 'wind', 'ibh', 'dpg']\n",
      "AIC del modelo con selección forward stepwise: 1554.0759808495568\n",
      "Variables seleccionadas: ['doy', 'dpg', 'humidity', 'ibh', 'ibt', 'temp', 'vh', 'vis', 'wind']\n",
      "Vector AIC forward: [1554.07598085]\n",
      "Modelo forward stepwise?: False\n",
      "Estadístico de prueba y p-valor: [63.96132626844721, 3.076775918896759e-60]\n"
     ]
    }
   ],
   "source": [
    "X = data[['vh', 'wind', 'humidity', 'temp', 'ibh', 'dpg', 'ibt', 'vis', 'doy']]\n",
    "y = data['O3']\n",
    "X_train, X_test, y_train, y_test = train_test_split(X, y, test_size=0.2, random_state=123)\n",
    "\n",
    "# Variables iniciales significativas\n",
    "variables_sig = ['humidity', 'temp', 'ibt', 'doy']\n",
    "\n",
    "# Función para calcular el AIC\n",
    "def calcular_aic(X_train, y_train):\n",
    "    X_train_const = sm.add_constant(X_train)\n",
    "    model = sm.OLS(y_train, X_train_const).fit()\n",
    "    return model.aic, model\n",
    "\n",
    "variables_disponibles = list(set(X.columns) - set(variables_sig))\n",
    "variables_seleccionadas = variables_sig.copy()\n",
    "aic_mejorado, model_mejorado = calcular_aic(X_train[variables_seleccionadas], y_train)\n",
    "\n",
    "print(\"AIC inicial:\", aic_mejorado)\n",
    "print(\"Variables iniciales:\", variables_seleccionadas)\n",
    "\n",
    "# Forward stepwise\n",
    "while variables_disponibles:\n",
    "    mejor_aic = np.inf\n",
    "    mejor_variable = None\n",
    "    \n",
    "    for variable in variables_disponibles:\n",
    "        variables_test = variables_seleccionadas + [variable]\n",
    "        aic, _ = calcular_aic(X_train[variables_test], y_train)\n",
    "        \n",
    "        if aic < mejor_aic:\n",
    "            mejor_aic = aic\n",
    "            mejor_variable = variable\n",
    "    \n",
    "    if mejor_variable is not None:\n",
    "        variables_seleccionadas.append(mejor_variable)\n",
    "        variables_disponibles.remove(mejor_variable)\n",
    "        aic_mejorado, model_mejorado = calcular_aic(X_train[variables_seleccionadas], y_train)\n",
    "        print(\"Mejor AIC actualizado:\", aic_mejorado)\n",
    "        print(\"Variables seleccionadas:\", variables_seleccionadas)\n",
    "    else:\n",
    "        break\n",
    "\n",
    "AIC_forward = np.array([aic_mejorado])\n",
    "variables_seleccionadas = sorted(variables_seleccionadas)\n",
    "testF = [model_mejorado.fvalue, model_mejorado.f_pvalue]\n",
    "aic_modelo_total = 1554.0759808495568  \n",
    "aic_modelo_sig = 1549.3095063721744    \n",
    "preferible_forward = aic_mejorado < min(aic_modelo_total, aic_modelo_sig)\n",
    "\n",
    "print(\"AIC del modelo con selección forward stepwise:\", aic_mejorado)\n",
    "print(\"Variables seleccionadas:\", variables_seleccionadas)\n",
    "print(\"Vector AIC forward:\", AIC_forward)\n",
    "print(\"Modelo forward stepwise?:\", preferible_forward)\n",
    "print(\"Estadístico de prueba y p-valor:\", testF)\n"
   ]
  },
  {
   "cell_type": "code",
   "execution_count": 106,
   "id": "90bcc7bf",
   "metadata": {},
   "outputs": [
    {
     "name": "stdout",
     "output_type": "stream",
     "text": [
      "AIC del modelo forward stepwise: 1548.4262703397376\n",
      "Variables seleccionadas: ['humidity', 'temp', 'ibt', 'doy', 'vis']\n",
      "¿Es preferible el modelo forward stepwise según AIC? (True = sí, False = no): True\n",
      "Estadístico de prueba F: 115.44964653637837\n",
      "P-valor de la prueba F: 9.881453698902351e-64\n"
     ]
    }
   ],
   "source": [
    "train, test = train_test_split(data, test_size=0.2, random_state=123)\n",
    "X_train = train[['vh', 'wind', 'humidity', 'temp', 'ibh', 'dpg', 'ibt', 'vis', 'doy']]\n",
    "y_train = train['O3']\n",
    "\n",
    "inciales = ['humidity', 'temp', 'ibt', 'doy']\n",
    "candidatos = ['vh', 'wind', 'ibh', 'dpg', 'vis']\n",
    "selected_vars = inciales.copy()\n",
    "\n",
    "def fit_model(X, y, vars):\n",
    "    X_with_const = sm.add_constant(X[vars])\n",
    "    model = sm.OLS(y, X_with_const).fit()\n",
    "    return model\n",
    "\n",
    "model = fit_model(X_train, y_train, selected_vars)\n",
    "aic_forward = [model.aic]\n",
    "\n",
    "while candidatos:\n",
    "    aic_candidates = []\n",
    "    for var in candidatos:\n",
    "        temp_vars = selected_vars + [var]\n",
    "        temp_model = fit_model(X_train, y_train, temp_vars)\n",
    "        aic_candidates.append((var, temp_model.aic))\n",
    "    \n",
    "    best_var, best_aic = min(aic_candidates, key=lambda x: x[1])\n",
    "    \n",
    "    if best_aic < model.aic:\n",
    "        selected_vars.append(best_var)\n",
    "        candidatos.remove(best_var)\n",
    "        model = fit_model(X_train, y_train, selected_vars)\n",
    "        aic_forward.append(model.aic)\n",
    "    else:\n",
    "        break\n",
    "\n",
    "AIC_forward = [model.aic]\n",
    "variables_seleccionadas = selected_vars\n",
    "preferible_forward = model.aic < min(aic_full, aic_sig)\n",
    "testF = [model.fvalue, model.f_pvalue]\n",
    "print(\"AIC del modelo forward stepwise:\", AIC_forward[0])\n",
    "print(\"Variables seleccionadas:\", variables_seleccionadas)\n",
    "print(\"¿Es preferible el modelo forward stepwise según AIC? (True = sí, False = no):\", preferible_forward)\n",
    "print(\"Estadístico de prueba F:\", testF[0])\n",
    "print(\"P-valor de la prueba F:\", testF[1])\n"
   ]
  },
  {
   "cell_type": "code",
   "execution_count": 108,
   "id": "e7494e63",
   "metadata": {},
   "outputs": [
    {
     "name": "stdout",
     "output_type": "stream",
     "text": [
      "AIC forward stepwise: 1548.4262703397376\n",
      "Variables seleccionadas: ['humidity', 'temp', 'ibt', 'doy', 'vis']\n",
      "preferible? True\n",
      "Estadístico de prueba F: 115.44964653637837\n",
      "P-valor de la prueba F: 9.881453698902351e-64\n"
     ]
    }
   ],
   "source": [
    "train, test = train_test_split(data, test_size=0.2, random_state=123)\n",
    "X_train = train[['vh', 'wind', 'humidity', 'temp', 'ibh', 'dpg', 'ibt', 'vis', 'doy']]\n",
    "y_train = train['O3']\n",
    "\n",
    "inciales = ['humidity', 'temp', 'ibt', 'doy']\n",
    "candidatos = ['vh', 'wind', 'ibh', 'dpg', 'vis']\n",
    "selected_vars = inciales.copy()\n",
    "\n",
    "def fit_model(X, y, vars):\n",
    "    X_with_const = sm.add_constant(X[vars])\n",
    "    model = sm.OLS(y, X_with_const).fit()\n",
    "    return model\n",
    "\n",
    "model = fit_model(X_train, y_train, selected_vars)\n",
    "aic_forward = [float(model.aic)]  \n",
    "\n",
    "while candidatos:\n",
    "    aic_candidates = []\n",
    "    for var in candidatos:\n",
    "        temp_vars = selected_vars + [var]\n",
    "        temp_model = fit_model(X_train, y_train, temp_vars)\n",
    "        aic_candidates.append((var, float(temp_model.aic)))  \n",
    "    \n",
    "    best_var, best_aic = min(aic_candidates, key=lambda x: x[1])\n",
    "    \n",
    "    if best_aic < model.aic:\n",
    "        selected_vars.append(best_var)\n",
    "        candidatos.remove(best_var)\n",
    "        model = fit_model(X_train, y_train, selected_vars)\n",
    "        aic_forward.append(float(model.aic))  \n",
    "    else:\n",
    "        break\n",
    "\n",
    "AIC_forward = [float(model.aic)]  \n",
    "variables_seleccionadas = selected_vars\n",
    "preferible_forward = AIC_forward[0] < min(aic_full, aic_sig)\n",
    "testF = [model.fvalue, model.f_pvalue]\n",
    "print(\"AIC forward stepwise:\", AIC_forward[0])\n",
    "print(\"Variables seleccionadas:\", variables_seleccionadas)\n",
    "print(\"preferible?\", preferible_forward)\n",
    "print(\"Estadístico de prueba F:\", testF[0])\n",
    "print(\"P-valor de la prueba F:\", testF[1])\n"
   ]
  },
  {
   "cell_type": "code",
   "execution_count": 110,
   "id": "d13c703e",
   "metadata": {},
   "outputs": [
    {
     "name": "stdout",
     "output_type": "stream",
     "text": [
      "AIC del modelo forward stepwise: 1548.4262703397376\n",
      "Variables seleccionadas: ['humidity', 'temp', 'ibt', 'doy', 'vis']\n",
      "¿Es preferible el modelo forward stepwise según AIC? (True = sí, False = no): True\n",
      "Estadístico de prueba F: 115.44964653637837\n",
      "P-valor de la prueba F: 9.881453698902351e-64\n"
     ]
    }
   ],
   "source": [
    "import statsmodels.api as sm\n",
    "from sklearn.model_selection import train_test_split\n",
    "\n",
    "# Dividir el DataFrame en conjuntos de entrenamiento y prueba\n",
    "train, test = train_test_split(data, test_size=0.2, random_state=123)\n",
    "X_train = train[['vh', 'wind', 'humidity', 'temp', 'ibh', 'dpg', 'ibt', 'vis', 'doy']]\n",
    "y_train = train['O3']\n",
    "\n",
    "# Variables iniciales y candidatos\n",
    "inciales = ['humidity', 'temp', 'ibt', 'doy']\n",
    "candidatos = ['vh', 'wind', 'ibh', 'dpg', 'vis']\n",
    "selected_vars = inciales.copy()\n",
    "\n",
    "# Función para ajustar el modelo y calcular el AIC\n",
    "def fit_model(X, y, vars):\n",
    "    X_with_const = sm.add_constant(X[vars])\n",
    "    model = sm.OLS(y, X_with_const).fit()\n",
    "    return model\n",
    "\n",
    "# Ajustar el modelo inicial con las variables significativas\n",
    "model = fit_model(X_train, y_train, selected_vars)\n",
    "aic_forward = [float(model.aic)]  # Guardar el AIC inicial\n",
    "\n",
    "# Forward stepwise selection\n",
    "while candidatos:\n",
    "    aic_candidates = []\n",
    "    for var in candidatos:\n",
    "        temp_vars = selected_vars + [var]\n",
    "        temp_model = fit_model(X_train, y_train, temp_vars)\n",
    "        aic_candidates.append((var, float(temp_model.aic)))  # Convertir a float\n",
    "    \n",
    "    best_var, best_aic = min(aic_candidates, key=lambda x: x[1])\n",
    "    \n",
    "    if best_aic < model.aic:\n",
    "        selected_vars.append(best_var)\n",
    "        candidatos.remove(best_var)\n",
    "        model = fit_model(X_train, y_train, selected_vars)\n",
    "        aic_forward.append(float(model.aic))  # Guardar el AIC del modelo actualizado\n",
    "    else:\n",
    "        break\n",
    "\n",
    "# Resultados finales\n",
    "AIC_forward = float(model.aic)  # Convertir a float\n",
    "variables_seleccionadas = selected_vars\n",
    "preferible_forward = AIC_forward < min(aic_full, aic_sig)\n",
    "testF = [model.fvalue, model.f_pvalue]\n",
    "\n",
    "# Imprimir resultados\n",
    "print(\"AIC del modelo forward stepwise:\", AIC_forward)\n",
    "print(\"Variables seleccionadas:\", variables_seleccionadas)\n",
    "print(\"¿Es preferible el modelo forward stepwise según AIC? (True = sí, False = no):\", preferible_forward)\n",
    "print(\"Estadístico de prueba F:\", testF[0])\n",
    "print(\"P-valor de la prueba F:\", testF[1])\n"
   ]
  },
  {
   "cell_type": "code",
   "execution_count": 114,
   "id": "57398e35",
   "metadata": {},
   "outputs": [
    {
     "name": "stdout",
     "output_type": "stream",
     "text": [
      "AIC del modelo completo: 1554.0759808495568\n",
      "AIC con variables significativas: 1597.0207391599592\n",
      "AIC forward stepwise: 1547.6899975652686\n",
      "Variables seleccionadas: ['humidity', 'temp', 'ibt', 'doy', 'vh', 'vis']\n",
      "preferible?: True\n",
      "Estadístico de prueba F y p-valor: [410.7837343019995, 6.734915605463352e-129]\n"
     ]
    }
   ],
   "source": [
    "train, test = train_test_split(data, test_size=0.2, random_state=123)\n",
    "X_train = train[['vh', 'wind', 'humidity', 'temp', 'ibh', 'dpg', 'ibt', 'vis', 'doy']]\n",
    "y_train = train['O3']\n",
    "X_test = test[['vh', 'wind', 'humidity', 'temp', 'ibh', 'dpg', 'ibt', 'vis', 'doy']]\n",
    "y_test = test['O3']\n",
    "\n",
    "\n",
    "X_train_const = sm.add_constant(X_train)\n",
    "model_full = sm.OLS(y_train, X_train_const).fit()\n",
    "aic_full = model_full.aic\n",
    "\n",
    "\n",
    "X_train_significativas = train[['humidity', 'temp', 'ibt', 'doy']]\n",
    "model_sig = sm.OLS(y_train, X_train_significativas).fit()\n",
    "aic_sig = model_sig.aic\n",
    "AIC = [aic_full, aic_sig]\n",
    "preferible = aic_sig < aic_full\n",
    "\n",
    "\n",
    "remaining_vars = ['vh', 'wind', 'humidity', 'temp', 'ibh', 'dpg', 'ibt', 'vis', 'doy']\n",
    "selected_vars = ['humidity', 'temp', 'ibt', 'doy']\n",
    "current_aic = aic_sig\n",
    "\n",
    "while remaining_vars:\n",
    "    aic_with_candidates = []\n",
    "    for candidate in remaining_vars:\n",
    "        model = sm.OLS(y_train, train[selected_vars + [candidate]]).fit()\n",
    "        aic_with_candidates.append((model.aic, candidate))\n",
    "    \n",
    "    aic_with_candidates.sort()\n",
    "    best_new_aic, best_candidate = aic_with_candidates[0]\n",
    "    \n",
    "    if best_new_aic < current_aic:\n",
    "        selected_vars.append(best_candidate)\n",
    "        remaining_vars.remove(best_candidate)\n",
    "        current_aic = best_new_aic\n",
    "    else:\n",
    "        break\n",
    "\n",
    "\n",
    "model_forward = sm.OLS(y_train, train[selected_vars]).fit()\n",
    "aic_forward = model_forward.aic\n",
    "AIC_forward = [aic_forward]\n",
    "variables_seleccionadas = selected_vars\n",
    "preferible_forward = aic_forward < min(AIC)\n",
    "testF = [model_forward.fvalue, model_forward.f_pvalue]\n",
    "\n",
    "print(\"AIC del modelo completo:\", AIC[0])\n",
    "print(\"AIC con variables significativas:\", AIC[1])\n",
    "print(\"AIC forward stepwise:\", AIC_forward[0])\n",
    "print(\"Variables seleccionadas:\", variables_seleccionadas)\n",
    "print(\"preferible?:\", preferible_forward)\n",
    "print(\"Estadístico de prueba F y p-valor:\", testF)\n"
   ]
  },
  {
   "cell_type": "code",
   "execution_count": 117,
   "id": "789a67ea",
   "metadata": {},
   "outputs": [
    {
     "name": "stdout",
     "output_type": "stream",
     "text": [
      "AIC del modelo completo: 1554.0759808495568\n",
      "AIC con variables significativas: 1597.0207391599592\n",
      "AIC forward stepwise: 1547.6899975652686\n",
      "Variables seleccionadas: ['humidity', 'temp', 'ibt', 'doy', 'vh', 'vis']\n",
      "preferible?: True\n",
      "Estadístico de prueba F y p-valor: [410.7837343019995, 6.734915605463352e-129]\n"
     ]
    }
   ],
   "source": [
    "train, test = train_test_split(data, test_size=0.2, random_state=123)\n",
    "X_train = train[['vh', 'wind', 'humidity', 'temp', 'ibh', 'dpg', 'ibt', 'vis', 'doy']]\n",
    "y_train = train['O3']\n",
    "X_test = test[['vh', 'wind', 'humidity', 'temp', 'ibh', 'dpg', 'ibt', 'vis', 'doy']]\n",
    "y_test = test['O3']\n",
    "\n",
    "X_train_const = sm.add_constant(X_train)\n",
    "model_full = sm.OLS(y_train, X_train_const).fit()\n",
    "aic_full = model_full.aic\n",
    "\n",
    "X_train_significativas = train[['humidity', 'temp', 'ibt', 'doy']]\n",
    "model_sig = sm.OLS(y_train, X_train_significativas).fit()\n",
    "aic_sig = model_sig.aic\n",
    "AIC = [aic_full, aic_sig]\n",
    "preferible = aic_sig < aic_full\n",
    "\n",
    "otras = ['vh', 'wind', 'humidity', 'temp', 'ibh', 'dpg', 'ibt', 'vis', 'doy']\n",
    "selected_vars = ['humidity', 'temp', 'ibt', 'doy']\n",
    "current_aic = aic_sig\n",
    "\n",
    "while otras:\n",
    "    aic_candidatos = []\n",
    "    for candidatos in otras:\n",
    "        model = sm.OLS(y_train, train[selected_vars + [candidatos]]).fit()\n",
    "        aic_candidatos.append((model.aic, candidatos))\n",
    "    \n",
    "    aic_candidatos.sort()\n",
    "    mejor_aic, mejor_candidato = aic_candidatos[0]\n",
    "    \n",
    "    if mejor_aic < current_aic:\n",
    "        selected_vars.append(mejor_candidato)\n",
    "        otras.remove(mejor_candidato)\n",
    "        current_aic = mejor_aic\n",
    "    else:\n",
    "        break\n",
    "\n",
    "model_forward = sm.OLS(y_train, train[selected_vars]).fit()\n",
    "aic_forward = model_forward.aic\n",
    "AIC_forward = np.float64(aic_forward)  \n",
    "variables_seleccionadas = selected_vars\n",
    "preferible_forward = aic_forward < min(AIC)\n",
    "testF = [model_forward.fvalue, model_forward.f_pvalue]\n",
    "\n",
    "print(\"AIC del modelo completo:\", AIC[0])\n",
    "print(\"AIC con variables significativas:\", AIC[1])\n",
    "print(\"AIC forward stepwise:\", AIC_forward)\n",
    "print(\"Variables seleccionadas:\", variables_seleccionadas)\n",
    "print(\"preferible?:\", preferible_forward)\n",
    "print(\"Estadístico de prueba F y p-valor:\", testF)\n"
   ]
  },
  {
   "cell_type": "code",
   "execution_count": 54,
   "id": "9a65bd96",
   "metadata": {},
   "outputs": [
    {
     "data": {
      "text/plain": [
       "3.076775918896759e-60"
      ]
     },
     "execution_count": 54,
     "metadata": {},
     "output_type": "execute_result"
    }
   ],
   "source": [
    "testF[1]"
   ]
  },
  {
   "cell_type": "code",
   "execution_count": null,
   "id": "e7557aac",
   "metadata": {
    "deletable": false,
    "editable": false,
    "nbgrader": {
     "cell_type": "code",
     "checksum": "a378c6df5da7a5e616c010eaa200584f",
     "grade": true,
     "grade_id": "cell-9b7ae23dc70f649a",
     "locked": true,
     "points": 12,
     "schema_version": 3,
     "solution": false,
     "task": false
    }
   },
   "outputs": [],
   "source": [
    "# Testing 1 para la pregunta 1.6"
   ]
  },
  {
   "cell_type": "code",
   "execution_count": null,
   "id": "3044dd5e",
   "metadata": {
    "deletable": false,
    "editable": false,
    "nbgrader": {
     "cell_type": "code",
     "checksum": "f3c80b956c3c15f7f5e2d3860197e89c",
     "grade": true,
     "grade_id": "cell-6d102d66a072f879",
     "locked": true,
     "points": 10,
     "schema_version": 3,
     "solution": false,
     "task": false
    }
   },
   "outputs": [],
   "source": [
    "# Testing 2 para la pregunta 1.6"
   ]
  },
  {
   "cell_type": "markdown",
   "id": "cb797623",
   "metadata": {
    "deletable": false,
    "editable": false,
    "nbgrader": {
     "cell_type": "markdown",
     "checksum": "4bb227f7da13badf987225205f46df67",
     "grade": false,
     "grade_id": "cell-23313e0caf201037",
     "locked": true,
     "schema_version": 3,
     "solution": false,
     "task": false
    }
   },
   "source": [
    "#### 1.7 - Con base al modelo del punto anterior, realice la predicción de la variable respuesta para el conjunto de test. Luego, calcule el error cuadrático medio de la predicción. \n",
    "\n",
    "Entregar el error cuadrático medio en una variable de nombre `MSEpred` y el vector de predicciones en una variable de nombre `pred`."
   ]
  },
  {
   "cell_type": "code",
   "execution_count": null,
   "id": "37965a8b",
   "metadata": {
    "deletable": false,
    "nbgrader": {
     "cell_type": "code",
     "checksum": "572aa5591407f2539efd26acb23e1a59",
     "grade": false,
     "grade_id": "cell-135bd05c02ae823e",
     "locked": false,
     "schema_version": 3,
     "solution": true,
     "task": false
    }
   },
   "outputs": [],
   "source": [
    "pred = None         # Variable que debe modificar\n",
    "MSEpred = None      # Variable que debe modificar\n",
    "\n",
    "# your code here\n",
    "raise NotImplementedError"
   ]
  },
  {
   "cell_type": "code",
   "execution_count": 69,
   "id": "9e2cb26e",
   "metadata": {},
   "outputs": [
    {
     "name": "stdout",
     "output_type": "stream",
     "text": [
      "Error cuadrático medio de la predicción: 18.276340507826646\n",
      "Vector de predicciones: 159    18.344258\n",
      "203    10.997293\n",
      "310     1.292518\n",
      "31      0.745907\n",
      "55      5.102422\n",
      "         ...    \n",
      "33      3.967718\n",
      "226    15.676675\n",
      "188    23.376188\n",
      "72      5.645248\n",
      "201    20.130845\n",
      "Length: 66, dtype: float64\n"
     ]
    }
   ],
   "source": [
    "X_train_final = X_train[variables_sig]\n",
    "X_train_final_const = sm.add_constant(X_train_final)\n",
    "model_final = sm.OLS(y_train, X_train_final_const).fit()\n",
    "X_test_final = X_test[variables_sig]\n",
    "X_test_final_const = sm.add_constant(X_test_final)\n",
    "\n",
    "pred = model_final.predict(X_test_final_const)\n",
    "MSEpred = metrics.mean_squared_error(y_test, pred)\n",
    "\n",
    "print(\"Error cuadrático medio de la predicción:\", MSEpred)\n",
    "print(\"Vector de predicciones:\", pred)\n"
   ]
  },
  {
   "cell_type": "code",
   "execution_count": 120,
   "id": "6d2f7de5",
   "metadata": {},
   "outputs": [
    {
     "name": "stdout",
     "output_type": "stream",
     "text": [
      "Vector de predicciones: 159    18.335784\n",
      "203    10.665542\n",
      "310     1.878102\n",
      "31      0.754119\n",
      "55      5.589840\n",
      "         ...    \n",
      "33      2.691003\n",
      "226    15.520058\n",
      "188    23.475714\n",
      "72      5.410216\n",
      "201    20.076757\n",
      "Length: 66, dtype: float64\n",
      "Error cuadrático medio (MSE): 17.658748987607208\n"
     ]
    }
   ],
   "source": [
    "X_test_significativas = test[['humidity', 'temp', 'ibt', 'doy', 'vh', 'vis']]\n",
    "pred = model_forward.predict(X_test_significativas)\n",
    "MSEpred = metrics.mean_squared_error(y_test, pred)\n",
    "print(\"Vector de predicciones:\", pred)\n",
    "print(\"Error cuadrático medio (MSE):\", MSEpred)\n"
   ]
  },
  {
   "cell_type": "code",
   "execution_count": null,
   "id": "5459a59c",
   "metadata": {
    "deletable": false,
    "editable": false,
    "nbgrader": {
     "cell_type": "code",
     "checksum": "89d52295e92e2fe8b73bb149b4789618",
     "grade": true,
     "grade_id": "cell-7ed8da9663311b53",
     "locked": true,
     "points": 10,
     "schema_version": 3,
     "solution": false,
     "task": false
    }
   },
   "outputs": [],
   "source": [
    "# Testing para la pregunta 1.7"
   ]
  },
  {
   "cell_type": "markdown",
   "id": "f7b61b32",
   "metadata": {
    "deletable": false,
    "editable": false,
    "nbgrader": {
     "cell_type": "markdown",
     "checksum": "03335c881d0c51a4fe006abf25abd700",
     "grade": false,
     "grade_id": "cell-f03d6006dc983bab",
     "locked": true,
     "schema_version": 3,
     "solution": false,
     "task": false
    }
   },
   "source": [
    "# Problema 2\n",
    "\n",
    "Para esta segunda sección, se utilizará el conjunto de datos `prostate`. Este conjunto de datos contiene información sobre 97 pacientes con cáncer de próstata. Considere la variable respuesta como `svi` (seminal vesicle invasion). Esta variable indica si el cáncer se ha extendido a la vesícula seminal (1) o no (0). Las demás variables serán consideradas como variables explicativas. El \n",
    "objetivo es ajustar un modelo de regresión logística para predecir la invasión de la vesícula seminal. Los datos se cargarán automáticamente en la siguiente celda, con el nombre `prostate_data`."
   ]
  },
  {
   "cell_type": "code",
   "execution_count": 121,
   "id": "be215cff",
   "metadata": {
    "deletable": false,
    "editable": false,
    "nbgrader": {
     "cell_type": "code",
     "checksum": "4c1174de6939826b44149121536b7e32",
     "grade": false,
     "grade_id": "cell-4783bc86dd188035",
     "locked": true,
     "schema_version": 3,
     "solution": false,
     "task": false
    }
   },
   "outputs": [],
   "source": [
    "prostate_data = prostate.load()  # cargamos los datos del problema 2"
   ]
  },
  {
   "cell_type": "code",
   "execution_count": 123,
   "id": "2bf53e74",
   "metadata": {},
   "outputs": [
    {
     "data": {
      "text/html": [
       "<div>\n",
       "<style scoped>\n",
       "    .dataframe tbody tr th:only-of-type {\n",
       "        vertical-align: middle;\n",
       "    }\n",
       "\n",
       "    .dataframe tbody tr th {\n",
       "        vertical-align: top;\n",
       "    }\n",
       "\n",
       "    .dataframe thead th {\n",
       "        text-align: right;\n",
       "    }\n",
       "</style>\n",
       "<table border=\"1\" class=\"dataframe\">\n",
       "  <thead>\n",
       "    <tr style=\"text-align: right;\">\n",
       "      <th></th>\n",
       "      <th>lcavol</th>\n",
       "      <th>lweight</th>\n",
       "      <th>age</th>\n",
       "      <th>lbph</th>\n",
       "      <th>svi</th>\n",
       "      <th>lcp</th>\n",
       "      <th>gleason</th>\n",
       "      <th>pgg45</th>\n",
       "      <th>lpsa</th>\n",
       "    </tr>\n",
       "  </thead>\n",
       "  <tbody>\n",
       "    <tr>\n",
       "      <th>0</th>\n",
       "      <td>-0.579819</td>\n",
       "      <td>2.7695</td>\n",
       "      <td>50</td>\n",
       "      <td>-1.386294</td>\n",
       "      <td>0</td>\n",
       "      <td>-1.38629</td>\n",
       "      <td>6</td>\n",
       "      <td>0</td>\n",
       "      <td>-0.43078</td>\n",
       "    </tr>\n",
       "    <tr>\n",
       "      <th>1</th>\n",
       "      <td>-0.994252</td>\n",
       "      <td>3.3196</td>\n",
       "      <td>58</td>\n",
       "      <td>-1.386294</td>\n",
       "      <td>0</td>\n",
       "      <td>-1.38629</td>\n",
       "      <td>6</td>\n",
       "      <td>0</td>\n",
       "      <td>-0.16252</td>\n",
       "    </tr>\n",
       "    <tr>\n",
       "      <th>2</th>\n",
       "      <td>-0.510826</td>\n",
       "      <td>2.6912</td>\n",
       "      <td>74</td>\n",
       "      <td>-1.386294</td>\n",
       "      <td>0</td>\n",
       "      <td>-1.38629</td>\n",
       "      <td>7</td>\n",
       "      <td>20</td>\n",
       "      <td>-0.16252</td>\n",
       "    </tr>\n",
       "    <tr>\n",
       "      <th>3</th>\n",
       "      <td>-1.203973</td>\n",
       "      <td>3.2828</td>\n",
       "      <td>58</td>\n",
       "      <td>-1.386294</td>\n",
       "      <td>0</td>\n",
       "      <td>-1.38629</td>\n",
       "      <td>6</td>\n",
       "      <td>0</td>\n",
       "      <td>-0.16252</td>\n",
       "    </tr>\n",
       "    <tr>\n",
       "      <th>4</th>\n",
       "      <td>0.751416</td>\n",
       "      <td>3.4324</td>\n",
       "      <td>62</td>\n",
       "      <td>-1.386294</td>\n",
       "      <td>0</td>\n",
       "      <td>-1.38629</td>\n",
       "      <td>6</td>\n",
       "      <td>0</td>\n",
       "      <td>0.37156</td>\n",
       "    </tr>\n",
       "    <tr>\n",
       "      <th>...</th>\n",
       "      <td>...</td>\n",
       "      <td>...</td>\n",
       "      <td>...</td>\n",
       "      <td>...</td>\n",
       "      <td>...</td>\n",
       "      <td>...</td>\n",
       "      <td>...</td>\n",
       "      <td>...</td>\n",
       "      <td>...</td>\n",
       "    </tr>\n",
       "    <tr>\n",
       "      <th>92</th>\n",
       "      <td>2.830268</td>\n",
       "      <td>3.8764</td>\n",
       "      <td>68</td>\n",
       "      <td>-1.386294</td>\n",
       "      <td>1</td>\n",
       "      <td>1.32176</td>\n",
       "      <td>7</td>\n",
       "      <td>60</td>\n",
       "      <td>4.38515</td>\n",
       "    </tr>\n",
       "    <tr>\n",
       "      <th>93</th>\n",
       "      <td>3.821004</td>\n",
       "      <td>3.8969</td>\n",
       "      <td>44</td>\n",
       "      <td>-1.386294</td>\n",
       "      <td>1</td>\n",
       "      <td>2.16905</td>\n",
       "      <td>7</td>\n",
       "      <td>40</td>\n",
       "      <td>4.68444</td>\n",
       "    </tr>\n",
       "    <tr>\n",
       "      <th>94</th>\n",
       "      <td>2.907447</td>\n",
       "      <td>3.3962</td>\n",
       "      <td>52</td>\n",
       "      <td>-1.386294</td>\n",
       "      <td>1</td>\n",
       "      <td>2.46385</td>\n",
       "      <td>7</td>\n",
       "      <td>10</td>\n",
       "      <td>5.14312</td>\n",
       "    </tr>\n",
       "    <tr>\n",
       "      <th>95</th>\n",
       "      <td>2.882564</td>\n",
       "      <td>3.7739</td>\n",
       "      <td>68</td>\n",
       "      <td>1.558145</td>\n",
       "      <td>1</td>\n",
       "      <td>1.55814</td>\n",
       "      <td>7</td>\n",
       "      <td>80</td>\n",
       "      <td>5.47751</td>\n",
       "    </tr>\n",
       "    <tr>\n",
       "      <th>96</th>\n",
       "      <td>3.471967</td>\n",
       "      <td>3.9750</td>\n",
       "      <td>68</td>\n",
       "      <td>0.438255</td>\n",
       "      <td>1</td>\n",
       "      <td>2.90417</td>\n",
       "      <td>7</td>\n",
       "      <td>20</td>\n",
       "      <td>5.58293</td>\n",
       "    </tr>\n",
       "  </tbody>\n",
       "</table>\n",
       "<p>97 rows × 9 columns</p>\n",
       "</div>"
      ],
      "text/plain": [
       "      lcavol  lweight  age      lbph  svi      lcp  gleason  pgg45     lpsa\n",
       "0  -0.579819   2.7695   50 -1.386294    0 -1.38629        6      0 -0.43078\n",
       "1  -0.994252   3.3196   58 -1.386294    0 -1.38629        6      0 -0.16252\n",
       "2  -0.510826   2.6912   74 -1.386294    0 -1.38629        7     20 -0.16252\n",
       "3  -1.203973   3.2828   58 -1.386294    0 -1.38629        6      0 -0.16252\n",
       "4   0.751416   3.4324   62 -1.386294    0 -1.38629        6      0  0.37156\n",
       "..       ...      ...  ...       ...  ...      ...      ...    ...      ...\n",
       "92  2.830268   3.8764   68 -1.386294    1  1.32176        7     60  4.38515\n",
       "93  3.821004   3.8969   44 -1.386294    1  2.16905        7     40  4.68444\n",
       "94  2.907447   3.3962   52 -1.386294    1  2.46385        7     10  5.14312\n",
       "95  2.882564   3.7739   68  1.558145    1  1.55814        7     80  5.47751\n",
       "96  3.471967   3.9750   68  0.438255    1  2.90417        7     20  5.58293\n",
       "\n",
       "[97 rows x 9 columns]"
      ]
     },
     "execution_count": 123,
     "metadata": {},
     "output_type": "execute_result"
    }
   ],
   "source": [
    "prostate_data"
   ]
  },
  {
   "cell_type": "code",
   "execution_count": 124,
   "id": "09da508b",
   "metadata": {},
   "outputs": [
    {
     "name": "stdout",
     "output_type": "stream",
     "text": [
      "Tamaño de entrenamiento: (77, 8)\n",
      "Tamaño de prueba: (20, 8)\n"
     ]
    }
   ],
   "source": [
    "train, test = train_test_split(prostate_data, test_size=0.2, random_state=123)\n",
    "X_train = train[['lcavol', 'lweight', 'age', 'lbph', 'lcp', 'gleason', 'pgg45', 'lpsa']]\n",
    "y_train = train['svi']\n",
    "X_test = test[['lcavol', 'lweight', 'age', 'lbph', 'lcp', 'gleason', 'pgg45', 'lpsa']]\n",
    "y_test = test['svi']\n",
    "print(\"Tamaño de entrenamiento:\", X_train.shape)\n",
    "print(\"Tamaño de prueba:\", X_test.shape)\n"
   ]
  },
  {
   "cell_type": "code",
   "execution_count": 125,
   "id": "daa9b1f0",
   "metadata": {},
   "outputs": [
    {
     "name": "stdout",
     "output_type": "stream",
     "text": [
      "Tamaño de entrenamiento: (77, 8)\n",
      "Tamaño de prueba: (20, 8)\n"
     ]
    }
   ],
   "source": [
    "train_prostate, test_prostate = train_test_split(prostate_data, test_size=0.2, random_state=123)\n",
    "X_train = train_prostate[['lcavol', 'lweight', 'age', 'lbph', 'lcp', 'gleason', 'pgg45', 'lpsa']]\n",
    "y_train = train_prostate['svi']\n",
    "X_test = test_prostate[['lcavol', 'lweight', 'age', 'lbph', 'lcp', 'gleason', 'pgg45', 'lpsa']]\n",
    "y_test = test_prostate['svi']\n",
    "print(\"Tamaño de entrenamiento:\", X_train.shape)\n",
    "print(\"Tamaño de prueba:\", X_test.shape)\n"
   ]
  },
  {
   "cell_type": "markdown",
   "id": "8511064c",
   "metadata": {
    "deletable": false,
    "editable": false,
    "nbgrader": {
     "cell_type": "markdown",
     "checksum": "8172e3ca36a52f992851c588ec146239",
     "grade": false,
     "grade_id": "cell-e2dd54408ce5ec89",
     "locked": true,
     "schema_version": 3,
     "solution": false,
     "task": false
    }
   },
   "source": [
    "#### 2.1 - Realizar una descomposición aleatoria de la base de datos con la proporción 80%-20% para train y test, respectivamente. Utilice el número 123 como semilla de aleatorización."
   ]
  },
  {
   "cell_type": "code",
   "execution_count": null,
   "id": "18542c8a",
   "metadata": {
    "deletable": false,
    "nbgrader": {
     "cell_type": "code",
     "checksum": "f623a2644e10ecf60e6066977075666c",
     "grade": false,
     "grade_id": "cell-8975a3dff42af0cf",
     "locked": false,
     "schema_version": 3,
     "solution": true,
     "task": false
    }
   },
   "outputs": [],
   "source": [
    "## Guardar la información en:\n",
    "# --> train_prostate: partición de entrenamiento    (incluyendo todas las variables)\n",
    "# --> test_prostate: partición para la validacíon   (incluyendo todas las variables)\n",
    "\n",
    "## Aquí va su código \n",
    "\n",
    "train_prostate, test_prostate = None, None    # Modifique estos objetos\n",
    "\n",
    "# your code here\n",
    "raise NotImplementedError"
   ]
  },
  {
   "cell_type": "code",
   "execution_count": 126,
   "id": "8ce2c874",
   "metadata": {},
   "outputs": [
    {
     "name": "stdout",
     "output_type": "stream",
     "text": [
      "Optimization terminated successfully.\n",
      "         Current function value: 0.162442\n",
      "         Iterations 9\n",
      "Porcentaje de clasificación correcta: 70.0\n"
     ]
    }
   ],
   "source": [
    "train_prostate, test_prostate = train_test_split(prostate_data, test_size=0.2, random_state=123)\n",
    "X_train = train_prostate[['lcavol', 'lweight', 'age', 'lbph', 'lcp', 'gleason', 'pgg45', 'lpsa']]\n",
    "y_train = train_prostate['svi']\n",
    "X_test = test_prostate[['lcavol', 'lweight', 'age', 'lbph', 'lcp', 'gleason', 'pgg45', 'lpsa']]\n",
    "y_test = test_prostate['svi']\n",
    "\n",
    "model_logit = sm.Logit(y_train, X_train).fit()\n",
    "pred_prob = model_logit.predict(X_test)\n",
    "pred = (pred_prob > 0.5).astype(int)\n",
    "porcentaje_clasificacion = metrics.accuracy_score(y_test, pred) * 100\n",
    "print(\"Porcentaje de clasificación correcta:\", porcentaje_clasificacion)\n"
   ]
  },
  {
   "cell_type": "code",
   "execution_count": null,
   "id": "387d018a",
   "metadata": {
    "deletable": false,
    "editable": false,
    "nbgrader": {
     "cell_type": "code",
     "checksum": "a705dce2f1139ca1ec681f7c7bdca3ff",
     "grade": true,
     "grade_id": "cell-7708ba13ec1e8f72",
     "locked": true,
     "points": 5,
     "schema_version": 3,
     "solution": false,
     "task": false
    }
   },
   "outputs": [],
   "source": [
    "# Testing para la pregunta 2.1"
   ]
  },
  {
   "cell_type": "markdown",
   "id": "06986821",
   "metadata": {
    "deletable": false,
    "editable": false,
    "nbgrader": {
     "cell_type": "markdown",
     "checksum": "8d51e91ebbc5d581d332d55870b0323a",
     "grade": false,
     "grade_id": "cell-41376aa78497f885",
     "locked": true,
     "schema_version": 3,
     "solution": false,
     "task": false
    }
   },
   "source": [
    "#### 2.2 - Ajuste un modelo de regresión logística usando todas las variables explicativas (sin intercepto). Luego, realice las predicciones para el conjunto de datos de test. Finalmente, calcule el porcentaje de clasificación correcta.\n",
    "\n",
    "Entregar el porcentaje de clasificación correcta en una variable de nombre `porcentaje_clasificacion`. "
   ]
  },
  {
   "cell_type": "code",
   "execution_count": null,
   "id": "9ec77cd8",
   "metadata": {
    "deletable": false,
    "nbgrader": {
     "cell_type": "code",
     "checksum": "e5f8f184cc2d53931cb7114dbf07fb00",
     "grade": false,
     "grade_id": "cell-a3d19843e66f86fa",
     "locked": false,
     "schema_version": 3,
     "solution": true,
     "task": false
    }
   },
   "outputs": [],
   "source": [
    "# Aquí va su código\n",
    "\n",
    "porcentaje_clasificacion = None # Variable que debe modificar\n",
    "\n",
    "# your code here\n",
    "raise NotImplementedError"
   ]
  },
  {
   "cell_type": "code",
   "execution_count": 134,
   "id": "b41f171f",
   "metadata": {},
   "outputs": [
    {
     "name": "stdout",
     "output_type": "stream",
     "text": [
      "Porcentaje de clasificación correcta: 0.7\n"
     ]
    }
   ],
   "source": [
    "train_prostate, test_prostate = train_test_split(prostate_data, test_size=0.2, random_state=123)\n",
    "X_train = train_prostate[['lcavol', 'lweight', 'age', 'lbph', 'lcp', 'gleason', 'pgg45', 'lpsa']]\n",
    "y_train = train_prostate['svi']\n",
    "X_test = test_prostate[['lcavol', 'lweight', 'age', 'lbph', 'lcp', 'gleason', 'pgg45', 'lpsa']]\n",
    "y_test = test_prostate['svi']\n",
    "\n",
    "model = LogisticRegression(fit_intercept=False)\n",
    "model.fit(X_train, y_train)\n",
    "y_pred = model.predict(X_test)\n",
    "precision = metrics.accuracy_score(y_test, y_pred)\n",
    "porcentaje_clasificacion = precision \n",
    "\n",
    "print(\"Porcentaje de clasificación correcta:\", porcentaje_clasificacion)\n"
   ]
  },
  {
   "cell_type": "code",
   "execution_count": null,
   "id": "25493a20",
   "metadata": {
    "deletable": false,
    "editable": false,
    "nbgrader": {
     "cell_type": "code",
     "checksum": "bb7ab70ebdaa5ce5d6c692a889dfaed6",
     "grade": true,
     "grade_id": "cell-21e3a6f5c793b2ac",
     "locked": true,
     "points": 12,
     "schema_version": 3,
     "solution": false,
     "task": false
    }
   },
   "outputs": [],
   "source": [
    "# Testing para la pregunta 2.2"
   ]
  },
  {
   "cell_type": "markdown",
   "id": "96893b63",
   "metadata": {
    "deletable": false,
    "editable": false,
    "nbgrader": {
     "cell_type": "markdown",
     "checksum": "80cfba84e93ce28d13708c2c510037d7",
     "grade": false,
     "grade_id": "cell-e44a28b4a52fd50e",
     "locked": true,
     "schema_version": 3,
     "solution": false,
     "task": false
    }
   },
   "source": [
    "#### 2.3 - ¿El modelo anterior presenta problemas de multicolinealidad? Para responder esta pregunta, calcule el factor de inflación de la varianza (VIF) para cada variable. ¿Cuáles variables presentan mayor VIF? \n",
    "\n",
    "Para responder esta pregunta, entregar un vector de nombre `VIF_vars` que contenga el VIF de cada variable. El orden de las variables en el vector debe ser: lcavol, lweight, age, lbph, lcp, gleason, pgg45, lpsa. \n",
    "\n",
    "Recordar que:\n",
    "- VIF = 1: Las variables no están correlacionadas.\n",
    "- 1 < VIF < 5: Las variables están moderadamente correlacionadas y pueden ser incluidas en el modelo.\n",
    "- VIF > 5: Las variables están altamente correlacionadas y deben ser eliminadas del modelo. \n",
    "\n",
    "TIP: puede utilizar la función `variance_inflation_factor` del paquete `statsmodels` para calcular el VIF."
   ]
  },
  {
   "cell_type": "code",
   "execution_count": null,
   "id": "dff0442d",
   "metadata": {
    "deletable": false,
    "nbgrader": {
     "cell_type": "code",
     "checksum": "7fe1a6607bd8fe6028faf40bd3848225",
     "grade": false,
     "grade_id": "cell-6237dd7bf7f11254",
     "locked": false,
     "schema_version": 3,
     "solution": true,
     "task": false
    }
   },
   "outputs": [],
   "source": [
    "# Aquí va su código\n",
    "\n",
    "VIF_vars = None # Variable que debe modificar\n",
    "\n",
    "# your code here\n",
    "raise NotImplementedError"
   ]
  },
  {
   "cell_type": "code",
   "execution_count": null,
   "id": "255cee7d",
   "metadata": {},
   "outputs": [],
   "source": [
    "from statsmodels.stats.outliers_influence import variance_inflation_factor\n",
    "from statsmodels.tools.tools import add_constant"
   ]
  },
  {
   "cell_type": "code",
   "execution_count": 136,
   "id": "80b334af",
   "metadata": {},
   "outputs": [
    {
     "name": "stdout",
     "output_type": "stream",
     "text": [
      "VIF de cada variable: [3.08187411 2.98800668 2.60532361 2.55786917 2.43783743 1.47390565\n",
      " 1.36985781 1.35734519]\n"
     ]
    }
   ],
   "source": [
    "from statsmodels.tools.tools import add_constant\n",
    "X = prostate_data[['lcavol', 'lweight', 'age', 'lbph', 'lcp', 'gleason', 'pgg45', 'lpsa']]\n",
    "X_with_const =add_constant(X)\n",
    "vif_data = pd.DataFrame()\n",
    "vif_data[\"Variable\"] = X_with_const.columns\n",
    "vif_data[\"VIF\"] = [variance_inflation_factor(X_with_const.values, i) for i in range(X_with_const.shape[1])]\n",
    "\n",
    "vif_data = vif_data[vif_data[\"Variable\"] != \"const\"]\n",
    "vif_data = vif_data.sort_values(by=\"VIF\", ascending=False)\n",
    "VIF_variables = vif_data[\"VIF\"].values\n",
    "print(\"VIF de cada variable:\", VIF_variables)\n"
   ]
  },
  {
   "cell_type": "code",
   "execution_count": 142,
   "id": "68c8fc45",
   "metadata": {},
   "outputs": [
    {
     "name": "stdout",
     "output_type": "stream",
     "text": [
      "Vector VIF: [ 6.74919698 57.78393933 82.40542218  1.19533572  2.53176315 84.90034919\n",
      "  3.80914788 16.91688757]\n"
     ]
    }
   ],
   "source": [
    "X = train_prostate[['lcavol', 'lweight', 'age', 'lbph', 'lcp', 'gleason', 'pgg45', 'lpsa']]\n",
    "vif_data = pd.DataFrame()\n",
    "vif_data[\"Variable\"] = X.columns\n",
    "vif_data[\"VIF\"] = [variance_inflation_factor(X.values, i) for i in range(X.shape[1])]\n",
    "vif_data = vif_data.sort_values(by=\"VIF\", ascending=False)\n",
    "VIF_vars = vif_data.set_index(\"Variable\").reindex(['lcavol', 'lweight', 'age', 'lbph', 'lcp', 'gleason', 'pgg45', 'lpsa'])[\"VIF\"].values\n",
    "print(\"Vector VIF:\", VIF_vars)\n",
    "\n"
   ]
  },
  {
   "cell_type": "code",
   "execution_count": null,
   "id": "7753609c",
   "metadata": {
    "deletable": false,
    "editable": false,
    "nbgrader": {
     "cell_type": "code",
     "checksum": "561cef15e9d0cdf9086586d1e8f0fa49",
     "grade": true,
     "grade_id": "cell-018417f3f0babbd9",
     "locked": true,
     "points": 10,
     "schema_version": 3,
     "solution": false,
     "task": false
    }
   },
   "outputs": [],
   "source": [
    "# Testing para la pregunta 2.3"
   ]
  },
  {
   "cell_type": "markdown",
   "id": "a936e7a0",
   "metadata": {
    "deletable": false,
    "editable": false,
    "nbgrader": {
     "cell_type": "markdown",
     "checksum": "5e6ea8bfd23a5110df449a8398f418d9",
     "grade": false,
     "grade_id": "cell-5a72c05f16604599",
     "locked": true,
     "schema_version": 3,
     "solution": false,
     "task": false
    }
   },
   "source": [
    "#### 2.4 Elimine todas las variables que presenten VIF > 10. Luego, realice un proceso de selección de variables utilizando la técnica \"backward stepwise\", basada en el valor-p. Para este caso, debe comenzar con el modelo (con intercepto) que incluye todas las variables con VIF < 10. Luego, debe eliminar una variable a la vez, seleccionando la variable menos significativa (mayor valor-p). Este proceso debe repetirse hasta que no sea posible eliminar más variables, es decir, hasta que todas las variables sean estadísticamente significativas (valor-p < 0.05). ¿Cuál es el porcentaje de clasificación correcta de este nuevo modelo?\n",
    "\n",
    "Debe entregar el porcentaje de clasificación correcta en una variable de nombre `porcentaje_clasificacion_backward`."
   ]
  },
  {
   "cell_type": "code",
   "execution_count": null,
   "id": "7a2651ef",
   "metadata": {
    "deletable": false,
    "nbgrader": {
     "cell_type": "code",
     "checksum": "5e3f9045651498deb4ce974565761df4",
     "grade": false,
     "grade_id": "cell-387c0d8f6203c86c",
     "locked": false,
     "schema_version": 3,
     "solution": true,
     "task": false
    }
   },
   "outputs": [],
   "source": [
    "# Aquí va su código\n",
    "\n",
    "porcentaje_clasificacion_backward = None # Variable que debe modificar\n",
    "\n",
    "# your code here\n",
    "raise NotImplementedError"
   ]
  },
  {
   "cell_type": "code",
   "execution_count": null,
   "id": "ec8213e2",
   "metadata": {
    "deletable": false,
    "editable": false,
    "nbgrader": {
     "cell_type": "code",
     "checksum": "d601a1b767a289a7abdb38112bacd7ba",
     "grade": true,
     "grade_id": "cell-96b610c6fbf400b1",
     "locked": true,
     "points": 13,
     "schema_version": 3,
     "solution": false,
     "task": false
    }
   },
   "outputs": [],
   "source": [
    "# Testing para la pregunta 2.4"
   ]
  }
 ],
 "metadata": {
  "kernelspec": {
   "display_name": "Python 3 (ipykernel)",
   "language": "python",
   "name": "python3"
  },
  "language_info": {
   "codemirror_mode": {
    "name": "ipython",
    "version": 3
   },
   "file_extension": ".py",
   "mimetype": "text/x-python",
   "name": "python",
   "nbconvert_exporter": "python",
   "pygments_lexer": "ipython3",
   "version": "3.10.11"
  }
 },
 "nbformat": 4,
 "nbformat_minor": 5
}

{
 "cells": [
  {
   "cell_type": "code",
   "execution_count": 1,
   "metadata": {},
   "outputs": [],
   "source": [
    "# Primero importamos las librerias y los datos que utilizaremos.\n",
    "\n",
    "import pandas as pd\n",
    "import numpy as np\n",
    "import matplotlib.pyplot as plt\n",
    "import seaborn as sns\n",
    "import datetime\n",
    "import matplotlib.pyplot as plt\n",
    "import warnings\n",
    "warnings.filterwarnings('ignore')\n",
    "df = pd.read_csv('data_football_ratings.csv')"
   ]
  },
  {
   "cell_type": "markdown",
   "metadata": {},
   "source": [
    "### Pregunta 1\n",
    "\n",
    "Considerando la temporada 21/22 de la primera división del fútbol español, ¿cuál es la cantidad de puntos que tiene el Mallorca hasta la fecha (inclusive) 17?"
   ]
  },
  {
   "cell_type": "markdown",
   "metadata": {},
   "source": []
  },
  {
   "cell_type": "markdown",
   "metadata": {},
   "source": [
    "### Pregunta 2\n",
    "\n",
    "Considerando la temporada 21/22 de la primera división del fútbol español, ¿cuál es la cantidad de puntos que obtuvo el Betis entre las fechas 20 y 25 (ambas incluidas)?\n",
    "\n",
    "Hint: reste a los puntos del Betis en la fecha 25, los puntos del Betis en la fecha 20. "
   ]
  },
  {
   "cell_type": "markdown",
   "metadata": {},
   "source": [
    "### Pregunta 3\n",
    "\n",
    "Considerando la temporada 21/22 de la primera división del fútbol español, ¿cuál de las siguientes alternativas indica la cantidad total de goles que le convirtieron al Osasuna y al Sevilla desde la fecha 1 a la fecha 24 (ambas incluidas)?  "
   ]
  },
  {
   "cell_type": "markdown",
   "metadata": {},
   "source": [
    "### Pregunta 4\n",
    "\n",
    "Considerando la temporada 21/22 de la primera división del fútbol español, ¿cuál de las siguientes alternativas indica la cantidad total de goles que ha convertido el Elche y la Real sociedad desde la fecha 1 a la fecha 20 (ambas incluidas)?   "
   ]
  },
  {
   "cell_type": "markdown",
   "metadata": {},
   "source": [
    "### Pregunta 5\n",
    "\n",
    "Considerando la temporada 21/22 de la primera división del fútbol español, ¿cuál fue la asistencia total para los partidos desde la fecha 30 (incluyéndola) hasta el final de la temporada? \n",
    "\n",
    "Escribe tu respuesta como número entero. "
   ]
  },
  {
   "cell_type": "markdown",
   "metadata": {},
   "source": [
    "### Pregunta 6\n",
    "\n",
    "Considerando la temporada 21/22 de la primera división del fútbol español, la tabla de posiciones real hasta la fecha 33 (inclusive) y utilizando las funciones tabla_posicion y segunda_est (que están en el archivo CV 1 entregado), ¿cuál de las siguientes alternativas indica, de entre los 4 equipos indicados, el equipo que tiene la mayor diferencia de puntos (absoluta) entre los que obtuvo en la tabla real en la fecha 38 y la tabla estimada (con la primera estimación) desde la fecha 34 a la fecha 38?\n",
    "\n",
    "Hint: calcule la primera estimación usando como parámetro la tabla de posiciones real hasta la fecha 33. Obtenga la diferencia usando la tabla de posiciones hasta la fecha 38 y la tabla de la primera estimación. "
   ]
  }
 ],
 "metadata": {
  "kernelspec": {
   "display_name": "Python 3",
   "language": "python",
   "name": "python3"
  },
  "language_info": {
   "codemirror_mode": {
    "name": "ipython",
    "version": 3
   },
   "file_extension": ".py",
   "mimetype": "text/x-python",
   "name": "python",
   "nbconvert_exporter": "python",
   "pygments_lexer": "ipython3",
   "version": "3.10.11"
  }
 },
 "nbformat": 4,
 "nbformat_minor": 2
}

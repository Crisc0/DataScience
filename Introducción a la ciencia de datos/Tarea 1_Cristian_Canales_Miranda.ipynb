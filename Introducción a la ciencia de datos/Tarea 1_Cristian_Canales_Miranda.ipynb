{
 "cells": [
  {
   "cell_type": "code",
   "execution_count": 1,
   "metadata": {
    "id": "Fl7zUUWBV6mS"
   },
   "outputs": [],
   "source": [
    "#código de inicio\n",
    "import requests\n",
    "from bs4 import BeautifulSoup\n",
    "import pandas as pd"
   ]
  },
  {
   "cell_type": "markdown",
   "metadata": {
    "id": "QyhlZPUEwufO"
   },
   "source": [
    "# <img style=\"float: left; padding-right: 20px; width: 100px\" src=\"https://upload.wikimedia.org/wikipedia/commons/thumb/8/84/Escudo_de_la_Pontificia_Universidad_Cat%C3%B3lica_de_Chile.svg/1920px-Escudo_de_la_Pontificia_Universidad_Cat%C3%B3lica_de_Chile.svg.png\"> MCD3020 - Introducción a Ciencia de Datos\n",
    "**Pontificia Universidad Católica de Chile**<br>\n",
    "**Magíster en Ciencia de Datos**<br>\n",
    "**2022**<br>\n",
    "\n",
    "----"
   ]
  },
  {
   "cell_type": "markdown",
   "metadata": {
    "id": "HFn7QeLu3xOO"
   },
   "source": [
    "# Tarea 1: Extracción de datos mediante webscraping.\n",
    "\n",
    "***\n",
    "## Instrucciones Generales:\n",
    "- Esta Tarea debe ser desarrollada completamente en lenguaje de programación Python, en este mismo Notebook.\n",
    "- El Notebook debe estar  ordenado, seguir buenas prácticas de escritura y programación, e incluir comentarios o celdas de markdown suficientes para explicar claramente todos lo códigos computacionales.\n",
    "- El Notebook ya contiene algunas celdas marcadas con el comentario `#código de inicio`. Estas celdas han sido incluidas como ayuda para el desarrollo de la Tarea, y pueden ser ejecutadas tal como están.\n",
    "- Las celdas marcadas como `#completar código` tienen un código parcial que debe ser completado para poder ser ejecutado. Ud debe agregar todas las líneas o bloques de código necesarios para desarrollar correctamente cada punto de la tarea. También puede eliminar estas celdas y partir el código desde cero si le resulta más conveniente.\n",
    "- Para el desarrollo de cada pregunta, se sugiere agregar las celdas de código y/o markdown necesarias bajo el enunciado de la misma.\n",
    "- Asegúrese de guardar los cambios en su Notebook antes de entregarlo.\n",
    "\n",
    "***\n",
    "## Introducción.\n",
    "\n",
    "Hace ya casi 10 años, el trabajo de científico de datos fue catalogado por Harvard Bussiness Review como \"el trabajo más atractivo del siglo XXI\" [(Davenport & Patil 2012)](https://hbr.org/2012/10/data-scientist-the-sexiest-job-of-the-21st-century). Desde entonces, se ha comprobado un aumento constante de la demanda por profesionales expertos datos, y se espera que tanto la creación de puestos trabajos como los salarios sigan al alza en los próximos años. Los siguienes artículos de prensa y difusión ilustran esta situación:\n",
    "\n",
    "https://www.smithhanley.com/2022/01/04/data-science-in-2022/\n",
    "https://www.bbva.com/es/big-data-la-demanda-de-talento-experto-sigue-creciendo/\n",
    "\n",
    "Los estudios citados hacen referencia a mercados laborales en Europa y Estados Unidos. Suponga que ud.está a cargo del desarrollo de un estudio del mercado laboral de científicos de datos en latinoamérica, para lo cual necesita construir una base de datos con las ofertas de trabajo publicadas en distintos países de la región.\n",
    "\n",
    "El objetivo de esta tarea es usar técnicas de webscrapping para extraer datos de ofertas para científicos de datos publicadas en un portal abierto de empleos (www.linkedin.com/jobs).\n",
    "\n",
    "NOTA: Este trabajo fue inspirado de [Tutorial](https://www.youtube.com/watch?v=eN_3d4JrL_w&ab_channel=IzzyAnalytics)\n",
    "\n",
    "\n",
    "\n"
   ]
  },
  {
   "cell_type": "markdown",
   "metadata": {
    "id": "M_ICRQTPxUYI"
   },
   "source": [
    "#### 1. Ingrese a la página web de www.linkedin.com/jobs, haga click en el botón `Buscar Empleos` y realice una búsqueda de empleos para *data scientist* en la capital de su país (u otra ciudad de su interés). Inspeccione y analice el código fuente de la página de resultados, para entender la estructura de su código HTML. [1 punto]\n",
    "\n",
    "En base a su inspección del código HTML, responda: ¿Qué elemento del código le permite llegar exactamente a la lista de anuncios de empleo?"
   ]
  },
  {
   "cell_type": "markdown",
   "metadata": {},
   "source": [
    "#### El siguiente div es el elemento principal donde se encuentra la información asociados a los empleos mostrados en la pagina. Dentro de el se encuentran todos los div que contiene el listado de empleos"
   ]
  },
  {
   "cell_type": "code",
   "execution_count": 2,
   "metadata": {},
   "outputs": [
    {
     "ename": "SyntaxError",
     "evalue": "invalid syntax (2245058299.py, line 1)",
     "output_type": "error",
     "traceback": [
      "\u001b[1;36m  Cell \u001b[1;32mIn [2], line 1\u001b[1;36m\u001b[0m\n\u001b[1;33m    <div class=\"application-outlet\">\u001b[0m\n\u001b[1;37m    ^\u001b[0m\n\u001b[1;31mSyntaxError\u001b[0m\u001b[1;31m:\u001b[0m invalid syntax\n"
     ]
    }
   ],
   "source": [
    "<div class=\"application-outlet\">"
   ]
  },
  {
   "cell_type": "markdown",
   "metadata": {},
   "source": [
    "#### Luego el elemento que nos mostrara la información es el siguiente. Nos da un listados con todos los trabajos, además la información correspondiente a cada uno de ellos"
   ]
  },
  {
   "cell_type": "code",
   "execution_count": null,
   "metadata": {},
   "outputs": [],
   "source": [
    "<ul class=\"jobs-search__results-list\">\n"
   ]
  },
  {
   "cell_type": "markdown",
   "metadata": {
    "id": "9PBdfKE4xUYJ"
   },
   "source": [
    "#### 2. Extraiga la lista de anuncios de trabajo arrojados por su búsqueda en Linkedin.  [1 punto]"
   ]
  },
  {
   "cell_type": "code",
   "execution_count": 3,
   "metadata": {
    "id": "knsl-A5cxUYK"
   },
   "outputs": [],
   "source": [
    "#complete este código\n",
    "position = 'data scientist'\n",
    "location = 'chile'\n",
    "url_search = 'https://www.linkedin.com/jobs/search/?keywords=%s&location=%s' % (position, location)\n"
   ]
  },
  {
   "cell_type": "code",
   "execution_count": 5,
   "metadata": {
    "id": "6jJqLmYP3Ux5"
   },
   "outputs": [],
   "source": [
    "#código de inicio\n",
    "\n",
    "#Para evitar que la página web piense que usted es un bot, al realizar el request utilice algunos de los siguientes encabezados: \n",
    "head = {'User-Agent': 'Mozilla/5.0'}\n",
    "#head = {'User-Agent': 'Mozilla/5.0 (Macintosh; Intel Mac OS X 10_14_6) AppleWebKit/537.36 (KHTML, like Gecko) Chrome/99.0.4844.84 Safari/537.36'}\n",
    "#head = {'user-agent':'Mozilla/5.0 (Linux; Android 6.0; Nexus 5 Build/MRA58N) AppleWebKit/537.36 (KHTML, like Gecko) Chrome/104.0.0.0 Mobile Safari/537.36'}\n",
    "#head = {'user-agent':'Mozilla/5.0 (Linux; Android 6.0; Nexus 5 Build/MRA58N) AppleWebKit/537.36 (KHTML, like Gecko) Chrome/104.0.0.0 Mobile Safari/537.36'}\n",
    "#head = {'User-Agent': 'Mozilla/5.0 (Macintosh; Intel Mac OS X 10_14_6) AppleWebKit/537.36 (KHTML, like Gecko) Chrome/99.0.4844.84 Safari/537.36',}"
   ]
  },
  {
   "cell_type": "code",
   "execution_count": null,
   "metadata": {},
   "outputs": [],
   "source": [
    "#complete este código\n",
    "\n",
    "\n",
    "response = requests.get(url_search,###)\n",
    "soup = ###\n",
    "joblist = soup.find(###)\n",
    "alljobs=joblist.find_all(###,class_=\"###\")"
   ]
  },
  {
   "cell_type": "markdown",
   "metadata": {},
   "source": [
    "##### No comprendi correctamente como buscar el joblist y alljobs señalados a completar, ya que la clase jobs-search__results-list me trae directamente todos los trabajos y con esa informacion ya puedo construir mi df. Si bien no es lo mismo seguire así para poder completar las demas preguntas."
   ]
  },
  {
   "cell_type": "code",
   "execution_count": 6,
   "metadata": {},
   "outputs": [],
   "source": [
    "response = requests.get(url_search, headers=head)\n",
    "soup = BeautifulSoup(response.content, 'html.parser')\n",
    "joblist = soup.find('ul', class_=\"jobs-search__results-list\")\n",
    "\n"
   ]
  },
  {
   "cell_type": "code",
   "execution_count": 7,
   "metadata": {},
   "outputs": [
    {
     "data": {
      "text/plain": [
       "<ul class=\"jobs-search__results-list\">\n",
       "<li>\n",
       "<div class=\"base-card relative w-full hover:no-underline focus:no-underline base-card--link base-search-card base-search-card--link job-search-card\" data-column=\"1\" data-entity-urn=\"urn:li:jobPosting:4089105377\" data-impression-id=\"jobs-search-desktop-0\" data-reference-id=\"b6rBuIQZa2keQjRSEm0yOQ==\" data-row=\"1\" data-tracking-id=\"0vK5mqshAozlvPCaqKt+Sg==\">\n",
       "<a class=\"base-card__full-link absolute top-0 right-0 bottom-0 left-0 p-0 z-[2]\" data-tracking-client-ingraph=\"\" data-tracking-control-name=\"public_jobs_jserp-result_search-card\" data-tracking-will-navigate=\"\" href=\"https://cl.linkedin.com/jobs/view/data-scientist-gerencia-digital-at-walmart-chile-4089105377?position=1&amp;pageNum=0&amp;refId=b6rBuIQZa2keQjRSEm0yOQ%3D%3D&amp;trackingId=0vK5mqshAozlvPCaqKt%2BSg%3D%3D\">\n",
       "<span class=\"sr-only\">\n",
       "              \n",
       "        \n",
       "        Data Scientist, Gerencia Digital\n",
       "      \n",
       "      \n",
       "          </span>\n",
       "</a>\n",
       "<div class=\"search-entity-media\">\n",
       "<img alt=\"\" class=\"artdeco-entity-image artdeco-entity-image--square-4\" data-delayed-url=\"https://media.licdn.com/dms/image/v2/C4D0BAQGyn9SLmXMlvw/company-logo_100_100/company-logo_100_100/0/1656701626119/walmartchile_logo?e=2147483647&amp;v=beta&amp;t=18U-TaWpyHjlXvwo7tGVU9YBrC3bk-AKpD-hyh0z4N0\" data-ghost-classes=\"artdeco-entity-image--ghost\" data-ghost-url=\"https://static.licdn.com/aero-v1/sc/h/6puxblwmhnodu6fjircz4dn4h\"/>\n",
       "</div>\n",
       "<div class=\"base-search-card__info\">\n",
       "<h3 class=\"base-search-card__title\">\n",
       "            \n",
       "        Data Scientist, Gerencia Digital\n",
       "      \n",
       "          </h3>\n",
       "<h4 class=\"base-search-card__subtitle\">\n",
       "<a class=\"hidden-nested-link\" data-tracking-client-ingraph=\"\" data-tracking-control-name=\"public_jobs_jserp-result_job-search-card-subtitle\" data-tracking-will-navigate=\"\" href=\"https://cl.linkedin.com/company/walmartchile?trk=public_jobs_jserp-result_job-search-card-subtitle\">\n",
       "            Walmart Chile\n",
       "          </a>\n",
       "</h4>\n",
       "<!-- -->\n",
       "<div class=\"base-search-card__metadata\">\n",
       "<span class=\"job-search-card__location\">\n",
       "            Quilicura, Santiago Metropolitan Region, Chile\n",
       "          </span>\n",
       "<div class=\"job-posting-benefits text-sm\">\n",
       "<icon class=\"job-posting-benefits__icon\" data-delayed-url=\"https://static.licdn.com/aero-v1/sc/h/3p1v0uhy7uq0cm5zdvzp4eo18\" data-svg-class-name=\"job-posting-benefits__icon-svg\"></icon>\n",
       "<span class=\"job-posting-benefits__text\">\n",
       "          Actively Hiring\n",
       "<!-- --> </span>\n",
       "</div>\n",
       "<time class=\"job-search-card__listdate\" datetime=\"2024-12-02\">\n",
       "            \n",
       "\n",
       "    \n",
       "    \n",
       "    \n",
       "    \n",
       "    \n",
       "    \n",
       "    \n",
       "    \n",
       "    \n",
       "    \n",
       "    \n",
       "    \n",
       "    \n",
       "    \n",
       "    \n",
       "    \n",
       "\n",
       "    \n",
       "    \n",
       "    \n",
       "    \n",
       "    \n",
       "    \n",
       "    \n",
       "    \n",
       "    \n",
       "    \n",
       "    \n",
       "    \n",
       "    \n",
       "    \n",
       "\n",
       "      2 weeks ago\n",
       "  \n",
       "          </time>\n",
       "<!-- -->\n",
       "</div>\n",
       "</div>\n",
       "<!-- -->\n",
       "</div>\n",
       "</li>\n",
       "<li>\n",
       "<div class=\"base-card relative w-full hover:no-underline focus:no-underline base-card--link base-search-card base-search-card--link job-search-card\" data-column=\"1\" data-entity-urn=\"urn:li:jobPosting:4090655689\" data-impression-id=\"jobs-search-desktop-1\" data-reference-id=\"b6rBuIQZa2keQjRSEm0yOQ==\" data-row=\"2\" data-tracking-id=\"dRSrq2pQQHtNRq/4Fslddg==\">\n",
       "<a class=\"base-card__full-link absolute top-0 right-0 bottom-0 left-0 p-0 z-[2]\" data-tracking-client-ingraph=\"\" data-tracking-control-name=\"public_jobs_jserp-result_search-card\" data-tracking-will-navigate=\"\" href=\"https://cl.linkedin.com/jobs/view/machine-learning-engineer-at-deloitte-4090655689?position=2&amp;pageNum=0&amp;refId=b6rBuIQZa2keQjRSEm0yOQ%3D%3D&amp;trackingId=dRSrq2pQQHtNRq%2F4Fslddg%3D%3D\">\n",
       "<span class=\"sr-only\">\n",
       "              \n",
       "        \n",
       "        Machine Learning Engineer\n",
       "      \n",
       "      \n",
       "          </span>\n",
       "</a>\n",
       "<div class=\"search-entity-media\">\n",
       "<img alt=\"\" class=\"artdeco-entity-image artdeco-entity-image--square-4\" data-delayed-url=\"https://media.licdn.com/dms/image/v2/C560BAQGNtpblgQpJoQ/company-logo_100_100/company-logo_100_100/0/1662120928214/deloitte_logo?e=2147483647&amp;v=beta&amp;t=OSF8M5LreT0Sf2F-JcNk6XMT0ArCuPfDmRR-knCC4HY\" data-ghost-classes=\"artdeco-entity-image--ghost\" data-ghost-url=\"https://static.licdn.com/aero-v1/sc/h/6puxblwmhnodu6fjircz4dn4h\"/>\n",
       "</div>\n",
       "<div class=\"base-search-card__info\">\n",
       "<h3 class=\"base-search-card__title\">\n",
       "            \n",
       "        Machine Learning Engineer\n",
       "      \n",
       "          </h3>\n",
       "<h4 class=\"base-search-card__subtitle\">\n",
       "<a class=\"hidden-nested-link\" data-tracking-client-ingraph=\"\" data-tracking-control-name=\"public_jobs_jserp-result_job-search-card-subtitle\" data-tracking-will-navigate=\"\" href=\"https://www.linkedin.com/company/deloitte?trk=public_jobs_jserp-result_job-search-card-subtitle\">\n",
       "            Deloitte\n",
       "          </a>\n",
       "</h4>\n",
       "<!-- -->\n",
       "<div class=\"base-search-card__metadata\">\n",
       "<span class=\"job-search-card__location\">\n",
       "            Santiago, Santiago Metropolitan Region, Chile\n",
       "          </span>\n",
       "<div class=\"job-posting-benefits text-sm\">\n",
       "<icon class=\"job-posting-benefits__icon\" data-delayed-url=\"https://static.licdn.com/aero-v1/sc/h/3p1v0uhy7uq0cm5zdvzp4eo18\" data-svg-class-name=\"job-posting-benefits__icon-svg\"></icon>\n",
       "<span class=\"job-posting-benefits__text\">\n",
       "          Actively Hiring\n",
       "<!-- --> </span>\n",
       "</div>\n",
       "<time class=\"job-search-card__listdate\" datetime=\"2024-12-16\">\n",
       "            \n",
       "\n",
       "    \n",
       "    \n",
       "    \n",
       "    \n",
       "    \n",
       "    \n",
       "    \n",
       "    \n",
       "    \n",
       "    \n",
       "    \n",
       "    \n",
       "    \n",
       "    \n",
       "    \n",
       "    \n",
       "\n",
       "    \n",
       "    \n",
       "    \n",
       "    \n",
       "    \n",
       "    \n",
       "    \n",
       "    \n",
       "    \n",
       "    \n",
       "    \n",
       "    \n",
       "    \n",
       "    \n",
       "\n",
       "      2 days ago\n",
       "  \n",
       "          </time>\n",
       "<!-- -->\n",
       "</div>\n",
       "</div>\n",
       "<!-- -->\n",
       "</div>\n",
       "</li>\n",
       "<li>\n",
       "<div class=\"base-card relative w-full hover:no-underline focus:no-underline base-card--link base-search-card base-search-card--link job-search-card\" data-column=\"1\" data-entity-urn=\"urn:li:jobPosting:4102966224\" data-impression-id=\"jobs-search-desktop-2\" data-reference-id=\"b6rBuIQZa2keQjRSEm0yOQ==\" data-row=\"3\" data-tracking-id=\"/yJ1YekIwh8WPEHxRv7Kew==\">\n",
       "<a class=\"base-card__full-link absolute top-0 right-0 bottom-0 left-0 p-0 z-[2]\" data-tracking-client-ingraph=\"\" data-tracking-control-name=\"public_jobs_jserp-result_search-card\" data-tracking-will-navigate=\"\" href=\"https://cl.linkedin.com/jobs/view/data-scientist-at-cencosud-s-a-4102966224?position=3&amp;pageNum=0&amp;refId=b6rBuIQZa2keQjRSEm0yOQ%3D%3D&amp;trackingId=%2FyJ1YekIwh8WPEHxRv7Kew%3D%3D\">\n",
       "<span class=\"sr-only\">\n",
       "              \n",
       "        \n",
       "        Data Scientist\n",
       "      \n",
       "      \n",
       "          </span>\n",
       "</a>\n",
       "<div class=\"search-entity-media\">\n",
       "<img alt=\"\" class=\"artdeco-entity-image artdeco-entity-image--square-4\" data-delayed-url=\"https://media.licdn.com/dms/image/v2/C4E0BAQHPwGe8jr5xsQ/company-logo_100_100/company-logo_100_100/0/1630596662867/cencosud_s_a__logo?e=2147483647&amp;v=beta&amp;t=mDm82UN_38dZyNvJwLQcMU4J50vQFsI-rWxpP5v01i0\" data-ghost-classes=\"artdeco-entity-image--ghost\" data-ghost-url=\"https://static.licdn.com/aero-v1/sc/h/6puxblwmhnodu6fjircz4dn4h\"/>\n",
       "</div>\n",
       "<div class=\"base-search-card__info\">\n",
       "<h3 class=\"base-search-card__title\">\n",
       "            \n",
       "        Data Scientist\n",
       "      \n",
       "          </h3>\n",
       "<h4 class=\"base-search-card__subtitle\">\n",
       "<a class=\"hidden-nested-link\" data-tracking-client-ingraph=\"\" data-tracking-control-name=\"public_jobs_jserp-result_job-search-card-subtitle\" data-tracking-will-navigate=\"\" href=\"https://www.linkedin.com/company/cencosud-s-a-?trk=public_jobs_jserp-result_job-search-card-subtitle\">\n",
       "            Cencosud S.A.\n",
       "          </a>\n",
       "</h4>\n",
       "<!-- -->\n",
       "<div class=\"base-search-card__metadata\">\n",
       "<span class=\"job-search-card__location\">\n",
       "            Santiago, Santiago Metropolitan Region, Chile\n",
       "          </span>\n",
       "<div class=\"job-posting-benefits text-sm\">\n",
       "<icon class=\"job-posting-benefits__icon\" data-delayed-url=\"https://static.licdn.com/aero-v1/sc/h/3p1v0uhy7uq0cm5zdvzp4eo18\" data-svg-class-name=\"job-posting-benefits__icon-svg\"></icon>\n",
       "<span class=\"job-posting-benefits__text\">\n",
       "          Actively Hiring\n",
       "<!-- --> </span>\n",
       "</div>\n",
       "<time class=\"job-search-card__listdate\" datetime=\"2024-12-17\">\n",
       "            \n",
       "\n",
       "    \n",
       "    \n",
       "    \n",
       "    \n",
       "    \n",
       "    \n",
       "    \n",
       "    \n",
       "    \n",
       "    \n",
       "    \n",
       "    \n",
       "    \n",
       "    \n",
       "    \n",
       "    \n",
       "\n",
       "    \n",
       "    \n",
       "    \n",
       "    \n",
       "    \n",
       "    \n",
       "    \n",
       "    \n",
       "    \n",
       "    \n",
       "    \n",
       "    \n",
       "    \n",
       "    \n",
       "\n",
       "      1 day ago\n",
       "  \n",
       "          </time>\n",
       "<!-- -->\n",
       "</div>\n",
       "</div>\n",
       "<!-- -->\n",
       "</div>\n",
       "</li>\n",
       "</ul>"
      ]
     },
     "execution_count": 7,
     "metadata": {},
     "output_type": "execute_result"
    }
   ],
   "source": [
    "joblist"
   ]
  },
  {
   "cell_type": "markdown",
   "metadata": {
    "id": "W5AERO-kxUYM"
   },
   "source": [
    "#### 3. Seleccione por ahora sólo el primer anuncio de la lista, y extraiga la información de:  título del trabajo, nombre de la compañía, localización, y URL del anuncio  [2 puntos].\n",
    "\n",
    "Nota: Por localización se entiende la ciudad, comuna o municipio indicado en el anuncio."
   ]
  },
  {
   "cell_type": "code",
   "execution_count": null,
   "metadata": {
    "id": "pOcOSwFuxUYN"
   },
   "outputs": [],
   "source": [
    "#complete este código\n",
    "\n",
    "###### Pueden incluir una función para que en el texto se eliminen los saltos de lineas, espacios en blanco, etc.\n",
    "\n",
    "job=alljobs[0]\n",
    "\n",
    "location=job.###\n",
    "title=job.###\n",
    "company=job.###\n",
    "joburl=job.###    \n",
    "    "
   ]
  },
  {
   "cell_type": "code",
   "execution_count": 8,
   "metadata": {},
   "outputs": [
    {
     "name": "stdout",
     "output_type": "stream",
     "text": [
      "title: Data Scientist, Gerencia Digital\n",
      "company: Walmart Chile\n",
      "location: Quilicura, Santiago Metropolitan Region, Chile\n",
      "joburl: https://cl.linkedin.com/jobs/view/data-scientist-gerencia-digital-at-walmart-chile-4089105377?position=1&pageNum=0&refId=b6rBuIQZa2keQjRSEm0yOQ%3D%3D&trackingId=0vK5mqshAozlvPCaqKt%2BSg%3D%3D\n"
     ]
    }
   ],
   "source": [
    "primer_trabaji = joblist.find('li') \n",
    "title = primer_trabaji.find('h3', class_='base-search-card__title').get_text(strip=True)\n",
    "company = primer_trabaji.find('h4', class_='base-search-card__subtitle').get_text(strip=True)\n",
    "location = primer_trabaji.find('span', class_='job-search-card__location').get_text(strip=True)\n",
    "joburl = primer_trabaji.find('a', class_='base-card__full-link')['href']\n",
    "\n",
    "print(f'title: {title}')\n",
    "print(f'company: {company}')\n",
    "print(f'location: {location}')\n",
    "print(f'joburl: {joburl}')\n"
   ]
  },
  {
   "cell_type": "markdown",
   "metadata": {
    "id": "Uf1pPnWTxUYO"
   },
   "source": [
    "#### 4. En base a los puntos anteriores, programe una rutina para extraer la información de localización,  título del trabajo, nombre de la compañía, localización, y URL del anuncio para todos los trabajos arrojados por su búsqueda de Linkedin, y almacenar los datos en un dataframe de pandas  [3 puntos]."
   ]
  },
  {
   "cell_type": "code",
   "execution_count": 168,
   "metadata": {
    "id": "yajotXq1xUYO"
   },
   "outputs": [],
   "source": [
    "#complete este código\n",
    "df_jobs= pd.DataFrame(columns = ['Location', 'Title', 'Company', 'Url'])\n",
    "\n",
    "##### Tienen su dataframe vacío, pueden iterar en todos los trabajos descargos e ir extranyendo la información. Exactamente como lo hicieron con un solo trabajo.\n",
    "\n",
    "# Aqui tienen distintas formas de ir incluyendo la información al dataframe, pueden hacer append, loc, hacer una lista o diccionario con la información y luego \n",
    "### Transformarlo en dataframe\n",
    "\n",
    "##### Método de indexación: .iloc usa indexación basada en números enteros, mientras que .loc usa indexación basada en etiquetas."
   ]
  },
  {
   "cell_type": "code",
   "execution_count": 9,
   "metadata": {},
   "outputs": [
    {
     "name": "stdout",
     "output_type": "stream",
     "text": [
      "                              Title        Company  \\\n",
      "0  Data Scientist, Gerencia Digital  Walmart Chile   \n",
      "1         Machine Learning Engineer       Deloitte   \n",
      "2                    Data Scientist  Cencosud S.A.   \n",
      "\n",
      "                                         Location  \\\n",
      "0  Quilicura, Santiago Metropolitan Region, Chile   \n",
      "1   Santiago, Santiago Metropolitan Region, Chile   \n",
      "2   Santiago, Santiago Metropolitan Region, Chile   \n",
      "\n",
      "                                                Url   \n",
      "0  https://cl.linkedin.com/jobs/view/data-scienti...  \n",
      "1  https://cl.linkedin.com/jobs/view/data-scienti...  \n",
      "2  https://cl.linkedin.com/jobs/view/data-scienti...  \n"
     ]
    }
   ],
   "source": [
    "jobs = joblist.find_all('li')\n",
    "job_data = []\n",
    "for job in jobs:\n",
    "    Title = job.find('h3', class_='base-search-card__title').get_text(strip=True)\n",
    "    Company = job.find('h4', class_='base-search-card__subtitle').get_text(strip=True)\n",
    "    Location = job.find('span', class_='job-search-card__location').get_text(strip=True)\n",
    "    Url = primer_trabaji.find('a', class_='base-card__full-link')['href']\n",
    "    job_data.append({\n",
    "        'Title': Title,\n",
    "        'Company': Company,\n",
    "        'Location': Location,\n",
    "        'Url ': Url\n",
    "    })\n",
    "df_jobs = pd.DataFrame(job_data)\n",
    "print(df_jobs.head(5))"
   ]
  },
  {
   "cell_type": "code",
   "execution_count": 21,
   "metadata": {},
   "outputs": [
    {
     "data": {
      "text/html": [
       "<div>\n",
       "<style scoped>\n",
       "    .dataframe tbody tr th:only-of-type {\n",
       "        vertical-align: middle;\n",
       "    }\n",
       "\n",
       "    .dataframe tbody tr th {\n",
       "        vertical-align: top;\n",
       "    }\n",
       "\n",
       "    .dataframe thead th {\n",
       "        text-align: right;\n",
       "    }\n",
       "</style>\n",
       "<table border=\"1\" class=\"dataframe\">\n",
       "  <thead>\n",
       "    <tr style=\"text-align: right;\">\n",
       "      <th></th>\n",
       "      <th>Title</th>\n",
       "      <th>Company</th>\n",
       "      <th>Location</th>\n",
       "      <th>Url</th>\n",
       "    </tr>\n",
       "  </thead>\n",
       "  <tbody>\n",
       "    <tr>\n",
       "      <th>0</th>\n",
       "      <td>Data Scientist, Gerencia Digital</td>\n",
       "      <td>Walmart Chile</td>\n",
       "      <td>Quilicura, Santiago Metropolitan Region, Chile</td>\n",
       "      <td>https://cl.linkedin.com/jobs/view/data-scientist-gerencia-digital-at-walmart-chile-4089105377?position=1&amp;pageNum=0&amp;refId=b6rBuIQZa2keQjRSEm0yOQ%3D%3D&amp;trackingId=0vK5mqshAozlvPCaqKt%2BSg%3D%3D</td>\n",
       "    </tr>\n",
       "    <tr>\n",
       "      <th>1</th>\n",
       "      <td>Machine Learning Engineer</td>\n",
       "      <td>Deloitte</td>\n",
       "      <td>Santiago, Santiago Metropolitan Region, Chile</td>\n",
       "      <td>https://cl.linkedin.com/jobs/view/data-scientist-gerencia-digital-at-walmart-chile-4089105377?position=1&amp;pageNum=0&amp;refId=b6rBuIQZa2keQjRSEm0yOQ%3D%3D&amp;trackingId=0vK5mqshAozlvPCaqKt%2BSg%3D%3D</td>\n",
       "    </tr>\n",
       "    <tr>\n",
       "      <th>2</th>\n",
       "      <td>Data Scientist</td>\n",
       "      <td>Cencosud S.A.</td>\n",
       "      <td>Santiago, Santiago Metropolitan Region, Chile</td>\n",
       "      <td>https://cl.linkedin.com/jobs/view/data-scientist-gerencia-digital-at-walmart-chile-4089105377?position=1&amp;pageNum=0&amp;refId=b6rBuIQZa2keQjRSEm0yOQ%3D%3D&amp;trackingId=0vK5mqshAozlvPCaqKt%2BSg%3D%3D</td>\n",
       "    </tr>\n",
       "  </tbody>\n",
       "</table>\n",
       "</div>"
      ],
      "text/plain": [
       "                              Title        Company  \\\n",
       "0  Data Scientist, Gerencia Digital  Walmart Chile   \n",
       "1         Machine Learning Engineer       Deloitte   \n",
       "2                    Data Scientist  Cencosud S.A.   \n",
       "\n",
       "                                         Location  \\\n",
       "0  Quilicura, Santiago Metropolitan Region, Chile   \n",
       "1   Santiago, Santiago Metropolitan Region, Chile   \n",
       "2   Santiago, Santiago Metropolitan Region, Chile   \n",
       "\n",
       "                                                                                                                                                                                              Url   \n",
       "0  https://cl.linkedin.com/jobs/view/data-scientist-gerencia-digital-at-walmart-chile-4089105377?position=1&pageNum=0&refId=b6rBuIQZa2keQjRSEm0yOQ%3D%3D&trackingId=0vK5mqshAozlvPCaqKt%2BSg%3D%3D  \n",
       "1  https://cl.linkedin.com/jobs/view/data-scientist-gerencia-digital-at-walmart-chile-4089105377?position=1&pageNum=0&refId=b6rBuIQZa2keQjRSEm0yOQ%3D%3D&trackingId=0vK5mqshAozlvPCaqKt%2BSg%3D%3D  \n",
       "2  https://cl.linkedin.com/jobs/view/data-scientist-gerencia-digital-at-walmart-chile-4089105377?position=1&pageNum=0&refId=b6rBuIQZa2keQjRSEm0yOQ%3D%3D&trackingId=0vK5mqshAozlvPCaqKt%2BSg%3D%3D  "
      ]
     },
     "execution_count": 21,
     "metadata": {},
     "output_type": "execute_result"
    }
   ],
   "source": [
    "df_jobs.head(10)"
   ]
  },
  {
   "cell_type": "code",
   "execution_count": 19,
   "metadata": {},
   "outputs": [],
   "source": [
    "pd.set_option('display.max_colwidth', None)"
   ]
  },
  {
   "cell_type": "code",
   "execution_count": 20,
   "metadata": {},
   "outputs": [
    {
     "data": {
      "text/html": [
       "<div>\n",
       "<style scoped>\n",
       "    .dataframe tbody tr th:only-of-type {\n",
       "        vertical-align: middle;\n",
       "    }\n",
       "\n",
       "    .dataframe tbody tr th {\n",
       "        vertical-align: top;\n",
       "    }\n",
       "\n",
       "    .dataframe thead th {\n",
       "        text-align: right;\n",
       "    }\n",
       "</style>\n",
       "<table border=\"1\" class=\"dataframe\">\n",
       "  <thead>\n",
       "    <tr style=\"text-align: right;\">\n",
       "      <th></th>\n",
       "      <th>Title</th>\n",
       "      <th>Company</th>\n",
       "      <th>Location</th>\n",
       "      <th>Url</th>\n",
       "    </tr>\n",
       "  </thead>\n",
       "  <tbody>\n",
       "    <tr>\n",
       "      <th>0</th>\n",
       "      <td>Data Scientist, Gerencia Digital</td>\n",
       "      <td>Walmart Chile</td>\n",
       "      <td>Quilicura, Santiago Metropolitan Region, Chile</td>\n",
       "      <td>https://cl.linkedin.com/jobs/view/data-scientist-gerencia-digital-at-walmart-chile-4089105377?position=1&amp;pageNum=0&amp;refId=b6rBuIQZa2keQjRSEm0yOQ%3D%3D&amp;trackingId=0vK5mqshAozlvPCaqKt%2BSg%3D%3D</td>\n",
       "    </tr>\n",
       "    <tr>\n",
       "      <th>1</th>\n",
       "      <td>Machine Learning Engineer</td>\n",
       "      <td>Deloitte</td>\n",
       "      <td>Santiago, Santiago Metropolitan Region, Chile</td>\n",
       "      <td>https://cl.linkedin.com/jobs/view/data-scientist-gerencia-digital-at-walmart-chile-4089105377?position=1&amp;pageNum=0&amp;refId=b6rBuIQZa2keQjRSEm0yOQ%3D%3D&amp;trackingId=0vK5mqshAozlvPCaqKt%2BSg%3D%3D</td>\n",
       "    </tr>\n",
       "    <tr>\n",
       "      <th>2</th>\n",
       "      <td>Data Scientist</td>\n",
       "      <td>Cencosud S.A.</td>\n",
       "      <td>Santiago, Santiago Metropolitan Region, Chile</td>\n",
       "      <td>https://cl.linkedin.com/jobs/view/data-scientist-gerencia-digital-at-walmart-chile-4089105377?position=1&amp;pageNum=0&amp;refId=b6rBuIQZa2keQjRSEm0yOQ%3D%3D&amp;trackingId=0vK5mqshAozlvPCaqKt%2BSg%3D%3D</td>\n",
       "    </tr>\n",
       "  </tbody>\n",
       "</table>\n",
       "</div>"
      ],
      "text/plain": [
       "                              Title        Company  \\\n",
       "0  Data Scientist, Gerencia Digital  Walmart Chile   \n",
       "1         Machine Learning Engineer       Deloitte   \n",
       "2                    Data Scientist  Cencosud S.A.   \n",
       "\n",
       "                                         Location  \\\n",
       "0  Quilicura, Santiago Metropolitan Region, Chile   \n",
       "1   Santiago, Santiago Metropolitan Region, Chile   \n",
       "2   Santiago, Santiago Metropolitan Region, Chile   \n",
       "\n",
       "                                                                                                                                                                                              Url   \n",
       "0  https://cl.linkedin.com/jobs/view/data-scientist-gerencia-digital-at-walmart-chile-4089105377?position=1&pageNum=0&refId=b6rBuIQZa2keQjRSEm0yOQ%3D%3D&trackingId=0vK5mqshAozlvPCaqKt%2BSg%3D%3D  \n",
       "1  https://cl.linkedin.com/jobs/view/data-scientist-gerencia-digital-at-walmart-chile-4089105377?position=1&pageNum=0&refId=b6rBuIQZa2keQjRSEm0yOQ%3D%3D&trackingId=0vK5mqshAozlvPCaqKt%2BSg%3D%3D  \n",
       "2  https://cl.linkedin.com/jobs/view/data-scientist-gerencia-digital-at-walmart-chile-4089105377?position=1&pageNum=0&refId=b6rBuIQZa2keQjRSEm0yOQ%3D%3D&trackingId=0vK5mqshAozlvPCaqKt%2BSg%3D%3D  "
      ]
     },
     "execution_count": 20,
     "metadata": {},
     "output_type": "execute_result"
    }
   ],
   "source": [
    "df_jobs"
   ]
  },
  {
   "cell_type": "code",
   "execution_count": 18,
   "metadata": {},
   "outputs": [
    {
     "ename": "KeyError",
     "evalue": "'Url'",
     "output_type": "error",
     "traceback": [
      "\u001b[1;31m---------------------------------------------------------------------------\u001b[0m",
      "\u001b[1;31mKeyError\u001b[0m                                  Traceback (most recent call last)",
      "File \u001b[1;32m~\\AppData\\Local\\Packages\\PythonSoftwareFoundation.Python.3.10_qbz5n2kfra8p0\\LocalCache\\local-packages\\Python310\\site-packages\\pandas\\core\\indexes\\base.py:3800\u001b[0m, in \u001b[0;36mIndex.get_loc\u001b[1;34m(self, key, method, tolerance)\u001b[0m\n\u001b[0;32m   3799\u001b[0m \u001b[38;5;28;01mtry\u001b[39;00m:\n\u001b[1;32m-> 3800\u001b[0m     \u001b[38;5;28;01mreturn\u001b[39;00m \u001b[38;5;28;43mself\u001b[39;49m\u001b[38;5;241;43m.\u001b[39;49m\u001b[43m_engine\u001b[49m\u001b[38;5;241;43m.\u001b[39;49m\u001b[43mget_loc\u001b[49m\u001b[43m(\u001b[49m\u001b[43mcasted_key\u001b[49m\u001b[43m)\u001b[49m\n\u001b[0;32m   3801\u001b[0m \u001b[38;5;28;01mexcept\u001b[39;00m \u001b[38;5;167;01mKeyError\u001b[39;00m \u001b[38;5;28;01mas\u001b[39;00m err:\n",
      "File \u001b[1;32m~\\AppData\\Local\\Packages\\PythonSoftwareFoundation.Python.3.10_qbz5n2kfra8p0\\LocalCache\\local-packages\\Python310\\site-packages\\pandas\\_libs\\index.pyx:138\u001b[0m, in \u001b[0;36mpandas._libs.index.IndexEngine.get_loc\u001b[1;34m()\u001b[0m\n",
      "File \u001b[1;32m~\\AppData\\Local\\Packages\\PythonSoftwareFoundation.Python.3.10_qbz5n2kfra8p0\\LocalCache\\local-packages\\Python310\\site-packages\\pandas\\_libs\\index.pyx:165\u001b[0m, in \u001b[0;36mpandas._libs.index.IndexEngine.get_loc\u001b[1;34m()\u001b[0m\n",
      "File \u001b[1;32mpandas\\_libs\\hashtable_class_helper.pxi:5745\u001b[0m, in \u001b[0;36mpandas._libs.hashtable.PyObjectHashTable.get_item\u001b[1;34m()\u001b[0m\n",
      "File \u001b[1;32mpandas\\_libs\\hashtable_class_helper.pxi:5753\u001b[0m, in \u001b[0;36mpandas._libs.hashtable.PyObjectHashTable.get_item\u001b[1;34m()\u001b[0m\n",
      "\u001b[1;31mKeyError\u001b[0m: 'Url'",
      "\nThe above exception was the direct cause of the following exception:\n",
      "\u001b[1;31mKeyError\u001b[0m                                  Traceback (most recent call last)",
      "Cell \u001b[1;32mIn [18], line 1\u001b[0m\n\u001b[1;32m----> 1\u001b[0m \u001b[43mdf_jobs\u001b[49m\u001b[43m[\u001b[49m\u001b[38;5;124;43m'\u001b[39;49m\u001b[38;5;124;43mUrl\u001b[39;49m\u001b[38;5;124;43m'\u001b[39;49m\u001b[43m]\u001b[49m\n",
      "File \u001b[1;32m~\\AppData\\Local\\Packages\\PythonSoftwareFoundation.Python.3.10_qbz5n2kfra8p0\\LocalCache\\local-packages\\Python310\\site-packages\\pandas\\core\\frame.py:3805\u001b[0m, in \u001b[0;36mDataFrame.__getitem__\u001b[1;34m(self, key)\u001b[0m\n\u001b[0;32m   3803\u001b[0m \u001b[38;5;28;01mif\u001b[39;00m \u001b[38;5;28mself\u001b[39m\u001b[38;5;241m.\u001b[39mcolumns\u001b[38;5;241m.\u001b[39mnlevels \u001b[38;5;241m>\u001b[39m \u001b[38;5;241m1\u001b[39m:\n\u001b[0;32m   3804\u001b[0m     \u001b[38;5;28;01mreturn\u001b[39;00m \u001b[38;5;28mself\u001b[39m\u001b[38;5;241m.\u001b[39m_getitem_multilevel(key)\n\u001b[1;32m-> 3805\u001b[0m indexer \u001b[38;5;241m=\u001b[39m \u001b[38;5;28;43mself\u001b[39;49m\u001b[38;5;241;43m.\u001b[39;49m\u001b[43mcolumns\u001b[49m\u001b[38;5;241;43m.\u001b[39;49m\u001b[43mget_loc\u001b[49m\u001b[43m(\u001b[49m\u001b[43mkey\u001b[49m\u001b[43m)\u001b[49m\n\u001b[0;32m   3806\u001b[0m \u001b[38;5;28;01mif\u001b[39;00m is_integer(indexer):\n\u001b[0;32m   3807\u001b[0m     indexer \u001b[38;5;241m=\u001b[39m [indexer]\n",
      "File \u001b[1;32m~\\AppData\\Local\\Packages\\PythonSoftwareFoundation.Python.3.10_qbz5n2kfra8p0\\LocalCache\\local-packages\\Python310\\site-packages\\pandas\\core\\indexes\\base.py:3802\u001b[0m, in \u001b[0;36mIndex.get_loc\u001b[1;34m(self, key, method, tolerance)\u001b[0m\n\u001b[0;32m   3800\u001b[0m     \u001b[38;5;28;01mreturn\u001b[39;00m \u001b[38;5;28mself\u001b[39m\u001b[38;5;241m.\u001b[39m_engine\u001b[38;5;241m.\u001b[39mget_loc(casted_key)\n\u001b[0;32m   3801\u001b[0m \u001b[38;5;28;01mexcept\u001b[39;00m \u001b[38;5;167;01mKeyError\u001b[39;00m \u001b[38;5;28;01mas\u001b[39;00m err:\n\u001b[1;32m-> 3802\u001b[0m     \u001b[38;5;28;01mraise\u001b[39;00m \u001b[38;5;167;01mKeyError\u001b[39;00m(key) \u001b[38;5;28;01mfrom\u001b[39;00m \u001b[38;5;21;01merr\u001b[39;00m\n\u001b[0;32m   3803\u001b[0m \u001b[38;5;28;01mexcept\u001b[39;00m \u001b[38;5;167;01mTypeError\u001b[39;00m:\n\u001b[0;32m   3804\u001b[0m     \u001b[38;5;66;03m# If we have a listlike key, _check_indexing_error will raise\u001b[39;00m\n\u001b[0;32m   3805\u001b[0m     \u001b[38;5;66;03m#  InvalidIndexError. Otherwise we fall through and re-raise\u001b[39;00m\n\u001b[0;32m   3806\u001b[0m     \u001b[38;5;66;03m#  the TypeError.\u001b[39;00m\n\u001b[0;32m   3807\u001b[0m     \u001b[38;5;28mself\u001b[39m\u001b[38;5;241m.\u001b[39m_check_indexing_error(key)\n",
      "\u001b[1;31mKeyError\u001b[0m: 'Url'"
     ]
    }
   ],
   "source": [
    "df_jobs['Url']"
   ]
  },
  {
   "cell_type": "markdown",
   "metadata": {
    "id": "5AzJvKlxxUYP"
   },
   "source": [
    "#### 5. Exporte su dataframe a un archivo en formato .csv.  [1 punto]\n"
   ]
  },
  {
   "cell_type": "code",
   "execution_count": 11,
   "metadata": {
    "id": "dL4-uR9_QQOL"
   },
   "outputs": [],
   "source": [
    "df_jobs.to_csv('jobs.csv', index=False)"
   ]
  },
  {
   "cell_type": "markdown",
   "metadata": {
    "id": "qi4sOfg6xUYP"
   },
   "source": [
    "#### 6. ¿Cuántas ofertas de empleo contiene su dataframe, y cuántos resultados hay en total en la búsqueda de Linkedin? Comente sobre las diferencias o coincidencias, y explique qué debería hacer para extraer todos los resultados disponibles en Linkedin (en palabras, no es necesario implementarlo)  [1 punto]\n",
    "\n",
    "Hint: Verifique el número de páginas de resultados, y la URL correspondiente a cada una de ellas."
   ]
  },
  {
   "cell_type": "code",
   "execution_count": 131,
   "metadata": {
    "id": "Tg8fwWroxUYP"
   },
   "outputs": [
    {
     "name": "stdout",
     "output_type": "stream",
     "text": [
      "El DataFrame contiene 60 ofertas de empleo.\n"
     ]
    }
   ],
   "source": [
    "cantidad_de_emplos = len(df_jobs)\n",
    "print(f'El DataFrame contiene {cantidad_de_emplos} ofertas de empleo.')\n"
   ]
  },
  {
   "cell_type": "markdown",
   "metadata": {},
   "source": [
    "#### Con respecto a las diferencias, se deben al paginator de linkedin. Probablemente en el codigo solo estoy tomando los elementos de una sola pagina. Intente lograr mostrar la misma cantidad que es señalada en la pagina web(417), pero no lo logré."
   ]
  }
 ],
 "metadata": {
  "colab": {
   "provenance": []
  },
  "kernelspec": {
   "display_name": "Python 3",
   "language": "python",
   "name": "python3"
  },
  "language_info": {
   "codemirror_mode": {
    "name": "ipython",
    "version": 3
   },
   "file_extension": ".py",
   "mimetype": "text/x-python",
   "name": "python",
   "nbconvert_exporter": "python",
   "pygments_lexer": "ipython3",
   "version": "3.10.11"
  }
 },
 "nbformat": 4,
 "nbformat_minor": 1
}

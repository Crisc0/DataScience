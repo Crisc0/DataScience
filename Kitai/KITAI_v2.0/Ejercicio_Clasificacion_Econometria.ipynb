{
 "cells": [
  {
   "cell_type": "markdown",
   "metadata": {},
   "source": [
    "<center><h1>Ejercicio - Clasificación desde la econometría</h1></center>\n",
    "\n",
    "En esta sesión trabajaremos el dataset south african heart, el cual contiene las siguientes variables:\n",
    "\n",
    "- [sbp]: Presión Sanguínea Sistólica.\n",
    "- [tobacco]: Promedio tabaco consumido por día.\n",
    "- [ldl]: Lipoproteína de baja densidad.\n",
    "- [adiposity]: Adiposidad.\n",
    "- [famhist]: Antecedentes familiares de enfermedades cardiácas. (Binaria)\n",
    "- [types]: Personalidad tipo A\n",
    "- [obesity]: Obesidad.\n",
    "- [alcohol]: Consumo actual de alcohol.\n",
    "- [age]: edad.\n",
    "- [chd]: Enfermedad coronaria. (dummy)\n",
    "\n",
    "<center><h2>Parte 1: Preparar el ambiente de trabajo</h2></center>\n",
    "\n",
    "- Cargue las librerías básicas para importación y manipulación de datos (numpy, pandas), gráficos (matplotlib y seaborn) y de modelación econométrica (statsmodels).\n",
    "- Importe el archivo southafricanheart.csv que se encuentra dentro del material de apoyo.\n",
    "- Realice una descripción del set importado mostrando:\n",
    "  - lista con los nombres de variables importadas\n",
    "  - un análisis descriptivo mediante `.describe()`\n",
    "  - distribución de categorías para las variables `famhist` y `chd`.\n"
   ]
  },
  {
   "cell_type": "code",
   "execution_count": 1,
   "metadata": {},
   "outputs": [],
   "source": [
    "import pandas as pd\n",
    "import numpy as np\n",
    "import matplotlib.pyplot as plt\n",
    "from scipy import stats\n",
    "import seaborn as sns\n",
    "from sklearn.linear_model import LinearRegression\n",
    "from sklearn.metrics import mean_squared_error, r2_score\n",
    "from sklearn.model_selection import train_test_split\n",
    "from sklearn import linear_model\n",
    "import statsmodels.api as sm\n",
    "import statsmodels.formula.api as smf"
   ]
  },
  {
   "cell_type": "code",
   "execution_count": 2,
   "metadata": {},
   "outputs": [],
   "source": [
    "df = pd.read_csv(\"southafricanheart.csv\")\n",
    "df = df.drop(columns = \"Unnamed: 0\")"
   ]
  },
  {
   "cell_type": "code",
   "execution_count": 3,
   "metadata": {},
   "outputs": [
    {
     "data": {
      "text/html": [
       "<div>\n",
       "<style scoped>\n",
       "    .dataframe tbody tr th:only-of-type {\n",
       "        vertical-align: middle;\n",
       "    }\n",
       "\n",
       "    .dataframe tbody tr th {\n",
       "        vertical-align: top;\n",
       "    }\n",
       "\n",
       "    .dataframe thead th {\n",
       "        text-align: right;\n",
       "    }\n",
       "</style>\n",
       "<table border=\"1\" class=\"dataframe\">\n",
       "  <thead>\n",
       "    <tr style=\"text-align: right;\">\n",
       "      <th></th>\n",
       "      <th>sbp</th>\n",
       "      <th>tobacco</th>\n",
       "      <th>ldl</th>\n",
       "      <th>adiposity</th>\n",
       "      <th>famhist</th>\n",
       "      <th>typea</th>\n",
       "      <th>obesity</th>\n",
       "      <th>alcohol</th>\n",
       "      <th>age</th>\n",
       "      <th>chd</th>\n",
       "    </tr>\n",
       "  </thead>\n",
       "  <tbody>\n",
       "    <tr>\n",
       "      <th>0</th>\n",
       "      <td>160</td>\n",
       "      <td>12.00</td>\n",
       "      <td>5.73</td>\n",
       "      <td>23.11</td>\n",
       "      <td>Present</td>\n",
       "      <td>49</td>\n",
       "      <td>25.30</td>\n",
       "      <td>97.20</td>\n",
       "      <td>52</td>\n",
       "      <td>1</td>\n",
       "    </tr>\n",
       "    <tr>\n",
       "      <th>1</th>\n",
       "      <td>144</td>\n",
       "      <td>0.01</td>\n",
       "      <td>4.41</td>\n",
       "      <td>28.61</td>\n",
       "      <td>Absent</td>\n",
       "      <td>55</td>\n",
       "      <td>28.87</td>\n",
       "      <td>2.06</td>\n",
       "      <td>63</td>\n",
       "      <td>1</td>\n",
       "    </tr>\n",
       "    <tr>\n",
       "      <th>2</th>\n",
       "      <td>118</td>\n",
       "      <td>0.08</td>\n",
       "      <td>3.48</td>\n",
       "      <td>32.28</td>\n",
       "      <td>Present</td>\n",
       "      <td>52</td>\n",
       "      <td>29.14</td>\n",
       "      <td>3.81</td>\n",
       "      <td>46</td>\n",
       "      <td>0</td>\n",
       "    </tr>\n",
       "  </tbody>\n",
       "</table>\n",
       "</div>"
      ],
      "text/plain": [
       "   sbp  tobacco   ldl  adiposity  famhist  typea  obesity  alcohol  age  chd\n",
       "0  160    12.00  5.73      23.11  Present     49    25.30    97.20   52    1\n",
       "1  144     0.01  4.41      28.61   Absent     55    28.87     2.06   63    1\n",
       "2  118     0.08  3.48      32.28  Present     52    29.14     3.81   46    0"
      ]
     },
     "execution_count": 3,
     "metadata": {},
     "output_type": "execute_result"
    }
   ],
   "source": [
    "df.head(3)"
   ]
  },
  {
   "cell_type": "code",
   "execution_count": 4,
   "metadata": {},
   "outputs": [
    {
     "data": {
      "text/plain": [
       "Index(['sbp', 'tobacco', 'ldl', 'adiposity', 'famhist', 'typea', 'obesity',\n",
       "       'alcohol', 'age', 'chd'],\n",
       "      dtype='object')"
      ]
     },
     "execution_count": 4,
     "metadata": {},
     "output_type": "execute_result"
    }
   ],
   "source": [
    "df.columns"
   ]
  },
  {
   "cell_type": "markdown",
   "metadata": {},
   "source": [
    "A continuacion graficamos las columnas para tener una mejor perspectiva de su comportamiento"
   ]
  },
  {
   "cell_type": "code",
   "execution_count": 5,
   "metadata": {},
   "outputs": [
    {
     "name": "stderr",
     "output_type": "stream",
     "text": [
      "C:\\Users\\lanze\\AppData\\Local\\Programs\\Python\\Python38\\lib\\site-packages\\seaborn\\distributions.py:2557: FutureWarning: `distplot` is a deprecated function and will be removed in a future version. Please adapt your code to use either `displot` (a figure-level function with similar flexibility) or `histplot` (an axes-level function for histograms).\n",
      "  warnings.warn(msg, FutureWarning)\n",
      "C:\\Users\\lanze\\AppData\\Local\\Programs\\Python\\Python38\\lib\\site-packages\\seaborn\\distributions.py:2557: FutureWarning: `distplot` is a deprecated function and will be removed in a future version. Please adapt your code to use either `displot` (a figure-level function with similar flexibility) or `histplot` (an axes-level function for histograms).\n",
      "  warnings.warn(msg, FutureWarning)\n",
      "C:\\Users\\lanze\\AppData\\Local\\Programs\\Python\\Python38\\lib\\site-packages\\seaborn\\distributions.py:2557: FutureWarning: `distplot` is a deprecated function and will be removed in a future version. Please adapt your code to use either `displot` (a figure-level function with similar flexibility) or `histplot` (an axes-level function for histograms).\n",
      "  warnings.warn(msg, FutureWarning)\n",
      "C:\\Users\\lanze\\AppData\\Local\\Programs\\Python\\Python38\\lib\\site-packages\\seaborn\\distributions.py:2557: FutureWarning: `distplot` is a deprecated function and will be removed in a future version. Please adapt your code to use either `displot` (a figure-level function with similar flexibility) or `histplot` (an axes-level function for histograms).\n",
      "  warnings.warn(msg, FutureWarning)\n",
      "C:\\Users\\lanze\\AppData\\Local\\Programs\\Python\\Python38\\lib\\site-packages\\seaborn\\distributions.py:2557: FutureWarning: `distplot` is a deprecated function and will be removed in a future version. Please adapt your code to use either `displot` (a figure-level function with similar flexibility) or `histplot` (an axes-level function for histograms).\n",
      "  warnings.warn(msg, FutureWarning)\n",
      "C:\\Users\\lanze\\AppData\\Local\\Programs\\Python\\Python38\\lib\\site-packages\\seaborn\\distributions.py:2557: FutureWarning: `distplot` is a deprecated function and will be removed in a future version. Please adapt your code to use either `displot` (a figure-level function with similar flexibility) or `histplot` (an axes-level function for histograms).\n",
      "  warnings.warn(msg, FutureWarning)\n",
      "C:\\Users\\lanze\\AppData\\Local\\Programs\\Python\\Python38\\lib\\site-packages\\seaborn\\distributions.py:2557: FutureWarning: `distplot` is a deprecated function and will be removed in a future version. Please adapt your code to use either `displot` (a figure-level function with similar flexibility) or `histplot` (an axes-level function for histograms).\n",
      "  warnings.warn(msg, FutureWarning)\n",
      "C:\\Users\\lanze\\AppData\\Local\\Programs\\Python\\Python38\\lib\\site-packages\\seaborn\\distributions.py:2557: FutureWarning: `distplot` is a deprecated function and will be removed in a future version. Please adapt your code to use either `displot` (a figure-level function with similar flexibility) or `histplot` (an axes-level function for histograms).\n",
      "  warnings.warn(msg, FutureWarning)\n"
     ]
    },
    {
     "data": {
      "image/png": "[encoded data removed]",
      "image/svg+xml": "<?xml version=\"1.0\" encoding=\"utf-8\" standalone=\"no\"?>\r\n<!DOCTYPE svg PUBLIC \"-//W3C//DTD SVG 1.1//EN\"\r\n  \"http://www.w3.org/Graphics/SVG/1.1/DTD/svg11.dtd\">\r\n<svg height=\"351.59625pt\" version=\"1.1\" viewBox=\"0 0 1432.61875 351.59625\" width=\"1432.61875pt\" xmlns=\"http://www.w3.org/2000/svg\" xmlns:xlink=\"http://www.w3.org/1999/xlink\">\r\n <metadata>\r\n  <rdf:RDF xmlns:cc=\"http://creativecommons.org/ns#\" xmlns:dc=\"http://purl.org/dc/elements/1.1/\" xmlns:rdf=\"http://www.w3.org/1999/02/22-rdf-syntax-ns#\">\r\n   <cc:Work>\r\n    <dc:type rdf:resource=\"http://purl.org/dc/dcmitype/StillImage\"/>\r\n    <dc:date>2021-05-27T21:21:20.710011</dc:date>\r\n    <dc:format>image/svg+xml</dc:format>\r\n    <dc:creator>\r\n     <cc:Agent>\r\n      <dc:title>Matplotlib v3.4.1, https://matplotlib.org/</dc:title>\r\n     </cc:Agent>\r\n    </dc:creator>\r\n   </cc:Work>\r\n  </rdf:RDF>\r\n </metadata>\r\n <defs>\r\n  <style type=\"text/css\">*{stroke-linecap:butt;stroke-linejoin:round;}</style>\r\n </defs>\r\n <g id=\"figure_1\">\r\n  <g id=\"patch_1\">\r\n   <path d=\"M 0 351.59625 \r\nL 1432.61875 351.59625 \r\nL 1432.61875 0 \r\nL 0 0 \r\nz\r\n\" style=\"fill:none;\"/>\r\n  </g>\r\n  <g id=\"axes_1\">\r\n   <g id=\"patch_2\">\r\n    <path d=\"M 50.14375 153.118125 \r\nL 280.95875 153.118125 \r\nL 280.95875 22.318125 \r\nL 50.14375 22.318125 \r\nz\r\n\" style=\"fill:#ffffff;\"/>\r\n   </g>\r\n   <g id=\"patch_3\">\r\n    <path clip-path=\"url(#p759b2a21f2)\" d=\"M 85.347361 153.118125 \r\nL 93.789876 153.118125 \r\nL 93.789876 144.112961 \r\nL 85.347361 144.112961 \r\nz\r\n\" style=\"fill:#1f77b4;opacity:0.4;\"/>\r\n   </g>\r\n   <g id=\"patch_4\">\r\n    <path clip-path=\"url(#p759b2a21f2)\" d=\"M 93.789876 153.118125 \r\nL 102.23239 153.118125 \r\nL 102.23239 124.601774 \r\nL 93.789876 124.601774 \r\nz\r\n\" style=\"fill:#1f77b4;opacity:0.4;\"/>\r\n   </g>\r\n   <g id=\"patch_5\">\r\n    <path clip-path=\"url(#p759b2a21f2)\" d=\"M 102.23239 153.118125 \r\nL 110.674905 153.118125 \r\nL 110.674905 90.08198 \r\nL 102.23239 90.08198 \r\nz\r\n\" style=\"fill:#1f77b4;opacity:0.4;\"/>\r\n   </g>\r\n   <g id=\"patch_6\">\r\n    <path clip-path=\"url(#p759b2a21f2)\" d=\"M 110.674905 153.118125 \r\nL 119.11742 153.118125 \r\nL 119.11742 70.570793 \r\nL 110.674905 70.570793 \r\nz\r\n\" style=\"fill:#1f77b4;opacity:0.4;\"/>\r\n   </g>\r\n   <g id=\"patch_7\">\r\n    <path clip-path=\"url(#p759b2a21f2)\" d=\"M 119.11742 153.118125 \r\nL 127.559934 153.118125 \r\nL 127.559934 52.560466 \r\nL 119.11742 52.560466 \r\nz\r\n\" style=\"fill:#1f77b4;opacity:0.4;\"/>\r\n   </g>\r\n   <g id=\"patch_8\">\r\n    <path clip-path=\"url(#p759b2a21f2)\" d=\"M 127.559934 153.118125 \r\nL 136.002449 153.118125 \r\nL 136.002449 28.546696 \r\nL 127.559934 28.546696 \r\nz\r\n\" style=\"fill:#1f77b4;opacity:0.4;\"/>\r\n   </g>\r\n   <g id=\"patch_9\">\r\n    <path clip-path=\"url(#p759b2a21f2)\" d=\"M 136.002449 153.118125 \r\nL 144.444963 153.118125 \r\nL 144.444963 69.069932 \r\nL 136.002449 69.069932 \r\nz\r\n\" style=\"fill:#1f77b4;opacity:0.4;\"/>\r\n   </g>\r\n   <g id=\"patch_10\">\r\n    <path clip-path=\"url(#p759b2a21f2)\" d=\"M 144.444963 153.118125 \r\nL 152.887478 153.118125 \r\nL 152.887478 106.591447 \r\nL 144.444963 106.591447 \r\nz\r\n\" style=\"fill:#1f77b4;opacity:0.4;\"/>\r\n   </g>\r\n   <g id=\"patch_11\">\r\n    <path clip-path=\"url(#p759b2a21f2)\" d=\"M 152.887478 153.118125 \r\nL 161.329993 153.118125 \r\nL 161.329993 118.598332 \r\nL 152.887478 118.598332 \r\nz\r\n\" style=\"fill:#1f77b4;opacity:0.4;\"/>\r\n   </g>\r\n   <g id=\"patch_12\">\r\n    <path clip-path=\"url(#p759b2a21f2)\" d=\"M 161.329993 153.118125 \r\nL 169.772507 153.118125 \r\nL 169.772507 114.09575 \r\nL 161.329993 114.09575 \r\nz\r\n\" style=\"fill:#1f77b4;opacity:0.4;\"/>\r\n   </g>\r\n   <g id=\"patch_13\">\r\n    <path clip-path=\"url(#p759b2a21f2)\" d=\"M 169.772507 153.118125 \r\nL 178.215022 153.118125 \r\nL 178.215022 129.104356 \r\nL 169.772507 129.104356 \r\nz\r\n\" style=\"fill:#1f77b4;opacity:0.4;\"/>\r\n   </g>\r\n   <g id=\"patch_14\">\r\n    <path clip-path=\"url(#p759b2a21f2)\" d=\"M 178.215022 153.118125 \r\nL 186.657537 153.118125 \r\nL 186.657537 135.107798 \r\nL 178.215022 135.107798 \r\nz\r\n\" style=\"fill:#1f77b4;opacity:0.4;\"/>\r\n   </g>\r\n   <g id=\"patch_15\">\r\n    <path clip-path=\"url(#p759b2a21f2)\" d=\"M 186.657537 153.118125 \r\nL 195.100051 153.118125 \r\nL 195.100051 138.109519 \r\nL 186.657537 138.109519 \r\nz\r\n\" style=\"fill:#1f77b4;opacity:0.4;\"/>\r\n   </g>\r\n   <g id=\"patch_16\">\r\n    <path clip-path=\"url(#p759b2a21f2)\" d=\"M 195.100051 153.118125 \r\nL 203.542566 153.118125 \r\nL 203.542566 151.617264 \r\nL 195.100051 151.617264 \r\nz\r\n\" style=\"fill:#1f77b4;opacity:0.4;\"/>\r\n   </g>\r\n   <g id=\"patch_17\">\r\n    <path clip-path=\"url(#p759b2a21f2)\" d=\"M 203.542566 153.118125 \r\nL 211.98508 153.118125 \r\nL 211.98508 148.615543 \r\nL 203.542566 148.615543 \r\nz\r\n\" style=\"fill:#1f77b4;opacity:0.4;\"/>\r\n   </g>\r\n   <g id=\"patch_18\">\r\n    <path clip-path=\"url(#p759b2a21f2)\" d=\"M 211.98508 153.118125 \r\nL 220.427595 153.118125 \r\nL 220.427595 148.615543 \r\nL 211.98508 148.615543 \r\nz\r\n\" style=\"fill:#1f77b4;opacity:0.4;\"/>\r\n   </g>\r\n   <g id=\"patch_19\">\r\n    <path clip-path=\"url(#p759b2a21f2)\" d=\"M 220.427595 153.118125 \r\nL 228.87011 153.118125 \r\nL 228.87011 151.617264 \r\nL 220.427595 151.617264 \r\nz\r\n\" style=\"fill:#1f77b4;opacity:0.4;\"/>\r\n   </g>\r\n   <g id=\"patch_20\">\r\n    <path clip-path=\"url(#p759b2a21f2)\" d=\"M 228.87011 153.118125 \r\nL 237.312624 153.118125 \r\nL 237.312624 145.613822 \r\nL 228.87011 145.613822 \r\nz\r\n\" style=\"fill:#1f77b4;opacity:0.4;\"/>\r\n   </g>\r\n   <g id=\"patch_21\">\r\n    <path clip-path=\"url(#p759b2a21f2)\" d=\"M 237.312624 153.118125 \r\nL 245.755139 153.118125 \r\nL 245.755139 148.615543 \r\nL 237.312624 148.615543 \r\nz\r\n\" style=\"fill:#1f77b4;opacity:0.4;\"/>\r\n   </g>\r\n   <g id=\"matplotlib.axis_1\">\r\n    <g id=\"xtick_1\">\r\n     <g id=\"line2d_1\">\r\n      <defs>\r\n       <path d=\"M 0 0 \r\nL 0 3.5 \r\n\" id=\"mfac484f1e3\" style=\"stroke:#000000;stroke-width:0.8;\"/>\r\n      </defs>\r\n      <g>\r\n       <use style=\"stroke:#000000;stroke-width:0.8;\" x=\"83.976355\" xlink:href=\"#mfac484f1e3\" y=\"153.118125\"/>\r\n      </g>\r\n     </g>\r\n     <g id=\"text_1\">\r\n      <!-- 100 -->\r\n      <g transform=\"translate(74.432605 167.716562)scale(0.1 -0.1)\">\r\n       <defs>\r\n        <path d=\"M 794 531 \r\nL 1825 531 \r\nL 1825 4091 \r\nL 703 3866 \r\nL 703 4441 \r\nL 1819 4666 \r\nL 2450 4666 \r\nL 2450 531 \r\nL 3481 531 \r\nL 3481 0 \r\nL 794 0 \r\nL 794 531 \r\nz\r\n\" id=\"DejaVuSans-31\" transform=\"scale(0.015625)\"/>\r\n        <path d=\"M 2034 4250 \r\nQ 1547 4250 1301 3770 \r\nQ 1056 3291 1056 2328 \r\nQ 1056 1369 1301 889 \r\nQ 1547 409 2034 409 \r\nQ 2525 409 2770 889 \r\nQ 3016 1369 3016 2328 \r\nQ 3016 3291 2770 3770 \r\nQ 2525 4250 2034 4250 \r\nz\r\nM 2034 4750 \r\nQ 2819 4750 3233 4129 \r\nQ 3647 3509 3647 2328 \r\nQ 3647 1150 3233 529 \r\nQ 2819 -91 2034 -91 \r\nQ 1250 -91 836 529 \r\nQ 422 1150 422 2328 \r\nQ 422 3509 836 4129 \r\nQ 1250 4750 2034 4750 \r\nz\r\n\" id=\"DejaVuSans-30\" transform=\"scale(0.015625)\"/>\r\n       </defs>\r\n       <use xlink:href=\"#DejaVuSans-31\"/>\r\n       <use x=\"63.623047\" xlink:href=\"#DejaVuSans-30\"/>\r\n       <use x=\"127.246094\" xlink:href=\"#DejaVuSans-30\"/>\r\n      </g>\r\n     </g>\r\n    </g>\r\n    <g id=\"xtick_2\">\r\n     <g id=\"line2d_2\">\r\n      <g>\r\n       <use style=\"stroke:#000000;stroke-width:0.8;\" x=\"118.251521\" xlink:href=\"#mfac484f1e3\" y=\"153.118125\"/>\r\n      </g>\r\n     </g>\r\n     <g id=\"text_2\">\r\n      <!-- 125 -->\r\n      <g transform=\"translate(108.707771 167.716562)scale(0.1 -0.1)\">\r\n       <defs>\r\n        <path d=\"M 1228 531 \r\nL 3431 531 \r\nL 3431 0 \r\nL 469 0 \r\nL 469 531 \r\nQ 828 903 1448 1529 \r\nQ 2069 2156 2228 2338 \r\nQ 2531 2678 2651 2914 \r\nQ 2772 3150 2772 3378 \r\nQ 2772 3750 2511 3984 \r\nQ 2250 4219 1831 4219 \r\nQ 1534 4219 1204 4116 \r\nQ 875 4013 500 3803 \r\nL 500 4441 \r\nQ 881 4594 1212 4672 \r\nQ 1544 4750 1819 4750 \r\nQ 2544 4750 2975 4387 \r\nQ 3406 4025 3406 3419 \r\nQ 3406 3131 3298 2873 \r\nQ 3191 2616 2906 2266 \r\nQ 2828 2175 2409 1742 \r\nQ 1991 1309 1228 531 \r\nz\r\n\" id=\"DejaVuSans-32\" transform=\"scale(0.015625)\"/>\r\n        <path d=\"M 691 4666 \r\nL 3169 4666 \r\nL 3169 4134 \r\nL 1269 4134 \r\nL 1269 2991 \r\nQ 1406 3038 1543 3061 \r\nQ 1681 3084 1819 3084 \r\nQ 2600 3084 3056 2656 \r\nQ 3513 2228 3513 1497 \r\nQ 3513 744 3044 326 \r\nQ 2575 -91 1722 -91 \r\nQ 1428 -91 1123 -41 \r\nQ 819 9 494 109 \r\nL 494 744 \r\nQ 775 591 1075 516 \r\nQ 1375 441 1709 441 \r\nQ 2250 441 2565 725 \r\nQ 2881 1009 2881 1497 \r\nQ 2881 1984 2565 2268 \r\nQ 2250 2553 1709 2553 \r\nQ 1456 2553 1204 2497 \r\nQ 953 2441 691 2322 \r\nL 691 4666 \r\nz\r\n\" id=\"DejaVuSans-35\" transform=\"scale(0.015625)\"/>\r\n       </defs>\r\n       <use xlink:href=\"#DejaVuSans-31\"/>\r\n       <use x=\"63.623047\" xlink:href=\"#DejaVuSans-32\"/>\r\n       <use x=\"127.246094\" xlink:href=\"#DejaVuSans-35\"/>\r\n      </g>\r\n     </g>\r\n    </g>\r\n    <g id=\"xtick_3\">\r\n     <g id=\"line2d_3\">\r\n      <g>\r\n       <use style=\"stroke:#000000;stroke-width:0.8;\" x=\"152.526687\" xlink:href=\"#mfac484f1e3\" y=\"153.118125\"/>\r\n      </g>\r\n     </g>\r\n     <g id=\"text_3\">\r\n      <!-- 150 -->\r\n      <g transform=\"translate(142.982937 167.716562)scale(0.1 -0.1)\">\r\n       <use xlink:href=\"#DejaVuSans-31\"/>\r\n       <use x=\"63.623047\" xlink:href=\"#DejaVuSans-35\"/>\r\n       <use x=\"127.246094\" xlink:href=\"#DejaVuSans-30\"/>\r\n      </g>\r\n     </g>\r\n    </g>\r\n    <g id=\"xtick_4\">\r\n     <g id=\"line2d_4\">\r\n      <g>\r\n       <use style=\"stroke:#000000;stroke-width:0.8;\" x=\"186.801853\" xlink:href=\"#mfac484f1e3\" y=\"153.118125\"/>\r\n      </g>\r\n     </g>\r\n     <g id=\"text_4\">\r\n      <!-- 175 -->\r\n      <g transform=\"translate(177.258103 167.716562)scale(0.1 -0.1)\">\r\n       <defs>\r\n        <path d=\"M 525 4666 \r\nL 3525 4666 \r\nL 3525 4397 \r\nL 1831 0 \r\nL 1172 0 \r\nL 2766 4134 \r\nL 525 4134 \r\nL 525 4666 \r\nz\r\n\" id=\"DejaVuSans-37\" transform=\"scale(0.015625)\"/>\r\n       </defs>\r\n       <use xlink:href=\"#DejaVuSans-31\"/>\r\n       <use x=\"63.623047\" xlink:href=\"#DejaVuSans-37\"/>\r\n       <use x=\"127.246094\" xlink:href=\"#DejaVuSans-35\"/>\r\n      </g>\r\n     </g>\r\n    </g>\r\n    <g id=\"xtick_5\">\r\n     <g id=\"line2d_5\">\r\n      <g>\r\n       <use style=\"stroke:#000000;stroke-width:0.8;\" x=\"221.077019\" xlink:href=\"#mfac484f1e3\" y=\"153.118125\"/>\r\n      </g>\r\n     </g>\r\n     <g id=\"text_5\">\r\n      <!-- 200 -->\r\n      <g transform=\"translate(211.533269 167.716562)scale(0.1 -0.1)\">\r\n       <use xlink:href=\"#DejaVuSans-32\"/>\r\n       <use x=\"63.623047\" xlink:href=\"#DejaVuSans-30\"/>\r\n       <use x=\"127.246094\" xlink:href=\"#DejaVuSans-30\"/>\r\n      </g>\r\n     </g>\r\n    </g>\r\n    <g id=\"xtick_6\">\r\n     <g id=\"line2d_6\">\r\n      <g>\r\n       <use style=\"stroke:#000000;stroke-width:0.8;\" x=\"255.352185\" xlink:href=\"#mfac484f1e3\" y=\"153.118125\"/>\r\n      </g>\r\n     </g>\r\n     <g id=\"text_6\">\r\n      <!-- 225 -->\r\n      <g transform=\"translate(245.808435 167.716562)scale(0.1 -0.1)\">\r\n       <use xlink:href=\"#DejaVuSans-32\"/>\r\n       <use x=\"63.623047\" xlink:href=\"#DejaVuSans-32\"/>\r\n       <use x=\"127.246094\" xlink:href=\"#DejaVuSans-35\"/>\r\n      </g>\r\n     </g>\r\n    </g>\r\n   </g>\r\n   <g id=\"matplotlib.axis_2\">\r\n    <g id=\"ytick_1\">\r\n     <g id=\"line2d_7\">\r\n      <defs>\r\n       <path d=\"M 0 0 \r\nL -3.5 0 \r\n\" id=\"m9e78a2e796\" style=\"stroke:#000000;stroke-width:0.8;\"/>\r\n      </defs>\r\n      <g>\r\n       <use style=\"stroke:#000000;stroke-width:0.8;\" x=\"50.14375\" xlink:href=\"#m9e78a2e796\" y=\"153.118125\"/>\r\n      </g>\r\n     </g>\r\n     <g id=\"text_7\">\r\n      <!-- 0.00 -->\r\n      <g transform=\"translate(20.878125 156.917344)scale(0.1 -0.1)\">\r\n       <defs>\r\n        <path d=\"M 684 794 \r\nL 1344 794 \r\nL 1344 0 \r\nL 684 0 \r\nL 684 794 \r\nz\r\n\" id=\"DejaVuSans-2e\" transform=\"scale(0.015625)\"/>\r\n       </defs>\r\n       <use xlink:href=\"#DejaVuSans-30\"/>\r\n       <use x=\"63.623047\" xlink:href=\"#DejaVuSans-2e\"/>\r\n       <use x=\"95.410156\" xlink:href=\"#DejaVuSans-30\"/>\r\n       <use x=\"159.033203\" xlink:href=\"#DejaVuSans-30\"/>\r\n      </g>\r\n     </g>\r\n    </g>\r\n    <g id=\"ytick_2\">\r\n     <g id=\"line2d_8\">\r\n      <g>\r\n       <use style=\"stroke:#000000;stroke-width:0.8;\" x=\"50.14375\" xlink:href=\"#m9e78a2e796\" y=\"110.419431\"/>\r\n      </g>\r\n     </g>\r\n     <g id=\"text_8\">\r\n      <!-- 0.01 -->\r\n      <g transform=\"translate(20.878125 114.21865)scale(0.1 -0.1)\">\r\n       <use xlink:href=\"#DejaVuSans-30\"/>\r\n       <use x=\"63.623047\" xlink:href=\"#DejaVuSans-2e\"/>\r\n       <use x=\"95.410156\" xlink:href=\"#DejaVuSans-30\"/>\r\n       <use x=\"159.033203\" xlink:href=\"#DejaVuSans-31\"/>\r\n      </g>\r\n     </g>\r\n    </g>\r\n    <g id=\"ytick_3\">\r\n     <g id=\"line2d_9\">\r\n      <g>\r\n       <use style=\"stroke:#000000;stroke-width:0.8;\" x=\"50.14375\" xlink:href=\"#m9e78a2e796\" y=\"67.720738\"/>\r\n      </g>\r\n     </g>\r\n     <g id=\"text_9\">\r\n      <!-- 0.02 -->\r\n      <g transform=\"translate(20.878125 71.519956)scale(0.1 -0.1)\">\r\n       <use xlink:href=\"#DejaVuSans-30\"/>\r\n       <use x=\"63.623047\" xlink:href=\"#DejaVuSans-2e\"/>\r\n       <use x=\"95.410156\" xlink:href=\"#DejaVuSans-30\"/>\r\n       <use x=\"159.033203\" xlink:href=\"#DejaVuSans-32\"/>\r\n      </g>\r\n     </g>\r\n    </g>\r\n    <g id=\"ytick_4\">\r\n     <g id=\"line2d_10\">\r\n      <g>\r\n       <use style=\"stroke:#000000;stroke-width:0.8;\" x=\"50.14375\" xlink:href=\"#m9e78a2e796\" y=\"25.022044\"/>\r\n      </g>\r\n     </g>\r\n     <g id=\"text_10\">\r\n      <!-- 0.03 -->\r\n      <g transform=\"translate(20.878125 28.821263)scale(0.1 -0.1)\">\r\n       <defs>\r\n        <path d=\"M 2597 2516 \r\nQ 3050 2419 3304 2112 \r\nQ 3559 1806 3559 1356 \r\nQ 3559 666 3084 287 \r\nQ 2609 -91 1734 -91 \r\nQ 1441 -91 1130 -33 \r\nQ 819 25 488 141 \r\nL 488 750 \r\nQ 750 597 1062 519 \r\nQ 1375 441 1716 441 \r\nQ 2309 441 2620 675 \r\nQ 2931 909 2931 1356 \r\nQ 2931 1769 2642 2001 \r\nQ 2353 2234 1838 2234 \r\nL 1294 2234 \r\nL 1294 2753 \r\nL 1863 2753 \r\nQ 2328 2753 2575 2939 \r\nQ 2822 3125 2822 3475 \r\nQ 2822 3834 2567 4026 \r\nQ 2313 4219 1838 4219 \r\nQ 1578 4219 1281 4162 \r\nQ 984 4106 628 3988 \r\nL 628 4550 \r\nQ 988 4650 1302 4700 \r\nQ 1616 4750 1894 4750 \r\nQ 2613 4750 3031 4423 \r\nQ 3450 4097 3450 3541 \r\nQ 3450 3153 3228 2886 \r\nQ 3006 2619 2597 2516 \r\nz\r\n\" id=\"DejaVuSans-33\" transform=\"scale(0.015625)\"/>\r\n       </defs>\r\n       <use xlink:href=\"#DejaVuSans-30\"/>\r\n       <use x=\"63.623047\" xlink:href=\"#DejaVuSans-2e\"/>\r\n       <use x=\"95.410156\" xlink:href=\"#DejaVuSans-30\"/>\r\n       <use x=\"159.033203\" xlink:href=\"#DejaVuSans-33\"/>\r\n      </g>\r\n     </g>\r\n    </g>\r\n    <g id=\"text_11\">\r\n     <!-- Densidad -->\r\n     <g transform=\"translate(14.798438 111.219687)rotate(-90)scale(0.1 -0.1)\">\r\n      <defs>\r\n       <path d=\"M 1259 4147 \r\nL 1259 519 \r\nL 2022 519 \r\nQ 2988 519 3436 956 \r\nQ 3884 1394 3884 2338 \r\nQ 3884 3275 3436 3711 \r\nQ 2988 4147 2022 4147 \r\nL 1259 4147 \r\nz\r\nM 628 4666 \r\nL 1925 4666 \r\nQ 3281 4666 3915 4102 \r\nQ 4550 3538 4550 2338 \r\nQ 4550 1131 3912 565 \r\nQ 3275 0 1925 0 \r\nL 628 0 \r\nL 628 4666 \r\nz\r\n\" id=\"DejaVuSans-44\" transform=\"scale(0.015625)\"/>\r\n       <path d=\"M 3597 1894 \r\nL 3597 1613 \r\nL 953 1613 \r\nQ 991 1019 1311 708 \r\nQ 1631 397 2203 397 \r\nQ 2534 397 2845 478 \r\nQ 3156 559 3463 722 \r\nL 3463 178 \r\nQ 3153 47 2828 -22 \r\nQ 2503 -91 2169 -91 \r\nQ 1331 -91 842 396 \r\nQ 353 884 353 1716 \r\nQ 353 2575 817 3079 \r\nQ 1281 3584 2069 3584 \r\nQ 2775 3584 3186 3129 \r\nQ 3597 2675 3597 1894 \r\nz\r\nM 3022 2063 \r\nQ 3016 2534 2758 2815 \r\nQ 2500 3097 2075 3097 \r\nQ 1594 3097 1305 2825 \r\nQ 1016 2553 972 2059 \r\nL 3022 2063 \r\nz\r\n\" id=\"DejaVuSans-65\" transform=\"scale(0.015625)\"/>\r\n       <path d=\"M 3513 2113 \r\nL 3513 0 \r\nL 2938 0 \r\nL 2938 2094 \r\nQ 2938 2591 2744 2837 \r\nQ 2550 3084 2163 3084 \r\nQ 1697 3084 1428 2787 \r\nQ 1159 2491 1159 1978 \r\nL 1159 0 \r\nL 581 0 \r\nL 581 3500 \r\nL 1159 3500 \r\nL 1159 2956 \r\nQ 1366 3272 1645 3428 \r\nQ 1925 3584 2291 3584 \r\nQ 2894 3584 3203 3211 \r\nQ 3513 2838 3513 2113 \r\nz\r\n\" id=\"DejaVuSans-6e\" transform=\"scale(0.015625)\"/>\r\n       <path d=\"M 2834 3397 \r\nL 2834 2853 \r\nQ 2591 2978 2328 3040 \r\nQ 2066 3103 1784 3103 \r\nQ 1356 3103 1142 2972 \r\nQ 928 2841 928 2578 \r\nQ 928 2378 1081 2264 \r\nQ 1234 2150 1697 2047 \r\nL 1894 2003 \r\nQ 2506 1872 2764 1633 \r\nQ 3022 1394 3022 966 \r\nQ 3022 478 2636 193 \r\nQ 2250 -91 1575 -91 \r\nQ 1294 -91 989 -36 \r\nQ 684 19 347 128 \r\nL 347 722 \r\nQ 666 556 975 473 \r\nQ 1284 391 1588 391 \r\nQ 1994 391 2212 530 \r\nQ 2431 669 2431 922 \r\nQ 2431 1156 2273 1281 \r\nQ 2116 1406 1581 1522 \r\nL 1381 1569 \r\nQ 847 1681 609 1914 \r\nQ 372 2147 372 2553 \r\nQ 372 3047 722 3315 \r\nQ 1072 3584 1716 3584 \r\nQ 2034 3584 2315 3537 \r\nQ 2597 3491 2834 3397 \r\nz\r\n\" id=\"DejaVuSans-73\" transform=\"scale(0.015625)\"/>\r\n       <path d=\"M 603 3500 \r\nL 1178 3500 \r\nL 1178 0 \r\nL 603 0 \r\nL 603 3500 \r\nz\r\nM 603 4863 \r\nL 1178 4863 \r\nL 1178 4134 \r\nL 603 4134 \r\nL 603 4863 \r\nz\r\n\" id=\"DejaVuSans-69\" transform=\"scale(0.015625)\"/>\r\n       <path d=\"M 2906 2969 \r\nL 2906 4863 \r\nL 3481 4863 \r\nL 3481 0 \r\nL 2906 0 \r\nL 2906 525 \r\nQ 2725 213 2448 61 \r\nQ 2172 -91 1784 -91 \r\nQ 1150 -91 751 415 \r\nQ 353 922 353 1747 \r\nQ 353 2572 751 3078 \r\nQ 1150 3584 1784 3584 \r\nQ 2172 3584 2448 3432 \r\nQ 2725 3281 2906 2969 \r\nz\r\nM 947 1747 \r\nQ 947 1113 1208 752 \r\nQ 1469 391 1925 391 \r\nQ 2381 391 2643 752 \r\nQ 2906 1113 2906 1747 \r\nQ 2906 2381 2643 2742 \r\nQ 2381 3103 1925 3103 \r\nQ 1469 3103 1208 2742 \r\nQ 947 2381 947 1747 \r\nz\r\n\" id=\"DejaVuSans-64\" transform=\"scale(0.015625)\"/>\r\n       <path d=\"M 2194 1759 \r\nQ 1497 1759 1228 1600 \r\nQ 959 1441 959 1056 \r\nQ 959 750 1161 570 \r\nQ 1363 391 1709 391 \r\nQ 2188 391 2477 730 \r\nQ 2766 1069 2766 1631 \r\nL 2766 1759 \r\nL 2194 1759 \r\nz\r\nM 3341 1997 \r\nL 3341 0 \r\nL 2766 0 \r\nL 2766 531 \r\nQ 2569 213 2275 61 \r\nQ 1981 -91 1556 -91 \r\nQ 1019 -91 701 211 \r\nQ 384 513 384 1019 \r\nQ 384 1609 779 1909 \r\nQ 1175 2209 1959 2209 \r\nL 2766 2209 \r\nL 2766 2266 \r\nQ 2766 2663 2505 2880 \r\nQ 2244 3097 1772 3097 \r\nQ 1472 3097 1187 3025 \r\nQ 903 2953 641 2809 \r\nL 641 3341 \r\nQ 956 3463 1253 3523 \r\nQ 1550 3584 1831 3584 \r\nQ 2591 3584 2966 3190 \r\nQ 3341 2797 3341 1997 \r\nz\r\n\" id=\"DejaVuSans-61\" transform=\"scale(0.015625)\"/>\r\n      </defs>\r\n      <use xlink:href=\"#DejaVuSans-44\"/>\r\n      <use x=\"77.001953\" xlink:href=\"#DejaVuSans-65\"/>\r\n      <use x=\"138.525391\" xlink:href=\"#DejaVuSans-6e\"/>\r\n      <use x=\"201.904297\" xlink:href=\"#DejaVuSans-73\"/>\r\n      <use x=\"254.003906\" xlink:href=\"#DejaVuSans-69\"/>\r\n      <use x=\"281.787109\" xlink:href=\"#DejaVuSans-64\"/>\r\n      <use x=\"345.263672\" xlink:href=\"#DejaVuSans-61\"/>\r\n      <use x=\"406.542969\" xlink:href=\"#DejaVuSans-64\"/>\r\n     </g>\r\n    </g>\r\n   </g>\r\n   <g id=\"line2d_11\">\r\n    <path clip-path=\"url(#p759b2a21f2)\" d=\"M 60.635341 153.102723 \r\nL 66.961928 152.974475 \r\nL 70.125222 152.751628 \r\nL 73.288516 152.280303 \r\nL 75.397378 151.744296 \r\nL 77.506241 150.958256 \r\nL 79.615103 149.853326 \r\nL 81.723966 148.360002 \r\nL 83.832828 146.413664 \r\nL 85.941691 143.959708 \r\nL 88.050553 140.957153 \r\nL 90.159416 137.380142 \r\nL 92.268278 133.217774 \r\nL 94.377141 128.473915 \r\nL 96.486003 123.169091 \r\nL 98.594866 117.34546 \r\nL 101.75816 107.800471 \r\nL 107.030316 90.752068 \r\nL 111.248041 77.482942 \r\nL 113.356903 71.379152 \r\nL 115.465766 65.786804 \r\nL 117.574628 60.810679 \r\nL 119.683491 56.565934 \r\nL 120.737922 54.76119 \r\nL 121.792353 53.195765 \r\nL 122.846784 51.892977 \r\nL 123.901216 50.877577 \r\nL 124.955647 50.174725 \r\nL 126.010078 49.808587 \r\nL 127.064509 49.800652 \r\nL 128.118941 50.167875 \r\nL 129.173372 50.92083 \r\nL 130.227803 52.062054 \r\nL 131.282234 53.584767 \r\nL 132.336666 55.472148 \r\nL 133.391097 57.697273 \r\nL 135.499959 63.007218 \r\nL 137.608822 69.138823 \r\nL 143.935409 88.287132 \r\nL 146.044272 93.855923 \r\nL 148.153134 98.757455 \r\nL 150.261997 102.977211 \r\nL 152.370859 106.550114 \r\nL 154.479722 109.533461 \r\nL 156.588584 111.995145 \r\nL 158.697447 114.015183 \r\nL 160.806309 115.692488 \r\nL 163.969603 117.833151 \r\nL 168.187328 120.667965 \r\nL 170.296191 122.298533 \r\nL 173.459484 125.079887 \r\nL 182.949366 133.916066 \r\nL 187.167091 137.352999 \r\nL 194.548109 143.080808 \r\nL 197.711403 145.21592 \r\nL 199.820266 146.381777 \r\nL 201.929128 147.297916 \r\nL 204.037991 147.966838 \r\nL 206.146853 148.423684 \r\nL 209.310147 148.830528 \r\nL 213.527872 149.109231 \r\nL 218.800028 149.237546 \r\nL 223.017753 149.124116 \r\nL 230.398772 148.809952 \r\nL 233.562065 148.904007 \r\nL 236.725359 149.206623 \r\nL 240.943084 149.863306 \r\nL 255.705122 152.491844 \r\nL 259.922847 152.860799 \r\nL 265.195003 153.056929 \r\nL 270.467159 153.108151 \r\nL 270.467159 153.108151 \r\n\" style=\"fill:none;stroke:#1f77b4;stroke-linecap:square;stroke-width:1.5;\"/>\r\n   </g>\r\n   <g id=\"patch_22\">\r\n    <path d=\"M 50.14375 153.118125 \r\nL 50.14375 22.318125 \r\n\" style=\"fill:none;stroke:#000000;stroke-linecap:square;stroke-linejoin:miter;stroke-width:0.8;\"/>\r\n   </g>\r\n   <g id=\"patch_23\">\r\n    <path d=\"M 280.95875 153.118125 \r\nL 280.95875 22.318125 \r\n\" style=\"fill:none;stroke:#000000;stroke-linecap:square;stroke-linejoin:miter;stroke-width:0.8;\"/>\r\n   </g>\r\n   <g id=\"patch_24\">\r\n    <path d=\"M 50.14375 153.118125 \r\nL 280.95875 153.118125 \r\n\" style=\"fill:none;stroke:#000000;stroke-linecap:square;stroke-linejoin:miter;stroke-width:0.8;\"/>\r\n   </g>\r\n   <g id=\"patch_25\">\r\n    <path d=\"M 50.14375 22.318125 \r\nL 280.95875 22.318125 \r\n\" style=\"fill:none;stroke:#000000;stroke-linecap:square;stroke-linejoin:miter;stroke-width:0.8;\"/>\r\n   </g>\r\n   <g id=\"text_12\">\r\n    <!-- sbp -->\r\n    <g transform=\"translate(154.8075 16.318125)scale(0.12 -0.12)\">\r\n     <defs>\r\n      <path d=\"M 3116 1747 \r\nQ 3116 2381 2855 2742 \r\nQ 2594 3103 2138 3103 \r\nQ 1681 3103 1420 2742 \r\nQ 1159 2381 1159 1747 \r\nQ 1159 1113 1420 752 \r\nQ 1681 391 2138 391 \r\nQ 2594 391 2855 752 \r\nQ 3116 1113 3116 1747 \r\nz\r\nM 1159 2969 \r\nQ 1341 3281 1617 3432 \r\nQ 1894 3584 2278 3584 \r\nQ 2916 3584 3314 3078 \r\nQ 3713 2572 3713 1747 \r\nQ 3713 922 3314 415 \r\nQ 2916 -91 2278 -91 \r\nQ 1894 -91 1617 61 \r\nQ 1341 213 1159 525 \r\nL 1159 0 \r\nL 581 0 \r\nL 581 4863 \r\nL 1159 4863 \r\nL 1159 2969 \r\nz\r\n\" id=\"DejaVuSans-62\" transform=\"scale(0.015625)\"/>\r\n      <path d=\"M 1159 525 \r\nL 1159 -1331 \r\nL 581 -1331 \r\nL 581 3500 \r\nL 1159 3500 \r\nL 1159 2969 \r\nQ 1341 3281 1617 3432 \r\nQ 1894 3584 2278 3584 \r\nQ 2916 3584 3314 3078 \r\nQ 3713 2572 3713 1747 \r\nQ 3713 922 3314 415 \r\nQ 2916 -91 2278 -91 \r\nQ 1894 -91 1617 61 \r\nQ 1341 213 1159 525 \r\nz\r\nM 3116 1747 \r\nQ 3116 2381 2855 2742 \r\nQ 2594 3103 2138 3103 \r\nQ 1681 3103 1420 2742 \r\nQ 1159 2381 1159 1747 \r\nQ 1159 1113 1420 752 \r\nQ 1681 391 2138 391 \r\nQ 2594 391 2855 752 \r\nQ 3116 1113 3116 1747 \r\nz\r\n\" id=\"DejaVuSans-70\" transform=\"scale(0.015625)\"/>\r\n     </defs>\r\n     <use xlink:href=\"#DejaVuSans-73\"/>\r\n     <use x=\"52.099609\" xlink:href=\"#DejaVuSans-62\"/>\r\n     <use x=\"115.576172\" xlink:href=\"#DejaVuSans-70\"/>\r\n    </g>\r\n   </g>\r\n  </g>\r\n  <g id=\"axes_2\">\r\n   <g id=\"patch_26\">\r\n    <path d=\"M 336.25875 153.118125 \r\nL 567.07375 153.118125 \r\nL 567.07375 22.318125 \r\nL 336.25875 22.318125 \r\nz\r\n\" style=\"fill:#ffffff;\"/>\r\n   </g>\r\n   <g id=\"patch_27\">\r\n    <path clip-path=\"url(#pa62765b81b)\" d=\"M 368.328278 153.118125 \r\nL 375.575058 153.118125 \r\nL 375.575058 28.546696 \r\nL 368.328278 28.546696 \r\nz\r\n\" style=\"fill:#1f77b4;opacity:0.4;\"/>\r\n   </g>\r\n   <g id=\"patch_28\">\r\n    <path clip-path=\"url(#pa62765b81b)\" d=\"M 375.575058 153.118125 \r\nL 382.821838 153.118125 \r\nL 382.821838 121.050232 \r\nL 375.575058 121.050232 \r\nz\r\n\" style=\"fill:#1f77b4;opacity:0.4;\"/>\r\n   </g>\r\n   <g id=\"patch_29\">\r\n    <path clip-path=\"url(#pa62765b81b)\" d=\"M 382.821838 153.118125 \r\nL 390.068618 153.118125 \r\nL 390.068618 124.133684 \r\nL 382.821838 124.133684 \r\nz\r\n\" style=\"fill:#1f77b4;opacity:0.4;\"/>\r\n   </g>\r\n   <g id=\"patch_30\">\r\n    <path clip-path=\"url(#pa62765b81b)\" d=\"M 390.068618 153.118125 \r\nL 397.315398 153.118125 \r\nL 397.315398 125.983754 \r\nL 390.068618 125.983754 \r\nz\r\n\" style=\"fill:#1f77b4;opacity:0.4;\"/>\r\n   </g>\r\n   <g id=\"patch_31\">\r\n    <path clip-path=\"url(#pa62765b81b)\" d=\"M 397.315398 153.118125 \r\nL 404.562179 153.118125 \r\nL 404.562179 132.767347 \r\nL 397.315398 132.767347 \r\nz\r\n\" style=\"fill:#1f77b4;opacity:0.4;\"/>\r\n   </g>\r\n   <g id=\"patch_32\">\r\n    <path clip-path=\"url(#pa62765b81b)\" d=\"M 404.562179 153.118125 \r\nL 411.808959 153.118125 \r\nL 411.808959 138.934249 \r\nL 404.562179 138.934249 \r\nz\r\n\" style=\"fill:#1f77b4;opacity:0.4;\"/>\r\n   </g>\r\n   <g id=\"patch_33\">\r\n    <path clip-path=\"url(#pa62765b81b)\" d=\"M 411.808959 153.118125 \r\nL 419.055739 153.118125 \r\nL 419.055739 143.251081 \r\nL 411.808959 143.251081 \r\nz\r\n\" style=\"fill:#1f77b4;opacity:0.4;\"/>\r\n   </g>\r\n   <g id=\"patch_34\">\r\n    <path clip-path=\"url(#pa62765b81b)\" d=\"M 419.055739 153.118125 \r\nL 426.302519 153.118125 \r\nL 426.302519 148.184603 \r\nL 419.055739 148.184603 \r\nz\r\n\" style=\"fill:#1f77b4;opacity:0.4;\"/>\r\n   </g>\r\n   <g id=\"patch_35\">\r\n    <path clip-path=\"url(#pa62765b81b)\" d=\"M 426.302519 153.118125 \r\nL 433.549299 153.118125 \r\nL 433.549299 145.717842 \r\nL 426.302519 145.717842 \r\nz\r\n\" style=\"fill:#1f77b4;opacity:0.4;\"/>\r\n   </g>\r\n   <g id=\"patch_36\">\r\n    <path clip-path=\"url(#pa62765b81b)\" d=\"M 433.549299 153.118125 \r\nL 440.79608 153.118125 \r\nL 440.79608 150.034674 \r\nL 433.549299 150.034674 \r\nz\r\n\" style=\"fill:#1f77b4;opacity:0.4;\"/>\r\n   </g>\r\n   <g id=\"patch_37\">\r\n    <path clip-path=\"url(#pa62765b81b)\" d=\"M 440.79608 153.118125 \r\nL 448.04286 153.118125 \r\nL 448.04286 149.417984 \r\nL 440.79608 149.417984 \r\nz\r\n\" style=\"fill:#1f77b4;opacity:0.4;\"/>\r\n   </g>\r\n   <g id=\"patch_38\">\r\n    <path clip-path=\"url(#pa62765b81b)\" d=\"M 448.04286 153.118125 \r\nL 455.28964 153.118125 \r\nL 455.28964 150.651364 \r\nL 448.04286 150.651364 \r\nz\r\n\" style=\"fill:#1f77b4;opacity:0.4;\"/>\r\n   </g>\r\n   <g id=\"patch_39\">\r\n    <path clip-path=\"url(#pa62765b81b)\" d=\"M 455.28964 153.118125 \r\nL 462.53642 153.118125 \r\nL 462.53642 153.118125 \r\nL 455.28964 153.118125 \r\nz\r\n\" style=\"fill:#1f77b4;opacity:0.4;\"/>\r\n   </g>\r\n   <g id=\"patch_40\">\r\n    <path clip-path=\"url(#pa62765b81b)\" d=\"M 462.53642 153.118125 \r\nL 469.783201 153.118125 \r\nL 469.783201 151.884745 \r\nL 462.53642 151.884745 \r\nz\r\n\" style=\"fill:#1f77b4;opacity:0.4;\"/>\r\n   </g>\r\n   <g id=\"patch_41\">\r\n    <path clip-path=\"url(#pa62765b81b)\" d=\"M 469.783201 153.118125 \r\nL 477.029981 153.118125 \r\nL 477.029981 150.034674 \r\nL 469.783201 150.034674 \r\nz\r\n\" style=\"fill:#1f77b4;opacity:0.4;\"/>\r\n   </g>\r\n   <g id=\"patch_42\">\r\n    <path clip-path=\"url(#pa62765b81b)\" d=\"M 477.029981 153.118125 \r\nL 484.276761 153.118125 \r\nL 484.276761 153.118125 \r\nL 477.029981 153.118125 \r\nz\r\n\" style=\"fill:#1f77b4;opacity:0.4;\"/>\r\n   </g>\r\n   <g id=\"patch_43\">\r\n    <path clip-path=\"url(#pa62765b81b)\" d=\"M 484.276761 153.118125 \r\nL 491.523541 153.118125 \r\nL 491.523541 153.118125 \r\nL 484.276761 153.118125 \r\nz\r\n\" style=\"fill:#1f77b4;opacity:0.4;\"/>\r\n   </g>\r\n   <g id=\"patch_44\">\r\n    <path clip-path=\"url(#pa62765b81b)\" d=\"M 491.523541 153.118125 \r\nL 498.770321 153.118125 \r\nL 498.770321 153.118125 \r\nL 491.523541 153.118125 \r\nz\r\n\" style=\"fill:#1f77b4;opacity:0.4;\"/>\r\n   </g>\r\n   <g id=\"patch_45\">\r\n    <path clip-path=\"url(#pa62765b81b)\" d=\"M 498.770321 153.118125 \r\nL 506.017102 153.118125 \r\nL 506.017102 152.501435 \r\nL 498.770321 152.501435 \r\nz\r\n\" style=\"fill:#1f77b4;opacity:0.4;\"/>\r\n   </g>\r\n   <g id=\"patch_46\">\r\n    <path clip-path=\"url(#pa62765b81b)\" d=\"M 506.017102 153.118125 \r\nL 513.263882 153.118125 \r\nL 513.263882 153.118125 \r\nL 506.017102 153.118125 \r\nz\r\n\" style=\"fill:#1f77b4;opacity:0.4;\"/>\r\n   </g>\r\n   <g id=\"patch_47\">\r\n    <path clip-path=\"url(#pa62765b81b)\" d=\"M 513.263882 153.118125 \r\nL 520.510662 153.118125 \r\nL 520.510662 152.501435 \r\nL 513.263882 152.501435 \r\nz\r\n\" style=\"fill:#1f77b4;opacity:0.4;\"/>\r\n   </g>\r\n   <g id=\"patch_48\">\r\n    <path clip-path=\"url(#pa62765b81b)\" d=\"M 520.510662 153.118125 \r\nL 527.757442 153.118125 \r\nL 527.757442 153.118125 \r\nL 520.510662 153.118125 \r\nz\r\n\" style=\"fill:#1f77b4;opacity:0.4;\"/>\r\n   </g>\r\n   <g id=\"patch_49\">\r\n    <path clip-path=\"url(#pa62765b81b)\" d=\"M 527.757442 153.118125 \r\nL 535.004222 153.118125 \r\nL 535.004222 152.501435 \r\nL 527.757442 152.501435 \r\nz\r\n\" style=\"fill:#1f77b4;opacity:0.4;\"/>\r\n   </g>\r\n   <g id=\"matplotlib.axis_3\">\r\n    <g id=\"xtick_7\">\r\n     <g id=\"line2d_12\">\r\n      <g>\r\n       <use style=\"stroke:#000000;stroke-width:0.8;\" x=\"368.328278\" xlink:href=\"#mfac484f1e3\" y=\"153.118125\"/>\r\n      </g>\r\n     </g>\r\n     <g id=\"text_13\">\r\n      <!-- 0 -->\r\n      <g transform=\"translate(365.147028 167.716562)scale(0.1 -0.1)\">\r\n       <use xlink:href=\"#DejaVuSans-30\"/>\r\n      </g>\r\n     </g>\r\n    </g>\r\n    <g id=\"xtick_8\">\r\n     <g id=\"line2d_13\">\r\n      <g>\r\n       <use style=\"stroke:#000000;stroke-width:0.8;\" x=\"421.750055\" xlink:href=\"#mfac484f1e3\" y=\"153.118125\"/>\r\n      </g>\r\n     </g>\r\n     <g id=\"text_14\">\r\n      <!-- 10 -->\r\n      <g transform=\"translate(415.387555 167.716562)scale(0.1 -0.1)\">\r\n       <use xlink:href=\"#DejaVuSans-31\"/>\r\n       <use x=\"63.623047\" xlink:href=\"#DejaVuSans-30\"/>\r\n      </g>\r\n     </g>\r\n    </g>\r\n    <g id=\"xtick_9\">\r\n     <g id=\"line2d_14\">\r\n      <g>\r\n       <use style=\"stroke:#000000;stroke-width:0.8;\" x=\"475.171832\" xlink:href=\"#mfac484f1e3\" y=\"153.118125\"/>\r\n      </g>\r\n     </g>\r\n     <g id=\"text_15\">\r\n      <!-- 20 -->\r\n      <g transform=\"translate(468.809332 167.716562)scale(0.1 -0.1)\">\r\n       <use xlink:href=\"#DejaVuSans-32\"/>\r\n       <use x=\"63.623047\" xlink:href=\"#DejaVuSans-30\"/>\r\n      </g>\r\n     </g>\r\n    </g>\r\n    <g id=\"xtick_10\">\r\n     <g id=\"line2d_15\">\r\n      <g>\r\n       <use style=\"stroke:#000000;stroke-width:0.8;\" x=\"528.593609\" xlink:href=\"#mfac484f1e3\" y=\"153.118125\"/>\r\n      </g>\r\n     </g>\r\n     <g id=\"text_16\">\r\n      <!-- 30 -->\r\n      <g transform=\"translate(522.231109 167.716562)scale(0.1 -0.1)\">\r\n       <use xlink:href=\"#DejaVuSans-33\"/>\r\n       <use x=\"63.623047\" xlink:href=\"#DejaVuSans-30\"/>\r\n      </g>\r\n     </g>\r\n    </g>\r\n   </g>\r\n   <g id=\"matplotlib.axis_4\">\r\n    <g id=\"ytick_5\">\r\n     <g id=\"line2d_16\">\r\n      <g>\r\n       <use style=\"stroke:#000000;stroke-width:0.8;\" x=\"336.25875\" xlink:href=\"#m9e78a2e796\" y=\"153.118125\"/>\r\n      </g>\r\n     </g>\r\n     <g id=\"text_17\">\r\n      <!-- 0.0 -->\r\n      <g transform=\"translate(313.355625 156.917344)scale(0.1 -0.1)\">\r\n       <use xlink:href=\"#DejaVuSans-30\"/>\r\n       <use x=\"63.623047\" xlink:href=\"#DejaVuSans-2e\"/>\r\n       <use x=\"95.410156\" xlink:href=\"#DejaVuSans-30\"/>\r\n      </g>\r\n     </g>\r\n    </g>\r\n    <g id=\"ytick_6\">\r\n     <g id=\"line2d_17\">\r\n      <g>\r\n       <use style=\"stroke:#000000;stroke-width:0.8;\" x=\"336.25875\" xlink:href=\"#m9e78a2e796\" y=\"114.469343\"/>\r\n      </g>\r\n     </g>\r\n     <g id=\"text_18\">\r\n      <!-- 0.1 -->\r\n      <g transform=\"translate(313.355625 118.268562)scale(0.1 -0.1)\">\r\n       <use xlink:href=\"#DejaVuSans-30\"/>\r\n       <use x=\"63.623047\" xlink:href=\"#DejaVuSans-2e\"/>\r\n       <use x=\"95.410156\" xlink:href=\"#DejaVuSans-31\"/>\r\n      </g>\r\n     </g>\r\n    </g>\r\n    <g id=\"ytick_7\">\r\n     <g id=\"line2d_18\">\r\n      <g>\r\n       <use style=\"stroke:#000000;stroke-width:0.8;\" x=\"336.25875\" xlink:href=\"#m9e78a2e796\" y=\"75.820562\"/>\r\n      </g>\r\n     </g>\r\n     <g id=\"text_19\">\r\n      <!-- 0.2 -->\r\n      <g transform=\"translate(313.355625 79.61978)scale(0.1 -0.1)\">\r\n       <use xlink:href=\"#DejaVuSans-30\"/>\r\n       <use x=\"63.623047\" xlink:href=\"#DejaVuSans-2e\"/>\r\n       <use x=\"95.410156\" xlink:href=\"#DejaVuSans-32\"/>\r\n      </g>\r\n     </g>\r\n    </g>\r\n    <g id=\"ytick_8\">\r\n     <g id=\"line2d_19\">\r\n      <g>\r\n       <use style=\"stroke:#000000;stroke-width:0.8;\" x=\"336.25875\" xlink:href=\"#m9e78a2e796\" y=\"37.17178\"/>\r\n      </g>\r\n     </g>\r\n     <g id=\"text_20\">\r\n      <!-- 0.3 -->\r\n      <g transform=\"translate(313.355625 40.970999)scale(0.1 -0.1)\">\r\n       <use xlink:href=\"#DejaVuSans-30\"/>\r\n       <use x=\"63.623047\" xlink:href=\"#DejaVuSans-2e\"/>\r\n       <use x=\"95.410156\" xlink:href=\"#DejaVuSans-33\"/>\r\n      </g>\r\n     </g>\r\n    </g>\r\n   </g>\r\n   <g id=\"line2d_20\">\r\n    <path clip-path=\"url(#pa62765b81b)\" d=\"M 346.750341 152.727538 \r\nL 348.859203 152.200687 \r\nL 349.913635 151.755481 \r\nL 350.968066 151.135969 \r\nL 352.022497 150.294085 \r\nL 353.076928 149.177065 \r\nL 354.13136 147.730469 \r\nL 355.185791 145.902535 \r\nL 356.240222 143.649764 \r\nL 357.294653 140.943345 \r\nL 358.349085 137.775816 \r\nL 360.457947 130.169042 \r\nL 363.621241 116.851792 \r\nL 365.730103 108.338747 \r\nL 366.784535 104.689531 \r\nL 367.838966 101.644773 \r\nL 368.893397 99.316636 \r\nL 369.947828 97.775377 \r\nL 371.00226 97.044035 \r\nL 372.056691 97.097838 \r\nL 373.111122 97.868283 \r\nL 374.165553 99.251197 \r\nL 375.219985 101.117627 \r\nL 377.328847 105.734754 \r\nL 380.492141 112.946577 \r\nL 382.601003 116.931747 \r\nL 383.655435 118.57016 \r\nL 384.709866 119.978333 \r\nL 385.764297 121.181039 \r\nL 387.87316 123.114625 \r\nL 391.036453 125.424146 \r\nL 394.199747 127.73029 \r\nL 397.363041 130.307302 \r\nL 402.635197 134.728746 \r\nL 405.798491 137.099187 \r\nL 408.961784 139.210079 \r\nL 414.233941 142.417386 \r\nL 417.397234 144.185636 \r\nL 420.560528 145.675383 \r\nL 422.669391 146.42883 \r\nL 424.778253 146.964633 \r\nL 426.887116 147.303764 \r\nL 430.050409 147.572272 \r\nL 435.322566 147.965828 \r\nL 439.540291 148.574908 \r\nL 444.812447 149.638679 \r\nL 452.193466 151.179457 \r\nL 455.356759 151.652416 \r\nL 458.520053 151.911686 \r\nL 461.683347 151.947974 \r\nL 466.955503 151.712675 \r\nL 471.173228 151.59423 \r\nL 474.336522 151.701857 \r\nL 478.554247 152.093234 \r\nL 484.880834 152.738494 \r\nL 489.098559 152.942912 \r\nL 494.370716 152.950391 \r\nL 510.187184 152.785584 \r\nL 543.928984 153.00327 \r\nL 555.527728 153.113896 \r\nL 556.582159 153.115371 \r\nL 556.582159 153.115371 \r\n\" style=\"fill:none;stroke:#1f77b4;stroke-linecap:square;stroke-width:1.5;\"/>\r\n   </g>\r\n   <g id=\"patch_50\">\r\n    <path d=\"M 336.25875 153.118125 \r\nL 336.25875 22.318125 \r\n\" style=\"fill:none;stroke:#000000;stroke-linecap:square;stroke-linejoin:miter;stroke-width:0.8;\"/>\r\n   </g>\r\n   <g id=\"patch_51\">\r\n    <path d=\"M 567.07375 153.118125 \r\nL 567.07375 22.318125 \r\n\" style=\"fill:none;stroke:#000000;stroke-linecap:square;stroke-linejoin:miter;stroke-width:0.8;\"/>\r\n   </g>\r\n   <g id=\"patch_52\">\r\n    <path d=\"M 336.25875 153.118125 \r\nL 567.07375 153.118125 \r\n\" style=\"fill:none;stroke:#000000;stroke-linecap:square;stroke-linejoin:miter;stroke-width:0.8;\"/>\r\n   </g>\r\n   <g id=\"patch_53\">\r\n    <path d=\"M 336.25875 22.318125 \r\nL 567.07375 22.318125 \r\n\" style=\"fill:none;stroke:#000000;stroke-linecap:square;stroke-linejoin:miter;stroke-width:0.8;\"/>\r\n   </g>\r\n   <g id=\"text_21\">\r\n    <!-- tobacco -->\r\n    <g transform=\"translate(427.8875 16.318125)scale(0.12 -0.12)\">\r\n     <defs>\r\n      <path d=\"M 1172 4494 \r\nL 1172 3500 \r\nL 2356 3500 \r\nL 2356 3053 \r\nL 1172 3053 \r\nL 1172 1153 \r\nQ 1172 725 1289 603 \r\nQ 1406 481 1766 481 \r\nL 2356 481 \r\nL 2356 0 \r\nL 1766 0 \r\nQ 1100 0 847 248 \r\nQ 594 497 594 1153 \r\nL 594 3053 \r\nL 172 3053 \r\nL 172 3500 \r\nL 594 3500 \r\nL 594 4494 \r\nL 1172 4494 \r\nz\r\n\" id=\"DejaVuSans-74\" transform=\"scale(0.015625)\"/>\r\n      <path d=\"M 1959 3097 \r\nQ 1497 3097 1228 2736 \r\nQ 959 2375 959 1747 \r\nQ 959 1119 1226 758 \r\nQ 1494 397 1959 397 \r\nQ 2419 397 2687 759 \r\nQ 2956 1122 2956 1747 \r\nQ 2956 2369 2687 2733 \r\nQ 2419 3097 1959 3097 \r\nz\r\nM 1959 3584 \r\nQ 2709 3584 3137 3096 \r\nQ 3566 2609 3566 1747 \r\nQ 3566 888 3137 398 \r\nQ 2709 -91 1959 -91 \r\nQ 1206 -91 779 398 \r\nQ 353 888 353 1747 \r\nQ 353 2609 779 3096 \r\nQ 1206 3584 1959 3584 \r\nz\r\n\" id=\"DejaVuSans-6f\" transform=\"scale(0.015625)\"/>\r\n      <path d=\"M 3122 3366 \r\nL 3122 2828 \r\nQ 2878 2963 2633 3030 \r\nQ 2388 3097 2138 3097 \r\nQ 1578 3097 1268 2742 \r\nQ 959 2388 959 1747 \r\nQ 959 1106 1268 751 \r\nQ 1578 397 2138 397 \r\nQ 2388 397 2633 464 \r\nQ 2878 531 3122 666 \r\nL 3122 134 \r\nQ 2881 22 2623 -34 \r\nQ 2366 -91 2075 -91 \r\nQ 1284 -91 818 406 \r\nQ 353 903 353 1747 \r\nQ 353 2603 823 3093 \r\nQ 1294 3584 2113 3584 \r\nQ 2378 3584 2631 3529 \r\nQ 2884 3475 3122 3366 \r\nz\r\n\" id=\"DejaVuSans-63\" transform=\"scale(0.015625)\"/>\r\n     </defs>\r\n     <use xlink:href=\"#DejaVuSans-74\"/>\r\n     <use x=\"39.208984\" xlink:href=\"#DejaVuSans-6f\"/>\r\n     <use x=\"100.390625\" xlink:href=\"#DejaVuSans-62\"/>\r\n     <use x=\"163.867188\" xlink:href=\"#DejaVuSans-61\"/>\r\n     <use x=\"225.146484\" xlink:href=\"#DejaVuSans-63\"/>\r\n     <use x=\"280.126953\" xlink:href=\"#DejaVuSans-63\"/>\r\n     <use x=\"335.107422\" xlink:href=\"#DejaVuSans-6f\"/>\r\n    </g>\r\n   </g>\r\n  </g>\r\n  <g id=\"axes_3\">\r\n   <g id=\"patch_54\">\r\n    <path d=\"M 622.37375 153.118125 \r\nL 853.18875 153.118125 \r\nL 853.18875 22.318125 \r\nL 622.37375 22.318125 \r\nz\r\n\" style=\"fill:#ffffff;\"/>\r\n   </g>\r\n   <g id=\"patch_55\">\r\n    <path clip-path=\"url(#pb7704dc495)\" d=\"M 654.10448 153.118125 \r\nL 661.380721 153.118125 \r\nL 661.380721 144.467331 \r\nL 654.10448 144.467331 \r\nz\r\n\" style=\"fill:#1f77b4;opacity:0.4;\"/>\r\n   </g>\r\n   <g id=\"patch_56\">\r\n    <path clip-path=\"url(#pb7704dc495)\" d=\"M 661.380721 153.118125 \r\nL 668.656962 153.118125 \r\nL 668.656962 120.245109 \r\nL 661.380721 120.245109 \r\nz\r\n\" style=\"fill:#1f77b4;opacity:0.4;\"/>\r\n   </g>\r\n   <g id=\"patch_57\">\r\n    <path clip-path=\"url(#pb7704dc495)\" d=\"M 668.656962 153.118125 \r\nL 675.933203 153.118125 \r\nL 675.933203 61.419712 \r\nL 668.656962 61.419712 \r\nz\r\n\" style=\"fill:#1f77b4;opacity:0.4;\"/>\r\n   </g>\r\n   <g id=\"patch_58\">\r\n    <path clip-path=\"url(#pb7704dc495)\" d=\"M 675.933203 153.118125 \r\nL 683.209444 153.118125 \r\nL 683.209444 59.689554 \r\nL 675.933203 59.689554 \r\nz\r\n\" style=\"fill:#1f77b4;opacity:0.4;\"/>\r\n   </g>\r\n   <g id=\"patch_59\">\r\n    <path clip-path=\"url(#pb7704dc495)\" d=\"M 683.209444 153.118125 \r\nL 690.485684 153.118125 \r\nL 690.485684 28.546696 \r\nL 683.209444 28.546696 \r\nz\r\n\" style=\"fill:#1f77b4;opacity:0.4;\"/>\r\n   </g>\r\n   <g id=\"patch_60\">\r\n    <path clip-path=\"url(#pb7704dc495)\" d=\"M 690.485684 153.118125 \r\nL 697.761925 153.118125 \r\nL 697.761925 49.308601 \r\nL 690.485684 49.308601 \r\nz\r\n\" style=\"fill:#1f77b4;opacity:0.4;\"/>\r\n   </g>\r\n   <g id=\"patch_61\">\r\n    <path clip-path=\"url(#pb7704dc495)\" d=\"M 697.761925 153.118125 \r\nL 705.038166 153.118125 \r\nL 705.038166 56.229236 \r\nL 697.761925 56.229236 \r\nz\r\n\" style=\"fill:#1f77b4;opacity:0.4;\"/>\r\n   </g>\r\n   <g id=\"patch_62\">\r\n    <path clip-path=\"url(#pb7704dc495)\" d=\"M 705.038166 153.118125 \r\nL 712.314407 153.118125 \r\nL 712.314407 83.911776 \r\nL 705.038166 83.911776 \r\nz\r\n\" style=\"fill:#1f77b4;opacity:0.4;\"/>\r\n   </g>\r\n   <g id=\"patch_63\">\r\n    <path clip-path=\"url(#pb7704dc495)\" d=\"M 712.314407 153.118125 \r\nL 719.590648 153.118125 \r\nL 719.590648 99.483204 \r\nL 712.314407 99.483204 \r\nz\r\n\" style=\"fill:#1f77b4;opacity:0.4;\"/>\r\n   </g>\r\n   <g id=\"patch_64\">\r\n    <path clip-path=\"url(#pb7704dc495)\" d=\"M 719.590648 153.118125 \r\nL 726.866889 153.118125 \r\nL 726.866889 120.245109 \r\nL 719.590648 120.245109 \r\nz\r\n\" style=\"fill:#1f77b4;opacity:0.4;\"/>\r\n   </g>\r\n   <g id=\"patch_65\">\r\n    <path clip-path=\"url(#pb7704dc495)\" d=\"M 726.866889 153.118125 \r\nL 734.14313 153.118125 \r\nL 734.14313 125.435585 \r\nL 726.866889 125.435585 \r\nz\r\n\" style=\"fill:#1f77b4;opacity:0.4;\"/>\r\n   </g>\r\n   <g id=\"patch_66\">\r\n    <path clip-path=\"url(#pb7704dc495)\" d=\"M 734.14313 153.118125 \r\nL 741.41937 153.118125 \r\nL 741.41937 127.165744 \r\nL 734.14313 127.165744 \r\nz\r\n\" style=\"fill:#1f77b4;opacity:0.4;\"/>\r\n   </g>\r\n   <g id=\"patch_67\">\r\n    <path clip-path=\"url(#pb7704dc495)\" d=\"M 741.41937 153.118125 \r\nL 748.695611 153.118125 \r\nL 748.695611 142.737173 \r\nL 741.41937 142.737173 \r\nz\r\n\" style=\"fill:#1f77b4;opacity:0.4;\"/>\r\n   </g>\r\n   <g id=\"patch_68\">\r\n    <path clip-path=\"url(#pb7704dc495)\" d=\"M 748.695611 153.118125 \r\nL 755.971852 153.118125 \r\nL 755.971852 147.927649 \r\nL 748.695611 147.927649 \r\nz\r\n\" style=\"fill:#1f77b4;opacity:0.4;\"/>\r\n   </g>\r\n   <g id=\"patch_69\">\r\n    <path clip-path=\"url(#pb7704dc495)\" d=\"M 755.971852 153.118125 \r\nL 763.248093 153.118125 \r\nL 763.248093 149.657808 \r\nL 755.971852 149.657808 \r\nz\r\n\" style=\"fill:#1f77b4;opacity:0.4;\"/>\r\n   </g>\r\n   <g id=\"patch_70\">\r\n    <path clip-path=\"url(#pb7704dc495)\" d=\"M 763.248093 153.118125 \r\nL 770.524334 153.118125 \r\nL 770.524334 147.927649 \r\nL 763.248093 147.927649 \r\nz\r\n\" style=\"fill:#1f77b4;opacity:0.4;\"/>\r\n   </g>\r\n   <g id=\"patch_71\">\r\n    <path clip-path=\"url(#pb7704dc495)\" d=\"M 770.524334 153.118125 \r\nL 777.800575 153.118125 \r\nL 777.800575 147.927649 \r\nL 770.524334 147.927649 \r\nz\r\n\" style=\"fill:#1f77b4;opacity:0.4;\"/>\r\n   </g>\r\n   <g id=\"patch_72\">\r\n    <path clip-path=\"url(#pb7704dc495)\" d=\"M 777.800575 153.118125 \r\nL 785.076816 153.118125 \r\nL 785.076816 149.657808 \r\nL 777.800575 149.657808 \r\nz\r\n\" style=\"fill:#1f77b4;opacity:0.4;\"/>\r\n   </g>\r\n   <g id=\"patch_73\">\r\n    <path clip-path=\"url(#pb7704dc495)\" d=\"M 785.076816 153.118125 \r\nL 792.353056 153.118125 \r\nL 792.353056 151.387966 \r\nL 785.076816 151.387966 \r\nz\r\n\" style=\"fill:#1f77b4;opacity:0.4;\"/>\r\n   </g>\r\n   <g id=\"patch_74\">\r\n    <path clip-path=\"url(#pb7704dc495)\" d=\"M 792.353056 153.118125 \r\nL 799.629297 153.118125 \r\nL 799.629297 153.118125 \r\nL 792.353056 153.118125 \r\nz\r\n\" style=\"fill:#1f77b4;opacity:0.4;\"/>\r\n   </g>\r\n   <g id=\"patch_75\">\r\n    <path clip-path=\"url(#pb7704dc495)\" d=\"M 799.629297 153.118125 \r\nL 806.905538 153.118125 \r\nL 806.905538 153.118125 \r\nL 799.629297 153.118125 \r\nz\r\n\" style=\"fill:#1f77b4;opacity:0.4;\"/>\r\n   </g>\r\n   <g id=\"patch_76\">\r\n    <path clip-path=\"url(#pb7704dc495)\" d=\"M 806.905538 153.118125 \r\nL 814.181779 153.118125 \r\nL 814.181779 151.387966 \r\nL 806.905538 151.387966 \r\nz\r\n\" style=\"fill:#1f77b4;opacity:0.4;\"/>\r\n   </g>\r\n   <g id=\"patch_77\">\r\n    <path clip-path=\"url(#pb7704dc495)\" d=\"M 814.181779 153.118125 \r\nL 821.45802 153.118125 \r\nL 821.45802 151.387966 \r\nL 814.181779 151.387966 \r\nz\r\n\" style=\"fill:#1f77b4;opacity:0.4;\"/>\r\n   </g>\r\n   <g id=\"matplotlib.axis_5\">\r\n    <g id=\"xtick_11\">\r\n     <g id=\"line2d_21\">\r\n      <g>\r\n       <use style=\"stroke:#000000;stroke-width:0.8;\" x=\"642.675458\" xlink:href=\"#mfac484f1e3\" y=\"153.118125\"/>\r\n      </g>\r\n     </g>\r\n     <g id=\"text_22\">\r\n      <!-- 0 -->\r\n      <g transform=\"translate(639.494208 167.716562)scale(0.1 -0.1)\">\r\n       <use xlink:href=\"#DejaVuSans-30\"/>\r\n      </g>\r\n     </g>\r\n    </g>\r\n    <g id=\"xtick_12\">\r\n     <g id=\"line2d_22\">\r\n      <g>\r\n       <use style=\"stroke:#000000;stroke-width:0.8;\" x=\"700.986796\" xlink:href=\"#mfac484f1e3\" y=\"153.118125\"/>\r\n      </g>\r\n     </g>\r\n     <g id=\"text_23\">\r\n      <!-- 5 -->\r\n      <g transform=\"translate(697.805546 167.716562)scale(0.1 -0.1)\">\r\n       <use xlink:href=\"#DejaVuSans-35\"/>\r\n      </g>\r\n     </g>\r\n    </g>\r\n    <g id=\"xtick_13\">\r\n     <g id=\"line2d_23\">\r\n      <g>\r\n       <use style=\"stroke:#000000;stroke-width:0.8;\" x=\"759.298134\" xlink:href=\"#mfac484f1e3\" y=\"153.118125\"/>\r\n      </g>\r\n     </g>\r\n     <g id=\"text_24\">\r\n      <!-- 10 -->\r\n      <g transform=\"translate(752.935634 167.716562)scale(0.1 -0.1)\">\r\n       <use xlink:href=\"#DejaVuSans-31\"/>\r\n       <use x=\"63.623047\" xlink:href=\"#DejaVuSans-30\"/>\r\n      </g>\r\n     </g>\r\n    </g>\r\n    <g id=\"xtick_14\">\r\n     <g id=\"line2d_24\">\r\n      <g>\r\n       <use style=\"stroke:#000000;stroke-width:0.8;\" x=\"817.609472\" xlink:href=\"#mfac484f1e3\" y=\"153.118125\"/>\r\n      </g>\r\n     </g>\r\n     <g id=\"text_25\">\r\n      <!-- 15 -->\r\n      <g transform=\"translate(811.246972 167.716562)scale(0.1 -0.1)\">\r\n       <use xlink:href=\"#DejaVuSans-31\"/>\r\n       <use x=\"63.623047\" xlink:href=\"#DejaVuSans-35\"/>\r\n      </g>\r\n     </g>\r\n    </g>\r\n   </g>\r\n   <g id=\"matplotlib.axis_6\">\r\n    <g id=\"ytick_9\">\r\n     <g id=\"line2d_25\">\r\n      <g>\r\n       <use style=\"stroke:#000000;stroke-width:0.8;\" x=\"622.37375\" xlink:href=\"#m9e78a2e796\" y=\"153.118125\"/>\r\n      </g>\r\n     </g>\r\n     <g id=\"text_26\">\r\n      <!-- 0.00 -->\r\n      <g transform=\"translate(593.108125 156.917344)scale(0.1 -0.1)\">\r\n       <use xlink:href=\"#DejaVuSans-30\"/>\r\n       <use x=\"63.623047\" xlink:href=\"#DejaVuSans-2e\"/>\r\n       <use x=\"95.410156\" xlink:href=\"#DejaVuSans-30\"/>\r\n       <use x=\"159.033203\" xlink:href=\"#DejaVuSans-30\"/>\r\n      </g>\r\n     </g>\r\n    </g>\r\n    <g id=\"ytick_10\">\r\n     <g id=\"line2d_26\">\r\n      <g>\r\n       <use style=\"stroke:#000000;stroke-width:0.8;\" x=\"622.37375\" xlink:href=\"#m9e78a2e796\" y=\"128.1824\"/>\r\n      </g>\r\n     </g>\r\n     <g id=\"text_27\">\r\n      <!-- 0.05 -->\r\n      <g transform=\"translate(593.108125 131.981619)scale(0.1 -0.1)\">\r\n       <use xlink:href=\"#DejaVuSans-30\"/>\r\n       <use x=\"63.623047\" xlink:href=\"#DejaVuSans-2e\"/>\r\n       <use x=\"95.410156\" xlink:href=\"#DejaVuSans-30\"/>\r\n       <use x=\"159.033203\" xlink:href=\"#DejaVuSans-35\"/>\r\n      </g>\r\n     </g>\r\n    </g>\r\n    <g id=\"ytick_11\">\r\n     <g id=\"line2d_27\">\r\n      <g>\r\n       <use style=\"stroke:#000000;stroke-width:0.8;\" x=\"622.37375\" xlink:href=\"#m9e78a2e796\" y=\"103.246676\"/>\r\n      </g>\r\n     </g>\r\n     <g id=\"text_28\">\r\n      <!-- 0.10 -->\r\n      <g transform=\"translate(593.108125 107.045894)scale(0.1 -0.1)\">\r\n       <use xlink:href=\"#DejaVuSans-30\"/>\r\n       <use x=\"63.623047\" xlink:href=\"#DejaVuSans-2e\"/>\r\n       <use x=\"95.410156\" xlink:href=\"#DejaVuSans-31\"/>\r\n       <use x=\"159.033203\" xlink:href=\"#DejaVuSans-30\"/>\r\n      </g>\r\n     </g>\r\n    </g>\r\n    <g id=\"ytick_12\">\r\n     <g id=\"line2d_28\">\r\n      <g>\r\n       <use style=\"stroke:#000000;stroke-width:0.8;\" x=\"622.37375\" xlink:href=\"#m9e78a2e796\" y=\"78.310951\"/>\r\n      </g>\r\n     </g>\r\n     <g id=\"text_29\">\r\n      <!-- 0.15 -->\r\n      <g transform=\"translate(593.108125 82.11017)scale(0.1 -0.1)\">\r\n       <use xlink:href=\"#DejaVuSans-30\"/>\r\n       <use x=\"63.623047\" xlink:href=\"#DejaVuSans-2e\"/>\r\n       <use x=\"95.410156\" xlink:href=\"#DejaVuSans-31\"/>\r\n       <use x=\"159.033203\" xlink:href=\"#DejaVuSans-35\"/>\r\n      </g>\r\n     </g>\r\n    </g>\r\n    <g id=\"ytick_13\">\r\n     <g id=\"line2d_29\">\r\n      <g>\r\n       <use style=\"stroke:#000000;stroke-width:0.8;\" x=\"622.37375\" xlink:href=\"#m9e78a2e796\" y=\"53.375226\"/>\r\n      </g>\r\n     </g>\r\n     <g id=\"text_30\">\r\n      <!-- 0.20 -->\r\n      <g transform=\"translate(593.108125 57.174445)scale(0.1 -0.1)\">\r\n       <use xlink:href=\"#DejaVuSans-30\"/>\r\n       <use x=\"63.623047\" xlink:href=\"#DejaVuSans-2e\"/>\r\n       <use x=\"95.410156\" xlink:href=\"#DejaVuSans-32\"/>\r\n       <use x=\"159.033203\" xlink:href=\"#DejaVuSans-30\"/>\r\n      </g>\r\n     </g>\r\n    </g>\r\n    <g id=\"ytick_14\">\r\n     <g id=\"line2d_30\">\r\n      <g>\r\n       <use style=\"stroke:#000000;stroke-width:0.8;\" x=\"622.37375\" xlink:href=\"#m9e78a2e796\" y=\"28.439502\"/>\r\n      </g>\r\n     </g>\r\n     <g id=\"text_31\">\r\n      <!-- 0.25 -->\r\n      <g transform=\"translate(593.108125 32.238721)scale(0.1 -0.1)\">\r\n       <use xlink:href=\"#DejaVuSans-30\"/>\r\n       <use x=\"63.623047\" xlink:href=\"#DejaVuSans-2e\"/>\r\n       <use x=\"95.410156\" xlink:href=\"#DejaVuSans-32\"/>\r\n       <use x=\"159.033203\" xlink:href=\"#DejaVuSans-35\"/>\r\n      </g>\r\n     </g>\r\n    </g>\r\n   </g>\r\n   <g id=\"line2d_31\">\r\n    <path clip-path=\"url(#pb7704dc495)\" d=\"M 632.865341 153.103277 \r\nL 638.137497 152.991376 \r\nL 641.300791 152.744271 \r\nL 643.409653 152.404706 \r\nL 645.518516 151.82793 \r\nL 647.627378 150.896371 \r\nL 648.68181 150.252171 \r\nL 649.736241 149.461372 \r\nL 650.790672 148.501764 \r\nL 651.845103 147.350731 \r\nL 652.899535 145.98609 \r\nL 653.953966 144.387046 \r\nL 655.008397 142.535192 \r\nL 656.062828 140.415458 \r\nL 657.11726 138.016921 \r\nL 659.226122 132.363875 \r\nL 661.334985 125.588764 \r\nL 663.443847 117.786909 \r\nL 665.55271 109.131805 \r\nL 668.716003 95.105117 \r\nL 672.933728 76.193901 \r\nL 675.042591 67.469583 \r\nL 677.151453 59.688335 \r\nL 679.260316 53.13198 \r\nL 680.314747 50.384768 \r\nL 681.369178 48.021396 \r\nL 682.42361 46.058243 \r\nL 683.478041 44.506025 \r\nL 684.532472 43.368962 \r\nL 685.586903 42.644014 \r\nL 686.641335 42.320398 \r\nL 687.695766 42.379572 \r\nL 688.750197 42.795849 \r\nL 689.804628 43.537685 \r\nL 690.85906 44.569584 \r\nL 691.913491 45.854402 \r\nL 694.022353 49.040344 \r\nL 696.131216 52.849443 \r\nL 698.240078 57.1163 \r\nL 701.403372 64.173838 \r\nL 705.621097 74.426755 \r\nL 715.110978 97.947602 \r\nL 718.274272 105.057664 \r\nL 720.383134 109.291788 \r\nL 722.491997 113.037769 \r\nL 724.600859 116.309329 \r\nL 726.709722 119.186757 \r\nL 729.873016 123.000806 \r\nL 735.145172 128.779593 \r\nL 740.417328 134.667306 \r\nL 745.689484 140.587875 \r\nL 747.798347 142.663759 \r\nL 749.907209 144.432868 \r\nL 752.016072 145.847823 \r\nL 754.124934 146.902103 \r\nL 756.233797 147.623985 \r\nL 758.342659 148.067678 \r\nL 760.451522 148.302979 \r\nL 763.614816 148.422854 \r\nL 773.104697 148.579685 \r\nL 776.267991 148.866776 \r\nL 779.431284 149.370057 \r\nL 783.649009 150.300178 \r\nL 789.975597 151.7025 \r\nL 793.13889 152.194964 \r\nL 796.302184 152.476714 \r\nL 799.465478 152.548576 \r\nL 804.737634 152.388232 \r\nL 811.064222 152.235312 \r\nL 820.554103 152.273997 \r\nL 825.826259 152.503818 \r\nL 835.31614 153.013309 \r\nL 842.697159 153.110241 \r\nL 842.697159 153.110241 \r\n\" style=\"fill:none;stroke:#1f77b4;stroke-linecap:square;stroke-width:1.5;\"/>\r\n   </g>\r\n   <g id=\"patch_78\">\r\n    <path d=\"M 622.37375 153.118125 \r\nL 622.37375 22.318125 \r\n\" style=\"fill:none;stroke:#000000;stroke-linecap:square;stroke-linejoin:miter;stroke-width:0.8;\"/>\r\n   </g>\r\n   <g id=\"patch_79\">\r\n    <path d=\"M 853.18875 153.118125 \r\nL 853.18875 22.318125 \r\n\" style=\"fill:none;stroke:#000000;stroke-linecap:square;stroke-linejoin:miter;stroke-width:0.8;\"/>\r\n   </g>\r\n   <g id=\"patch_80\">\r\n    <path d=\"M 622.37375 153.118125 \r\nL 853.18875 153.118125 \r\n\" style=\"fill:none;stroke:#000000;stroke-linecap:square;stroke-linejoin:miter;stroke-width:0.8;\"/>\r\n   </g>\r\n   <g id=\"patch_81\">\r\n    <path d=\"M 622.37375 22.318125 \r\nL 853.18875 22.318125 \r\n\" style=\"fill:none;stroke:#000000;stroke-linecap:square;stroke-linejoin:miter;stroke-width:0.8;\"/>\r\n   </g>\r\n   <g id=\"text_32\">\r\n    <!-- ldl -->\r\n    <g transform=\"translate(730.638438 16.318125)scale(0.12 -0.12)\">\r\n     <defs>\r\n      <path d=\"M 603 4863 \r\nL 1178 4863 \r\nL 1178 0 \r\nL 603 0 \r\nL 603 4863 \r\nz\r\n\" id=\"DejaVuSans-6c\" transform=\"scale(0.015625)\"/>\r\n     </defs>\r\n     <use xlink:href=\"#DejaVuSans-6c\"/>\r\n     <use x=\"27.783203\" xlink:href=\"#DejaVuSans-64\"/>\r\n     <use x=\"91.259766\" xlink:href=\"#DejaVuSans-6c\"/>\r\n    </g>\r\n   </g>\r\n  </g>\r\n  <g id=\"axes_4\">\r\n   <g id=\"patch_82\">\r\n    <path d=\"M 908.48875 153.118125 \r\nL 1139.30375 153.118125 \r\nL 1139.30375 22.318125 \r\nL 908.48875 22.318125 \r\nz\r\n\" style=\"fill:#ffffff;\"/>\r\n   </g>\r\n   <g id=\"patch_83\">\r\n    <path clip-path=\"url(#p7a57b0bb11)\" d=\"M 948.023857 153.118125 \r\nL 959.696532 153.118125 \r\nL 959.696532 141.254179 \r\nL 948.023857 141.254179 \r\nz\r\n\" style=\"fill:#1f77b4;opacity:0.4;\"/>\r\n   </g>\r\n   <g id=\"patch_84\">\r\n    <path clip-path=\"url(#p7a57b0bb11)\" d=\"M 959.696532 153.118125 \r\nL 971.369208 153.118125 \r\nL 971.369208 113.57164 \r\nL 959.696532 113.57164 \r\nz\r\n\" style=\"fill:#1f77b4;opacity:0.4;\"/>\r\n   </g>\r\n   <g id=\"patch_85\">\r\n    <path clip-path=\"url(#p7a57b0bb11)\" d=\"M 971.369208 153.118125 \r\nL 983.041884 153.118125 \r\nL 983.041884 97.753046 \r\nL 971.369208 97.753046 \r\nz\r\n\" style=\"fill:#1f77b4;opacity:0.4;\"/>\r\n   </g>\r\n   <g id=\"patch_86\">\r\n    <path clip-path=\"url(#p7a57b0bb11)\" d=\"M 983.041884 153.118125 \r\nL 994.71456 153.118125 \r\nL 994.71456 79.957127 \r\nL 983.041884 79.957127 \r\nz\r\n\" style=\"fill:#1f77b4;opacity:0.4;\"/>\r\n   </g>\r\n   <g id=\"patch_87\">\r\n    <path clip-path=\"url(#p7a57b0bb11)\" d=\"M 994.71456 153.118125 \r\nL 1006.387236 153.118125 \r\nL 1006.387236 81.934452 \r\nL 994.71456 81.934452 \r\nz\r\n\" style=\"fill:#1f77b4;opacity:0.4;\"/>\r\n   </g>\r\n   <g id=\"patch_88\">\r\n    <path clip-path=\"url(#p7a57b0bb11)\" d=\"M 1006.387236 153.118125 \r\nL 1018.059912 153.118125 \r\nL 1018.059912 58.20656 \r\nL 1006.387236 58.20656 \r\nz\r\n\" style=\"fill:#1f77b4;opacity:0.4;\"/>\r\n   </g>\r\n   <g id=\"patch_89\">\r\n    <path clip-path=\"url(#p7a57b0bb11)\" d=\"M 1018.059912 153.118125 \r\nL 1029.732588 153.118125 \r\nL 1029.732588 50.297263 \r\nL 1018.059912 50.297263 \r\nz\r\n\" style=\"fill:#1f77b4;opacity:0.4;\"/>\r\n   </g>\r\n   <g id=\"patch_90\">\r\n    <path clip-path=\"url(#p7a57b0bb11)\" d=\"M 1029.732588 153.118125 \r\nL 1041.405264 153.118125 \r\nL 1041.405264 28.546696 \r\nL 1029.732588 28.546696 \r\nz\r\n\" style=\"fill:#1f77b4;opacity:0.4;\"/>\r\n   </g>\r\n   <g id=\"patch_91\">\r\n    <path clip-path=\"url(#p7a57b0bb11)\" d=\"M 1041.405264 153.118125 \r\nL 1053.07794 153.118125 \r\nL 1053.07794 30.524021 \r\nL 1041.405264 30.524021 \r\nz\r\n\" style=\"fill:#1f77b4;opacity:0.4;\"/>\r\n   </g>\r\n   <g id=\"patch_92\">\r\n    <path clip-path=\"url(#p7a57b0bb11)\" d=\"M 1053.07794 153.118125 \r\nL 1064.750616 153.118125 \r\nL 1064.750616 60.183885 \r\nL 1053.07794 60.183885 \r\nz\r\n\" style=\"fill:#1f77b4;opacity:0.4;\"/>\r\n   </g>\r\n   <g id=\"patch_93\">\r\n    <path clip-path=\"url(#p7a57b0bb11)\" d=\"M 1064.750616 153.118125 \r\nL 1076.423292 153.118125 \r\nL 1076.423292 77.979803 \r\nL 1064.750616 77.979803 \r\nz\r\n\" style=\"fill:#1f77b4;opacity:0.4;\"/>\r\n   </g>\r\n   <g id=\"patch_94\">\r\n    <path clip-path=\"url(#p7a57b0bb11)\" d=\"M 1076.423292 153.118125 \r\nL 1088.095968 153.118125 \r\nL 1088.095968 115.548964 \r\nL 1076.423292 115.548964 \r\nz\r\n\" style=\"fill:#1f77b4;opacity:0.4;\"/>\r\n   </g>\r\n   <g id=\"patch_95\">\r\n    <path clip-path=\"url(#p7a57b0bb11)\" d=\"M 1088.095968 153.118125 \r\nL 1099.768643 153.118125 \r\nL 1099.768643 141.254179 \r\nL 1088.095968 141.254179 \r\nz\r\n\" style=\"fill:#1f77b4;opacity:0.4;\"/>\r\n   </g>\r\n   <g id=\"matplotlib.axis_7\">\r\n    <g id=\"xtick_15\">\r\n     <g id=\"line2d_32\">\r\n      <g>\r\n       <use style=\"stroke:#000000;stroke-width:0.8;\" x=\"919.415189\" xlink:href=\"#mfac484f1e3\" y=\"153.118125\"/>\r\n      </g>\r\n     </g>\r\n     <g id=\"text_33\">\r\n      <!-- 0 -->\r\n      <g transform=\"translate(916.233939 167.716562)scale(0.1 -0.1)\">\r\n       <use xlink:href=\"#DejaVuSans-30\"/>\r\n      </g>\r\n     </g>\r\n    </g>\r\n    <g id=\"xtick_16\">\r\n     <g id=\"line2d_33\">\r\n      <g>\r\n       <use style=\"stroke:#000000;stroke-width:0.8;\" x=\"961.861283\" xlink:href=\"#mfac484f1e3\" y=\"153.118125\"/>\r\n      </g>\r\n     </g>\r\n     <g id=\"text_34\">\r\n      <!-- 10 -->\r\n      <g transform=\"translate(955.498783 167.716562)scale(0.1 -0.1)\">\r\n       <use xlink:href=\"#DejaVuSans-31\"/>\r\n       <use x=\"63.623047\" xlink:href=\"#DejaVuSans-30\"/>\r\n      </g>\r\n     </g>\r\n    </g>\r\n    <g id=\"xtick_17\">\r\n     <g id=\"line2d_34\">\r\n      <g>\r\n       <use style=\"stroke:#000000;stroke-width:0.8;\" x=\"1004.307378\" xlink:href=\"#mfac484f1e3\" y=\"153.118125\"/>\r\n      </g>\r\n     </g>\r\n     <g id=\"text_35\">\r\n      <!-- 20 -->\r\n      <g transform=\"translate(997.944878 167.716562)scale(0.1 -0.1)\">\r\n       <use xlink:href=\"#DejaVuSans-32\"/>\r\n       <use x=\"63.623047\" xlink:href=\"#DejaVuSans-30\"/>\r\n      </g>\r\n     </g>\r\n    </g>\r\n    <g id=\"xtick_18\">\r\n     <g id=\"line2d_35\">\r\n      <g>\r\n       <use style=\"stroke:#000000;stroke-width:0.8;\" x=\"1046.753472\" xlink:href=\"#mfac484f1e3\" y=\"153.118125\"/>\r\n      </g>\r\n     </g>\r\n     <g id=\"text_36\">\r\n      <!-- 30 -->\r\n      <g transform=\"translate(1040.390972 167.716562)scale(0.1 -0.1)\">\r\n       <use xlink:href=\"#DejaVuSans-33\"/>\r\n       <use x=\"63.623047\" xlink:href=\"#DejaVuSans-30\"/>\r\n      </g>\r\n     </g>\r\n    </g>\r\n    <g id=\"xtick_19\">\r\n     <g id=\"line2d_36\">\r\n      <g>\r\n       <use style=\"stroke:#000000;stroke-width:0.8;\" x=\"1089.199566\" xlink:href=\"#mfac484f1e3\" y=\"153.118125\"/>\r\n      </g>\r\n     </g>\r\n     <g id=\"text_37\">\r\n      <!-- 40 -->\r\n      <g transform=\"translate(1082.837066 167.716562)scale(0.1 -0.1)\">\r\n       <defs>\r\n        <path d=\"M 2419 4116 \r\nL 825 1625 \r\nL 2419 1625 \r\nL 2419 4116 \r\nz\r\nM 2253 4666 \r\nL 3047 4666 \r\nL 3047 1625 \r\nL 3713 1625 \r\nL 3713 1100 \r\nL 3047 1100 \r\nL 3047 0 \r\nL 2419 0 \r\nL 2419 1100 \r\nL 313 1100 \r\nL 313 1709 \r\nL 2253 4666 \r\nz\r\n\" id=\"DejaVuSans-34\" transform=\"scale(0.015625)\"/>\r\n       </defs>\r\n       <use xlink:href=\"#DejaVuSans-34\"/>\r\n       <use x=\"63.623047\" xlink:href=\"#DejaVuSans-30\"/>\r\n      </g>\r\n     </g>\r\n    </g>\r\n    <g id=\"xtick_20\">\r\n     <g id=\"line2d_37\">\r\n      <g>\r\n       <use style=\"stroke:#000000;stroke-width:0.8;\" x=\"1131.64566\" xlink:href=\"#mfac484f1e3\" y=\"153.118125\"/>\r\n      </g>\r\n     </g>\r\n     <g id=\"text_38\">\r\n      <!-- 50 -->\r\n      <g transform=\"translate(1125.28316 167.716562)scale(0.1 -0.1)\">\r\n       <use xlink:href=\"#DejaVuSans-35\"/>\r\n       <use x=\"63.623047\" xlink:href=\"#DejaVuSans-30\"/>\r\n      </g>\r\n     </g>\r\n    </g>\r\n   </g>\r\n   <g id=\"matplotlib.axis_8\">\r\n    <g id=\"ytick_15\">\r\n     <g id=\"line2d_38\">\r\n      <g>\r\n       <use style=\"stroke:#000000;stroke-width:0.8;\" x=\"908.48875\" xlink:href=\"#m9e78a2e796\" y=\"153.118125\"/>\r\n      </g>\r\n     </g>\r\n     <g id=\"text_39\">\r\n      <!-- 0.00 -->\r\n      <g transform=\"translate(879.223125 156.917344)scale(0.1 -0.1)\">\r\n       <use xlink:href=\"#DejaVuSans-30\"/>\r\n       <use x=\"63.623047\" xlink:href=\"#DejaVuSans-2e\"/>\r\n       <use x=\"95.410156\" xlink:href=\"#DejaVuSans-30\"/>\r\n       <use x=\"159.033203\" xlink:href=\"#DejaVuSans-30\"/>\r\n      </g>\r\n     </g>\r\n    </g>\r\n    <g id=\"ytick_16\">\r\n     <g id=\"line2d_39\">\r\n      <g>\r\n       <use style=\"stroke:#000000;stroke-width:0.8;\" x=\"908.48875\" xlink:href=\"#m9e78a2e796\" y=\"127.99622\"/>\r\n      </g>\r\n     </g>\r\n     <g id=\"text_40\">\r\n      <!-- 0.01 -->\r\n      <g transform=\"translate(879.223125 131.795439)scale(0.1 -0.1)\">\r\n       <use xlink:href=\"#DejaVuSans-30\"/>\r\n       <use x=\"63.623047\" xlink:href=\"#DejaVuSans-2e\"/>\r\n       <use x=\"95.410156\" xlink:href=\"#DejaVuSans-30\"/>\r\n       <use x=\"159.033203\" xlink:href=\"#DejaVuSans-31\"/>\r\n      </g>\r\n     </g>\r\n    </g>\r\n    <g id=\"ytick_17\">\r\n     <g id=\"line2d_40\">\r\n      <g>\r\n       <use style=\"stroke:#000000;stroke-width:0.8;\" x=\"908.48875\" xlink:href=\"#m9e78a2e796\" y=\"102.874315\"/>\r\n      </g>\r\n     </g>\r\n     <g id=\"text_41\">\r\n      <!-- 0.02 -->\r\n      <g transform=\"translate(879.223125 106.673534)scale(0.1 -0.1)\">\r\n       <use xlink:href=\"#DejaVuSans-30\"/>\r\n       <use x=\"63.623047\" xlink:href=\"#DejaVuSans-2e\"/>\r\n       <use x=\"95.410156\" xlink:href=\"#DejaVuSans-30\"/>\r\n       <use x=\"159.033203\" xlink:href=\"#DejaVuSans-32\"/>\r\n      </g>\r\n     </g>\r\n    </g>\r\n    <g id=\"ytick_18\">\r\n     <g id=\"line2d_41\">\r\n      <g>\r\n       <use style=\"stroke:#000000;stroke-width:0.8;\" x=\"908.48875\" xlink:href=\"#m9e78a2e796\" y=\"77.752411\"/>\r\n      </g>\r\n     </g>\r\n     <g id=\"text_42\">\r\n      <!-- 0.03 -->\r\n      <g transform=\"translate(879.223125 81.551629)scale(0.1 -0.1)\">\r\n       <use xlink:href=\"#DejaVuSans-30\"/>\r\n       <use x=\"63.623047\" xlink:href=\"#DejaVuSans-2e\"/>\r\n       <use x=\"95.410156\" xlink:href=\"#DejaVuSans-30\"/>\r\n       <use x=\"159.033203\" xlink:href=\"#DejaVuSans-33\"/>\r\n      </g>\r\n     </g>\r\n    </g>\r\n    <g id=\"ytick_19\">\r\n     <g id=\"line2d_42\">\r\n      <g>\r\n       <use style=\"stroke:#000000;stroke-width:0.8;\" x=\"908.48875\" xlink:href=\"#m9e78a2e796\" y=\"52.630506\"/>\r\n      </g>\r\n     </g>\r\n     <g id=\"text_43\">\r\n      <!-- 0.04 -->\r\n      <g transform=\"translate(879.223125 56.429725)scale(0.1 -0.1)\">\r\n       <use xlink:href=\"#DejaVuSans-30\"/>\r\n       <use x=\"63.623047\" xlink:href=\"#DejaVuSans-2e\"/>\r\n       <use x=\"95.410156\" xlink:href=\"#DejaVuSans-30\"/>\r\n       <use x=\"159.033203\" xlink:href=\"#DejaVuSans-34\"/>\r\n      </g>\r\n     </g>\r\n    </g>\r\n    <g id=\"ytick_20\">\r\n     <g id=\"line2d_43\">\r\n      <g>\r\n       <use style=\"stroke:#000000;stroke-width:0.8;\" x=\"908.48875\" xlink:href=\"#m9e78a2e796\" y=\"27.508601\"/>\r\n      </g>\r\n     </g>\r\n     <g id=\"text_44\">\r\n      <!-- 0.05 -->\r\n      <g transform=\"translate(879.223125 31.30782)scale(0.1 -0.1)\">\r\n       <use xlink:href=\"#DejaVuSans-30\"/>\r\n       <use x=\"63.623047\" xlink:href=\"#DejaVuSans-2e\"/>\r\n       <use x=\"95.410156\" xlink:href=\"#DejaVuSans-30\"/>\r\n       <use x=\"159.033203\" xlink:href=\"#DejaVuSans-35\"/>\r\n      </g>\r\n     </g>\r\n    </g>\r\n   </g>\r\n   <g id=\"line2d_44\">\r\n    <path clip-path=\"url(#p7a57b0bb11)\" d=\"M 918.980341 153.099537 \r\nL 926.36136 152.957275 \r\nL 930.579085 152.670626 \r\nL 933.742378 152.235713 \r\nL 935.851241 151.782248 \r\nL 937.960103 151.151304 \r\nL 940.068966 150.296448 \r\nL 942.177828 149.167303 \r\nL 944.286691 147.712835 \r\nL 946.395553 145.88656 \r\nL 948.504416 143.653538 \r\nL 950.613278 140.998291 \r\nL 952.722141 137.93211 \r\nL 954.831003 134.49787 \r\nL 957.994297 128.828678 \r\nL 965.375316 115.200649 \r\nL 967.484178 111.730626 \r\nL 969.593041 108.59317 \r\nL 971.701903 105.801594 \r\nL 973.810766 103.324193 \r\nL 976.97406 100.041959 \r\nL 990.681666 86.619928 \r\nL 997.008253 80.016482 \r\nL 1000.171547 76.463323 \r\nL 1003.334841 72.649262 \r\nL 1007.552566 67.212829 \r\nL 1013.879153 58.646389 \r\nL 1020.205741 49.688384 \r\nL 1025.477897 42.252424 \r\nL 1027.586759 39.567481 \r\nL 1029.695622 37.223502 \r\nL 1031.804484 35.341206 \r\nL 1032.858916 34.606939 \r\nL 1033.913347 34.025605 \r\nL 1034.967778 33.606118 \r\nL 1036.022209 33.35527 \r\nL 1037.076641 33.277589 \r\nL 1038.131072 33.37523 \r\nL 1039.185503 33.647896 \r\nL 1040.239934 34.092799 \r\nL 1041.294366 34.704659 \r\nL 1042.348797 35.475756 \r\nL 1044.457659 37.453422 \r\nL 1046.566522 39.92225 \r\nL 1048.675384 42.757511 \r\nL 1051.838678 47.421737 \r\nL 1058.165266 57.264733 \r\nL 1061.328559 62.494459 \r\nL 1063.437422 66.283122 \r\nL 1065.546284 70.43056 \r\nL 1067.655147 75.005774 \r\nL 1069.764009 80.028037 \r\nL 1072.927303 88.299384 \r\nL 1083.471615 117.075099 \r\nL 1085.580478 122.029099 \r\nL 1087.68934 126.521779 \r\nL 1089.798203 130.5416 \r\nL 1091.907065 134.104442 \r\nL 1094.015928 137.243244 \r\nL 1096.12479 139.997886 \r\nL 1098.233653 142.407164 \r\nL 1100.342515 144.503944 \r\nL 1102.451378 146.313651 \r\nL 1104.56024 147.855542 \r\nL 1106.669103 149.145664 \r\nL 1108.777965 150.200245 \r\nL 1110.886828 151.038387 \r\nL 1112.99569 151.683341 \r\nL 1116.158984 152.348451 \r\nL 1119.322278 152.738771 \r\nL 1123.540003 152.989761 \r\nL 1128.812159 153.091999 \r\nL 1128.812159 153.091999 \r\n\" style=\"fill:none;stroke:#1f77b4;stroke-linecap:square;stroke-width:1.5;\"/>\r\n   </g>\r\n   <g id=\"patch_96\">\r\n    <path d=\"M 908.48875 153.118125 \r\nL 908.48875 22.318125 \r\n\" style=\"fill:none;stroke:#000000;stroke-linecap:square;stroke-linejoin:miter;stroke-width:0.8;\"/>\r\n   </g>\r\n   <g id=\"patch_97\">\r\n    <path d=\"M 1139.30375 153.118125 \r\nL 1139.30375 22.318125 \r\n\" style=\"fill:none;stroke:#000000;stroke-linecap:square;stroke-linejoin:miter;stroke-width:0.8;\"/>\r\n   </g>\r\n   <g id=\"patch_98\">\r\n    <path d=\"M 908.48875 153.118125 \r\nL 1139.30375 153.118125 \r\n\" style=\"fill:none;stroke:#000000;stroke-linecap:square;stroke-linejoin:miter;stroke-width:0.8;\"/>\r\n   </g>\r\n   <g id=\"patch_99\">\r\n    <path d=\"M 908.48875 22.318125 \r\nL 1139.30375 22.318125 \r\n\" style=\"fill:none;stroke:#000000;stroke-linecap:square;stroke-linejoin:miter;stroke-width:0.8;\"/>\r\n   </g>\r\n   <g id=\"text_45\">\r\n    <!-- adiposity -->\r\n    <g transform=\"translate(996.567188 16.318125)scale(0.12 -0.12)\">\r\n     <defs>\r\n      <path d=\"M 2059 -325 \r\nQ 1816 -950 1584 -1140 \r\nQ 1353 -1331 966 -1331 \r\nL 506 -1331 \r\nL 506 -850 \r\nL 844 -850 \r\nQ 1081 -850 1212 -737 \r\nQ 1344 -625 1503 -206 \r\nL 1606 56 \r\nL 191 3500 \r\nL 800 3500 \r\nL 1894 763 \r\nL 2988 3500 \r\nL 3597 3500 \r\nL 2059 -325 \r\nz\r\n\" id=\"DejaVuSans-79\" transform=\"scale(0.015625)\"/>\r\n     </defs>\r\n     <use xlink:href=\"#DejaVuSans-61\"/>\r\n     <use x=\"61.279297\" xlink:href=\"#DejaVuSans-64\"/>\r\n     <use x=\"124.755859\" xlink:href=\"#DejaVuSans-69\"/>\r\n     <use x=\"152.539062\" xlink:href=\"#DejaVuSans-70\"/>\r\n     <use x=\"216.015625\" xlink:href=\"#DejaVuSans-6f\"/>\r\n     <use x=\"277.197266\" xlink:href=\"#DejaVuSans-73\"/>\r\n     <use x=\"329.296875\" xlink:href=\"#DejaVuSans-69\"/>\r\n     <use x=\"357.080078\" xlink:href=\"#DejaVuSans-74\"/>\r\n     <use x=\"396.289062\" xlink:href=\"#DejaVuSans-79\"/>\r\n    </g>\r\n   </g>\r\n  </g>\r\n  <g id=\"axes_5\">\r\n   <g id=\"patch_100\">\r\n    <path d=\"M 1194.60375 153.118125 \r\nL 1425.41875 153.118125 \r\nL 1425.41875 22.318125 \r\nL 1194.60375 22.318125 \r\nz\r\n\" style=\"fill:#ffffff;\"/>\r\n   </g>\r\n   <g id=\"patch_101\">\r\n    <path clip-path=\"url(#p4dc330225a)\" d=\"M 1194.60375 28.858125 \r\nL 1350.922903 28.858125 \r\nL 1350.922903 81.178125 \r\nL 1194.60375 81.178125 \r\nz\r\n\" style=\"fill:#3274a1;\"/>\r\n   </g>\r\n   <g id=\"patch_102\">\r\n    <path clip-path=\"url(#p4dc330225a)\" d=\"M 1194.60375 94.258125 \r\nL 1414.42756 94.258125 \r\nL 1414.42756 146.578125 \r\nL 1194.60375 146.578125 \r\nz\r\n\" style=\"fill:#e1812c;\"/>\r\n   </g>\r\n   <g id=\"matplotlib.axis_9\">\r\n    <g id=\"xtick_21\">\r\n     <g id=\"line2d_45\">\r\n      <g>\r\n       <use style=\"stroke:#000000;stroke-width:0.8;\" x=\"1194.60375\" xlink:href=\"#mfac484f1e3\" y=\"153.118125\"/>\r\n      </g>\r\n     </g>\r\n     <g id=\"text_46\">\r\n      <!-- 0 -->\r\n      <g transform=\"translate(1191.4225 167.716562)scale(0.1 -0.1)\">\r\n       <use xlink:href=\"#DejaVuSans-30\"/>\r\n      </g>\r\n     </g>\r\n    </g>\r\n    <g id=\"xtick_22\">\r\n     <g id=\"line2d_46\">\r\n      <g>\r\n       <use style=\"stroke:#000000;stroke-width:0.8;\" x=\"1235.311863\" xlink:href=\"#mfac484f1e3\" y=\"153.118125\"/>\r\n      </g>\r\n     </g>\r\n     <g id=\"text_47\">\r\n      <!-- 50 -->\r\n      <g transform=\"translate(1228.949363 167.716562)scale(0.1 -0.1)\">\r\n       <use xlink:href=\"#DejaVuSans-35\"/>\r\n       <use x=\"63.623047\" xlink:href=\"#DejaVuSans-30\"/>\r\n      </g>\r\n     </g>\r\n    </g>\r\n    <g id=\"xtick_23\">\r\n     <g id=\"line2d_47\">\r\n      <g>\r\n       <use style=\"stroke:#000000;stroke-width:0.8;\" x=\"1276.019976\" xlink:href=\"#mfac484f1e3\" y=\"153.118125\"/>\r\n      </g>\r\n     </g>\r\n     <g id=\"text_48\">\r\n      <!-- 100 -->\r\n      <g transform=\"translate(1266.476226 167.716562)scale(0.1 -0.1)\">\r\n       <use xlink:href=\"#DejaVuSans-31\"/>\r\n       <use x=\"63.623047\" xlink:href=\"#DejaVuSans-30\"/>\r\n       <use x=\"127.246094\" xlink:href=\"#DejaVuSans-30\"/>\r\n      </g>\r\n     </g>\r\n    </g>\r\n    <g id=\"xtick_24\">\r\n     <g id=\"line2d_48\">\r\n      <g>\r\n       <use style=\"stroke:#000000;stroke-width:0.8;\" x=\"1316.728089\" xlink:href=\"#mfac484f1e3\" y=\"153.118125\"/>\r\n      </g>\r\n     </g>\r\n     <g id=\"text_49\">\r\n      <!-- 150 -->\r\n      <g transform=\"translate(1307.184339 167.716562)scale(0.1 -0.1)\">\r\n       <use xlink:href=\"#DejaVuSans-31\"/>\r\n       <use x=\"63.623047\" xlink:href=\"#DejaVuSans-35\"/>\r\n       <use x=\"127.246094\" xlink:href=\"#DejaVuSans-30\"/>\r\n      </g>\r\n     </g>\r\n    </g>\r\n    <g id=\"xtick_25\">\r\n     <g id=\"line2d_49\">\r\n      <g>\r\n       <use style=\"stroke:#000000;stroke-width:0.8;\" x=\"1357.436201\" xlink:href=\"#mfac484f1e3\" y=\"153.118125\"/>\r\n      </g>\r\n     </g>\r\n     <g id=\"text_50\">\r\n      <!-- 200 -->\r\n      <g transform=\"translate(1347.892451 167.716562)scale(0.1 -0.1)\">\r\n       <use xlink:href=\"#DejaVuSans-32\"/>\r\n       <use x=\"63.623047\" xlink:href=\"#DejaVuSans-30\"/>\r\n       <use x=\"127.246094\" xlink:href=\"#DejaVuSans-30\"/>\r\n      </g>\r\n     </g>\r\n    </g>\r\n    <g id=\"xtick_26\">\r\n     <g id=\"line2d_50\">\r\n      <g>\r\n       <use style=\"stroke:#000000;stroke-width:0.8;\" x=\"1398.144314\" xlink:href=\"#mfac484f1e3\" y=\"153.118125\"/>\r\n      </g>\r\n     </g>\r\n     <g id=\"text_51\">\r\n      <!-- 250 -->\r\n      <g transform=\"translate(1388.600564 167.716562)scale(0.1 -0.1)\">\r\n       <use xlink:href=\"#DejaVuSans-32\"/>\r\n       <use x=\"63.623047\" xlink:href=\"#DejaVuSans-35\"/>\r\n       <use x=\"127.246094\" xlink:href=\"#DejaVuSans-30\"/>\r\n      </g>\r\n     </g>\r\n    </g>\r\n   </g>\r\n   <g id=\"matplotlib.axis_10\">\r\n    <g id=\"ytick_21\">\r\n     <g id=\"line2d_51\">\r\n      <g>\r\n       <use style=\"stroke:#000000;stroke-width:0.8;\" x=\"1194.60375\" xlink:href=\"#m9e78a2e796\" y=\"55.018125\"/>\r\n      </g>\r\n     </g>\r\n     <g id=\"text_52\">\r\n      <!-- Present -->\r\n      <g transform=\"translate(1150.089688 58.817344)scale(0.1 -0.1)\">\r\n       <defs>\r\n        <path d=\"M 1259 4147 \r\nL 1259 2394 \r\nL 2053 2394 \r\nQ 2494 2394 2734 2622 \r\nQ 2975 2850 2975 3272 \r\nQ 2975 3691 2734 3919 \r\nQ 2494 4147 2053 4147 \r\nL 1259 4147 \r\nz\r\nM 628 4666 \r\nL 2053 4666 \r\nQ 2838 4666 3239 4311 \r\nQ 3641 3956 3641 3272 \r\nQ 3641 2581 3239 2228 \r\nQ 2838 1875 2053 1875 \r\nL 1259 1875 \r\nL 1259 0 \r\nL 628 0 \r\nL 628 4666 \r\nz\r\n\" id=\"DejaVuSans-50\" transform=\"scale(0.015625)\"/>\r\n        <path d=\"M 2631 2963 \r\nQ 2534 3019 2420 3045 \r\nQ 2306 3072 2169 3072 \r\nQ 1681 3072 1420 2755 \r\nQ 1159 2438 1159 1844 \r\nL 1159 0 \r\nL 581 0 \r\nL 581 3500 \r\nL 1159 3500 \r\nL 1159 2956 \r\nQ 1341 3275 1631 3429 \r\nQ 1922 3584 2338 3584 \r\nQ 2397 3584 2469 3576 \r\nQ 2541 3569 2628 3553 \r\nL 2631 2963 \r\nz\r\n\" id=\"DejaVuSans-72\" transform=\"scale(0.015625)\"/>\r\n       </defs>\r\n       <use xlink:href=\"#DejaVuSans-50\"/>\r\n       <use x=\"58.552734\" xlink:href=\"#DejaVuSans-72\"/>\r\n       <use x=\"97.416016\" xlink:href=\"#DejaVuSans-65\"/>\r\n       <use x=\"158.939453\" xlink:href=\"#DejaVuSans-73\"/>\r\n       <use x=\"211.039062\" xlink:href=\"#DejaVuSans-65\"/>\r\n       <use x=\"272.5625\" xlink:href=\"#DejaVuSans-6e\"/>\r\n       <use x=\"335.941406\" xlink:href=\"#DejaVuSans-74\"/>\r\n      </g>\r\n     </g>\r\n    </g>\r\n    <g id=\"ytick_22\">\r\n     <g id=\"line2d_52\">\r\n      <g>\r\n       <use style=\"stroke:#000000;stroke-width:0.8;\" x=\"1194.60375\" xlink:href=\"#m9e78a2e796\" y=\"120.418125\"/>\r\n      </g>\r\n     </g>\r\n     <g id=\"text_53\">\r\n      <!-- Absent -->\r\n      <g transform=\"translate(1152.794375 124.217344)scale(0.1 -0.1)\">\r\n       <defs>\r\n        <path d=\"M 2188 4044 \r\nL 1331 1722 \r\nL 3047 1722 \r\nL 2188 4044 \r\nz\r\nM 1831 4666 \r\nL 2547 4666 \r\nL 4325 0 \r\nL 3669 0 \r\nL 3244 1197 \r\nL 1141 1197 \r\nL 716 0 \r\nL 50 0 \r\nL 1831 4666 \r\nz\r\n\" id=\"DejaVuSans-41\" transform=\"scale(0.015625)\"/>\r\n       </defs>\r\n       <use xlink:href=\"#DejaVuSans-41\"/>\r\n       <use x=\"68.408203\" xlink:href=\"#DejaVuSans-62\"/>\r\n       <use x=\"131.884766\" xlink:href=\"#DejaVuSans-73\"/>\r\n       <use x=\"183.984375\" xlink:href=\"#DejaVuSans-65\"/>\r\n       <use x=\"245.507812\" xlink:href=\"#DejaVuSans-6e\"/>\r\n       <use x=\"308.886719\" xlink:href=\"#DejaVuSans-74\"/>\r\n      </g>\r\n     </g>\r\n    </g>\r\n   </g>\r\n   <g id=\"patch_103\">\r\n    <path d=\"M 1194.60375 153.118125 \r\nL 1194.60375 22.318125 \r\n\" style=\"fill:none;stroke:#000000;stroke-linecap:square;stroke-linejoin:miter;stroke-width:0.8;\"/>\r\n   </g>\r\n   <g id=\"patch_104\">\r\n    <path d=\"M 1425.41875 153.118125 \r\nL 1425.41875 22.318125 \r\n\" style=\"fill:none;stroke:#000000;stroke-linecap:square;stroke-linejoin:miter;stroke-width:0.8;\"/>\r\n   </g>\r\n   <g id=\"patch_105\">\r\n    <path d=\"M 1194.60375 153.118125 \r\nL 1425.41875 153.118125 \r\n\" style=\"fill:none;stroke:#000000;stroke-linecap:square;stroke-linejoin:miter;stroke-width:0.8;\"/>\r\n   </g>\r\n   <g id=\"patch_106\">\r\n    <path d=\"M 1194.60375 22.318125 \r\nL 1425.41875 22.318125 \r\n\" style=\"fill:none;stroke:#000000;stroke-linecap:square;stroke-linejoin:miter;stroke-width:0.8;\"/>\r\n   </g>\r\n   <g id=\"text_54\">\r\n    <!-- famhist -->\r\n    <g transform=\"translate(1287.430625 16.318125)scale(0.12 -0.12)\">\r\n     <defs>\r\n      <path d=\"M 2375 4863 \r\nL 2375 4384 \r\nL 1825 4384 \r\nQ 1516 4384 1395 4259 \r\nQ 1275 4134 1275 3809 \r\nL 1275 3500 \r\nL 2222 3500 \r\nL 2222 3053 \r\nL 1275 3053 \r\nL 1275 0 \r\nL 697 0 \r\nL 697 3053 \r\nL 147 3053 \r\nL 147 3500 \r\nL 697 3500 \r\nL 697 3744 \r\nQ 697 4328 969 4595 \r\nQ 1241 4863 1831 4863 \r\nL 2375 4863 \r\nz\r\n\" id=\"DejaVuSans-66\" transform=\"scale(0.015625)\"/>\r\n      <path d=\"M 3328 2828 \r\nQ 3544 3216 3844 3400 \r\nQ 4144 3584 4550 3584 \r\nQ 5097 3584 5394 3201 \r\nQ 5691 2819 5691 2113 \r\nL 5691 0 \r\nL 5113 0 \r\nL 5113 2094 \r\nQ 5113 2597 4934 2840 \r\nQ 4756 3084 4391 3084 \r\nQ 3944 3084 3684 2787 \r\nQ 3425 2491 3425 1978 \r\nL 3425 0 \r\nL 2847 0 \r\nL 2847 2094 \r\nQ 2847 2600 2669 2842 \r\nQ 2491 3084 2119 3084 \r\nQ 1678 3084 1418 2786 \r\nQ 1159 2488 1159 1978 \r\nL 1159 0 \r\nL 581 0 \r\nL 581 3500 \r\nL 1159 3500 \r\nL 1159 2956 \r\nQ 1356 3278 1631 3431 \r\nQ 1906 3584 2284 3584 \r\nQ 2666 3584 2933 3390 \r\nQ 3200 3197 3328 2828 \r\nz\r\n\" id=\"DejaVuSans-6d\" transform=\"scale(0.015625)\"/>\r\n      <path d=\"M 3513 2113 \r\nL 3513 0 \r\nL 2938 0 \r\nL 2938 2094 \r\nQ 2938 2591 2744 2837 \r\nQ 2550 3084 2163 3084 \r\nQ 1697 3084 1428 2787 \r\nQ 1159 2491 1159 1978 \r\nL 1159 0 \r\nL 581 0 \r\nL 581 4863 \r\nL 1159 4863 \r\nL 1159 2956 \r\nQ 1366 3272 1645 3428 \r\nQ 1925 3584 2291 3584 \r\nQ 2894 3584 3203 3211 \r\nQ 3513 2838 3513 2113 \r\nz\r\n\" id=\"DejaVuSans-68\" transform=\"scale(0.015625)\"/>\r\n     </defs>\r\n     <use xlink:href=\"#DejaVuSans-66\"/>\r\n     <use x=\"35.205078\" xlink:href=\"#DejaVuSans-61\"/>\r\n     <use x=\"96.484375\" xlink:href=\"#DejaVuSans-6d\"/>\r\n     <use x=\"193.896484\" xlink:href=\"#DejaVuSans-68\"/>\r\n     <use x=\"257.275391\" xlink:href=\"#DejaVuSans-69\"/>\r\n     <use x=\"285.058594\" xlink:href=\"#DejaVuSans-73\"/>\r\n     <use x=\"337.158203\" xlink:href=\"#DejaVuSans-74\"/>\r\n    </g>\r\n   </g>\r\n  </g>\r\n  <g id=\"axes_6\">\r\n   <g id=\"patch_107\">\r\n    <path d=\"M 50.14375 327.718125 \r\nL 280.95875 327.718125 \r\nL 280.95875 196.918125 \r\nL 50.14375 196.918125 \r\nz\r\n\" style=\"fill:#ffffff;\"/>\r\n   </g>\r\n   <g id=\"patch_108\">\r\n    <path clip-path=\"url(#padd96111e0)\" d=\"M 82.656451 327.718125 \r\nL 90.945931 327.718125 \r\nL 90.945931 326.100314 \r\nL 82.656451 326.100314 \r\nz\r\n\" style=\"fill:#1f77b4;opacity:0.4;\"/>\r\n   </g>\r\n   <g id=\"patch_109\">\r\n    <path clip-path=\"url(#padd96111e0)\" d=\"M 90.945931 327.718125 \r\nL 99.235411 327.718125 \r\nL 99.235411 327.718125 \r\nL 90.945931 327.718125 \r\nz\r\n\" style=\"fill:#1f77b4;opacity:0.4;\"/>\r\n   </g>\r\n   <g id=\"patch_110\">\r\n    <path clip-path=\"url(#padd96111e0)\" d=\"M 99.235411 327.718125 \r\nL 107.52489 327.718125 \r\nL 107.52489 326.100314 \r\nL 99.235411 326.100314 \r\nz\r\n\" style=\"fill:#1f77b4;opacity:0.4;\"/>\r\n   </g>\r\n   <g id=\"patch_111\">\r\n    <path clip-path=\"url(#padd96111e0)\" d=\"M 107.52489 327.718125 \r\nL 115.81437 327.718125 \r\nL 115.81437 326.100314 \r\nL 107.52489 326.100314 \r\nz\r\n\" style=\"fill:#1f77b4;opacity:0.4;\"/>\r\n   </g>\r\n   <g id=\"patch_112\">\r\n    <path clip-path=\"url(#padd96111e0)\" d=\"M 115.81437 327.718125 \r\nL 124.10385 327.718125 \r\nL 124.10385 322.864693 \r\nL 115.81437 322.864693 \r\nz\r\n\" style=\"fill:#1f77b4;opacity:0.4;\"/>\r\n   </g>\r\n   <g id=\"patch_113\">\r\n    <path clip-path=\"url(#padd96111e0)\" d=\"M 124.10385 327.718125 \r\nL 132.39333 327.718125 \r\nL 132.39333 319.629071 \r\nL 124.10385 319.629071 \r\nz\r\n\" style=\"fill:#1f77b4;opacity:0.4;\"/>\r\n   </g>\r\n   <g id=\"patch_114\">\r\n    <path clip-path=\"url(#padd96111e0)\" d=\"M 132.39333 327.718125 \r\nL 140.68281 327.718125 \r\nL 140.68281 309.922207 \r\nL 132.39333 309.922207 \r\nz\r\n\" style=\"fill:#1f77b4;opacity:0.4;\"/>\r\n   </g>\r\n   <g id=\"patch_115\">\r\n    <path clip-path=\"url(#padd96111e0)\" d=\"M 140.68281 327.718125 \r\nL 148.97229 327.718125 \r\nL 148.97229 308.304396 \r\nL 140.68281 308.304396 \r\nz\r\n\" style=\"fill:#1f77b4;opacity:0.4;\"/>\r\n   </g>\r\n   <g id=\"patch_116\">\r\n    <path clip-path=\"url(#padd96111e0)\" d=\"M 148.97229 327.718125 \r\nL 157.26177 327.718125 \r\nL 157.26177 280.801613 \r\nL 148.97229 280.801613 \r\nz\r\n\" style=\"fill:#1f77b4;opacity:0.4;\"/>\r\n   </g>\r\n   <g id=\"patch_117\">\r\n    <path clip-path=\"url(#padd96111e0)\" d=\"M 157.26177 327.718125 \r\nL 165.55125 327.718125 \r\nL 165.55125 282.419424 \r\nL 157.26177 282.419424 \r\nz\r\n\" style=\"fill:#1f77b4;opacity:0.4;\"/>\r\n   </g>\r\n   <g id=\"patch_118\">\r\n    <path clip-path=\"url(#padd96111e0)\" d=\"M 165.55125 327.718125 \r\nL 173.84073 327.718125 \r\nL 173.84073 251.681019 \r\nL 165.55125 251.681019 \r\nz\r\n\" style=\"fill:#1f77b4;opacity:0.4;\"/>\r\n   </g>\r\n   <g id=\"patch_119\">\r\n    <path clip-path=\"url(#padd96111e0)\" d=\"M 173.84073 327.718125 \r\nL 182.13021 327.718125 \r\nL 182.13021 237.120722 \r\nL 173.84073 237.120722 \r\nz\r\n\" style=\"fill:#1f77b4;opacity:0.4;\"/>\r\n   </g>\r\n   <g id=\"patch_120\">\r\n    <path clip-path=\"url(#padd96111e0)\" d=\"M 182.13021 327.718125 \r\nL 190.41969 327.718125 \r\nL 190.41969 203.146696 \r\nL 182.13021 203.146696 \r\nz\r\n\" style=\"fill:#1f77b4;opacity:0.4;\"/>\r\n   </g>\r\n   <g id=\"patch_121\">\r\n    <path clip-path=\"url(#padd96111e0)\" d=\"M 190.41969 327.718125 \r\nL 198.70917 327.718125 \r\nL 198.70917 238.738533 \r\nL 190.41969 238.738533 \r\nz\r\n\" style=\"fill:#1f77b4;opacity:0.4;\"/>\r\n   </g>\r\n   <g id=\"patch_122\">\r\n    <path clip-path=\"url(#padd96111e0)\" d=\"M 198.70917 327.718125 \r\nL 206.99865 327.718125 \r\nL 206.99865 250.063208 \r\nL 198.70917 250.063208 \r\nz\r\n\" style=\"fill:#1f77b4;opacity:0.4;\"/>\r\n   </g>\r\n   <g id=\"patch_123\">\r\n    <path clip-path=\"url(#padd96111e0)\" d=\"M 206.99865 327.718125 \r\nL 215.28813 327.718125 \r\nL 215.28813 277.565991 \r\nL 206.99865 277.565991 \r\nz\r\n\" style=\"fill:#1f77b4;opacity:0.4;\"/>\r\n   </g>\r\n   <g id=\"patch_124\">\r\n    <path clip-path=\"url(#padd96111e0)\" d=\"M 215.28813 327.718125 \r\nL 223.57761 327.718125 \r\nL 223.57761 275.948181 \r\nL 215.28813 275.948181 \r\nz\r\n\" style=\"fill:#1f77b4;opacity:0.4;\"/>\r\n   </g>\r\n   <g id=\"patch_125\">\r\n    <path clip-path=\"url(#padd96111e0)\" d=\"M 223.57761 327.718125 \r\nL 231.867089 327.718125 \r\nL 231.867089 305.068774 \r\nL 223.57761 305.068774 \r\nz\r\n\" style=\"fill:#1f77b4;opacity:0.4;\"/>\r\n   </g>\r\n   <g id=\"patch_126\">\r\n    <path clip-path=\"url(#padd96111e0)\" d=\"M 231.867089 327.718125 \r\nL 240.156569 327.718125 \r\nL 240.156569 314.775639 \r\nL 231.867089 314.775639 \r\nz\r\n\" style=\"fill:#1f77b4;opacity:0.4;\"/>\r\n   </g>\r\n   <g id=\"patch_127\">\r\n    <path clip-path=\"url(#padd96111e0)\" d=\"M 240.156569 327.718125 \r\nL 248.446049 327.718125 \r\nL 248.446049 322.864693 \r\nL 240.156569 322.864693 \r\nz\r\n\" style=\"fill:#1f77b4;opacity:0.4;\"/>\r\n   </g>\r\n   <g id=\"matplotlib.axis_11\">\r\n    <g id=\"xtick_27\">\r\n     <g id=\"line2d_53\">\r\n      <g>\r\n       <use style=\"stroke:#000000;stroke-width:0.8;\" x=\"100.510715\" xlink:href=\"#mfac484f1e3\" y=\"327.718125\"/>\r\n      </g>\r\n     </g>\r\n     <g id=\"text_55\">\r\n      <!-- 20 -->\r\n      <g transform=\"translate(94.148215 342.316562)scale(0.1 -0.1)\">\r\n       <use xlink:href=\"#DejaVuSans-32\"/>\r\n       <use x=\"63.623047\" xlink:href=\"#DejaVuSans-30\"/>\r\n      </g>\r\n     </g>\r\n    </g>\r\n    <g id=\"xtick_28\">\r\n     <g id=\"line2d_54\">\r\n      <g>\r\n       <use style=\"stroke:#000000;stroke-width:0.8;\" x=\"151.522899\" xlink:href=\"#mfac484f1e3\" y=\"327.718125\"/>\r\n      </g>\r\n     </g>\r\n     <g id=\"text_56\">\r\n      <!-- 40 -->\r\n      <g transform=\"translate(145.160399 342.316562)scale(0.1 -0.1)\">\r\n       <use xlink:href=\"#DejaVuSans-34\"/>\r\n       <use x=\"63.623047\" xlink:href=\"#DejaVuSans-30\"/>\r\n      </g>\r\n     </g>\r\n    </g>\r\n    <g id=\"xtick_29\">\r\n     <g id=\"line2d_55\">\r\n      <g>\r\n       <use style=\"stroke:#000000;stroke-width:0.8;\" x=\"202.535084\" xlink:href=\"#mfac484f1e3\" y=\"327.718125\"/>\r\n      </g>\r\n     </g>\r\n     <g id=\"text_57\">\r\n      <!-- 60 -->\r\n      <g transform=\"translate(196.172584 342.316562)scale(0.1 -0.1)\">\r\n       <defs>\r\n        <path d=\"M 2113 2584 \r\nQ 1688 2584 1439 2293 \r\nQ 1191 2003 1191 1497 \r\nQ 1191 994 1439 701 \r\nQ 1688 409 2113 409 \r\nQ 2538 409 2786 701 \r\nQ 3034 994 3034 1497 \r\nQ 3034 2003 2786 2293 \r\nQ 2538 2584 2113 2584 \r\nz\r\nM 3366 4563 \r\nL 3366 3988 \r\nQ 3128 4100 2886 4159 \r\nQ 2644 4219 2406 4219 \r\nQ 1781 4219 1451 3797 \r\nQ 1122 3375 1075 2522 \r\nQ 1259 2794 1537 2939 \r\nQ 1816 3084 2150 3084 \r\nQ 2853 3084 3261 2657 \r\nQ 3669 2231 3669 1497 \r\nQ 3669 778 3244 343 \r\nQ 2819 -91 2113 -91 \r\nQ 1303 -91 875 529 \r\nQ 447 1150 447 2328 \r\nQ 447 3434 972 4092 \r\nQ 1497 4750 2381 4750 \r\nQ 2619 4750 2861 4703 \r\nQ 3103 4656 3366 4563 \r\nz\r\n\" id=\"DejaVuSans-36\" transform=\"scale(0.015625)\"/>\r\n       </defs>\r\n       <use xlink:href=\"#DejaVuSans-36\"/>\r\n       <use x=\"63.623047\" xlink:href=\"#DejaVuSans-30\"/>\r\n      </g>\r\n     </g>\r\n    </g>\r\n    <g id=\"xtick_30\">\r\n     <g id=\"line2d_56\">\r\n      <g>\r\n       <use style=\"stroke:#000000;stroke-width:0.8;\" x=\"253.547268\" xlink:href=\"#mfac484f1e3\" y=\"327.718125\"/>\r\n      </g>\r\n     </g>\r\n     <g id=\"text_58\">\r\n      <!-- 80 -->\r\n      <g transform=\"translate(247.184768 342.316562)scale(0.1 -0.1)\">\r\n       <defs>\r\n        <path d=\"M 2034 2216 \r\nQ 1584 2216 1326 1975 \r\nQ 1069 1734 1069 1313 \r\nQ 1069 891 1326 650 \r\nQ 1584 409 2034 409 \r\nQ 2484 409 2743 651 \r\nQ 3003 894 3003 1313 \r\nQ 3003 1734 2745 1975 \r\nQ 2488 2216 2034 2216 \r\nz\r\nM 1403 2484 \r\nQ 997 2584 770 2862 \r\nQ 544 3141 544 3541 \r\nQ 544 4100 942 4425 \r\nQ 1341 4750 2034 4750 \r\nQ 2731 4750 3128 4425 \r\nQ 3525 4100 3525 3541 \r\nQ 3525 3141 3298 2862 \r\nQ 3072 2584 2669 2484 \r\nQ 3125 2378 3379 2068 \r\nQ 3634 1759 3634 1313 \r\nQ 3634 634 3220 271 \r\nQ 2806 -91 2034 -91 \r\nQ 1263 -91 848 271 \r\nQ 434 634 434 1313 \r\nQ 434 1759 690 2068 \r\nQ 947 2378 1403 2484 \r\nz\r\nM 1172 3481 \r\nQ 1172 3119 1398 2916 \r\nQ 1625 2713 2034 2713 \r\nQ 2441 2713 2670 2916 \r\nQ 2900 3119 2900 3481 \r\nQ 2900 3844 2670 4047 \r\nQ 2441 4250 2034 4250 \r\nQ 1625 4250 1398 4047 \r\nQ 1172 3844 1172 3481 \r\nz\r\n\" id=\"DejaVuSans-38\" transform=\"scale(0.015625)\"/>\r\n       </defs>\r\n       <use xlink:href=\"#DejaVuSans-38\"/>\r\n       <use x=\"63.623047\" xlink:href=\"#DejaVuSans-30\"/>\r\n      </g>\r\n     </g>\r\n    </g>\r\n   </g>\r\n   <g id=\"matplotlib.axis_12\">\r\n    <g id=\"ytick_23\">\r\n     <g id=\"line2d_57\">\r\n      <g>\r\n       <use style=\"stroke:#000000;stroke-width:0.8;\" x=\"50.14375\" xlink:href=\"#m9e78a2e796\" y=\"327.718125\"/>\r\n      </g>\r\n     </g>\r\n     <g id=\"text_59\">\r\n      <!-- 0.00 -->\r\n      <g transform=\"translate(20.878125 331.517344)scale(0.1 -0.1)\">\r\n       <use xlink:href=\"#DejaVuSans-30\"/>\r\n       <use x=\"63.623047\" xlink:href=\"#DejaVuSans-2e\"/>\r\n       <use x=\"95.410156\" xlink:href=\"#DejaVuSans-30\"/>\r\n       <use x=\"159.033203\" xlink:href=\"#DejaVuSans-30\"/>\r\n      </g>\r\n     </g>\r\n    </g>\r\n    <g id=\"ytick_24\">\r\n     <g id=\"line2d_58\">\r\n      <g>\r\n       <use style=\"stroke:#000000;stroke-width:0.8;\" x=\"50.14375\" xlink:href=\"#m9e78a2e796\" y=\"303.426696\"/>\r\n      </g>\r\n     </g>\r\n     <g id=\"text_60\">\r\n      <!-- 0.01 -->\r\n      <g transform=\"translate(20.878125 307.225915)scale(0.1 -0.1)\">\r\n       <use xlink:href=\"#DejaVuSans-30\"/>\r\n       <use x=\"63.623047\" xlink:href=\"#DejaVuSans-2e\"/>\r\n       <use x=\"95.410156\" xlink:href=\"#DejaVuSans-30\"/>\r\n       <use x=\"159.033203\" xlink:href=\"#DejaVuSans-31\"/>\r\n      </g>\r\n     </g>\r\n    </g>\r\n    <g id=\"ytick_25\">\r\n     <g id=\"line2d_59\">\r\n      <g>\r\n       <use style=\"stroke:#000000;stroke-width:0.8;\" x=\"50.14375\" xlink:href=\"#m9e78a2e796\" y=\"279.135268\"/>\r\n      </g>\r\n     </g>\r\n     <g id=\"text_61\">\r\n      <!-- 0.02 -->\r\n      <g transform=\"translate(20.878125 282.934487)scale(0.1 -0.1)\">\r\n       <use xlink:href=\"#DejaVuSans-30\"/>\r\n       <use x=\"63.623047\" xlink:href=\"#DejaVuSans-2e\"/>\r\n       <use x=\"95.410156\" xlink:href=\"#DejaVuSans-30\"/>\r\n       <use x=\"159.033203\" xlink:href=\"#DejaVuSans-32\"/>\r\n      </g>\r\n     </g>\r\n    </g>\r\n    <g id=\"ytick_26\">\r\n     <g id=\"line2d_60\">\r\n      <g>\r\n       <use style=\"stroke:#000000;stroke-width:0.8;\" x=\"50.14375\" xlink:href=\"#m9e78a2e796\" y=\"254.843839\"/>\r\n      </g>\r\n     </g>\r\n     <g id=\"text_62\">\r\n      <!-- 0.03 -->\r\n      <g transform=\"translate(20.878125 258.643058)scale(0.1 -0.1)\">\r\n       <use xlink:href=\"#DejaVuSans-30\"/>\r\n       <use x=\"63.623047\" xlink:href=\"#DejaVuSans-2e\"/>\r\n       <use x=\"95.410156\" xlink:href=\"#DejaVuSans-30\"/>\r\n       <use x=\"159.033203\" xlink:href=\"#DejaVuSans-33\"/>\r\n      </g>\r\n     </g>\r\n    </g>\r\n    <g id=\"ytick_27\">\r\n     <g id=\"line2d_61\">\r\n      <g>\r\n       <use style=\"stroke:#000000;stroke-width:0.8;\" x=\"50.14375\" xlink:href=\"#m9e78a2e796\" y=\"230.552411\"/>\r\n      </g>\r\n     </g>\r\n     <g id=\"text_63\">\r\n      <!-- 0.04 -->\r\n      <g transform=\"translate(20.878125 234.351629)scale(0.1 -0.1)\">\r\n       <use xlink:href=\"#DejaVuSans-30\"/>\r\n       <use x=\"63.623047\" xlink:href=\"#DejaVuSans-2e\"/>\r\n       <use x=\"95.410156\" xlink:href=\"#DejaVuSans-30\"/>\r\n       <use x=\"159.033203\" xlink:href=\"#DejaVuSans-34\"/>\r\n      </g>\r\n     </g>\r\n    </g>\r\n    <g id=\"ytick_28\">\r\n     <g id=\"line2d_62\">\r\n      <g>\r\n       <use style=\"stroke:#000000;stroke-width:0.8;\" x=\"50.14375\" xlink:href=\"#m9e78a2e796\" y=\"206.260982\"/>\r\n      </g>\r\n     </g>\r\n     <g id=\"text_64\">\r\n      <!-- 0.05 -->\r\n      <g transform=\"translate(20.878125 210.060201)scale(0.1 -0.1)\">\r\n       <use xlink:href=\"#DejaVuSans-30\"/>\r\n       <use x=\"63.623047\" xlink:href=\"#DejaVuSans-2e\"/>\r\n       <use x=\"95.410156\" xlink:href=\"#DejaVuSans-30\"/>\r\n       <use x=\"159.033203\" xlink:href=\"#DejaVuSans-35\"/>\r\n      </g>\r\n     </g>\r\n    </g>\r\n    <g id=\"text_65\">\r\n     <!-- Densidad -->\r\n     <g transform=\"translate(14.798438 285.819687)rotate(-90)scale(0.1 -0.1)\">\r\n      <use xlink:href=\"#DejaVuSans-44\"/>\r\n      <use x=\"77.001953\" xlink:href=\"#DejaVuSans-65\"/>\r\n      <use x=\"138.525391\" xlink:href=\"#DejaVuSans-6e\"/>\r\n      <use x=\"201.904297\" xlink:href=\"#DejaVuSans-73\"/>\r\n      <use x=\"254.003906\" xlink:href=\"#DejaVuSans-69\"/>\r\n      <use x=\"281.787109\" xlink:href=\"#DejaVuSans-64\"/>\r\n      <use x=\"345.263672\" xlink:href=\"#DejaVuSans-61\"/>\r\n      <use x=\"406.542969\" xlink:href=\"#DejaVuSans-64\"/>\r\n     </g>\r\n    </g>\r\n   </g>\r\n   <g id=\"line2d_63\">\r\n    <path clip-path=\"url(#padd96111e0)\" d=\"M 60.635341 327.710028 \r\nL 69.070791 327.586585 \r\nL 75.397378 327.269055 \r\nL 81.723966 326.967472 \r\nL 86.996122 326.970738 \r\nL 93.32271 326.987537 \r\nL 99.649297 326.731457 \r\nL 104.921453 326.345627 \r\nL 108.084747 325.945281 \r\nL 111.248041 325.340648 \r\nL 114.411335 324.503544 \r\nL 117.574628 323.417143 \r\nL 120.737922 322.051239 \r\nL 123.901216 320.368033 \r\nL 127.064509 318.344574 \r\nL 130.227803 316.000778 \r\nL 135.499959 311.675656 \r\nL 142.880978 305.468089 \r\nL 144.989841 303.36293 \r\nL 147.098703 300.845642 \r\nL 149.207566 297.793559 \r\nL 151.316428 294.151101 \r\nL 153.425291 289.929183 \r\nL 155.534153 285.179322 \r\nL 157.643016 279.965951 \r\nL 160.806309 271.437068 \r\nL 168.187328 250.637518 \r\nL 170.296191 245.39813 \r\nL 172.405053 240.843957 \r\nL 174.513916 237.093959 \r\nL 175.568347 235.538814 \r\nL 176.622778 234.19852 \r\nL 177.677209 233.069755 \r\nL 178.731641 232.146087 \r\nL 179.786072 231.418523 \r\nL 180.840503 230.876176 \r\nL 181.894934 230.50706 \r\nL 182.949366 230.298973 \r\nL 184.003797 230.240411 \r\nL 185.058228 230.321404 \r\nL 186.112659 230.534179 \r\nL 187.167091 230.873556 \r\nL 188.221522 231.337002 \r\nL 190.330384 232.63717 \r\nL 192.439247 234.449567 \r\nL 194.548109 236.790613 \r\nL 196.656972 239.655442 \r\nL 198.765834 243.007764 \r\nL 200.874697 246.782588 \r\nL 204.037991 253.04769 \r\nL 209.310147 264.29962 \r\nL 216.691165 280.003467 \r\nL 221.963322 290.743749 \r\nL 226.181047 298.812031 \r\nL 229.34434 304.387308 \r\nL 232.507634 309.431663 \r\nL 234.616497 312.447281 \r\nL 236.725359 315.15378 \r\nL 238.834222 317.533406 \r\nL 240.943084 319.581003 \r\nL 243.051947 321.307019 \r\nL 245.160809 322.737419 \r\nL 247.269672 323.909192 \r\nL 249.378534 324.862488 \r\nL 251.487397 325.632816 \r\nL 254.65069 326.501705 \r\nL 257.813984 327.080292 \r\nL 260.977278 327.42486 \r\nL 265.195003 327.635847 \r\nL 270.467159 327.707012 \r\nL 270.467159 327.707012 \r\n\" style=\"fill:none;stroke:#1f77b4;stroke-linecap:square;stroke-width:1.5;\"/>\r\n   </g>\r\n   <g id=\"patch_128\">\r\n    <path d=\"M 50.14375 327.718125 \r\nL 50.14375 196.918125 \r\n\" style=\"fill:none;stroke:#000000;stroke-linecap:square;stroke-linejoin:miter;stroke-width:0.8;\"/>\r\n   </g>\r\n   <g id=\"patch_129\">\r\n    <path d=\"M 280.95875 327.718125 \r\nL 280.95875 196.918125 \r\n\" style=\"fill:none;stroke:#000000;stroke-linecap:square;stroke-linejoin:miter;stroke-width:0.8;\"/>\r\n   </g>\r\n   <g id=\"patch_130\">\r\n    <path d=\"M 50.14375 327.718125 \r\nL 280.95875 327.718125 \r\n\" style=\"fill:none;stroke:#000000;stroke-linecap:square;stroke-linejoin:miter;stroke-width:0.8;\"/>\r\n   </g>\r\n   <g id=\"patch_131\">\r\n    <path d=\"M 50.14375 196.918125 \r\nL 280.95875 196.918125 \r\n\" style=\"fill:none;stroke:#000000;stroke-linecap:square;stroke-linejoin:miter;stroke-width:0.8;\"/>\r\n   </g>\r\n   <g id=\"text_66\">\r\n    <!-- typea -->\r\n    <g transform=\"translate(148.47 190.918125)scale(0.12 -0.12)\">\r\n     <use xlink:href=\"#DejaVuSans-74\"/>\r\n     <use x=\"39.208984\" xlink:href=\"#DejaVuSans-79\"/>\r\n     <use x=\"98.388672\" xlink:href=\"#DejaVuSans-70\"/>\r\n     <use x=\"161.865234\" xlink:href=\"#DejaVuSans-65\"/>\r\n     <use x=\"223.388672\" xlink:href=\"#DejaVuSans-61\"/>\r\n    </g>\r\n   </g>\r\n  </g>\r\n  <g id=\"axes_7\">\r\n   <g id=\"patch_132\">\r\n    <path d=\"M 336.25875 327.718125 \r\nL 567.07375 327.718125 \r\nL 567.07375 196.918125 \r\nL 336.25875 196.918125 \r\nz\r\n\" style=\"fill:#ffffff;\"/>\r\n   </g>\r\n   <g id=\"patch_133\">\r\n    <path clip-path=\"url(#p54f4e51ec1)\" d=\"M 366.539679 327.718125 \r\nL 373.941989 327.718125 \r\nL 373.941989 325.85885 \r\nL 366.539679 325.85885 \r\nz\r\n\" style=\"fill:#1f77b4;opacity:0.4;\"/>\r\n   </g>\r\n   <g id=\"patch_134\">\r\n    <path clip-path=\"url(#p54f4e51ec1)\" d=\"M 373.941989 327.718125 \r\nL 381.3443 327.718125 \r\nL 381.3443 327.718125 \r\nL 373.941989 327.718125 \r\nz\r\n\" style=\"fill:#1f77b4;opacity:0.4;\"/>\r\n   </g>\r\n   <g id=\"patch_135\">\r\n    <path clip-path=\"url(#p54f4e51ec1)\" d=\"M 381.3443 327.718125 \r\nL 388.74661 327.718125 \r\nL 388.74661 314.7032 \r\nL 381.3443 314.7032 \r\nz\r\n\" style=\"fill:#1f77b4;opacity:0.4;\"/>\r\n   </g>\r\n   <g id=\"patch_136\">\r\n    <path clip-path=\"url(#p54f4e51ec1)\" d=\"M 388.74661 327.718125 \r\nL 396.148921 327.718125 \r\nL 396.148921 294.251174 \r\nL 388.74661 294.251174 \r\nz\r\n\" style=\"fill:#1f77b4;opacity:0.4;\"/>\r\n   </g>\r\n   <g id=\"patch_137\">\r\n    <path clip-path=\"url(#p54f4e51ec1)\" d=\"M 396.148921 327.718125 \r\nL 403.551231 327.718125 \r\nL 403.551231 268.221323 \r\nL 396.148921 268.221323 \r\nz\r\n\" style=\"fill:#1f77b4;opacity:0.4;\"/>\r\n   </g>\r\n   <g id=\"patch_138\">\r\n    <path clip-path=\"url(#p54f4e51ec1)\" d=\"M 403.551231 327.718125 \r\nL 410.953542 327.718125 \r\nL 410.953542 219.880172 \r\nL 403.551231 219.880172 \r\nz\r\n\" style=\"fill:#1f77b4;opacity:0.4;\"/>\r\n   </g>\r\n   <g id=\"patch_139\">\r\n    <path clip-path=\"url(#p54f4e51ec1)\" d=\"M 410.953542 327.718125 \r\nL 418.355852 327.718125 \r\nL 418.355852 231.035822 \r\nL 410.953542 231.035822 \r\nz\r\n\" style=\"fill:#1f77b4;opacity:0.4;\"/>\r\n   </g>\r\n   <g id=\"patch_140\">\r\n    <path clip-path=\"url(#p54f4e51ec1)\" d=\"M 418.355852 327.718125 \r\nL 425.758163 327.718125 \r\nL 425.758163 212.443072 \r\nL 418.355852 212.443072 \r\nz\r\n\" style=\"fill:#1f77b4;opacity:0.4;\"/>\r\n   </g>\r\n   <g id=\"patch_141\">\r\n    <path clip-path=\"url(#p54f4e51ec1)\" d=\"M 425.758163 327.718125 \r\nL 433.160474 327.718125 \r\nL 433.160474 203.146696 \r\nL 425.758163 203.146696 \r\nz\r\n\" style=\"fill:#1f77b4;opacity:0.4;\"/>\r\n   </g>\r\n   <g id=\"patch_142\">\r\n    <path clip-path=\"url(#p54f4e51ec1)\" d=\"M 433.160474 327.718125 \r\nL 440.562784 327.718125 \r\nL 440.562784 232.895097 \r\nL 433.160474 232.895097 \r\nz\r\n\" style=\"fill:#1f77b4;opacity:0.4;\"/>\r\n   </g>\r\n   <g id=\"patch_143\">\r\n    <path clip-path=\"url(#p54f4e51ec1)\" d=\"M 440.562784 327.718125 \r\nL 447.965095 327.718125 \r\nL 447.965095 251.487848 \r\nL 440.562784 251.487848 \r\nz\r\n\" style=\"fill:#1f77b4;opacity:0.4;\"/>\r\n   </g>\r\n   <g id=\"patch_144\">\r\n    <path clip-path=\"url(#p54f4e51ec1)\" d=\"M 447.965095 327.718125 \r\nL 455.367405 327.718125 \r\nL 455.367405 266.362048 \r\nL 447.965095 266.362048 \r\nz\r\n\" style=\"fill:#1f77b4;opacity:0.4;\"/>\r\n   </g>\r\n   <g id=\"patch_145\">\r\n    <path clip-path=\"url(#p54f4e51ec1)\" d=\"M 455.367405 327.718125 \r\nL 462.769716 327.718125 \r\nL 462.769716 307.266099 \r\nL 455.367405 307.266099 \r\nz\r\n\" style=\"fill:#1f77b4;opacity:0.4;\"/>\r\n   </g>\r\n   <g id=\"patch_146\">\r\n    <path clip-path=\"url(#p54f4e51ec1)\" d=\"M 462.769716 327.718125 \r\nL 470.172026 327.718125 \r\nL 470.172026 309.125374 \r\nL 462.769716 309.125374 \r\nz\r\n\" style=\"fill:#1f77b4;opacity:0.4;\"/>\r\n   </g>\r\n   <g id=\"patch_147\">\r\n    <path clip-path=\"url(#p54f4e51ec1)\" d=\"M 470.172026 327.718125 \r\nL 477.574337 327.718125 \r\nL 477.574337 316.562475 \r\nL 470.172026 316.562475 \r\nz\r\n\" style=\"fill:#1f77b4;opacity:0.4;\"/>\r\n   </g>\r\n   <g id=\"patch_148\">\r\n    <path clip-path=\"url(#p54f4e51ec1)\" d=\"M 477.574337 327.718125 \r\nL 484.976648 327.718125 \r\nL 484.976648 318.42175 \r\nL 477.574337 318.42175 \r\nz\r\n\" style=\"fill:#1f77b4;opacity:0.4;\"/>\r\n   </g>\r\n   <g id=\"patch_149\">\r\n    <path clip-path=\"url(#p54f4e51ec1)\" d=\"M 484.976648 327.718125 \r\nL 492.378958 327.718125 \r\nL 492.378958 322.1403 \r\nL 484.976648 322.1403 \r\nz\r\n\" style=\"fill:#1f77b4;opacity:0.4;\"/>\r\n   </g>\r\n   <g id=\"patch_150\">\r\n    <path clip-path=\"url(#p54f4e51ec1)\" d=\"M 492.378958 327.718125 \r\nL 499.781269 327.718125 \r\nL 499.781269 325.85885 \r\nL 492.378958 325.85885 \r\nz\r\n\" style=\"fill:#1f77b4;opacity:0.4;\"/>\r\n   </g>\r\n   <g id=\"patch_151\">\r\n    <path clip-path=\"url(#p54f4e51ec1)\" d=\"M 499.781269 327.718125 \r\nL 507.183579 327.718125 \r\nL 507.183579 325.85885 \r\nL 499.781269 325.85885 \r\nz\r\n\" style=\"fill:#1f77b4;opacity:0.4;\"/>\r\n   </g>\r\n   <g id=\"patch_152\">\r\n    <path clip-path=\"url(#p54f4e51ec1)\" d=\"M 507.183579 327.718125 \r\nL 514.58589 327.718125 \r\nL 514.58589 325.85885 \r\nL 507.183579 325.85885 \r\nz\r\n\" style=\"fill:#1f77b4;opacity:0.4;\"/>\r\n   </g>\r\n   <g id=\"patch_153\">\r\n    <path clip-path=\"url(#p54f4e51ec1)\" d=\"M 514.58589 327.718125 \r\nL 521.9882 327.718125 \r\nL 521.9882 327.718125 \r\nL 514.58589 327.718125 \r\nz\r\n\" style=\"fill:#1f77b4;opacity:0.4;\"/>\r\n   </g>\r\n   <g id=\"patch_154\">\r\n    <path clip-path=\"url(#p54f4e51ec1)\" d=\"M 521.9882 327.718125 \r\nL 529.390511 327.718125 \r\nL 529.390511 327.718125 \r\nL 521.9882 327.718125 \r\nz\r\n\" style=\"fill:#1f77b4;opacity:0.4;\"/>\r\n   </g>\r\n   <g id=\"patch_155\">\r\n    <path clip-path=\"url(#p54f4e51ec1)\" d=\"M 529.390511 327.718125 \r\nL 536.792821 327.718125 \r\nL 536.792821 323.999575 \r\nL 529.390511 323.999575 \r\nz\r\n\" style=\"fill:#1f77b4;opacity:0.4;\"/>\r\n   </g>\r\n   <g id=\"matplotlib.axis_13\">\r\n    <g id=\"xtick_31\">\r\n     <g id=\"line2d_64\">\r\n      <g>\r\n       <use style=\"stroke:#000000;stroke-width:0.8;\" x=\"341.439623\" xlink:href=\"#mfac484f1e3\" y=\"327.718125\"/>\r\n      </g>\r\n     </g>\r\n     <g id=\"text_67\">\r\n      <!-- 10 -->\r\n      <g transform=\"translate(335.077123 342.316562)scale(0.1 -0.1)\">\r\n       <use xlink:href=\"#DejaVuSans-31\"/>\r\n       <use x=\"63.623047\" xlink:href=\"#DejaVuSans-30\"/>\r\n      </g>\r\n     </g>\r\n    </g>\r\n    <g id=\"xtick_32\">\r\n     <g id=\"line2d_65\">\r\n      <g>\r\n       <use style=\"stroke:#000000;stroke-width:0.8;\" x=\"394.843997\" xlink:href=\"#mfac484f1e3\" y=\"327.718125\"/>\r\n      </g>\r\n     </g>\r\n     <g id=\"text_68\">\r\n      <!-- 20 -->\r\n      <g transform=\"translate(388.481497 342.316562)scale(0.1 -0.1)\">\r\n       <use xlink:href=\"#DejaVuSans-32\"/>\r\n       <use x=\"63.623047\" xlink:href=\"#DejaVuSans-30\"/>\r\n      </g>\r\n     </g>\r\n    </g>\r\n    <g id=\"xtick_33\">\r\n     <g id=\"line2d_66\">\r\n      <g>\r\n       <use style=\"stroke:#000000;stroke-width:0.8;\" x=\"448.24837\" xlink:href=\"#mfac484f1e3\" y=\"327.718125\"/>\r\n      </g>\r\n     </g>\r\n     <g id=\"text_69\">\r\n      <!-- 30 -->\r\n      <g transform=\"translate(441.88587 342.316562)scale(0.1 -0.1)\">\r\n       <use xlink:href=\"#DejaVuSans-33\"/>\r\n       <use x=\"63.623047\" xlink:href=\"#DejaVuSans-30\"/>\r\n      </g>\r\n     </g>\r\n    </g>\r\n    <g id=\"xtick_34\">\r\n     <g id=\"line2d_67\">\r\n      <g>\r\n       <use style=\"stroke:#000000;stroke-width:0.8;\" x=\"501.652744\" xlink:href=\"#mfac484f1e3\" y=\"327.718125\"/>\r\n      </g>\r\n     </g>\r\n     <g id=\"text_70\">\r\n      <!-- 40 -->\r\n      <g transform=\"translate(495.290244 342.316562)scale(0.1 -0.1)\">\r\n       <use xlink:href=\"#DejaVuSans-34\"/>\r\n       <use x=\"63.623047\" xlink:href=\"#DejaVuSans-30\"/>\r\n      </g>\r\n     </g>\r\n    </g>\r\n    <g id=\"xtick_35\">\r\n     <g id=\"line2d_68\">\r\n      <g>\r\n       <use style=\"stroke:#000000;stroke-width:0.8;\" x=\"555.057117\" xlink:href=\"#mfac484f1e3\" y=\"327.718125\"/>\r\n      </g>\r\n     </g>\r\n     <g id=\"text_71\">\r\n      <!-- 50 -->\r\n      <g transform=\"translate(548.694617 342.316562)scale(0.1 -0.1)\">\r\n       <use xlink:href=\"#DejaVuSans-35\"/>\r\n       <use x=\"63.623047\" xlink:href=\"#DejaVuSans-30\"/>\r\n      </g>\r\n     </g>\r\n    </g>\r\n   </g>\r\n   <g id=\"matplotlib.axis_14\">\r\n    <g id=\"ytick_29\">\r\n     <g id=\"line2d_69\">\r\n      <g>\r\n       <use style=\"stroke:#000000;stroke-width:0.8;\" x=\"336.25875\" xlink:href=\"#m9e78a2e796\" y=\"327.718125\"/>\r\n      </g>\r\n     </g>\r\n     <g id=\"text_72\">\r\n      <!-- 0.00 -->\r\n      <g transform=\"translate(306.993125 331.517344)scale(0.1 -0.1)\">\r\n       <use xlink:href=\"#DejaVuSans-30\"/>\r\n       <use x=\"63.623047\" xlink:href=\"#DejaVuSans-2e\"/>\r\n       <use x=\"95.410156\" xlink:href=\"#DejaVuSans-30\"/>\r\n       <use x=\"159.033203\" xlink:href=\"#DejaVuSans-30\"/>\r\n      </g>\r\n     </g>\r\n    </g>\r\n    <g id=\"ytick_30\">\r\n     <g id=\"line2d_70\">\r\n      <g>\r\n       <use style=\"stroke:#000000;stroke-width:0.8;\" x=\"336.25875\" xlink:href=\"#m9e78a2e796\" y=\"303.905565\"/>\r\n      </g>\r\n     </g>\r\n     <g id=\"text_73\">\r\n      <!-- 0.02 -->\r\n      <g transform=\"translate(306.993125 307.704784)scale(0.1 -0.1)\">\r\n       <use xlink:href=\"#DejaVuSans-30\"/>\r\n       <use x=\"63.623047\" xlink:href=\"#DejaVuSans-2e\"/>\r\n       <use x=\"95.410156\" xlink:href=\"#DejaVuSans-30\"/>\r\n       <use x=\"159.033203\" xlink:href=\"#DejaVuSans-32\"/>\r\n      </g>\r\n     </g>\r\n    </g>\r\n    <g id=\"ytick_31\">\r\n     <g id=\"line2d_71\">\r\n      <g>\r\n       <use style=\"stroke:#000000;stroke-width:0.8;\" x=\"336.25875\" xlink:href=\"#m9e78a2e796\" y=\"280.093005\"/>\r\n      </g>\r\n     </g>\r\n     <g id=\"text_74\">\r\n      <!-- 0.04 -->\r\n      <g transform=\"translate(306.993125 283.892223)scale(0.1 -0.1)\">\r\n       <use xlink:href=\"#DejaVuSans-30\"/>\r\n       <use x=\"63.623047\" xlink:href=\"#DejaVuSans-2e\"/>\r\n       <use x=\"95.410156\" xlink:href=\"#DejaVuSans-30\"/>\r\n       <use x=\"159.033203\" xlink:href=\"#DejaVuSans-34\"/>\r\n      </g>\r\n     </g>\r\n    </g>\r\n    <g id=\"ytick_32\">\r\n     <g id=\"line2d_72\">\r\n      <g>\r\n       <use style=\"stroke:#000000;stroke-width:0.8;\" x=\"336.25875\" xlink:href=\"#m9e78a2e796\" y=\"256.280445\"/>\r\n      </g>\r\n     </g>\r\n     <g id=\"text_75\">\r\n      <!-- 0.06 -->\r\n      <g transform=\"translate(306.993125 260.079663)scale(0.1 -0.1)\">\r\n       <use xlink:href=\"#DejaVuSans-30\"/>\r\n       <use x=\"63.623047\" xlink:href=\"#DejaVuSans-2e\"/>\r\n       <use x=\"95.410156\" xlink:href=\"#DejaVuSans-30\"/>\r\n       <use x=\"159.033203\" xlink:href=\"#DejaVuSans-36\"/>\r\n      </g>\r\n     </g>\r\n    </g>\r\n    <g id=\"ytick_33\">\r\n     <g id=\"line2d_73\">\r\n      <g>\r\n       <use style=\"stroke:#000000;stroke-width:0.8;\" x=\"336.25875\" xlink:href=\"#m9e78a2e796\" y=\"232.467884\"/>\r\n      </g>\r\n     </g>\r\n     <g id=\"text_76\">\r\n      <!-- 0.08 -->\r\n      <g transform=\"translate(306.993125 236.267103)scale(0.1 -0.1)\">\r\n       <use xlink:href=\"#DejaVuSans-30\"/>\r\n       <use x=\"63.623047\" xlink:href=\"#DejaVuSans-2e\"/>\r\n       <use x=\"95.410156\" xlink:href=\"#DejaVuSans-30\"/>\r\n       <use x=\"159.033203\" xlink:href=\"#DejaVuSans-38\"/>\r\n      </g>\r\n     </g>\r\n    </g>\r\n    <g id=\"ytick_34\">\r\n     <g id=\"line2d_74\">\r\n      <g>\r\n       <use style=\"stroke:#000000;stroke-width:0.8;\" x=\"336.25875\" xlink:href=\"#m9e78a2e796\" y=\"208.655324\"/>\r\n      </g>\r\n     </g>\r\n     <g id=\"text_77\">\r\n      <!-- 0.10 -->\r\n      <g transform=\"translate(306.993125 212.454543)scale(0.1 -0.1)\">\r\n       <use xlink:href=\"#DejaVuSans-30\"/>\r\n       <use x=\"63.623047\" xlink:href=\"#DejaVuSans-2e\"/>\r\n       <use x=\"95.410156\" xlink:href=\"#DejaVuSans-31\"/>\r\n       <use x=\"159.033203\" xlink:href=\"#DejaVuSans-30\"/>\r\n      </g>\r\n     </g>\r\n    </g>\r\n   </g>\r\n   <g id=\"line2d_75\">\r\n    <path clip-path=\"url(#p54f4e51ec1)\" d=\"M 346.750341 327.708878 \r\nL 354.13136 327.576059 \r\nL 359.403516 327.250011 \r\nL 372.056691 326.134798 \r\nL 374.165553 325.471148 \r\nL 375.219985 324.974249 \r\nL 376.274416 324.343443 \r\nL 377.328847 323.562826 \r\nL 378.383278 322.618413 \r\nL 379.43771 321.498135 \r\nL 380.492141 320.191666 \r\nL 381.546572 318.690204 \r\nL 383.655435 315.073862 \r\nL 385.764297 310.606799 \r\nL 387.87316 305.276102 \r\nL 389.982022 299.105968 \r\nL 392.090885 292.154562 \r\nL 394.199747 284.502786 \r\nL 397.363041 271.96833 \r\nL 402.635197 250.510909 \r\nL 404.74406 243.092053 \r\nL 405.798491 239.875127 \r\nL 406.852922 237.027718 \r\nL 407.907353 234.550801 \r\nL 408.961784 232.42007 \r\nL 410.016216 230.588646 \r\nL 412.125078 227.559409 \r\nL 417.397234 220.685232 \r\nL 421.614959 214.824479 \r\nL 422.669391 213.642795 \r\nL 423.723822 212.711026 \r\nL 424.778253 212.091817 \r\nL 425.832684 211.835952 \r\nL 426.887116 211.978459 \r\nL 427.941547 212.536228 \r\nL 428.995978 213.507345 \r\nL 430.050409 214.8722 \r\nL 431.104841 216.596249 \r\nL 432.159272 218.634074 \r\nL 434.268134 223.444441 \r\nL 436.376997 228.907046 \r\nL 439.540291 237.723469 \r\nL 443.758016 250.127106 \r\nL 449.030172 266.436529 \r\nL 455.356759 286.033319 \r\nL 457.465622 292.019205 \r\nL 459.574484 297.419229 \r\nL 461.683347 302.093494 \r\nL 463.792209 305.988923 \r\nL 465.901072 309.131812 \r\nL 468.009934 311.598245 \r\nL 470.118797 313.491312 \r\nL 472.227659 314.934891 \r\nL 474.336522 316.070413 \r\nL 478.554247 317.96029 \r\nL 491.207422 323.463075 \r\nL 494.370716 324.48569 \r\nL 497.534009 325.222328 \r\nL 500.697303 325.669873 \r\nL 504.915028 325.974277 \r\nL 511.241615 326.41456 \r\nL 519.677065 327.156464 \r\nL 522.840359 327.145184 \r\nL 526.003653 326.897991 \r\nL 533.384672 326.167993 \r\nL 536.547965 326.216022 \r\nL 539.711259 326.52803 \r\nL 547.092278 327.407029 \r\nL 551.310003 327.631706 \r\nL 556.582159 327.70798 \r\nL 556.582159 327.70798 \r\n\" style=\"fill:none;stroke:#1f77b4;stroke-linecap:square;stroke-width:1.5;\"/>\r\n   </g>\r\n   <g id=\"patch_156\">\r\n    <path d=\"M 336.25875 327.718125 \r\nL 336.25875 196.918125 \r\n\" style=\"fill:none;stroke:#000000;stroke-linecap:square;stroke-linejoin:miter;stroke-width:0.8;\"/>\r\n   </g>\r\n   <g id=\"patch_157\">\r\n    <path d=\"M 567.07375 327.718125 \r\nL 567.07375 196.918125 \r\n\" style=\"fill:none;stroke:#000000;stroke-linecap:square;stroke-linejoin:miter;stroke-width:0.8;\"/>\r\n   </g>\r\n   <g id=\"patch_158\">\r\n    <path d=\"M 336.25875 327.718125 \r\nL 567.07375 327.718125 \r\n\" style=\"fill:none;stroke:#000000;stroke-linecap:square;stroke-linejoin:miter;stroke-width:0.8;\"/>\r\n   </g>\r\n   <g id=\"patch_159\">\r\n    <path d=\"M 336.25875 196.918125 \r\nL 567.07375 196.918125 \r\n\" style=\"fill:none;stroke:#000000;stroke-linecap:square;stroke-linejoin:miter;stroke-width:0.8;\"/>\r\n   </g>\r\n   <g id=\"text_78\">\r\n    <!-- obesity -->\r\n    <g transform=\"translate(429.798125 190.918125)scale(0.12 -0.12)\">\r\n     <use xlink:href=\"#DejaVuSans-6f\"/>\r\n     <use x=\"61.181641\" xlink:href=\"#DejaVuSans-62\"/>\r\n     <use x=\"124.658203\" xlink:href=\"#DejaVuSans-65\"/>\r\n     <use x=\"186.181641\" xlink:href=\"#DejaVuSans-73\"/>\r\n     <use x=\"238.28125\" xlink:href=\"#DejaVuSans-69\"/>\r\n     <use x=\"266.064453\" xlink:href=\"#DejaVuSans-74\"/>\r\n     <use x=\"305.273438\" xlink:href=\"#DejaVuSans-79\"/>\r\n    </g>\r\n   </g>\r\n  </g>\r\n  <g id=\"axes_8\">\r\n   <g id=\"patch_160\">\r\n    <path d=\"M 622.37375 327.718125 \r\nL 853.18875 327.718125 \r\nL 853.18875 196.918125 \r\nL 622.37375 196.918125 \r\nz\r\n\" style=\"fill:#ffffff;\"/>\r\n   </g>\r\n   <g id=\"patch_161\">\r\n    <path clip-path=\"url(#p3f20d3b3e1)\" d=\"M 656.610467 327.718125 \r\nL 663.10413 327.718125 \r\nL 663.10413 203.146696 \r\nL 656.610467 203.146696 \r\nz\r\n\" style=\"fill:#1f77b4;opacity:0.4;\"/>\r\n   </g>\r\n   <g id=\"patch_162\">\r\n    <path clip-path=\"url(#p3f20d3b3e1)\" d=\"M 663.10413 327.718125 \r\nL 669.597792 327.718125 \r\nL 669.597792 294.422536 \r\nL 663.10413 294.422536 \r\nz\r\n\" style=\"fill:#1f77b4;opacity:0.4;\"/>\r\n   </g>\r\n   <g id=\"patch_163\">\r\n    <path clip-path=\"url(#p3f20d3b3e1)\" d=\"M 669.597792 327.718125 \r\nL 676.091455 327.718125 \r\nL 676.091455 304.75565 \r\nL 669.597792 304.75565 \r\nz\r\n\" style=\"fill:#1f77b4;opacity:0.4;\"/>\r\n   </g>\r\n   <g id=\"patch_164\">\r\n    <path clip-path=\"url(#p3f20d3b3e1)\" d=\"M 676.091455 327.718125 \r\nL 682.585118 327.718125 \r\nL 682.585118 311.644392 \r\nL 676.091455 311.644392 \r\nz\r\n\" style=\"fill:#1f77b4;opacity:0.4;\"/>\r\n   </g>\r\n   <g id=\"patch_165\">\r\n    <path clip-path=\"url(#p3f20d3b3e1)\" d=\"M 682.585118 327.718125 \r\nL 689.07878 327.718125 \r\nL 689.07878 309.922207 \r\nL 682.585118 309.922207 \r\nz\r\n\" style=\"fill:#1f77b4;opacity:0.4;\"/>\r\n   </g>\r\n   <g id=\"patch_166\">\r\n    <path clip-path=\"url(#p3f20d3b3e1)\" d=\"M 689.07878 327.718125 \r\nL 695.572443 327.718125 \r\nL 695.572443 320.255321 \r\nL 689.07878 320.255321 \r\nz\r\n\" style=\"fill:#1f77b4;opacity:0.4;\"/>\r\n   </g>\r\n   <g id=\"patch_167\">\r\n    <path clip-path=\"url(#p3f20d3b3e1)\" d=\"M 695.572443 327.718125 \r\nL 702.066105 327.718125 \r\nL 702.066105 319.107197 \r\nL 695.572443 319.107197 \r\nz\r\n\" style=\"fill:#1f77b4;opacity:0.4;\"/>\r\n   </g>\r\n   <g id=\"patch_168\">\r\n    <path clip-path=\"url(#p3f20d3b3e1)\" d=\"M 702.066105 327.718125 \r\nL 708.559768 327.718125 \r\nL 708.559768 321.403444 \r\nL 702.066105 321.403444 \r\nz\r\n\" style=\"fill:#1f77b4;opacity:0.4;\"/>\r\n   </g>\r\n   <g id=\"patch_169\">\r\n    <path clip-path=\"url(#p3f20d3b3e1)\" d=\"M 708.559768 327.718125 \r\nL 715.053431 327.718125 \r\nL 715.053431 323.699692 \r\nL 708.559768 323.699692 \r\nz\r\n\" style=\"fill:#1f77b4;opacity:0.4;\"/>\r\n   </g>\r\n   <g id=\"patch_170\">\r\n    <path clip-path=\"url(#p3f20d3b3e1)\" d=\"M 715.053431 327.718125 \r\nL 721.547093 327.718125 \r\nL 721.547093 322.551568 \r\nL 715.053431 322.551568 \r\nz\r\n\" style=\"fill:#1f77b4;opacity:0.4;\"/>\r\n   </g>\r\n   <g id=\"patch_171\">\r\n    <path clip-path=\"url(#p3f20d3b3e1)\" d=\"M 721.547093 327.718125 \r\nL 728.040756 327.718125 \r\nL 728.040756 324.847816 \r\nL 721.547093 324.847816 \r\nz\r\n\" style=\"fill:#1f77b4;opacity:0.4;\"/>\r\n   </g>\r\n   <g id=\"patch_172\">\r\n    <path clip-path=\"url(#p3f20d3b3e1)\" d=\"M 728.040756 327.718125 \r\nL 734.534419 327.718125 \r\nL 734.534419 324.847816 \r\nL 728.040756 324.847816 \r\nz\r\n\" style=\"fill:#1f77b4;opacity:0.4;\"/>\r\n   </g>\r\n   <g id=\"patch_173\">\r\n    <path clip-path=\"url(#p3f20d3b3e1)\" d=\"M 734.534419 327.718125 \r\nL 741.028081 327.718125 \r\nL 741.028081 324.847816 \r\nL 734.534419 324.847816 \r\nz\r\n\" style=\"fill:#1f77b4;opacity:0.4;\"/>\r\n   </g>\r\n   <g id=\"patch_174\">\r\n    <path clip-path=\"url(#p3f20d3b3e1)\" d=\"M 741.028081 327.718125 \r\nL 747.521744 327.718125 \r\nL 747.521744 325.995939 \r\nL 741.028081 325.995939 \r\nz\r\n\" style=\"fill:#1f77b4;opacity:0.4;\"/>\r\n   </g>\r\n   <g id=\"patch_175\">\r\n    <path clip-path=\"url(#p3f20d3b3e1)\" d=\"M 747.521744 327.718125 \r\nL 754.015407 327.718125 \r\nL 754.015407 326.570001 \r\nL 747.521744 326.570001 \r\nz\r\n\" style=\"fill:#1f77b4;opacity:0.4;\"/>\r\n   </g>\r\n   <g id=\"patch_176\">\r\n    <path clip-path=\"url(#p3f20d3b3e1)\" d=\"M 754.015407 327.718125 \r\nL 760.509069 327.718125 \r\nL 760.509069 324.847816 \r\nL 754.015407 324.847816 \r\nz\r\n\" style=\"fill:#1f77b4;opacity:0.4;\"/>\r\n   </g>\r\n   <g id=\"patch_177\">\r\n    <path clip-path=\"url(#p3f20d3b3e1)\" d=\"M 760.509069 327.718125 \r\nL 767.002732 327.718125 \r\nL 767.002732 327.144063 \r\nL 760.509069 327.144063 \r\nz\r\n\" style=\"fill:#1f77b4;opacity:0.4;\"/>\r\n   </g>\r\n   <g id=\"patch_178\">\r\n    <path clip-path=\"url(#p3f20d3b3e1)\" d=\"M 767.002732 327.718125 \r\nL 773.496395 327.718125 \r\nL 773.496395 327.144063 \r\nL 767.002732 327.144063 \r\nz\r\n\" style=\"fill:#1f77b4;opacity:0.4;\"/>\r\n   </g>\r\n   <g id=\"patch_179\">\r\n    <path clip-path=\"url(#p3f20d3b3e1)\" d=\"M 773.496395 327.718125 \r\nL 779.990057 327.718125 \r\nL 779.990057 326.570001 \r\nL 773.496395 326.570001 \r\nz\r\n\" style=\"fill:#1f77b4;opacity:0.4;\"/>\r\n   </g>\r\n   <g id=\"patch_180\">\r\n    <path clip-path=\"url(#p3f20d3b3e1)\" d=\"M 779.990057 327.718125 \r\nL 786.48372 327.718125 \r\nL 786.48372 327.718125 \r\nL 779.990057 327.718125 \r\nz\r\n\" style=\"fill:#1f77b4;opacity:0.4;\"/>\r\n   </g>\r\n   <g id=\"patch_181\">\r\n    <path clip-path=\"url(#p3f20d3b3e1)\" d=\"M 786.48372 327.718125 \r\nL 792.977382 327.718125 \r\nL 792.977382 327.144063 \r\nL 786.48372 327.144063 \r\nz\r\n\" style=\"fill:#1f77b4;opacity:0.4;\"/>\r\n   </g>\r\n   <g id=\"patch_182\">\r\n    <path clip-path=\"url(#p3f20d3b3e1)\" d=\"M 792.977382 327.718125 \r\nL 799.471045 327.718125 \r\nL 799.471045 327.718125 \r\nL 792.977382 327.718125 \r\nz\r\n\" style=\"fill:#1f77b4;opacity:0.4;\"/>\r\n   </g>\r\n   <g id=\"patch_183\">\r\n    <path clip-path=\"url(#p3f20d3b3e1)\" d=\"M 799.471045 327.718125 \r\nL 805.964708 327.718125 \r\nL 805.964708 327.718125 \r\nL 799.471045 327.718125 \r\nz\r\n\" style=\"fill:#1f77b4;opacity:0.4;\"/>\r\n   </g>\r\n   <g id=\"patch_184\">\r\n    <path clip-path=\"url(#p3f20d3b3e1)\" d=\"M 805.964708 327.718125 \r\nL 812.45837 327.718125 \r\nL 812.45837 327.718125 \r\nL 805.964708 327.718125 \r\nz\r\n\" style=\"fill:#1f77b4;opacity:0.4;\"/>\r\n   </g>\r\n   <g id=\"patch_185\">\r\n    <path clip-path=\"url(#p3f20d3b3e1)\" d=\"M 812.45837 327.718125 \r\nL 818.952033 327.718125 \r\nL 818.952033 325.995939 \r\nL 812.45837 325.995939 \r\nz\r\n\" style=\"fill:#1f77b4;opacity:0.4;\"/>\r\n   </g>\r\n   <g id=\"matplotlib.axis_15\">\r\n    <g id=\"xtick_36\">\r\n     <g id=\"line2d_76\">\r\n      <g>\r\n       <use style=\"stroke:#000000;stroke-width:0.8;\" x=\"656.610467\" xlink:href=\"#mfac484f1e3\" y=\"327.718125\"/>\r\n      </g>\r\n     </g>\r\n     <g id=\"text_79\">\r\n      <!-- 0 -->\r\n      <g transform=\"translate(653.429217 342.316562)scale(0.1 -0.1)\">\r\n       <use xlink:href=\"#DejaVuSans-30\"/>\r\n      </g>\r\n     </g>\r\n    </g>\r\n    <g id=\"xtick_37\">\r\n     <g id=\"line2d_77\">\r\n      <g>\r\n       <use style=\"stroke:#000000;stroke-width:0.8;\" x=\"711.757408\" xlink:href=\"#mfac484f1e3\" y=\"327.718125\"/>\r\n      </g>\r\n     </g>\r\n     <g id=\"text_80\">\r\n      <!-- 50 -->\r\n      <g transform=\"translate(705.394908 342.316562)scale(0.1 -0.1)\">\r\n       <use xlink:href=\"#DejaVuSans-35\"/>\r\n       <use x=\"63.623047\" xlink:href=\"#DejaVuSans-30\"/>\r\n      </g>\r\n     </g>\r\n    </g>\r\n    <g id=\"xtick_38\">\r\n     <g id=\"line2d_78\">\r\n      <g>\r\n       <use style=\"stroke:#000000;stroke-width:0.8;\" x=\"766.90435\" xlink:href=\"#mfac484f1e3\" y=\"327.718125\"/>\r\n      </g>\r\n     </g>\r\n     <g id=\"text_81\">\r\n      <!-- 100 -->\r\n      <g transform=\"translate(757.3606 342.316562)scale(0.1 -0.1)\">\r\n       <use xlink:href=\"#DejaVuSans-31\"/>\r\n       <use x=\"63.623047\" xlink:href=\"#DejaVuSans-30\"/>\r\n       <use x=\"127.246094\" xlink:href=\"#DejaVuSans-30\"/>\r\n      </g>\r\n     </g>\r\n    </g>\r\n    <g id=\"xtick_39\">\r\n     <g id=\"line2d_79\">\r\n      <g>\r\n       <use style=\"stroke:#000000;stroke-width:0.8;\" x=\"822.051291\" xlink:href=\"#mfac484f1e3\" y=\"327.718125\"/>\r\n      </g>\r\n     </g>\r\n     <g id=\"text_82\">\r\n      <!-- 150 -->\r\n      <g transform=\"translate(812.507541 342.316562)scale(0.1 -0.1)\">\r\n       <use xlink:href=\"#DejaVuSans-31\"/>\r\n       <use x=\"63.623047\" xlink:href=\"#DejaVuSans-35\"/>\r\n       <use x=\"127.246094\" xlink:href=\"#DejaVuSans-30\"/>\r\n      </g>\r\n     </g>\r\n    </g>\r\n   </g>\r\n   <g id=\"matplotlib.axis_16\">\r\n    <g id=\"ytick_35\">\r\n     <g id=\"line2d_80\">\r\n      <g>\r\n       <use style=\"stroke:#000000;stroke-width:0.8;\" x=\"622.37375\" xlink:href=\"#m9e78a2e796\" y=\"327.718125\"/>\r\n      </g>\r\n     </g>\r\n     <g id=\"text_83\">\r\n      <!-- 0.00 -->\r\n      <g transform=\"translate(593.108125 331.517344)scale(0.1 -0.1)\">\r\n       <use xlink:href=\"#DejaVuSans-30\"/>\r\n       <use x=\"63.623047\" xlink:href=\"#DejaVuSans-2e\"/>\r\n       <use x=\"95.410156\" xlink:href=\"#DejaVuSans-30\"/>\r\n       <use x=\"159.033203\" xlink:href=\"#DejaVuSans-30\"/>\r\n      </g>\r\n     </g>\r\n    </g>\r\n    <g id=\"ytick_36\">\r\n     <g id=\"line2d_81\">\r\n      <g>\r\n       <use style=\"stroke:#000000;stroke-width:0.8;\" x=\"622.37375\" xlink:href=\"#m9e78a2e796\" y=\"296.488341\"/>\r\n      </g>\r\n     </g>\r\n     <g id=\"text_84\">\r\n      <!-- 0.02 -->\r\n      <g transform=\"translate(593.108125 300.28756)scale(0.1 -0.1)\">\r\n       <use xlink:href=\"#DejaVuSans-30\"/>\r\n       <use x=\"63.623047\" xlink:href=\"#DejaVuSans-2e\"/>\r\n       <use x=\"95.410156\" xlink:href=\"#DejaVuSans-30\"/>\r\n       <use x=\"159.033203\" xlink:href=\"#DejaVuSans-32\"/>\r\n      </g>\r\n     </g>\r\n    </g>\r\n    <g id=\"ytick_37\">\r\n     <g id=\"line2d_82\">\r\n      <g>\r\n       <use style=\"stroke:#000000;stroke-width:0.8;\" x=\"622.37375\" xlink:href=\"#m9e78a2e796\" y=\"265.258557\"/>\r\n      </g>\r\n     </g>\r\n     <g id=\"text_85\">\r\n      <!-- 0.04 -->\r\n      <g transform=\"translate(593.108125 269.057776)scale(0.1 -0.1)\">\r\n       <use xlink:href=\"#DejaVuSans-30\"/>\r\n       <use x=\"63.623047\" xlink:href=\"#DejaVuSans-2e\"/>\r\n       <use x=\"95.410156\" xlink:href=\"#DejaVuSans-30\"/>\r\n       <use x=\"159.033203\" xlink:href=\"#DejaVuSans-34\"/>\r\n      </g>\r\n     </g>\r\n    </g>\r\n    <g id=\"ytick_38\">\r\n     <g id=\"line2d_83\">\r\n      <g>\r\n       <use style=\"stroke:#000000;stroke-width:0.8;\" x=\"622.37375\" xlink:href=\"#m9e78a2e796\" y=\"234.028773\"/>\r\n      </g>\r\n     </g>\r\n     <g id=\"text_86\">\r\n      <!-- 0.06 -->\r\n      <g transform=\"translate(593.108125 237.827992)scale(0.1 -0.1)\">\r\n       <use xlink:href=\"#DejaVuSans-30\"/>\r\n       <use x=\"63.623047\" xlink:href=\"#DejaVuSans-2e\"/>\r\n       <use x=\"95.410156\" xlink:href=\"#DejaVuSans-30\"/>\r\n       <use x=\"159.033203\" xlink:href=\"#DejaVuSans-36\"/>\r\n      </g>\r\n     </g>\r\n    </g>\r\n    <g id=\"ytick_39\">\r\n     <g id=\"line2d_84\">\r\n      <g>\r\n       <use style=\"stroke:#000000;stroke-width:0.8;\" x=\"622.37375\" xlink:href=\"#m9e78a2e796\" y=\"202.798989\"/>\r\n      </g>\r\n     </g>\r\n     <g id=\"text_87\">\r\n      <!-- 0.08 -->\r\n      <g transform=\"translate(593.108125 206.598208)scale(0.1 -0.1)\">\r\n       <use xlink:href=\"#DejaVuSans-30\"/>\r\n       <use x=\"63.623047\" xlink:href=\"#DejaVuSans-2e\"/>\r\n       <use x=\"95.410156\" xlink:href=\"#DejaVuSans-30\"/>\r\n       <use x=\"159.033203\" xlink:href=\"#DejaVuSans-38\"/>\r\n      </g>\r\n     </g>\r\n    </g>\r\n   </g>\r\n   <g id=\"line2d_85\">\r\n    <path clip-path=\"url(#p3f20d3b3e1)\" d=\"M 632.865341 327.396332 \r\nL 634.974203 327.013372 \r\nL 637.083066 326.277425 \r\nL 638.137497 325.710578 \r\nL 639.191928 324.968112 \r\nL 640.24636 324.014689 \r\nL 641.300791 322.814666 \r\nL 642.355222 321.334636 \r\nL 643.409653 319.546561 \r\nL 644.464085 317.431288 \r\nL 645.518516 314.982182 \r\nL 647.627378 309.13798 \r\nL 649.736241 302.318024 \r\nL 652.899535 291.661109 \r\nL 655.008397 285.514073 \r\nL 656.062828 283.044992 \r\nL 657.11726 281.089243 \r\nL 658.171691 279.701062 \r\nL 659.226122 278.90747 \r\nL 660.280553 278.707224 \r\nL 661.334985 279.072089 \r\nL 662.389416 279.950209 \r\nL 663.443847 281.271122 \r\nL 664.498278 282.951825 \r\nL 666.607141 287.036195 \r\nL 670.824866 295.869692 \r\nL 672.933728 299.750332 \r\nL 675.042591 303.037368 \r\nL 677.151453 305.753546 \r\nL 679.260316 308.003332 \r\nL 681.369178 309.913649 \r\nL 684.532472 312.36878 \r\nL 687.695766 314.489735 \r\nL 690.85906 316.293599 \r\nL 694.022353 317.742988 \r\nL 697.185647 318.86716 \r\nL 701.403372 320.066786 \r\nL 709.838822 322.199088 \r\nL 714.056547 323.000949 \r\nL 718.274272 323.527713 \r\nL 737.254034 325.2784 \r\nL 744.635053 325.689004 \r\nL 765.723678 326.672037 \r\nL 773.104697 327.006394 \r\nL 793.13889 327.501734 \r\nL 801.57434 327.575479 \r\nL 807.900928 327.417686 \r\nL 816.336378 327.165577 \r\nL 821.608534 327.244989 \r\nL 837.425003 327.695413 \r\nL 842.697159 327.714629 \r\nL 842.697159 327.714629 \r\n\" style=\"fill:none;stroke:#1f77b4;stroke-linecap:square;stroke-width:1.5;\"/>\r\n   </g>\r\n   <g id=\"patch_186\">\r\n    <path d=\"M 622.37375 327.718125 \r\nL 622.37375 196.918125 \r\n\" style=\"fill:none;stroke:#000000;stroke-linecap:square;stroke-linejoin:miter;stroke-width:0.8;\"/>\r\n   </g>\r\n   <g id=\"patch_187\">\r\n    <path d=\"M 853.18875 327.718125 \r\nL 853.18875 196.918125 \r\n\" style=\"fill:none;stroke:#000000;stroke-linecap:square;stroke-linejoin:miter;stroke-width:0.8;\"/>\r\n   </g>\r\n   <g id=\"patch_188\">\r\n    <path d=\"M 622.37375 327.718125 \r\nL 853.18875 327.718125 \r\n\" style=\"fill:none;stroke:#000000;stroke-linecap:square;stroke-linejoin:miter;stroke-width:0.8;\"/>\r\n   </g>\r\n   <g id=\"patch_189\">\r\n    <path d=\"M 622.37375 196.918125 \r\nL 853.18875 196.918125 \r\n\" style=\"fill:none;stroke:#000000;stroke-linecap:square;stroke-linejoin:miter;stroke-width:0.8;\"/>\r\n   </g>\r\n   <g id=\"text_88\">\r\n    <!-- alcohol -->\r\n    <g transform=\"translate(716.326563 190.918125)scale(0.12 -0.12)\">\r\n     <use xlink:href=\"#DejaVuSans-61\"/>\r\n     <use x=\"61.279297\" xlink:href=\"#DejaVuSans-6c\"/>\r\n     <use x=\"89.0625\" xlink:href=\"#DejaVuSans-63\"/>\r\n     <use x=\"144.042969\" xlink:href=\"#DejaVuSans-6f\"/>\r\n     <use x=\"205.224609\" xlink:href=\"#DejaVuSans-68\"/>\r\n     <use x=\"268.603516\" xlink:href=\"#DejaVuSans-6f\"/>\r\n     <use x=\"329.785156\" xlink:href=\"#DejaVuSans-6c\"/>\r\n    </g>\r\n   </g>\r\n  </g>\r\n  <g id=\"axes_9\">\r\n   <g id=\"patch_190\">\r\n    <path d=\"M 908.48875 327.718125 \r\nL 1139.30375 327.718125 \r\nL 1139.30375 196.918125 \r\nL 908.48875 196.918125 \r\nz\r\n\" style=\"fill:#ffffff;\"/>\r\n   </g>\r\n   <g id=\"patch_191\">\r\n    <path clip-path=\"url(#p88716386cc)\" d=\"M 955.070943 327.718125 \r\nL 972.27727 327.718125 \r\nL 972.27727 251.947875 \r\nL 955.070943 251.947875 \r\nz\r\n\" style=\"fill:#1f77b4;opacity:0.4;\"/>\r\n   </g>\r\n   <g id=\"patch_192\">\r\n    <path clip-path=\"url(#p88716386cc)\" d=\"M 972.27727 327.718125 \r\nL 989.483596 327.718125 \r\nL 989.483596 291.759362 \r\nL 972.27727 291.759362 \r\nz\r\n\" style=\"fill:#1f77b4;opacity:0.4;\"/>\r\n   </g>\r\n   <g id=\"patch_193\">\r\n    <path clip-path=\"url(#p88716386cc)\" d=\"M 989.483596 327.718125 \r\nL 1006.689923 327.718125 \r\nL 1006.689923 263.506048 \r\nL 989.483596 263.506048 \r\nz\r\n\" style=\"fill:#1f77b4;opacity:0.4;\"/>\r\n   </g>\r\n   <g id=\"patch_194\">\r\n    <path clip-path=\"url(#p88716386cc)\" d=\"M 1006.689923 327.718125 \r\nL 1023.89625 327.718125 \r\nL 1023.89625 277.632705 \r\nL 1006.689923 277.632705 \r\nz\r\n\" style=\"fill:#1f77b4;opacity:0.4;\"/>\r\n   </g>\r\n   <g id=\"patch_195\">\r\n    <path clip-path=\"url(#p88716386cc)\" d=\"M 1023.89625 327.718125 \r\nL 1041.102577 327.718125 \r\nL 1041.102577 244.242425 \r\nL 1023.89625 244.242425 \r\nz\r\n\" style=\"fill:#1f77b4;opacity:0.4;\"/>\r\n   </g>\r\n   <g id=\"patch_196\">\r\n    <path clip-path=\"url(#p88716386cc)\" d=\"M 1041.102577 327.718125 \r\nL 1058.308904 327.718125 \r\nL 1058.308904 254.516358 \r\nL 1041.102577 254.516358 \r\nz\r\n\" style=\"fill:#1f77b4;opacity:0.4;\"/>\r\n   </g>\r\n   <g id=\"patch_197\">\r\n    <path clip-path=\"url(#p88716386cc)\" d=\"M 1058.308904 327.718125 \r\nL 1075.51523 327.718125 \r\nL 1075.51523 241.673942 \r\nL 1058.308904 241.673942 \r\nz\r\n\" style=\"fill:#1f77b4;opacity:0.4;\"/>\r\n   </g>\r\n   <g id=\"patch_198\">\r\n    <path clip-path=\"url(#p88716386cc)\" d=\"M 1075.51523 327.718125 \r\nL 1092.721557 327.718125 \r\nL 1092.721557 203.146696 \r\nL 1075.51523 203.146696 \r\nz\r\n\" style=\"fill:#1f77b4;opacity:0.4;\"/>\r\n   </g>\r\n   <g id=\"matplotlib.axis_17\">\r\n    <g id=\"xtick_40\">\r\n     <g id=\"line2d_86\">\r\n      <g>\r\n       <use style=\"stroke:#000000;stroke-width:0.8;\" x=\"912.933\" xlink:href=\"#mfac484f1e3\" y=\"327.718125\"/>\r\n      </g>\r\n     </g>\r\n     <g id=\"text_89\">\r\n      <!-- 0 -->\r\n      <g transform=\"translate(909.75175 342.316562)scale(0.1 -0.1)\">\r\n       <use xlink:href=\"#DejaVuSans-30\"/>\r\n      </g>\r\n     </g>\r\n    </g>\r\n    <g id=\"xtick_41\">\r\n     <g id=\"line2d_87\">\r\n      <g>\r\n       <use style=\"stroke:#000000;stroke-width:0.8;\" x=\"969.116924\" xlink:href=\"#mfac484f1e3\" y=\"327.718125\"/>\r\n      </g>\r\n     </g>\r\n     <g id=\"text_90\">\r\n      <!-- 20 -->\r\n      <g transform=\"translate(962.754424 342.316562)scale(0.1 -0.1)\">\r\n       <use xlink:href=\"#DejaVuSans-32\"/>\r\n       <use x=\"63.623047\" xlink:href=\"#DejaVuSans-30\"/>\r\n      </g>\r\n     </g>\r\n    </g>\r\n    <g id=\"xtick_42\">\r\n     <g id=\"line2d_88\">\r\n      <g>\r\n       <use style=\"stroke:#000000;stroke-width:0.8;\" x=\"1025.300848\" xlink:href=\"#mfac484f1e3\" y=\"327.718125\"/>\r\n      </g>\r\n     </g>\r\n     <g id=\"text_91\">\r\n      <!-- 40 -->\r\n      <g transform=\"translate(1018.938348 342.316562)scale(0.1 -0.1)\">\r\n       <use xlink:href=\"#DejaVuSans-34\"/>\r\n       <use x=\"63.623047\" xlink:href=\"#DejaVuSans-30\"/>\r\n      </g>\r\n     </g>\r\n    </g>\r\n    <g id=\"xtick_43\">\r\n     <g id=\"line2d_89\">\r\n      <g>\r\n       <use style=\"stroke:#000000;stroke-width:0.8;\" x=\"1081.484772\" xlink:href=\"#mfac484f1e3\" y=\"327.718125\"/>\r\n      </g>\r\n     </g>\r\n     <g id=\"text_92\">\r\n      <!-- 60 -->\r\n      <g transform=\"translate(1075.122272 342.316562)scale(0.1 -0.1)\">\r\n       <use xlink:href=\"#DejaVuSans-36\"/>\r\n       <use x=\"63.623047\" xlink:href=\"#DejaVuSans-30\"/>\r\n      </g>\r\n     </g>\r\n    </g>\r\n    <g id=\"xtick_44\">\r\n     <g id=\"line2d_90\">\r\n      <g>\r\n       <use style=\"stroke:#000000;stroke-width:0.8;\" x=\"1137.668696\" xlink:href=\"#mfac484f1e3\" y=\"327.718125\"/>\r\n      </g>\r\n     </g>\r\n     <g id=\"text_93\">\r\n      <!-- 80 -->\r\n      <g transform=\"translate(1131.306196 342.316562)scale(0.1 -0.1)\">\r\n       <use xlink:href=\"#DejaVuSans-38\"/>\r\n       <use x=\"63.623047\" xlink:href=\"#DejaVuSans-30\"/>\r\n      </g>\r\n     </g>\r\n    </g>\r\n   </g>\r\n   <g id=\"matplotlib.axis_18\">\r\n    <g id=\"ytick_40\">\r\n     <g id=\"line2d_91\">\r\n      <g>\r\n       <use style=\"stroke:#000000;stroke-width:0.8;\" x=\"908.48875\" xlink:href=\"#m9e78a2e796\" y=\"327.718125\"/>\r\n      </g>\r\n     </g>\r\n     <g id=\"text_94\">\r\n      <!-- 0.00 -->\r\n      <g transform=\"translate(879.223125 331.517344)scale(0.1 -0.1)\">\r\n       <use xlink:href=\"#DejaVuSans-30\"/>\r\n       <use x=\"63.623047\" xlink:href=\"#DejaVuSans-2e\"/>\r\n       <use x=\"95.410156\" xlink:href=\"#DejaVuSans-30\"/>\r\n       <use x=\"159.033203\" xlink:href=\"#DejaVuSans-30\"/>\r\n      </g>\r\n     </g>\r\n    </g>\r\n    <g id=\"ytick_41\">\r\n     <g id=\"line2d_92\">\r\n      <g>\r\n       <use style=\"stroke:#000000;stroke-width:0.8;\" x=\"908.48875\" xlink:href=\"#m9e78a2e796\" y=\"291.3773\"/>\r\n      </g>\r\n     </g>\r\n     <g id=\"text_95\">\r\n      <!-- 0.01 -->\r\n      <g transform=\"translate(879.223125 295.176519)scale(0.1 -0.1)\">\r\n       <use xlink:href=\"#DejaVuSans-30\"/>\r\n       <use x=\"63.623047\" xlink:href=\"#DejaVuSans-2e\"/>\r\n       <use x=\"95.410156\" xlink:href=\"#DejaVuSans-30\"/>\r\n       <use x=\"159.033203\" xlink:href=\"#DejaVuSans-31\"/>\r\n      </g>\r\n     </g>\r\n    </g>\r\n    <g id=\"ytick_42\">\r\n     <g id=\"line2d_93\">\r\n      <g>\r\n       <use style=\"stroke:#000000;stroke-width:0.8;\" x=\"908.48875\" xlink:href=\"#m9e78a2e796\" y=\"255.036476\"/>\r\n      </g>\r\n     </g>\r\n     <g id=\"text_96\">\r\n      <!-- 0.02 -->\r\n      <g transform=\"translate(879.223125 258.835694)scale(0.1 -0.1)\">\r\n       <use xlink:href=\"#DejaVuSans-30\"/>\r\n       <use x=\"63.623047\" xlink:href=\"#DejaVuSans-2e\"/>\r\n       <use x=\"95.410156\" xlink:href=\"#DejaVuSans-30\"/>\r\n       <use x=\"159.033203\" xlink:href=\"#DejaVuSans-32\"/>\r\n      </g>\r\n     </g>\r\n    </g>\r\n    <g id=\"ytick_43\">\r\n     <g id=\"line2d_94\">\r\n      <g>\r\n       <use style=\"stroke:#000000;stroke-width:0.8;\" x=\"908.48875\" xlink:href=\"#m9e78a2e796\" y=\"218.695651\"/>\r\n      </g>\r\n     </g>\r\n     <g id=\"text_97\">\r\n      <!-- 0.03 -->\r\n      <g transform=\"translate(879.223125 222.49487)scale(0.1 -0.1)\">\r\n       <use xlink:href=\"#DejaVuSans-30\"/>\r\n       <use x=\"63.623047\" xlink:href=\"#DejaVuSans-2e\"/>\r\n       <use x=\"95.410156\" xlink:href=\"#DejaVuSans-30\"/>\r\n       <use x=\"159.033203\" xlink:href=\"#DejaVuSans-33\"/>\r\n      </g>\r\n     </g>\r\n    </g>\r\n   </g>\r\n   <g id=\"line2d_95\">\r\n    <path clip-path=\"url(#p88716386cc)\" d=\"M 918.980341 327.576733 \r\nL 923.198066 327.298133 \r\nL 926.36136 326.838577 \r\nL 928.470222 326.330315 \r\nL 930.579085 325.591522 \r\nL 932.687947 324.553149 \r\nL 934.79681 323.142718 \r\nL 936.905672 321.292406 \r\nL 939.014535 318.949834 \r\nL 941.123397 316.090455 \r\nL 943.23226 312.729659 \r\nL 945.341122 308.932073 \r\nL 948.504416 302.687884 \r\nL 952.722141 294.307665 \r\nL 954.831003 290.575702 \r\nL 956.939866 287.414711 \r\nL 957.994297 286.09527 \r\nL 959.048728 284.966473 \r\nL 960.10316 284.034596 \r\nL 961.157591 283.30062 \r\nL 962.212022 282.76018 \r\nL 963.266453 282.403704 \r\nL 964.320885 282.216765 \r\nL 965.375316 282.180607 \r\nL 967.484178 282.468261 \r\nL 969.593041 283.059279 \r\nL 972.756335 284.031475 \r\nL 974.865197 284.447807 \r\nL 976.97406 284.508397 \r\nL 978.028491 284.378932 \r\nL 980.137353 283.78434 \r\nL 982.246216 282.766489 \r\nL 984.355078 281.400206 \r\nL 987.518372 278.947648 \r\nL 991.736097 275.598064 \r\nL 993.844959 274.136075 \r\nL 995.953822 272.904482 \r\nL 998.062684 271.917491 \r\nL 1000.171547 271.146465 \r\nL 1004.389272 269.962606 \r\nL 1007.552566 268.99905 \r\nL 1009.661428 268.137754 \r\nL 1011.770291 267.021179 \r\nL 1013.879153 265.621359 \r\nL 1015.988016 263.951867 \r\nL 1019.151309 261.065976 \r\nL 1025.477897 255.070484 \r\nL 1027.586759 253.352405 \r\nL 1029.695622 251.882576 \r\nL 1031.804484 250.681285 \r\nL 1033.913347 249.738139 \r\nL 1036.022209 249.017043 \r\nL 1039.185503 248.229968 \r\nL 1046.566522 246.647662 \r\nL 1049.729816 245.639537 \r\nL 1051.838678 244.774102 \r\nL 1053.947541 243.742301 \r\nL 1057.110834 241.899708 \r\nL 1061.328559 239.045777 \r\nL 1065.546284 236.165705 \r\nL 1067.655147 234.943415 \r\nL 1069.764009 234.027993 \r\nL 1070.81844 233.729061 \r\nL 1071.872872 233.560546 \r\nL 1072.927303 233.541125 \r\nL 1073.981734 233.689224 \r\nL 1075.036165 234.022588 \r\nL 1076.090597 234.557819 \r\nL 1077.145028 235.309893 \r\nL 1078.199459 236.29167 \r\nL 1079.25389 237.513427 \r\nL 1080.308322 238.982416 \r\nL 1081.362753 240.702482 \r\nL 1082.417184 242.67375 \r\nL 1084.526047 247.350578 \r\nL 1086.634909 252.933735 \r\nL 1088.743772 259.281686 \r\nL 1091.907065 269.800514 \r\nL 1098.233653 291.440248 \r\nL 1100.342515 297.980089 \r\nL 1102.451378 303.886837 \r\nL 1104.56024 309.060002 \r\nL 1106.669103 313.454947 \r\nL 1108.777965 317.077788 \r\nL 1110.886828 319.975894 \r\nL 1112.99569 322.225928 \r\nL 1115.104553 323.921408 \r\nL 1117.213415 325.161426 \r\nL 1119.322278 326.041637 \r\nL 1121.43114 326.648026 \r\nL 1123.540003 327.053443 \r\nL 1126.703297 327.409137 \r\nL 1128.812159 327.539054 \r\nL 1128.812159 327.539054 \r\n\" style=\"fill:none;stroke:#1f77b4;stroke-linecap:square;stroke-width:1.5;\"/>\r\n   </g>\r\n   <g id=\"patch_199\">\r\n    <path d=\"M 908.48875 327.718125 \r\nL 908.48875 196.918125 \r\n\" style=\"fill:none;stroke:#000000;stroke-linecap:square;stroke-linejoin:miter;stroke-width:0.8;\"/>\r\n   </g>\r\n   <g id=\"patch_200\">\r\n    <path d=\"M 1139.30375 327.718125 \r\nL 1139.30375 196.918125 \r\n\" style=\"fill:none;stroke:#000000;stroke-linecap:square;stroke-linejoin:miter;stroke-width:0.8;\"/>\r\n   </g>\r\n   <g id=\"patch_201\">\r\n    <path d=\"M 908.48875 327.718125 \r\nL 1139.30375 327.718125 \r\n\" style=\"fill:none;stroke:#000000;stroke-linecap:square;stroke-linejoin:miter;stroke-width:0.8;\"/>\r\n   </g>\r\n   <g id=\"patch_202\">\r\n    <path d=\"M 908.48875 196.918125 \r\nL 1139.30375 196.918125 \r\n\" style=\"fill:none;stroke:#000000;stroke-linecap:square;stroke-linejoin:miter;stroke-width:0.8;\"/>\r\n   </g>\r\n   <g id=\"text_98\">\r\n    <!-- age -->\r\n    <g transform=\"translate(1012.718438 190.918125)scale(0.12 -0.12)\">\r\n     <defs>\r\n      <path d=\"M 2906 1791 \r\nQ 2906 2416 2648 2759 \r\nQ 2391 3103 1925 3103 \r\nQ 1463 3103 1205 2759 \r\nQ 947 2416 947 1791 \r\nQ 947 1169 1205 825 \r\nQ 1463 481 1925 481 \r\nQ 2391 481 2648 825 \r\nQ 2906 1169 2906 1791 \r\nz\r\nM 3481 434 \r\nQ 3481 -459 3084 -895 \r\nQ 2688 -1331 1869 -1331 \r\nQ 1566 -1331 1297 -1286 \r\nQ 1028 -1241 775 -1147 \r\nL 775 -588 \r\nQ 1028 -725 1275 -790 \r\nQ 1522 -856 1778 -856 \r\nQ 2344 -856 2625 -561 \r\nQ 2906 -266 2906 331 \r\nL 2906 616 \r\nQ 2728 306 2450 153 \r\nQ 2172 0 1784 0 \r\nQ 1141 0 747 490 \r\nQ 353 981 353 1791 \r\nQ 353 2603 747 3093 \r\nQ 1141 3584 1784 3584 \r\nQ 2172 3584 2450 3431 \r\nQ 2728 3278 2906 2969 \r\nL 2906 3500 \r\nL 3481 3500 \r\nL 3481 434 \r\nz\r\n\" id=\"DejaVuSans-67\" transform=\"scale(0.015625)\"/>\r\n     </defs>\r\n     <use xlink:href=\"#DejaVuSans-61\"/>\r\n     <use x=\"61.279297\" xlink:href=\"#DejaVuSans-67\"/>\r\n     <use x=\"124.755859\" xlink:href=\"#DejaVuSans-65\"/>\r\n    </g>\r\n   </g>\r\n  </g>\r\n  <g id=\"axes_10\">\r\n   <g id=\"patch_203\">\r\n    <path d=\"M 1194.60375 327.718125 \r\nL 1425.41875 327.718125 \r\nL 1425.41875 196.918125 \r\nL 1194.60375 196.918125 \r\nz\r\n\" style=\"fill:#ffffff;\"/>\r\n   </g>\r\n   <g id=\"patch_204\">\r\n    <path clip-path=\"url(#pd95f00918c)\" d=\"M 1194.60375 203.458125 \r\nL 1414.42756 203.458125 \r\nL 1414.42756 255.778125 \r\nL 1194.60375 255.778125 \r\nz\r\n\" style=\"fill:#3274a1;\"/>\r\n   </g>\r\n   <g id=\"patch_205\">\r\n    <path clip-path=\"url(#pd95f00918c)\" d=\"M 1194.60375 268.858125 \r\nL 1311.066695 268.858125 \r\nL 1311.066695 321.178125 \r\nL 1194.60375 321.178125 \r\nz\r\n\" style=\"fill:#e1812c;\"/>\r\n   </g>\r\n   <g id=\"matplotlib.axis_19\">\r\n    <g id=\"xtick_45\">\r\n     <g id=\"line2d_96\">\r\n      <g>\r\n       <use style=\"stroke:#000000;stroke-width:0.8;\" x=\"1194.60375\" xlink:href=\"#mfac484f1e3\" y=\"327.718125\"/>\r\n      </g>\r\n     </g>\r\n     <g id=\"text_99\">\r\n      <!-- 0 -->\r\n      <g transform=\"translate(1191.4225 342.316562)scale(0.1 -0.1)\">\r\n       <use xlink:href=\"#DejaVuSans-30\"/>\r\n      </g>\r\n     </g>\r\n    </g>\r\n    <g id=\"xtick_46\">\r\n     <g id=\"line2d_97\">\r\n      <g>\r\n       <use style=\"stroke:#000000;stroke-width:0.8;\" x=\"1230.99842\" xlink:href=\"#mfac484f1e3\" y=\"327.718125\"/>\r\n      </g>\r\n     </g>\r\n     <g id=\"text_100\">\r\n      <!-- 50 -->\r\n      <g transform=\"translate(1224.63592 342.316562)scale(0.1 -0.1)\">\r\n       <use xlink:href=\"#DejaVuSans-35\"/>\r\n       <use x=\"63.623047\" xlink:href=\"#DejaVuSans-30\"/>\r\n      </g>\r\n     </g>\r\n    </g>\r\n    <g id=\"xtick_47\">\r\n     <g id=\"line2d_98\">\r\n      <g>\r\n       <use style=\"stroke:#000000;stroke-width:0.8;\" x=\"1267.393091\" xlink:href=\"#mfac484f1e3\" y=\"327.718125\"/>\r\n      </g>\r\n     </g>\r\n     <g id=\"text_101\">\r\n      <!-- 100 -->\r\n      <g transform=\"translate(1257.849341 342.316562)scale(0.1 -0.1)\">\r\n       <use xlink:href=\"#DejaVuSans-31\"/>\r\n       <use x=\"63.623047\" xlink:href=\"#DejaVuSans-30\"/>\r\n       <use x=\"127.246094\" xlink:href=\"#DejaVuSans-30\"/>\r\n      </g>\r\n     </g>\r\n    </g>\r\n    <g id=\"xtick_48\">\r\n     <g id=\"line2d_99\">\r\n      <g>\r\n       <use style=\"stroke:#000000;stroke-width:0.8;\" x=\"1303.787761\" xlink:href=\"#mfac484f1e3\" y=\"327.718125\"/>\r\n      </g>\r\n     </g>\r\n     <g id=\"text_102\">\r\n      <!-- 150 -->\r\n      <g transform=\"translate(1294.244011 342.316562)scale(0.1 -0.1)\">\r\n       <use xlink:href=\"#DejaVuSans-31\"/>\r\n       <use x=\"63.623047\" xlink:href=\"#DejaVuSans-35\"/>\r\n       <use x=\"127.246094\" xlink:href=\"#DejaVuSans-30\"/>\r\n      </g>\r\n     </g>\r\n    </g>\r\n    <g id=\"xtick_49\">\r\n     <g id=\"line2d_100\">\r\n      <g>\r\n       <use style=\"stroke:#000000;stroke-width:0.8;\" x=\"1340.182432\" xlink:href=\"#mfac484f1e3\" y=\"327.718125\"/>\r\n      </g>\r\n     </g>\r\n     <g id=\"text_103\">\r\n      <!-- 200 -->\r\n      <g transform=\"translate(1330.638682 342.316562)scale(0.1 -0.1)\">\r\n       <use xlink:href=\"#DejaVuSans-32\"/>\r\n       <use x=\"63.623047\" xlink:href=\"#DejaVuSans-30\"/>\r\n       <use x=\"127.246094\" xlink:href=\"#DejaVuSans-30\"/>\r\n      </g>\r\n     </g>\r\n    </g>\r\n    <g id=\"xtick_50\">\r\n     <g id=\"line2d_101\">\r\n      <g>\r\n       <use style=\"stroke:#000000;stroke-width:0.8;\" x=\"1376.577102\" xlink:href=\"#mfac484f1e3\" y=\"327.718125\"/>\r\n      </g>\r\n     </g>\r\n     <g id=\"text_104\">\r\n      <!-- 250 -->\r\n      <g transform=\"translate(1367.033352 342.316562)scale(0.1 -0.1)\">\r\n       <use xlink:href=\"#DejaVuSans-32\"/>\r\n       <use x=\"63.623047\" xlink:href=\"#DejaVuSans-35\"/>\r\n       <use x=\"127.246094\" xlink:href=\"#DejaVuSans-30\"/>\r\n      </g>\r\n     </g>\r\n    </g>\r\n    <g id=\"xtick_51\">\r\n     <g id=\"line2d_102\">\r\n      <g>\r\n       <use style=\"stroke:#000000;stroke-width:0.8;\" x=\"1412.971773\" xlink:href=\"#mfac484f1e3\" y=\"327.718125\"/>\r\n      </g>\r\n     </g>\r\n     <g id=\"text_105\">\r\n      <!-- 300 -->\r\n      <g transform=\"translate(1403.428023 342.316562)scale(0.1 -0.1)\">\r\n       <use xlink:href=\"#DejaVuSans-33\"/>\r\n       <use x=\"63.623047\" xlink:href=\"#DejaVuSans-30\"/>\r\n       <use x=\"127.246094\" xlink:href=\"#DejaVuSans-30\"/>\r\n      </g>\r\n     </g>\r\n    </g>\r\n   </g>\r\n   <g id=\"matplotlib.axis_20\">\r\n    <g id=\"ytick_44\">\r\n     <g id=\"line2d_103\">\r\n      <g>\r\n       <use style=\"stroke:#000000;stroke-width:0.8;\" x=\"1194.60375\" xlink:href=\"#m9e78a2e796\" y=\"229.618125\"/>\r\n      </g>\r\n     </g>\r\n     <g id=\"text_106\">\r\n      <!-- 0 -->\r\n      <g transform=\"translate(1181.24125 233.417344)scale(0.1 -0.1)\">\r\n       <use xlink:href=\"#DejaVuSans-30\"/>\r\n      </g>\r\n     </g>\r\n    </g>\r\n    <g id=\"ytick_45\">\r\n     <g id=\"line2d_104\">\r\n      <g>\r\n       <use style=\"stroke:#000000;stroke-width:0.8;\" x=\"1194.60375\" xlink:href=\"#m9e78a2e796\" y=\"295.018125\"/>\r\n      </g>\r\n     </g>\r\n     <g id=\"text_107\">\r\n      <!-- 1 -->\r\n      <g transform=\"translate(1181.24125 298.817344)scale(0.1 -0.1)\">\r\n       <use xlink:href=\"#DejaVuSans-31\"/>\r\n      </g>\r\n     </g>\r\n    </g>\r\n   </g>\r\n   <g id=\"patch_206\">\r\n    <path d=\"M 1194.60375 327.718125 \r\nL 1194.60375 196.918125 \r\n\" style=\"fill:none;stroke:#000000;stroke-linecap:square;stroke-linejoin:miter;stroke-width:0.8;\"/>\r\n   </g>\r\n   <g id=\"patch_207\">\r\n    <path d=\"M 1425.41875 327.718125 \r\nL 1425.41875 196.918125 \r\n\" style=\"fill:none;stroke:#000000;stroke-linecap:square;stroke-linejoin:miter;stroke-width:0.8;\"/>\r\n   </g>\r\n   <g id=\"patch_208\">\r\n    <path d=\"M 1194.60375 327.718125 \r\nL 1425.41875 327.718125 \r\n\" style=\"fill:none;stroke:#000000;stroke-linecap:square;stroke-linejoin:miter;stroke-width:0.8;\"/>\r\n   </g>\r\n   <g id=\"patch_209\">\r\n    <path d=\"M 1194.60375 196.918125 \r\nL 1425.41875 196.918125 \r\n\" style=\"fill:none;stroke:#000000;stroke-linecap:square;stroke-linejoin:miter;stroke-width:0.8;\"/>\r\n   </g>\r\n   <g id=\"text_108\">\r\n    <!-- chd -->\r\n    <g transform=\"translate(1299.100625 190.918125)scale(0.12 -0.12)\">\r\n     <use xlink:href=\"#DejaVuSans-63\"/>\r\n     <use x=\"54.980469\" xlink:href=\"#DejaVuSans-68\"/>\r\n     <use x=\"118.359375\" xlink:href=\"#DejaVuSans-64\"/>\r\n    </g>\r\n   </g>\r\n  </g>\r\n </g>\r\n <defs>\r\n  <clipPath id=\"p759b2a21f2\">\r\n   <rect height=\"130.8\" width=\"230.815\" x=\"50.14375\" y=\"22.318125\"/>\r\n  </clipPath>\r\n  <clipPath id=\"pa62765b81b\">\r\n   <rect height=\"130.8\" width=\"230.815\" x=\"336.25875\" y=\"22.318125\"/>\r\n  </clipPath>\r\n  <clipPath id=\"pb7704dc495\">\r\n   <rect height=\"130.8\" width=\"230.815\" x=\"622.37375\" y=\"22.318125\"/>\r\n  </clipPath>\r\n  <clipPath id=\"p7a57b0bb11\">\r\n   <rect height=\"130.8\" width=\"230.815\" x=\"908.48875\" y=\"22.318125\"/>\r\n  </clipPath>\r\n  <clipPath id=\"p4dc330225a\">\r\n   <rect height=\"130.8\" width=\"230.815\" x=\"1194.60375\" y=\"22.318125\"/>\r\n  </clipPath>\r\n  <clipPath id=\"padd96111e0\">\r\n   <rect height=\"130.8\" width=\"230.815\" x=\"50.14375\" y=\"196.918125\"/>\r\n  </clipPath>\r\n  <clipPath id=\"p54f4e51ec1\">\r\n   <rect height=\"130.8\" width=\"230.815\" x=\"336.25875\" y=\"196.918125\"/>\r\n  </clipPath>\r\n  <clipPath id=\"p3f20d3b3e1\">\r\n   <rect height=\"130.8\" width=\"230.815\" x=\"622.37375\" y=\"196.918125\"/>\r\n  </clipPath>\r\n  <clipPath id=\"p88716386cc\">\r\n   <rect height=\"130.8\" width=\"230.815\" x=\"908.48875\" y=\"196.918125\"/>\r\n  </clipPath>\r\n  <clipPath id=\"pd95f00918c\">\r\n   <rect height=\"130.8\" width=\"230.815\" x=\"1194.60375\" y=\"196.918125\"/>\r\n  </clipPath>\r\n </defs>\r\n</svg>\r\n",
      "text/plain": [
       "<Figure size 1440x360 with 10 Axes>"
      ]
     },
     "metadata": {
      "needs_background": "light"
     },
     "output_type": "display_data"
    }
   ],
   "source": [
    "plt.figure(figsize = (20,5))\n",
    "for n, i in enumerate(df):\n",
    "    plt.subplot(2, 5, n+1)\n",
    "    if len(df[i].value_counts()) > 2:\n",
    "        sns.distplot(df[i])\n",
    "        plt.title(i)\n",
    "        plt.xlabel(\"\")\n",
    "        if n==0 or n==5:\n",
    "            plt.ylabel(\"Densidad\")\n",
    "        else:\n",
    "            plt.ylabel(\"\")\n",
    "    else:\n",
    "        sns.countplot(y=df[i])\n",
    "        plt.title(i)\n",
    "        plt.xlabel(\"\")\n",
    "        plt.ylabel(\"\")\n",
    "    plt.tight_layout()"
   ]
  },
  {
   "cell_type": "markdown",
   "metadata": {},
   "source": [
    "Se ve que para 'tobaco' y 'alcohol' los valores toman mayoritariamente valores bajos, por lo que se aprecia un sesgo hacia los valores bajos para estos datos"
   ]
  },
  {
   "cell_type": "code",
   "execution_count": 6,
   "metadata": {},
   "outputs": [
    {
     "data": {
      "text/html": [
       "<div>\n",
       "<style scoped>\n",
       "    .dataframe tbody tr th:only-of-type {\n",
       "        vertical-align: middle;\n",
       "    }\n",
       "\n",
       "    .dataframe tbody tr th {\n",
       "        vertical-align: top;\n",
       "    }\n",
       "\n",
       "    .dataframe thead th {\n",
       "        text-align: right;\n",
       "    }\n",
       "</style>\n",
       "<table border=\"1\" class=\"dataframe\">\n",
       "  <thead>\n",
       "    <tr style=\"text-align: right;\">\n",
       "      <th></th>\n",
       "      <th>sbp</th>\n",
       "      <th>tobacco</th>\n",
       "      <th>ldl</th>\n",
       "      <th>adiposity</th>\n",
       "      <th>typea</th>\n",
       "      <th>obesity</th>\n",
       "      <th>alcohol</th>\n",
       "      <th>age</th>\n",
       "      <th>chd</th>\n",
       "    </tr>\n",
       "  </thead>\n",
       "  <tbody>\n",
       "    <tr>\n",
       "      <th>count</th>\n",
       "      <td>462.000000</td>\n",
       "      <td>462.000000</td>\n",
       "      <td>462.000000</td>\n",
       "      <td>462.000000</td>\n",
       "      <td>462.000000</td>\n",
       "      <td>462.000000</td>\n",
       "      <td>462.000000</td>\n",
       "      <td>462.000000</td>\n",
       "      <td>462.000000</td>\n",
       "    </tr>\n",
       "    <tr>\n",
       "      <th>mean</th>\n",
       "      <td>138.326840</td>\n",
       "      <td>3.635649</td>\n",
       "      <td>4.740325</td>\n",
       "      <td>25.406732</td>\n",
       "      <td>53.103896</td>\n",
       "      <td>26.044113</td>\n",
       "      <td>17.044394</td>\n",
       "      <td>42.816017</td>\n",
       "      <td>0.346320</td>\n",
       "    </tr>\n",
       "    <tr>\n",
       "      <th>std</th>\n",
       "      <td>20.496317</td>\n",
       "      <td>4.593024</td>\n",
       "      <td>2.070909</td>\n",
       "      <td>7.780699</td>\n",
       "      <td>9.817534</td>\n",
       "      <td>4.213680</td>\n",
       "      <td>24.481059</td>\n",
       "      <td>14.608956</td>\n",
       "      <td>0.476313</td>\n",
       "    </tr>\n",
       "    <tr>\n",
       "      <th>min</th>\n",
       "      <td>101.000000</td>\n",
       "      <td>0.000000</td>\n",
       "      <td>0.980000</td>\n",
       "      <td>6.740000</td>\n",
       "      <td>13.000000</td>\n",
       "      <td>14.700000</td>\n",
       "      <td>0.000000</td>\n",
       "      <td>15.000000</td>\n",
       "      <td>0.000000</td>\n",
       "    </tr>\n",
       "    <tr>\n",
       "      <th>25%</th>\n",
       "      <td>124.000000</td>\n",
       "      <td>0.052500</td>\n",
       "      <td>3.282500</td>\n",
       "      <td>19.775000</td>\n",
       "      <td>47.000000</td>\n",
       "      <td>22.985000</td>\n",
       "      <td>0.510000</td>\n",
       "      <td>31.000000</td>\n",
       "      <td>0.000000</td>\n",
       "    </tr>\n",
       "    <tr>\n",
       "      <th>50%</th>\n",
       "      <td>134.000000</td>\n",
       "      <td>2.000000</td>\n",
       "      <td>4.340000</td>\n",
       "      <td>26.115000</td>\n",
       "      <td>53.000000</td>\n",
       "      <td>25.805000</td>\n",
       "      <td>7.510000</td>\n",
       "      <td>45.000000</td>\n",
       "      <td>0.000000</td>\n",
       "    </tr>\n",
       "    <tr>\n",
       "      <th>75%</th>\n",
       "      <td>148.000000</td>\n",
       "      <td>5.500000</td>\n",
       "      <td>5.790000</td>\n",
       "      <td>31.227500</td>\n",
       "      <td>60.000000</td>\n",
       "      <td>28.497500</td>\n",
       "      <td>23.892500</td>\n",
       "      <td>55.000000</td>\n",
       "      <td>1.000000</td>\n",
       "    </tr>\n",
       "    <tr>\n",
       "      <th>max</th>\n",
       "      <td>218.000000</td>\n",
       "      <td>31.200000</td>\n",
       "      <td>15.330000</td>\n",
       "      <td>42.490000</td>\n",
       "      <td>78.000000</td>\n",
       "      <td>46.580000</td>\n",
       "      <td>147.190000</td>\n",
       "      <td>64.000000</td>\n",
       "      <td>1.000000</td>\n",
       "    </tr>\n",
       "  </tbody>\n",
       "</table>\n",
       "</div>"
      ],
      "text/plain": [
       "              sbp     tobacco         ldl   adiposity       typea     obesity  \\\n",
       "count  462.000000  462.000000  462.000000  462.000000  462.000000  462.000000   \n",
       "mean   138.326840    3.635649    4.740325   25.406732   53.103896   26.044113   \n",
       "std     20.496317    4.593024    2.070909    7.780699    9.817534    4.213680   \n",
       "min    101.000000    0.000000    0.980000    6.740000   13.000000   14.700000   \n",
       "25%    124.000000    0.052500    3.282500   19.775000   47.000000   22.985000   \n",
       "50%    134.000000    2.000000    4.340000   26.115000   53.000000   25.805000   \n",
       "75%    148.000000    5.500000    5.790000   31.227500   60.000000   28.497500   \n",
       "max    218.000000   31.200000   15.330000   42.490000   78.000000   46.580000   \n",
       "\n",
       "          alcohol         age         chd  \n",
       "count  462.000000  462.000000  462.000000  \n",
       "mean    17.044394   42.816017    0.346320  \n",
       "std     24.481059   14.608956    0.476313  \n",
       "min      0.000000   15.000000    0.000000  \n",
       "25%      0.510000   31.000000    0.000000  \n",
       "50%      7.510000   45.000000    0.000000  \n",
       "75%     23.892500   55.000000    1.000000  \n",
       "max    147.190000   64.000000    1.000000  "
      ]
     },
     "execution_count": 6,
     "metadata": {},
     "output_type": "execute_result"
    }
   ],
   "source": [
    "df.describe()"
   ]
  },
  {
   "cell_type": "code",
   "execution_count": 7,
   "metadata": {},
   "outputs": [
    {
     "data": {
      "text/plain": [
       "Absent     0.584\n",
       "Present    0.416\n",
       "Name: famhist, dtype: float64"
      ]
     },
     "execution_count": 7,
     "metadata": {},
     "output_type": "execute_result"
    }
   ],
   "source": [
    "df[\"famhist\"].value_counts(\"%\").round(3)"
   ]
  },
  {
   "cell_type": "code",
   "execution_count": 8,
   "metadata": {},
   "outputs": [
    {
     "data": {
      "text/plain": [
       "0    0.654\n",
       "1    0.346\n",
       "Name: chd, dtype: float64"
      ]
     },
     "execution_count": 8,
     "metadata": {},
     "output_type": "execute_result"
    }
   ],
   "source": [
    "df[\"chd\"].value_counts(\"%\").round(3)"
   ]
  },
  {
   "cell_type": "markdown",
   "metadata": {},
   "source": [
    "<center><h2>Parte 2</h2></center>\n",
    "\n",
    "A continuación se presenta el siguiente modelo a estimar:\n",
    "\n",
    "$$\\log\\left(\\frac{\\text{Pr}(\\text{chd}=1)}{1-\\text{Pr}(\\text{chd}=1)} \\right)=\\beta_0+\\beta_1\\cdot\\text{famhist}$$\n",
    "\n",
    "Para ello ejecute los siguientes pasos:\n",
    "\n",
    "1. Recodifique `famhist` a dummy, asignando 1 a la categoría minoritaria."
   ]
  },
  {
   "cell_type": "code",
   "execution_count": 9,
   "metadata": {},
   "outputs": [],
   "source": [
    "df[\"binarize_famhist\"] = np.where(df[\"famhist\"] == \"Present\", 1, 0)"
   ]
  },
  {
   "cell_type": "markdown",
   "metadata": {},
   "source": [
    "2. Utilice `smf.logit` para estimar el modelo."
   ]
  },
  {
   "cell_type": "code",
   "execution_count": 10,
   "metadata": {},
   "outputs": [
    {
     "name": "stdout",
     "output_type": "stream",
     "text": [
      "Optimization terminated successfully.\n",
      "         Current function value: 0.608111\n",
      "         Iterations 5\n"
     ]
    }
   ],
   "source": [
    "m1_logit = smf.logit('chd ~ binarize_famhist', df).fit()\n",
    "#m1_logit"
   ]
  },
  {
   "cell_type": "markdown",
   "metadata": {},
   "source": [
    "3. Implemente una función `inverse_logit` que realice el mapeo de log-odds a probabilidad."
   ]
  },
  {
   "cell_type": "code",
   "execution_count": 11,
   "metadata": {},
   "outputs": [],
   "source": [
    "def inverse_logit(x):\n",
    "    ''' This function maps 'x' from log-odds to probability\n",
    "    :param x: value to inverse\n",
    "    :return: inverse logit value\n",
    "    '''\n",
    "    return 1/(1 + np.exp(-x))"
   ]
  },
  {
   "cell_type": "code",
   "execution_count": 12,
   "metadata": {},
   "outputs": [
    {
     "data": {
      "text/html": [
       "<table class=\"simpletable\">\n",
       "<tr>\n",
       "        <td>Model:</td>              <td>Logit</td>      <td>Pseudo R-squared:</td>    <td>0.057</td>  \n",
       "</tr>\n",
       "<tr>\n",
       "  <td>Dependent Variable:</td>        <td>chd</td>             <td>AIC:</td>         <td>565.8944</td> \n",
       "</tr>\n",
       "<tr>\n",
       "         <td>Date:</td>        <td>2021-05-27 21:21</td>       <td>BIC:</td>         <td>574.1655</td> \n",
       "</tr>\n",
       "<tr>\n",
       "   <td>No. Observations:</td>         <td>462</td>        <td>Log-Likelihood:</td>    <td>-280.95</td> \n",
       "</tr>\n",
       "<tr>\n",
       "       <td>Df Model:</td>              <td>1</td>            <td>LL-Null:</td>        <td>-298.05</td> \n",
       "</tr>\n",
       "<tr>\n",
       "     <td>Df Residuals:</td>           <td>460</td>         <td>LLR p-value:</td>    <td>4.9371e-09</td>\n",
       "</tr>\n",
       "<tr>\n",
       "      <td>Converged:</td>           <td>1.0000</td>           <td>Scale:</td>         <td>1.0000</td>  \n",
       "</tr>\n",
       "<tr>\n",
       "    <td>No. Iterations:</td>        <td>5.0000</td>              <td></td>               <td></td>     \n",
       "</tr>\n",
       "</table>\n",
       "<table class=\"simpletable\">\n",
       "<tr>\n",
       "          <td></td>          <th>Coef.</th>  <th>Std.Err.</th>    <th>z</th>     <th>P>|z|</th> <th>[0.025</th>  <th>0.975]</th> \n",
       "</tr>\n",
       "<tr>\n",
       "  <th>Intercept</th>        <td>-1.1690</td>  <td>0.1431</td>  <td>-8.1687</td> <td>0.0000</td> <td>-1.4495</td> <td>-0.8885</td>\n",
       "</tr>\n",
       "<tr>\n",
       "  <th>binarize_famhist</th> <td>1.1690</td>   <td>0.2033</td>  <td>5.7514</td>  <td>0.0000</td> <td>0.7706</td>  <td>1.5674</td> \n",
       "</tr>\n",
       "</table>"
      ],
      "text/plain": [
       "<class 'statsmodels.iolib.summary2.Summary'>\n",
       "\"\"\"\n",
       "                         Results: Logit\n",
       "=================================================================\n",
       "Model:              Logit            Pseudo R-squared: 0.057     \n",
       "Dependent Variable: chd              AIC:              565.8944  \n",
       "Date:               2021-05-27 21:21 BIC:              574.1655  \n",
       "No. Observations:   462              Log-Likelihood:   -280.95   \n",
       "Df Model:           1                LL-Null:          -298.05   \n",
       "Df Residuals:       460              LLR p-value:      4.9371e-09\n",
       "Converged:          1.0000           Scale:            1.0000    \n",
       "No. Iterations:     5.0000                                       \n",
       "-----------------------------------------------------------------\n",
       "                   Coef.  Std.Err.    z    P>|z|   [0.025  0.975]\n",
       "-----------------------------------------------------------------\n",
       "Intercept         -1.1690   0.1431 -8.1687 0.0000 -1.4495 -0.8885\n",
       "binarize_famhist   1.1690   0.2033  5.7514 0.0000  0.7706  1.5674\n",
       "=================================================================\n",
       "\n",
       "\"\"\""
      ]
     },
     "execution_count": 12,
     "metadata": {},
     "output_type": "execute_result"
    }
   ],
   "source": [
    "m1_logit.summary2()"
   ]
  },
  {
   "cell_type": "markdown",
   "metadata": {},
   "source": [
    "4. Con el modelo estimado, responda lo siguiente:"
   ]
  },
  {
   "cell_type": "code",
   "execution_count": 13,
   "metadata": {},
   "outputs": [],
   "source": [
    "intercepto = m1_logit.summary2().tables[1].loc[\"Intercept\"][\"Coef.\"]\n",
    "B1 = m1_logit.summary2().tables[1].loc[\"binarize_famhist\"][\"Coef.\"] \n",
    "estimate_0 = intercepto + (B1 * 0) \n",
    "estimate_1 = intercepto + (B1 * 1) "
   ]
  },
  {
   "cell_type": "code",
   "execution_count": 14,
   "metadata": {},
   "outputs": [
    {
     "data": {
      "text/plain": [
       "Coef.       1.168993e+00\n",
       "Std.Err.    2.032553e-01\n",
       "z           5.751355e+00\n",
       "P>|z|       8.853123e-09\n",
       "[0.025      7.706201e-01\n",
       "0.975]      1.567366e+00\n",
       "Name: binarize_famhist, dtype: float64"
      ]
     },
     "execution_count": 14,
     "metadata": {},
     "output_type": "execute_result"
    }
   ],
   "source": [
    "m1_logit.summary2().tables[1].loc[\"binarize_famhist\"]"
   ]
  },
  {
   "cell_type": "markdown",
   "metadata": {},
   "source": [
    "¿Cuál es la probabilidad de un individuo con antecedentes familiares de tener una enfermedad coronaria?"
   ]
  },
  {
   "cell_type": "code",
   "execution_count": 15,
   "metadata": {},
   "outputs": [
    {
     "name": "stdout",
     "output_type": "stream",
     "text": [
      "La probabilidad es: 0.237\n"
     ]
    }
   ],
   "source": [
    "print(f'La probabilidad es: {round(inverse_logit(estimate_0),3)}')"
   ]
  },
  {
   "cell_type": "markdown",
   "metadata": {},
   "source": [
    "¿Cuál es la probabilidad de un individuo sin antecedentes familiares de tener una enfermedad coronaria?"
   ]
  },
  {
   "cell_type": "code",
   "execution_count": 16,
   "metadata": {},
   "outputs": [
    {
     "name": "stdout",
     "output_type": "stream",
     "text": [
      "La probabilidad es: 0.5\n"
     ]
    }
   ],
   "source": [
    "print(f'La probabilidad es: {round(inverse_logit(estimate_1),3)}')"
   ]
  },
  {
   "cell_type": "markdown",
   "metadata": {},
   "source": [
    "¿Cuál es la diferencia en la probabilidad entre un individuo con antecedentes y otro sin antecedentes?"
   ]
  },
  {
   "cell_type": "code",
   "execution_count": 17,
   "metadata": {},
   "outputs": [
    {
     "name": "stdout",
     "output_type": "stream",
     "text": [
      "La diferencia en la probabilidad es: 0.263\n"
     ]
    }
   ],
   "source": [
    "diferencia = inverse_logit(estimate_1) - inverse_logit(estimate_0)\n",
    "print(f'La diferencia en la probabilidad es: {round(diferencia,3)}')"
   ]
  },
  {
   "cell_type": "markdown",
   "metadata": {},
   "source": [
    "Replique el modelo con [smf.ols] y comente las similitudes entre los coeficientes estimados. **Tip:** Utilice $\\beta/4$"
   ]
  },
  {
   "cell_type": "code",
   "execution_count": 18,
   "metadata": {},
   "outputs": [
    {
     "data": {
      "text/html": [
       "<table class=\"simpletable\">\n",
       "<tr>\n",
       "        <td>Model:</td>               <td>OLS</td>         <td>Adj. R-squared:</td>     <td>0.072</td> \n",
       "</tr>\n",
       "<tr>\n",
       "  <td>Dependent Variable:</td>        <td>chd</td>              <td>AIC:</td>         <td>593.1725</td>\n",
       "</tr>\n",
       "<tr>\n",
       "         <td>Date:</td>        <td>2021-05-27 21:21</td>        <td>BIC:</td>         <td>601.4437</td>\n",
       "</tr>\n",
       "<tr>\n",
       "   <td>No. Observations:</td>         <td>462</td>         <td>Log-Likelihood:</td>    <td>-294.59</td>\n",
       "</tr>\n",
       "<tr>\n",
       "       <td>Df Model:</td>              <td>1</td>           <td>F-statistic:</td>       <td>36.86</td> \n",
       "</tr>\n",
       "<tr>\n",
       "     <td>Df Residuals:</td>           <td>460</td>       <td>Prob (F-statistic):</td> <td>2.66e-09</td>\n",
       "</tr>\n",
       "<tr>\n",
       "      <td>R-squared:</td>            <td>0.074</td>            <td>Scale:</td>         <td>0.21050</td>\n",
       "</tr>\n",
       "</table>\n",
       "<table class=\"simpletable\">\n",
       "<tr>\n",
       "          <td></td>          <th>Coef.</th> <th>Std.Err.</th>    <th>t</th>    <th>P>|t|</th> <th>[0.025</th> <th>0.975]</th>\n",
       "</tr>\n",
       "<tr>\n",
       "  <th>Intercept</th>        <td>0.2370</td>  <td>0.0279</td>  <td>8.4893</td> <td>0.0000</td> <td>0.1822</td> <td>0.2919</td>\n",
       "</tr>\n",
       "<tr>\n",
       "  <th>binarize_famhist</th> <td>0.2630</td>  <td>0.0433</td>  <td>6.0713</td> <td>0.0000</td> <td>0.1778</td> <td>0.3481</td>\n",
       "</tr>\n",
       "</table>\n",
       "<table class=\"simpletable\">\n",
       "<tr>\n",
       "     <td>Omnibus:</td>    <td>768.898</td>  <td>Durbin-Watson:</td>    <td>1.961</td>\n",
       "</tr>\n",
       "<tr>\n",
       "  <td>Prob(Omnibus):</td>  <td>0.000</td>  <td>Jarque-Bera (JB):</td> <td>58.778</td>\n",
       "</tr>\n",
       "<tr>\n",
       "       <td>Skew:</td>      <td>0.579</td>      <td>Prob(JB):</td>      <td>0.000</td>\n",
       "</tr>\n",
       "<tr>\n",
       "     <td>Kurtosis:</td>    <td>1.692</td>   <td>Condition No.:</td>      <td>2</td>  \n",
       "</tr>\n",
       "</table>"
      ],
      "text/plain": [
       "<class 'statsmodels.iolib.summary2.Summary'>\n",
       "\"\"\"\n",
       "                 Results: Ordinary least squares\n",
       "=================================================================\n",
       "Model:              OLS              Adj. R-squared:     0.072   \n",
       "Dependent Variable: chd              AIC:                593.1725\n",
       "Date:               2021-05-27 21:21 BIC:                601.4437\n",
       "No. Observations:   462              Log-Likelihood:     -294.59 \n",
       "Df Model:           1                F-statistic:        36.86   \n",
       "Df Residuals:       460              Prob (F-statistic): 2.66e-09\n",
       "R-squared:          0.074            Scale:              0.21050 \n",
       "------------------------------------------------------------------\n",
       "                  Coef.   Std.Err.    t     P>|t|   [0.025  0.975]\n",
       "------------------------------------------------------------------\n",
       "Intercept         0.2370    0.0279  8.4893  0.0000  0.1822  0.2919\n",
       "binarize_famhist  0.2630    0.0433  6.0713  0.0000  0.1778  0.3481\n",
       "-----------------------------------------------------------------\n",
       "Omnibus:             768.898       Durbin-Watson:          1.961 \n",
       "Prob(Omnibus):       0.000         Jarque-Bera (JB):       58.778\n",
       "Skew:                0.579         Prob(JB):               0.000 \n",
       "Kurtosis:            1.692         Condition No.:          2     \n",
       "=================================================================\n",
       "\n",
       "\"\"\""
      ]
     },
     "execution_count": 18,
     "metadata": {},
     "output_type": "execute_result"
    }
   ],
   "source": [
    "modelo_ols = smf.ols('chd ~ binarize_famhist', df).fit()\n",
    "modelo_ols.summary2()"
   ]
  },
  {
   "cell_type": "code",
   "execution_count": 19,
   "metadata": {},
   "outputs": [],
   "source": [
    "intercepto_ols = modelo_ols.summary2().tables[1].loc[\"Intercept\"][\"Coef.\"]\n",
    "B1_ols = modelo_ols.summary2().tables[1].loc[\"binarize_famhist\"][\"Coef.\"] \n",
    "estimate_ols_0 = intercepto_ols + (B1_ols * 0)\n",
    "estimate_ols_1 = intercepto_ols + (B1_ols * 1)"
   ]
  },
  {
   "cell_type": "code",
   "execution_count": 20,
   "metadata": {},
   "outputs": [
    {
     "data": {
      "text/plain": [
       "0.237"
      ]
     },
     "execution_count": 20,
     "metadata": {},
     "output_type": "execute_result"
    }
   ],
   "source": [
    "round(estimate_ols_0,3)"
   ]
  },
  {
   "cell_type": "code",
   "execution_count": 21,
   "metadata": {},
   "outputs": [
    {
     "data": {
      "text/plain": [
       "0.5"
      ]
     },
     "execution_count": 21,
     "metadata": {},
     "output_type": "execute_result"
    }
   ],
   "source": [
    "round(estimate_ols_1,3)"
   ]
  },
  {
   "cell_type": "code",
   "execution_count": 22,
   "metadata": {},
   "outputs": [
    {
     "name": "stdout",
     "output_type": "stream",
     "text": [
      "0.2922482713574773\n",
      "0.26296296296296257\n"
     ]
    }
   ],
   "source": [
    "#B1\n",
    "print(B1/4)\n",
    "print(B1_ols)"
   ]
  },
  {
   "cell_type": "markdown",
   "metadata": {},
   "source": [
    "<center><h2>Parte 3: Estimación completa</h2></center>\n",
    "\n",
    "Implemente un modelo con la siguiente forma:\n",
    "\n",
    "$$\\log\\left(\\frac{\\text{Pr}(\\text{chd}=1)}{1-\\text{Pr}(\\text{chd}=1)} \\right)=\\beta_0+\\sum^N_{j=1}\\beta_1\\cdot X$$\n",
    "\n",
    "- Depure el modelo manteniendo las variables con significancia estadística al 95%.\n",
    "- Compare los estadísticos de bondad de ajuste entre ambos.\n",
    "- Reporte de forma sucinta el efecto de las variables en el log-odds de tener una enfermedad coronaria."
   ]
  },
  {
   "cell_type": "code",
   "execution_count": 23,
   "metadata": {},
   "outputs": [],
   "source": [
    "for i in df:\n",
    "    if df[i].dtype == np.float64 or df[i].dtype == np.int64:\n",
    "        media = df[i].dropna().mean(); var = df[i].dropna().var()\n",
    "        df[f\"z_{i}\"] = (df[i] - media)/var"
   ]
  },
  {
   "cell_type": "code",
   "execution_count": 24,
   "metadata": {},
   "outputs": [
    {
     "name": "stdout",
     "output_type": "stream",
     "text": [
      "Optimization terminated successfully.\n",
      "         Current function value: 0.510974\n",
      "         Iterations 6\n"
     ]
    },
    {
     "data": {
      "text/html": [
       "<table class=\"simpletable\">\n",
       "<caption>Logit Regression Results</caption>\n",
       "<tr>\n",
       "  <th>Dep. Variable:</th>          <td>chd</td>       <th>  No. Observations:  </th>  <td>   462</td>  \n",
       "</tr>\n",
       "<tr>\n",
       "  <th>Model:</th>                 <td>Logit</td>      <th>  Df Residuals:      </th>  <td>   452</td>  \n",
       "</tr>\n",
       "<tr>\n",
       "  <th>Method:</th>                 <td>MLE</td>       <th>  Df Model:          </th>  <td>     9</td>  \n",
       "</tr>\n",
       "<tr>\n",
       "  <th>Date:</th>            <td>Thu, 27 May 2021</td> <th>  Pseudo R-squ.:     </th>  <td>0.2080</td>  \n",
       "</tr>\n",
       "<tr>\n",
       "  <th>Time:</th>                <td>21:21:22</td>     <th>  Log-Likelihood:    </th> <td> -236.07</td> \n",
       "</tr>\n",
       "<tr>\n",
       "  <th>converged:</th>             <td>True</td>       <th>  LL-Null:           </th> <td> -298.05</td> \n",
       "</tr>\n",
       "<tr>\n",
       "  <th>Covariance Type:</th>     <td>nonrobust</td>    <th>  LLR p-value:       </th> <td>2.055e-22</td>\n",
       "</tr>\n",
       "</table>\n",
       "<table class=\"simpletable\">\n",
       "<tr>\n",
       "          <td></td>            <th>coef</th>     <th>std err</th>      <th>z</th>      <th>P>|z|</th>  <th>[0.025</th>    <th>0.975]</th>  \n",
       "</tr>\n",
       "<tr>\n",
       "  <th>Intercept</th>        <td>   -1.2631</td> <td>    0.165</td> <td>   -7.646</td> <td> 0.000</td> <td>   -1.587</td> <td>   -0.939</td>\n",
       "</tr>\n",
       "<tr>\n",
       "  <th>z_sbp</th>            <td>    2.7323</td> <td>    2.407</td> <td>    1.135</td> <td> 0.256</td> <td>   -1.986</td> <td>    7.451</td>\n",
       "</tr>\n",
       "<tr>\n",
       "  <th>z_tobacco</th>        <td>    1.6745</td> <td>    0.561</td> <td>    2.984</td> <td> 0.003</td> <td>    0.575</td> <td>    2.774</td>\n",
       "</tr>\n",
       "<tr>\n",
       "  <th>z_ldl</th>            <td>    0.7459</td> <td>    0.256</td> <td>    2.915</td> <td> 0.004</td> <td>    0.244</td> <td>    1.247</td>\n",
       "</tr>\n",
       "<tr>\n",
       "  <th>z_adiposity</th>      <td>    1.1252</td> <td>    1.773</td> <td>    0.635</td> <td> 0.526</td> <td>   -2.350</td> <td>    4.601</td>\n",
       "</tr>\n",
       "<tr>\n",
       "  <th>binarize_famhist</th> <td>    0.9254</td> <td>    0.228</td> <td>    4.061</td> <td> 0.000</td> <td>    0.479</td> <td>    1.372</td>\n",
       "</tr>\n",
       "<tr>\n",
       "  <th>z_typea</th>          <td>    3.8163</td> <td>    1.187</td> <td>    3.214</td> <td> 0.001</td> <td>    1.489</td> <td>    6.144</td>\n",
       "</tr>\n",
       "<tr>\n",
       "  <th>z_obesity</th>        <td>   -1.1170</td> <td>    0.786</td> <td>   -1.422</td> <td> 0.155</td> <td>   -2.657</td> <td>    0.423</td>\n",
       "</tr>\n",
       "<tr>\n",
       "  <th>z_alcohol</th>        <td>    0.0729</td> <td>    2.687</td> <td>    0.027</td> <td> 0.978</td> <td>   -5.193</td> <td>    5.339</td>\n",
       "</tr>\n",
       "<tr>\n",
       "  <th>z_age</th>            <td>    9.6521</td> <td>    2.589</td> <td>    3.728</td> <td> 0.000</td> <td>    4.578</td> <td>   14.726</td>\n",
       "</tr>\n",
       "</table>"
      ],
      "text/plain": [
       "<class 'statsmodels.iolib.summary.Summary'>\n",
       "\"\"\"\n",
       "                           Logit Regression Results                           \n",
       "==============================================================================\n",
       "Dep. Variable:                    chd   No. Observations:                  462\n",
       "Model:                          Logit   Df Residuals:                      452\n",
       "Method:                           MLE   Df Model:                            9\n",
       "Date:                Thu, 27 May 2021   Pseudo R-squ.:                  0.2080\n",
       "Time:                        21:21:22   Log-Likelihood:                -236.07\n",
       "converged:                       True   LL-Null:                       -298.05\n",
       "Covariance Type:            nonrobust   LLR p-value:                 2.055e-22\n",
       "====================================================================================\n",
       "                       coef    std err          z      P>|z|      [0.025      0.975]\n",
       "------------------------------------------------------------------------------------\n",
       "Intercept           -1.2631      0.165     -7.646      0.000      -1.587      -0.939\n",
       "z_sbp                2.7323      2.407      1.135      0.256      -1.986       7.451\n",
       "z_tobacco            1.6745      0.561      2.984      0.003       0.575       2.774\n",
       "z_ldl                0.7459      0.256      2.915      0.004       0.244       1.247\n",
       "z_adiposity          1.1252      1.773      0.635      0.526      -2.350       4.601\n",
       "binarize_famhist     0.9254      0.228      4.061      0.000       0.479       1.372\n",
       "z_typea              3.8163      1.187      3.214      0.001       1.489       6.144\n",
       "z_obesity           -1.1170      0.786     -1.422      0.155      -2.657       0.423\n",
       "z_alcohol            0.0729      2.687      0.027      0.978      -5.193       5.339\n",
       "z_age                9.6521      2.589      3.728      0.000       4.578      14.726\n",
       "====================================================================================\n",
       "\"\"\""
      ]
     },
     "execution_count": 24,
     "metadata": {},
     "output_type": "execute_result"
    }
   ],
   "source": [
    "mtotal_test_logit = smf.logit('chd ~ z_sbp + z_tobacco + z_ldl + z_adiposity + binarize_famhist + z_typea + z_obesity + z_alcohol + z_age', df).fit()\n",
    "mtotal_test_logit.summary()"
   ]
  },
  {
   "cell_type": "markdown",
   "metadata": {},
   "source": [
    "Los valores de $P> \\lvert z \\rvert$ menores a 0.05 se presentan en 'tobacco', 'ldl', 'famhist', 'typea' y 'age'.\n",
    "\n",
    "Por lo tanto usamos estos para entrenar el modelo."
   ]
  },
  {
   "cell_type": "code",
   "execution_count": 25,
   "metadata": {},
   "outputs": [
    {
     "name": "stdout",
     "output_type": "stream",
     "text": [
      "Optimization terminated successfully.\n",
      "         Current function value: 0.514811\n",
      "         Iterations 6\n"
     ]
    }
   ],
   "source": [
    "mtotal_logit = smf.logit('chd ~ z_tobacco + z_ldl + binarize_famhist + z_typea + z_age', df).fit()"
   ]
  },
  {
   "cell_type": "code",
   "execution_count": 26,
   "metadata": {},
   "outputs": [
    {
     "data": {
      "text/html": [
       "<table class=\"simpletable\">\n",
       "<caption>Logit Regression Results</caption>\n",
       "<tr>\n",
       "  <th>Dep. Variable:</th>          <td>chd</td>       <th>  No. Observations:  </th>  <td>   462</td>  \n",
       "</tr>\n",
       "<tr>\n",
       "  <th>Model:</th>                 <td>Logit</td>      <th>  Df Residuals:      </th>  <td>   456</td>  \n",
       "</tr>\n",
       "<tr>\n",
       "  <th>Method:</th>                 <td>MLE</td>       <th>  Df Model:          </th>  <td>     5</td>  \n",
       "</tr>\n",
       "<tr>\n",
       "  <th>Date:</th>            <td>Thu, 27 May 2021</td> <th>  Pseudo R-squ.:     </th>  <td>0.2020</td>  \n",
       "</tr>\n",
       "<tr>\n",
       "  <th>Time:</th>                <td>21:21:22</td>     <th>  Log-Likelihood:    </th> <td> -237.84</td> \n",
       "</tr>\n",
       "<tr>\n",
       "  <th>converged:</th>             <td>True</td>       <th>  LL-Null:           </th> <td> -298.05</td> \n",
       "</tr>\n",
       "<tr>\n",
       "  <th>Covariance Type:</th>     <td>nonrobust</td>    <th>  LLR p-value:       </th> <td>2.554e-24</td>\n",
       "</tr>\n",
       "</table>\n",
       "<table class=\"simpletable\">\n",
       "<tr>\n",
       "          <td></td>            <th>coef</th>     <th>std err</th>      <th>z</th>      <th>P>|z|</th>  <th>[0.025</th>    <th>0.975]</th>  \n",
       "</tr>\n",
       "<tr>\n",
       "  <th>Intercept</th>        <td>   -1.2549</td> <td>    0.165</td> <td>   -7.622</td> <td> 0.000</td> <td>   -1.578</td> <td>   -0.932</td>\n",
       "</tr>\n",
       "<tr>\n",
       "  <th>z_tobacco</th>        <td>    1.6956</td> <td>    0.546</td> <td>    3.106</td> <td> 0.002</td> <td>    0.626</td> <td>    2.766</td>\n",
       "</tr>\n",
       "<tr>\n",
       "  <th>z_ldl</th>            <td>    0.6947</td> <td>    0.236</td> <td>    2.947</td> <td> 0.003</td> <td>    0.233</td> <td>    1.157</td>\n",
       "</tr>\n",
       "<tr>\n",
       "  <th>binarize_famhist</th> <td>    0.9082</td> <td>    0.226</td> <td>    4.023</td> <td> 0.000</td> <td>    0.466</td> <td>    1.351</td>\n",
       "</tr>\n",
       "<tr>\n",
       "  <th>z_typea</th>          <td>    3.5773</td> <td>    1.173</td> <td>    3.051</td> <td> 0.002</td> <td>    1.279</td> <td>    5.876</td>\n",
       "</tr>\n",
       "<tr>\n",
       "  <th>z_age</th>            <td>   10.7693</td> <td>    2.178</td> <td>    4.944</td> <td> 0.000</td> <td>    6.500</td> <td>   15.039</td>\n",
       "</tr>\n",
       "</table>"
      ],
      "text/plain": [
       "<class 'statsmodels.iolib.summary.Summary'>\n",
       "\"\"\"\n",
       "                           Logit Regression Results                           \n",
       "==============================================================================\n",
       "Dep. Variable:                    chd   No. Observations:                  462\n",
       "Model:                          Logit   Df Residuals:                      456\n",
       "Method:                           MLE   Df Model:                            5\n",
       "Date:                Thu, 27 May 2021   Pseudo R-squ.:                  0.2020\n",
       "Time:                        21:21:22   Log-Likelihood:                -237.84\n",
       "converged:                       True   LL-Null:                       -298.05\n",
       "Covariance Type:            nonrobust   LLR p-value:                 2.554e-24\n",
       "====================================================================================\n",
       "                       coef    std err          z      P>|z|      [0.025      0.975]\n",
       "------------------------------------------------------------------------------------\n",
       "Intercept           -1.2549      0.165     -7.622      0.000      -1.578      -0.932\n",
       "z_tobacco            1.6956      0.546      3.106      0.002       0.626       2.766\n",
       "z_ldl                0.6947      0.236      2.947      0.003       0.233       1.157\n",
       "binarize_famhist     0.9082      0.226      4.023      0.000       0.466       1.351\n",
       "z_typea              3.5773      1.173      3.051      0.002       1.279       5.876\n",
       "z_age               10.7693      2.178      4.944      0.000       6.500      15.039\n",
       "====================================================================================\n",
       "\"\"\""
      ]
     },
     "execution_count": 26,
     "metadata": {},
     "output_type": "execute_result"
    }
   ],
   "source": [
    "mtotal_logit.summary()"
   ]
  },
  {
   "cell_type": "code",
   "execution_count": 27,
   "metadata": {},
   "outputs": [
    {
     "name": "stdout",
     "output_type": "stream",
     "text": [
      "El pseudo R2 de m1 es 0.057\n",
      "El pseudo R2 de mtotal es 0.202\n"
     ]
    }
   ],
   "source": [
    "R2_m1 = float(m1_logit.summary2().tables[0][3][0])\n",
    "R2_mtotal = float(mtotal_logit.summary2().tables[0][3][0])\n",
    "print(\"El pseudo R2 de m1 es \" + str(R2_m1))\n",
    "print(\"El pseudo R2 de mtotal es \" + str(R2_mtotal)) "
   ]
  },
  {
   "cell_type": "markdown",
   "metadata": {},
   "source": [
    "Como se ve, al usar la totalidad de los datos aumento el R2, aunque esto es algo esperado, al ser grande el cambio podemos interpretar que usar solo famhist para hacer la prediccion no es un buen parametro para categorizar toda la regresion, es mejor seguir explorando para ver cuales son los mejores predictores para el modelo."
   ]
  },
  {
   "cell_type": "code",
   "execution_count": 28,
   "metadata": {},
   "outputs": [],
   "source": [
    "def concise_summary(mod, print_fit=True):\n",
    "    ''' Print a consice summary of an fitted model\n",
    "    :param mod: fitted model\n",
    "    :param print_fit: if True show the 'Goodness of Fit statistics'\n",
    "    :type print_fit: Boolean\n",
    "    '''\n",
    "    fit = pd.DataFrame({'Statistics': mod.summary2().tables[0][2][2:], 'Value': mod.summary2().tables[0][3][2:]})\n",
    "    estimates = pd.DataFrame(mod.summary2().tables[1].loc[:, 'Coef.': 'Std.Err.'])\n",
    "    if print_fit is True:\n",
    "        print(\"\\nGoodness of Fit statistics\\n\", fit)\n",
    "    print(\"\\nPoint Estimates\\n\\n\", estimates)"
   ]
  },
  {
   "cell_type": "code",
   "execution_count": 29,
   "metadata": {},
   "outputs": [
    {
     "name": "stdout",
     "output_type": "stream",
     "text": [
      "\n",
      "Goodness of Fit statistics\n",
      "         Statistics       Value\n",
      "2             BIC:    512.4990\n",
      "3  Log-Likelihood:     -237.84\n",
      "4         LL-Null:     -298.05\n",
      "5     LLR p-value:  2.5537e-24\n",
      "6           Scale:      1.0000\n",
      "7                             \n",
      "\n",
      "Point Estimates\n",
      "\n",
      "                       Coef.  Std.Err.\n",
      "Intercept         -1.254860  0.164645\n",
      "z_tobacco          1.695587  0.545954\n",
      "z_ldl              0.694728  0.235743\n",
      "binarize_famhist   0.908175  0.225758\n",
      "z_typea            3.577312  1.172681\n",
      "z_age             10.769336  2.178194\n"
     ]
    }
   ],
   "source": [
    "concise_summary(mtotal_logit)"
   ]
  },
  {
   "cell_type": "code",
   "execution_count": 30,
   "metadata": {},
   "outputs": [
    {
     "name": "stdout",
     "output_type": "stream",
     "text": [
      "\n",
      "Goodness of Fit statistics\n",
      "         Statistics       Value\n",
      "2             BIC:    574.1655\n",
      "3  Log-Likelihood:     -280.95\n",
      "4         LL-Null:     -298.05\n",
      "5     LLR p-value:  4.9371e-09\n",
      "6           Scale:      1.0000\n",
      "7                             \n",
      "\n",
      "Point Estimates\n",
      "\n",
      "                      Coef.  Std.Err.\n",
      "Intercept        -1.168993  0.143106\n",
      "binarize_famhist  1.168993  0.203255\n"
     ]
    }
   ],
   "source": [
    "concise_summary(m1_logit)"
   ]
  },
  {
   "cell_type": "markdown",
   "metadata": {},
   "source": [
    "<center><h2>Parte 4: Estimación de perfiles</h2></center>\n",
    "\n",
    "A partir del modelo depurado, genere las estimaciones en log-odds y posteriormente transfórmelas a probabilidades con `inverse_logit`. Los perfiles a estimar son los siguientes:\n",
    "- La probabilidad de tener una enfermedad coronaria para un individuo con características similares a la muestra.\n",
    "- La probabilidad de tener una enfermedad coronaria para un individuo con altos niveles de lipoproteína de baja densidad, **manteniendo todas las demás características constantes**.\n",
    "- La probabilidad de tener una enfermedad coronaria para un individuo con bajos niveles de lipoproteína de baja densidad, **manteniendo todas las demás características constantes**.\n"
   ]
  },
  {
   "cell_type": "code",
   "execution_count": 31,
   "metadata": {},
   "outputs": [],
   "source": [
    "#variables = [\"tobacco\", \"ldl\", \"binarize_famhist\", \"typea\", \"age\"]\n",
    "intercepto = mtotal_logit.summary2().tables[1].loc[\"Intercept\"][\"Coef.\"]\n",
    "\n",
    "B1_mtotal = mtotal_logit.summary2().tables[1].loc[\"z_tobacco\"][\"Coef.\"] \n",
    "B2_mtotal = mtotal_logit.summary2().tables[1].loc[\"z_ldl\"][\"Coef.\"]     \n",
    "B3_mtotal = mtotal_logit.summary2().tables[1].loc[\"binarize_famhist\"][\"Coef.\"] \n",
    "B4_mtotal = mtotal_logit.summary2().tables[1].loc[\"z_typea\"][\"Coef.\"] \n",
    "B5_mtotal = mtotal_logit.summary2().tables[1].loc[\"z_age\"][\"Coef.\"]"
   ]
  },
  {
   "cell_type": "code",
   "execution_count": 32,
   "metadata": {},
   "outputs": [],
   "source": [
    "estimate_multiple = intercepto + (B1_mtotal * df[\"z_tobacco\"].mean())+ (B2_mtotal * df[\"z_ldl\"].mean())+ (B3_mtotal * df[\"binarize_famhist\"].mean())+ (B4_mtotal * df[\"z_typea\"].mean())+ (B5_mtotal * df[\"z_age\"].mean())"
   ]
  },
  {
   "cell_type": "code",
   "execution_count": 33,
   "metadata": {},
   "outputs": [
    {
     "name": "stdout",
     "output_type": "stream",
     "text": [
      "La probabilidad de tener una enfermedad coronaria para un individuo con características similares a la muestra es 0.294\n"
     ]
    }
   ],
   "source": [
    "print('La probabilidad de tener una enfermedad coronaria para un individuo con características similares a la muestra es',round(inverse_logit(estimate_multiple),3))"
   ]
  },
  {
   "cell_type": "code",
   "execution_count": 34,
   "metadata": {},
   "outputs": [],
   "source": [
    "lbl_25 = df[\"z_ldl\"].quantile(0.25)\n",
    "lbl_75 = df[\"z_ldl\"].quantile(0.75)\n",
    "estimate_multiple_lbl_75 = intercepto + (B1_mtotal * df[\"z_tobacco\"].mean())+ (B2_mtotal * lbl_75)+ (B3_mtotal * df[\"binarize_famhist\"].mean())+ (B4_mtotal * df[\"z_typea\"].mean())+ (B5_mtotal * df[\"z_age\"].mean())"
   ]
  },
  {
   "cell_type": "code",
   "execution_count": 35,
   "metadata": {},
   "outputs": [
    {
     "name": "stdout",
     "output_type": "stream",
     "text": [
      "La probabilidad de tener una enfermedad coronaria para un individuo con \u001b[1m altos niveles \u001b[0m de lipoproteína de baja densidad, anteniendo todas las demás características constantes es de 0.33\n"
     ]
    }
   ],
   "source": [
    "print('La probabilidad de tener una enfermedad coronaria para un individuo con','\\033[1m','altos niveles','\\033[0m','de lipoproteína de baja densidad, anteniendo todas las demás características constantes es de', round(inverse_logit(estimate_multiple_lbl_75),3))"
   ]
  },
  {
   "cell_type": "code",
   "execution_count": 36,
   "metadata": {},
   "outputs": [],
   "source": [
    " estimate_multiple_lbl_25 = intercepto + (B1_mtotal * df[\"z_tobacco\"].mean())+ (B2_mtotal * lbl_25)+ (B3_mtotal * df[\"binarize_famhist\"].mean())+ (B4_mtotal * df[\"z_typea\"].mean())+ (B5_mtotal * df[\"z_age\"].mean())"
   ]
  },
  {
   "cell_type": "code",
   "execution_count": 37,
   "metadata": {},
   "outputs": [
    {
     "name": "stdout",
     "output_type": "stream",
     "text": [
      "La probabilidad de tener una enfermedad coronaria para un individuo con \u001b[1m bajos niveles \u001b[0m de lipoproteína de baja densidad, anteniendo todas las demás características constantes es de 0.247\n"
     ]
    }
   ],
   "source": [
    "print('La probabilidad de tener una enfermedad coronaria para un individuo con','\\033[1m','bajos niveles','\\033[0m','de lipoproteína de baja densidad, anteniendo todas las demás características constantes es de', round(inverse_logit(estimate_multiple_lbl_25),3))"
   ]
  },
  {
   "cell_type": "markdown",
   "metadata": {},
   "source": [
    "Como podemos ver, al tener altos niveles de lbl aumenta la probabilidad de tener un enfermedad coronaria."
   ]
  }
 ],
 "metadata": {
  "kernelspec": {
   "display_name": "Python 3.10.7 ('Main_Env': venv)",
   "language": "python",
   "name": "python3"
  },
  "language_info": {
   "codemirror_mode": {
    "name": "ipython",
    "version": 3
   },
   "file_extension": ".py",
   "mimetype": "text/x-python",
   "name": "python",
   "nbconvert_exporter": "python",
   "pygments_lexer": "ipython3",
   "version": "3.10.7"
  },
  "metadata": {
   "interpreter": {
    "hash": "44268d54e3d297ea5efeba9399b7d0ee615e792d8c00419f445511b7ccdcf875"
   }
  },
  "orig_nbformat": 2,
  "vscode": {
   "interpreter": {
    "hash": "e58db24aeb15404de452b61cb6b7f82500847aea9e8b711fa4b39e78b91ad058"
   }
  }
 },
 "nbformat": 4,
 "nbformat_minor": 2
}

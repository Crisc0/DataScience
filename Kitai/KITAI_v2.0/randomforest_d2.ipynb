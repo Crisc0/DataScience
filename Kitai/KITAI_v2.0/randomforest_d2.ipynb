{
 "cells": [
  {
   "cell_type": "code",
   "execution_count": 1,
   "metadata": {},
   "outputs": [],
   "source": [
    "import pandas as pd\n",
    "import numpy as np\n",
    "from sklearn import datasets\n",
    "from sklearn import metrics\n",
    "from sklearn.ensemble import RandomForestClassifier\n",
    "from sklearn.tree import DecisionTreeClassifier\n",
    "from sklearn.tree import DecisionTreeRegressor\n",
    "from sklearn.model_selection import train_test_split\n",
    "from sklearn.metrics import mean_squared_error\n",
    "from sklearn.metrics import r2_score\n",
    "from sklearn.model_selection import cross_validate\n",
    "from sklearn.metrics import roc_curve,auc\n",
    "from sklearn.metrics import RocCurveDisplay\n",
    "import matplotlib.pyplot as plt\n",
    "import matplotlib.pyplot as plt\n",
    "import seaborn as sns\n",
    "import cv2 as cv\n",
    "import pickle\n"
   ]
  },
  {
   "cell_type": "code",
   "execution_count": 16,
   "metadata": {},
   "outputs": [
    {
     "name": "stdout",
     "output_type": "stream",
     "text": [
      "1.1.2\n"
     ]
    }
   ],
   "source": [
    "import sklearn\n",
    "print(sklearn.__version__)"
   ]
  },
  {
   "cell_type": "code",
   "execution_count": 2,
   "metadata": {},
   "outputs": [
    {
     "ename": "",
     "evalue": "",
     "output_type": "error",
     "traceback": [
      "\u001b[1;31mEl Kernel se bloqueó al ejecutar código en la celda actual o en una celda anterior. Revise el código de las celdas para identificar una posible causa del error. Haga clic <a href='https://aka.ms/vscodeJupyterKernelCrash'>aquí</a> para obtener más información. Vea el [registro] de Jupyter (command:jupyter.viewOutput) para obtener más detalles."
     ]
    }
   ],
   "source": [
    "test=pd.read_csv('KITAI_Dataset_2/test/_annotations.csv')\n",
    "train=pd.read_csv('KITAI_Dataset_2/train/_annotations.csv')\n",
    "valid=pd.read_csv('KITAI_Dataset_2/valid/_annotations.csv')"
   ]
  },
  {
   "cell_type": "code",
   "execution_count": 4,
   "metadata": {},
   "outputs": [
    {
     "data": {
      "text/html": [
       "<div>\n",
       "<style scoped>\n",
       "    .dataframe tbody tr th:only-of-type {\n",
       "        vertical-align: middle;\n",
       "    }\n",
       "\n",
       "    .dataframe tbody tr th {\n",
       "        vertical-align: top;\n",
       "    }\n",
       "\n",
       "    .dataframe thead th {\n",
       "        text-align: right;\n",
       "    }\n",
       "</style>\n",
       "<table border=\"1\" class=\"dataframe\">\n",
       "  <thead>\n",
       "    <tr style=\"text-align: right;\">\n",
       "      <th></th>\n",
       "      <th>filename</th>\n",
       "      <th>width</th>\n",
       "      <th>height</th>\n",
       "      <th>class</th>\n",
       "      <th>xmin</th>\n",
       "      <th>ymin</th>\n",
       "      <th>xmax</th>\n",
       "      <th>ymax</th>\n",
       "    </tr>\n",
       "  </thead>\n",
       "  <tbody>\n",
       "    <tr>\n",
       "      <th>0</th>\n",
       "      <td>Tincion_Cut_Training_mp4-31_jpg.rf.5b3d92b5d2e...</td>\n",
       "      <td>1920</td>\n",
       "      <td>1080</td>\n",
       "      <td>cyanobacteria</td>\n",
       "      <td>8</td>\n",
       "      <td>243</td>\n",
       "      <td>68</td>\n",
       "      <td>303</td>\n",
       "    </tr>\n",
       "    <tr>\n",
       "      <th>1</th>\n",
       "      <td>Tincion_Cut_Training_mp4-31_jpg.rf.5b3d92b5d2e...</td>\n",
       "      <td>1920</td>\n",
       "      <td>1080</td>\n",
       "      <td>cumulus</td>\n",
       "      <td>561</td>\n",
       "      <td>253</td>\n",
       "      <td>696</td>\n",
       "      <td>350</td>\n",
       "    </tr>\n",
       "    <tr>\n",
       "      <th>2</th>\n",
       "      <td>Tincion_Cut_Training_mp4-31_jpg.rf.5b3d92b5d2e...</td>\n",
       "      <td>1920</td>\n",
       "      <td>1080</td>\n",
       "      <td>cyanobacteria</td>\n",
       "      <td>1226</td>\n",
       "      <td>338</td>\n",
       "      <td>1355</td>\n",
       "      <td>455</td>\n",
       "    </tr>\n",
       "    <tr>\n",
       "      <th>3</th>\n",
       "      <td>Tincion_Cut_Training_mp4-31_jpg.rf.5b3d92b5d2e...</td>\n",
       "      <td>1920</td>\n",
       "      <td>1080</td>\n",
       "      <td>cyanobacteria</td>\n",
       "      <td>358</td>\n",
       "      <td>913</td>\n",
       "      <td>446</td>\n",
       "      <td>995</td>\n",
       "    </tr>\n",
       "    <tr>\n",
       "      <th>4</th>\n",
       "      <td>Tincion_Cut_Training_mp4-31_jpg.rf.5b3d92b5d2e...</td>\n",
       "      <td>1920</td>\n",
       "      <td>1080</td>\n",
       "      <td>cyanobacteria</td>\n",
       "      <td>21</td>\n",
       "      <td>975</td>\n",
       "      <td>106</td>\n",
       "      <td>1053</td>\n",
       "    </tr>\n",
       "    <tr>\n",
       "      <th>...</th>\n",
       "      <td>...</td>\n",
       "      <td>...</td>\n",
       "      <td>...</td>\n",
       "      <td>...</td>\n",
       "      <td>...</td>\n",
       "      <td>...</td>\n",
       "      <td>...</td>\n",
       "      <td>...</td>\n",
       "    </tr>\n",
       "    <tr>\n",
       "      <th>163</th>\n",
       "      <td>Tincion_Cut_Training_mp4-97_jpg.rf.bd6821d7b4e...</td>\n",
       "      <td>1920</td>\n",
       "      <td>1080</td>\n",
       "      <td>cyanobacteria</td>\n",
       "      <td>149</td>\n",
       "      <td>807</td>\n",
       "      <td>269</td>\n",
       "      <td>914</td>\n",
       "    </tr>\n",
       "    <tr>\n",
       "      <th>164</th>\n",
       "      <td>Tincion_Cut_Training_mp4-97_jpg.rf.bd6821d7b4e...</td>\n",
       "      <td>1920</td>\n",
       "      <td>1080</td>\n",
       "      <td>cumulus</td>\n",
       "      <td>274</td>\n",
       "      <td>818</td>\n",
       "      <td>391</td>\n",
       "      <td>920</td>\n",
       "    </tr>\n",
       "    <tr>\n",
       "      <th>165</th>\n",
       "      <td>Tincion_Cut_Training_mp4-97_jpg.rf.bd6821d7b4e...</td>\n",
       "      <td>1920</td>\n",
       "      <td>1080</td>\n",
       "      <td>cyanobacteria</td>\n",
       "      <td>311</td>\n",
       "      <td>18</td>\n",
       "      <td>375</td>\n",
       "      <td>77</td>\n",
       "    </tr>\n",
       "    <tr>\n",
       "      <th>166</th>\n",
       "      <td>Tincion_Cut_Training_mp4-97_jpg.rf.bd6821d7b4e...</td>\n",
       "      <td>1920</td>\n",
       "      <td>1080</td>\n",
       "      <td>cyanobacteria</td>\n",
       "      <td>518</td>\n",
       "      <td>334</td>\n",
       "      <td>599</td>\n",
       "      <td>405</td>\n",
       "    </tr>\n",
       "    <tr>\n",
       "      <th>167</th>\n",
       "      <td>Tincion_Cut_Training_mp4-97_jpg.rf.bd6821d7b4e...</td>\n",
       "      <td>1920</td>\n",
       "      <td>1080</td>\n",
       "      <td>cumulus</td>\n",
       "      <td>1529</td>\n",
       "      <td>989</td>\n",
       "      <td>1638</td>\n",
       "      <td>1079</td>\n",
       "    </tr>\n",
       "  </tbody>\n",
       "</table>\n",
       "<p>168 rows × 8 columns</p>\n",
       "</div>"
      ],
      "text/plain": [
       "                                              filename  width  height  \\\n",
       "0    Tincion_Cut_Training_mp4-31_jpg.rf.5b3d92b5d2e...   1920    1080   \n",
       "1    Tincion_Cut_Training_mp4-31_jpg.rf.5b3d92b5d2e...   1920    1080   \n",
       "2    Tincion_Cut_Training_mp4-31_jpg.rf.5b3d92b5d2e...   1920    1080   \n",
       "3    Tincion_Cut_Training_mp4-31_jpg.rf.5b3d92b5d2e...   1920    1080   \n",
       "4    Tincion_Cut_Training_mp4-31_jpg.rf.5b3d92b5d2e...   1920    1080   \n",
       "..                                                 ...    ...     ...   \n",
       "163  Tincion_Cut_Training_mp4-97_jpg.rf.bd6821d7b4e...   1920    1080   \n",
       "164  Tincion_Cut_Training_mp4-97_jpg.rf.bd6821d7b4e...   1920    1080   \n",
       "165  Tincion_Cut_Training_mp4-97_jpg.rf.bd6821d7b4e...   1920    1080   \n",
       "166  Tincion_Cut_Training_mp4-97_jpg.rf.bd6821d7b4e...   1920    1080   \n",
       "167  Tincion_Cut_Training_mp4-97_jpg.rf.bd6821d7b4e...   1920    1080   \n",
       "\n",
       "             class  xmin  ymin  xmax  ymax  \n",
       "0    cyanobacteria     8   243    68   303  \n",
       "1          cumulus   561   253   696   350  \n",
       "2    cyanobacteria  1226   338  1355   455  \n",
       "3    cyanobacteria   358   913   446   995  \n",
       "4    cyanobacteria    21   975   106  1053  \n",
       "..             ...   ...   ...   ...   ...  \n",
       "163  cyanobacteria   149   807   269   914  \n",
       "164        cumulus   274   818   391   920  \n",
       "165  cyanobacteria   311    18   375    77  \n",
       "166  cyanobacteria   518   334   599   405  \n",
       "167        cumulus  1529   989  1638  1079  \n",
       "\n",
       "[168 rows x 8 columns]"
      ]
     },
     "execution_count": 4,
     "metadata": {},
     "output_type": "execute_result"
    }
   ],
   "source": [
    "test"
   ]
  },
  {
   "cell_type": "code",
   "execution_count": 5,
   "metadata": {},
   "outputs": [],
   "source": [
    "def crop_image (image_path, xmin, xmax, ymin, ymax):\n",
    "        im=cv.imread(image_path)\n",
    "        crop_img=im[ymin:ymax, xmin:xmax]\n",
    "        resize= cv.resize(crop_img, (10,10),interpolation=cv.INTER_AREA).flatten()\n",
    "        return resize.tolist()"
   ]
  },
  {
   "cell_type": "code",
   "execution_count": 6,
   "metadata": {},
   "outputs": [],
   "source": [
    "X_test=[]\n",
    "Y_test=[]\n",
    "for index,row in test.iterrows():\n",
    "    X_test.append(crop_image('KITAI_Dataset_2/test/'+str(row['filename']),row['xmin'],row['xmax'],row['ymin'],row['ymax']))\n",
    "    if row['class']=='cyanobacteria':\n",
    "        Y_test.append(0)\n",
    "    else:\n",
    "        Y_test.append(1)"
   ]
  },
  {
   "cell_type": "code",
   "execution_count": 7,
   "metadata": {},
   "outputs": [],
   "source": [
    "X_train=[]\n",
    "Y_train=[]\n",
    "for index,row in train.iterrows():\n",
    "    try:\n",
    "        X_train.append(crop_image('KITAI_Dataset_2/train/'+str(row['filename']),row['xmin'],row['xmax'],row['ymin'],row['ymax']))\n",
    "        if row['class']=='cyanobacteria':\n",
    "            Y_train.append(0)\n",
    "        else:\n",
    "            Y_train.append(1)\n",
    "    except:\n",
    "        pass"
   ]
  },
  {
   "cell_type": "code",
   "execution_count": 8,
   "metadata": {},
   "outputs": [],
   "source": [
    "X_valid=[]\n",
    "Y_valid=[]\n",
    "for index,row in valid.iterrows():\n",
    "    try:\n",
    "        X_valid.append(crop_image('KITAI_Dataset_2/valid/'+str(row['filename']),row['xmin'],row['xmax'],row['ymin'],row['ymax']))\n",
    "        if row['class']=='cyanobacteria':\n",
    "            Y_valid.append(0)\n",
    "        else:\n",
    "            Y_valid.append(1)\n",
    "    except:\n",
    "        pass"
   ]
  },
  {
   "cell_type": "code",
   "execution_count": 9,
   "metadata": {},
   "outputs": [],
   "source": [
    "X_test=np.array(X_test)\n",
    "Y_test=np.array(Y_test)\n",
    "X_train=np.array(X_train)\n",
    "Y_train=np.array(Y_train)\n",
    "X_valid=np.array(X_valid)\n",
    "Y_valid=np.array(Y_valid)"
   ]
  },
  {
   "cell_type": "code",
   "execution_count": 10,
   "metadata": {},
   "outputs": [
    {
     "name": "stdout",
     "output_type": "stream",
     "text": [
      "RandomForestClassifier()\n"
     ]
    }
   ],
   "source": [
    "model = RandomForestClassifier()\n",
    "model.fit(X_train, Y_train)\n",
    "print(model)"
   ]
  },
  {
   "cell_type": "code",
   "execution_count": 11,
   "metadata": {},
   "outputs": [
    {
     "data": {
      "text/plain": [
       "array([0, 1, 0, 0, 0, 0, 0, 1, 1, 1, 0, 0, 1, 0, 0, 0, 0, 0, 0, 0, 0, 1,\n",
       "       0, 0, 0, 0, 0, 0, 0, 0, 0, 0, 0, 0, 0, 0, 0, 0, 0, 1, 0, 0, 0, 0,\n",
       "       0, 0, 0, 1, 0, 0, 0, 0, 0, 0, 0, 0, 0, 0, 0, 0, 0, 1, 1, 0, 0, 0,\n",
       "       0, 0, 0, 0, 1, 0, 0, 0, 0, 0, 0, 0, 0, 0, 0, 0, 0, 0, 0, 0, 0, 0,\n",
       "       0, 0, 0, 1, 1, 0, 0, 0, 0, 1, 1, 0, 0, 0, 0, 0, 1, 0, 0, 0, 0, 0,\n",
       "       0, 0, 0, 0, 0, 0, 0, 0, 0, 0, 0, 0, 0, 1, 0, 0, 1, 1, 0, 0, 0, 0,\n",
       "       0, 0, 0, 0, 0, 0, 1, 0, 1, 0, 0, 0, 0, 0, 0, 0, 0, 0, 0, 0, 0, 0,\n",
       "       0, 0, 0, 0, 1, 0, 0, 1, 0, 0, 1, 0, 0, 1])"
      ]
     },
     "execution_count": 11,
     "metadata": {},
     "output_type": "execute_result"
    }
   ],
   "source": [
    "saved_model = pickle.dumps(model)\n",
    "  \n",
    "# Load the pickled model\n",
    "rf_from_pickle = pickle.loads(saved_model)\n",
    "  \n",
    "# Use the loaded pickled model to make predictions\n",
    "rf_from_pickle.predict(X_test)"
   ]
  },
  {
   "cell_type": "code",
   "execution_count": 12,
   "metadata": {},
   "outputs": [],
   "source": [
    "from joblib import Parallel, delayed\n",
    "import joblib"
   ]
  },
  {
   "cell_type": "code",
   "execution_count": 13,
   "metadata": {},
   "outputs": [
    {
     "data": {
      "text/plain": [
       "array([0, 1, 0, 0, 0, 0, 0, 1, 1, 1, 0, 0, 1, 0, 0, 0, 0, 0, 0, 0, 0, 1,\n",
       "       0, 0, 0, 0, 0, 0, 0, 0, 0, 0, 0, 0, 0, 0, 0, 0, 0, 1, 0, 0, 0, 0,\n",
       "       0, 0, 0, 1, 0, 0, 0, 0, 0, 0, 0, 0, 0, 0, 0, 0, 0, 1, 1, 0, 0, 0,\n",
       "       0, 0, 0, 0, 1, 0, 0, 0, 0, 0, 0, 0, 0, 0, 0, 0, 0, 0, 0, 0, 0, 0,\n",
       "       0, 0, 0, 1, 1, 0, 0, 0, 0, 1, 1, 0, 0, 0, 0, 0, 1, 0, 0, 0, 0, 0,\n",
       "       0, 0, 0, 0, 0, 0, 0, 0, 0, 0, 0, 0, 0, 1, 0, 0, 1, 1, 0, 0, 0, 0,\n",
       "       0, 0, 0, 0, 0, 0, 1, 0, 1, 0, 0, 0, 0, 0, 0, 0, 0, 0, 0, 0, 0, 0,\n",
       "       0, 0, 0, 0, 1, 0, 0, 1, 0, 0, 1, 0, 0, 1])"
      ]
     },
     "execution_count": 13,
     "metadata": {},
     "output_type": "execute_result"
    }
   ],
   "source": [
    "# Save the model as a pickle in a file\n",
    "joblib.dump(model, 'random_forest.pkl')\n",
    "  \n",
    "# Load the model from the file\n",
    "rf_from_joblib = joblib.load('random_forest.pkl')\n",
    "  \n",
    "# Use the loaded model to make predictions\n",
    "rf_from_joblib.predict(X_test)"
   ]
  },
  {
   "cell_type": "code",
   "execution_count": 14,
   "metadata": {},
   "outputs": [
    {
     "name": "stderr",
     "output_type": "stream",
     "text": [
      "python: can't open file 'c:\\\\Users\\\\ccana\\\\Documents\\\\Kitai\\\\KITAI_v2.0\\\\convert_weight.py': [Errno 2] No such file or directory\n"
     ]
    }
   ],
   "source": [
    "!python convert_weight.py --repo ~/stylegan2 stylegan2-ffhq-config-f.pkl"
   ]
  },
  {
   "cell_type": "code",
   "execution_count": 13,
   "metadata": {},
   "outputs": [],
   "source": [
    "expected_y  = Y_test\n",
    "predicted_y = model.predict(X_test)"
   ]
  },
  {
   "cell_type": "code",
   "execution_count": 14,
   "metadata": {},
   "outputs": [
    {
     "name": "stdout",
     "output_type": "stream",
     "text": [
      "              precision    recall  f1-score   support\n",
      "\n",
      "           0       0.97      0.99      0.98       142\n",
      "           1       0.92      0.85      0.88        26\n",
      "\n",
      "    accuracy                           0.96       168\n",
      "   macro avg       0.94      0.92      0.93       168\n",
      "weighted avg       0.96      0.96      0.96       168\n",
      "\n",
      "[[140   2]\n",
      " [  4  22]]\n"
     ]
    }
   ],
   "source": [
    "print(metrics.classification_report(expected_y, predicted_y))\n",
    "print(metrics.confusion_matrix(expected_y, predicted_y))"
   ]
  },
  {
   "cell_type": "code",
   "execution_count": 15,
   "metadata": {},
   "outputs": [
    {
     "name": "stdout",
     "output_type": "stream",
     "text": [
      "RMSE DT: 0.1889822365046136\n",
      "R2 DT: 0.7269772481040087\n"
     ]
    },
    {
     "name": "stderr",
     "output_type": "stream",
     "text": [
      "C:\\Users\\ccana\\AppData\\Local\\Packages\\PythonSoftwareFoundation.Python.3.10_qbz5n2kfra8p0\\LocalCache\\local-packages\\Python310\\site-packages\\sklearn\\model_selection\\_split.py:684: UserWarning: The least populated class in y has only 26 members, which is less than n_splits=100.\n",
      "  warnings.warn(\n"
     ]
    },
    {
     "name": "stdout",
     "output_type": "stream",
     "text": [
      "The accuracy is (cross validation*100):  95.5 %\n"
     ]
    }
   ],
   "source": [
    "print(\"RMSE DT:\",np.sqrt(mean_squared_error(Y_test, predicted_y)))\n",
    "print(\"R2 DT:\",r2_score(Y_test, predicted_y))\n",
    "predictions = np.mean(cross_validate(model,X_test,Y_test,cv=100)['test_score'])\n",
    "print('The accuracy is (cross validation*100): ',predictions*100,'%')"
   ]
  },
  {
   "cell_type": "code",
   "execution_count": 16,
   "metadata": {},
   "outputs": [
    {
     "data": {
      "image/png": "[encoded data removed]",
      "text/plain": [
       "<Figure size 640x480 with 1 Axes>"
      ]
     },
     "metadata": {},
     "output_type": "display_data"
    }
   ],
   "source": [
    "fpr, tpr, _ = roc_curve(Y_test, predicted_y)\n",
    "roc_pls = RocCurveDisplay(fpr=fpr, tpr=tpr, roc_auc=auc(fpr, tpr))\n",
    "roc_pls.plot()\n",
    "plt.show()"
   ]
  },
  {
   "cell_type": "code",
   "execution_count": 17,
   "metadata": {},
   "outputs": [],
   "source": [
    "y_valid=model.predict(X_valid)"
   ]
  },
  {
   "cell_type": "code",
   "execution_count": 18,
   "metadata": {},
   "outputs": [
    {
     "name": "stdout",
     "output_type": "stream",
     "text": [
      "              precision    recall  f1-score   support\n",
      "\n",
      "           0       0.96      0.98      0.97       234\n",
      "           1       0.94      0.87      0.90        69\n",
      "\n",
      "    accuracy                           0.96       303\n",
      "   macro avg       0.95      0.93      0.94       303\n",
      "weighted avg       0.96      0.96      0.96       303\n",
      "\n",
      "[[230   4]\n",
      " [  9  60]]\n"
     ]
    }
   ],
   "source": [
    "print(metrics.classification_report(Y_valid,y_valid))\n",
    "print(metrics.confusion_matrix(Y_valid, y_valid))"
   ]
  },
  {
   "cell_type": "code",
   "execution_count": 19,
   "metadata": {},
   "outputs": [
    {
     "name": "stdout",
     "output_type": "stream",
     "text": [
      "RMSE DT: 0.20713350870644495\n",
      "R2 DT: 0.7560386473429952\n"
     ]
    },
    {
     "name": "stderr",
     "output_type": "stream",
     "text": [
      "C:\\Users\\ccana\\AppData\\Local\\Packages\\PythonSoftwareFoundation.Python.3.10_qbz5n2kfra8p0\\LocalCache\\local-packages\\Python310\\site-packages\\sklearn\\model_selection\\_split.py:684: UserWarning: The least populated class in y has only 69 members, which is less than n_splits=100.\n",
      "  warnings.warn(\n"
     ]
    },
    {
     "name": "stdout",
     "output_type": "stream",
     "text": [
      "Cross Validation: 0.9366666666666668\n",
      "The accuracy is:  93.66666666666667 %\n"
     ]
    }
   ],
   "source": [
    "print(\"RMSE DT:\",np.sqrt(mean_squared_error(Y_valid, y_valid)))\n",
    "print(\"R2 DT:\",r2_score(Y_valid, y_valid))\n",
    "predictions = np.mean(cross_validate(model,X_valid,Y_valid,cv=100)['test_score'])\n",
    "print('Cross Validation:', predictions)\n",
    "print('The accuracy is: ',predictions*100,'%')"
   ]
  },
  {
   "cell_type": "code",
   "execution_count": 20,
   "metadata": {},
   "outputs": [
    {
     "data": {
      "image/png": "[encoded data removed]",
      "text/plain": [
       "<Figure size 640x480 with 1 Axes>"
      ]
     },
     "metadata": {},
     "output_type": "display_data"
    }
   ],
   "source": [
    "fpr, tpr, _ = roc_curve(Y_valid, y_valid)\n",
    "roc_pls = RocCurveDisplay(fpr=fpr, tpr=tpr, roc_auc=auc(fpr, tpr))\n",
    "roc_pls.plot()\n",
    "plt.show()"
   ]
  },
  {
   "cell_type": "code",
   "execution_count": 21,
   "metadata": {},
   "outputs": [
    {
     "data": {
      "image/png": "[encoded data removed]",
      "text/plain": [
       "<Figure size 640x480 with 1 Axes>"
      ]
     },
     "metadata": {},
     "output_type": "display_data"
    }
   ],
   "source": [
    "y_pred_list= predicted_y.tolist()\n",
    "Y_test_list=Y_test.tolist()\n",
    "\n",
    "labels = ['Cyanobacteria', 'Other']\n",
    "predicted = [y_pred_list.count(0),y_pred_list.count(1)]\n",
    "real=[Y_test_list.count(0),Y_test_list.count(1)]\n",
    "\n",
    "x = np.arange(len(labels))  # the label locations\n",
    "width = 0.2  # the width of the bars\n",
    "\n",
    "fig, ax = plt.subplots()\n",
    "rects1 = ax.bar(x - width/2, predicted, width, label='Predicted')\n",
    "rects2 = ax.bar(x + width/2, real, width, label='Real')\n",
    "\n",
    "# Add some text for labels, title and custom x-axis tick labels, etc.\n",
    "ax.set_ylabel('Count')\n",
    "ax.set_title('Number of cyanobacteria Test')\n",
    "ax.set_xticks(x, labels)\n",
    "ax.legend()\n",
    "\n",
    "ax.bar_label(rects1, padding=3)\n",
    "ax.bar_label(rects2, padding=3)\n",
    "\n",
    "fig.tight_layout()\n",
    "\n",
    "plt.show()"
   ]
  },
  {
   "cell_type": "code",
   "execution_count": 22,
   "metadata": {},
   "outputs": [
    {
     "data": {
      "image/png": "[encoded data removed]",
      "text/plain": [
       "<Figure size 640x480 with 1 Axes>"
      ]
     },
     "metadata": {},
     "output_type": "display_data"
    }
   ],
   "source": [
    "y_valid_list= y_valid.tolist()\n",
    "Y_valid_list=Y_valid.tolist()\n",
    "\n",
    "labels = ['Cyanobacteria', 'Other']\n",
    "predicted_v = [y_valid_list.count(0),y_valid_list.count(1)]\n",
    "real_v=[Y_valid_list.count(0),Y_valid_list.count(1)]\n",
    "\n",
    "x = np.arange(len(labels))  # the label locations\n",
    "width = 0.2  # the width of the bars\n",
    "\n",
    "fig, ax = plt.subplots()\n",
    "rects1 = ax.bar(x - width/2, predicted_v, width, label='Predicted')\n",
    "rects2 = ax.bar(x + width/2, real_v, width, label='Real')\n",
    "\n",
    "# Add some text for labels, title and custom x-axis tick labels, etc.\n",
    "ax.set_ylabel('Count')\n",
    "ax.set_title('Number of cyanobacteria Validation')\n",
    "ax.set_xticks(x, labels)\n",
    "ax.legend()\n",
    "\n",
    "ax.bar_label(rects1, padding=3)\n",
    "ax.bar_label(rects2, padding=3)\n",
    "\n",
    "fig.tight_layout()\n",
    "\n",
    "plt.show()"
   ]
  }
 ],
 "metadata": {
  "kernelspec": {
   "display_name": "Python 3.10.8 64-bit (microsoft store)",
   "language": "python",
   "name": "python3"
  },
  "language_info": {
   "codemirror_mode": {
    "name": "ipython",
    "version": 3
   },
   "file_extension": ".py",
   "mimetype": "text/x-python",
   "name": "python",
   "nbconvert_exporter": "python",
   "pygments_lexer": "ipython3",
   "version": "3.10.8"
  },
  "orig_nbformat": 4,
  "vscode": {
   "interpreter": {
    "hash": "f830a0b92f9402ada73ab18b791d0d56a17bcb95f2d2c2d8f192cc2d1d3ea08b"
   }
  }
 },
 "nbformat": 4,
 "nbformat_minor": 2
}

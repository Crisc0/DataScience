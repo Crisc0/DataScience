{
 "cells": [
  {
   "cell_type": "code",
   "execution_count": 1,
   "id": "35c55b7a-54c2-4eee-98c4-fe9d83b63243",
   "metadata": {},
   "outputs": [],
   "source": [
    "import cv2\n",
    "import numpy as np\n",
    "import glob\n",
    "from natsort import natsorted\n",
    "import pandas as pd\n",
    "import numpy as np"
   ]
  },
  {
   "cell_type": "code",
   "execution_count": 2,
   "id": "d39552c3",
   "metadata": {},
   "outputs": [
    {
     "name": "stdout",
     "output_type": "stream",
     "text": [
      "C:\\Users\\ccana\n"
     ]
    }
   ],
   "source": [
    "%cd"
   ]
  },
  {
   "cell_type": "code",
   "execution_count": null,
   "id": "f302018b",
   "metadata": {},
   "outputs": [],
   "source": [
    "C:\\Users\\ccana\\Documents\\Kitai\\KITAI_v2.0\\muestras\\rancagua6224198-2.mp4"
   ]
  },
  {
   "cell_type": "code",
   "execution_count": null,
   "id": "412200f2",
   "metadata": {},
   "outputs": [],
   "source": [
    "C:\\Users\\ccana\\Documents\\Kitai\\KITAI_v2.0\\muestras\\rancagua6224198-2 Dataset"
   ]
  },
  {
   "cell_type": "code",
   "execution_count": 3,
   "id": "62e8bdb0-edc1-49c4-a3e9-9c1055406fe4",
   "metadata": {},
   "outputs": [
    {
     "name": "stdout",
     "output_type": "stream",
     "text": [
      "Process: 99.99827583234193%    \r"
     ]
    }
   ],
   "source": [
    "path='Documents\\Kitai\\KITAI_v2.0\\muestras/rancagua6224198-2.mp4'\n",
    "video_stream= cv2.VideoCapture(path)\n",
    "total_frames=video_stream.get(cv2.CAP_PROP_FRAME_COUNT)\n",
    "\n",
    "frameCnt=0\n",
    "image_list = []\n",
    "for filename in glob.glob('Documents\\Kitai\\KITAI_v2.0\\muestras/rancagua6224198-2 Dataset/*.png'): \n",
    "    image_list.append(filename)\n",
    "image_list.sort()\n",
    "\n",
    "while(frameCnt < total_frames-1):\n",
    "    ret, frame = video_stream.read()\n",
    "    #% of conversion\n",
    "    frameCnt+=1\n",
    "    print('Process: '+str(frameCnt/total_frames*100)+'% ',end=\"\\r\")\n",
    "    cv2.imwrite('Documents\\Kitai\\KITAI_v2.0\\muestras/rancagua6224198-2 Dataset/Results/'+str(frameCnt)+'.png',frame)"
   ]
  },
  {
   "cell_type": "code",
   "execution_count": null,
   "id": "a4172318",
   "metadata": {},
   "outputs": [],
   "source": [
    "C:\\Users\\ccana\\Documents\\Kitai\\KITAI_v2.0\\muestras\\rancagua6224198-2 Dataset\\Data.csv"
   ]
  },
  {
   "cell_type": "code",
   "execution_count": 4,
   "id": "6bddaf12-3204-4542-8b9f-1392eda272a7",
   "metadata": {},
   "outputs": [],
   "source": [
    "df=pd.read_csv('Documents\\Kitai\\KITAI_v2.0\\muestras/rancagua6224198-2 Dataset\\Data.csv')\n",
    "image_list = []\n",
    "for filename in glob.glob('Documents\\Kitai\\KITAI_v2.0\\muestras/rancagua6224198-2 Dataset*.png'): \n",
    "    image_list.append(filename)"
   ]
  },
  {
   "cell_type": "code",
   "execution_count": 7,
   "id": "162afee0-ed5a-4889-b668-f69c703fe11d",
   "metadata": {},
   "outputs": [],
   "source": [
    "image=image_list[0]\n",
    "im=image.split('/')[1]\n",
    "frame=im.split('.')[0]\n",
    "df_frame=df[df['Frame']==int(frame)]"
   ]
  },
  {
   "cell_type": "code",
   "execution_count": 5,
   "id": "cd1b4c51-3e00-4c97-b7cd-a42180813a6c",
   "metadata": {},
   "outputs": [],
   "source": [
    "for image in image_list:\n",
    "    img=cv2.imread(image)\n",
    "    im=image.split('/')[1]\n",
    "    frame=im.split('.')[0]\n",
    "    name=im.split('.')[0]\n",
    "    df_frame=df[df['Frame']==int(frame)]\n",
    "    for index, row in df_frame.iterrows():\n",
    "        cv2.rectangle(img,(row['xmin'],row['ymin']),(row['xmax'],row['ymax']),(0,255,0),2)\n",
    "        if row['Predictions kNN=16']==0:\n",
    "            cv2.putText(img, 'Bacteria', (row['xmin'],row['ymin']-10), cv2.FONT_HERSHEY_SIMPLEX, 0.9, (36,255,12), 2)\n",
    "        elif row['Predictions kNN=16']==1:\n",
    "            cv2.putText(img, 'Other', (row['xmin'],row['ymin']-10), cv2.FONT_HERSHEY_SIMPLEX, 0.9, (36,255,12), 2)\n",
    "    cv2.imwrite('Documents\\Kitai\\KITAI_v2.0\\muestras/rancagua6224198-2 Dataset/Results/'+name+'.png',img)"
   ]
  },
  {
   "cell_type": "code",
   "execution_count": 6,
   "id": "384d5531-11bd-4210-9ff1-02e8d14e3413",
   "metadata": {},
   "outputs": [],
   "source": [
    "try:\n",
    "    cap = cv2.VideoCapture('Documents\\Kitai\\KITAI_v2.0\\muestras/rancagua6224198-2.mp4')\n",
    "    height = int(cap.get(cv2.CAP_PROP_FRAME_HEIGHT))\n",
    "    width = int(cap.get(cv2.CAP_PROP_FRAME_WIDTH))\n",
    "    fps = cap.get(cv2.CAP_PROP_FPS)\n",
    "\n",
    "    out = cv2.VideoWriter('output_rancagua6224198-2.avi',cv2.VideoWriter_fourcc('M','J','P','G'),fps, (width, height))\n",
    "\n",
    "    for filename in natsorted(glob.glob('Documents\\Kitai\\KITAI_v2.0\\muestras/rancagua6224198-2 Dataset/Results/*.png')):\n",
    "        img = cv2.imread(filename)\n",
    "        out.write(img)\n",
    "\n",
    "    out.release()\n",
    "except:\n",
    "    pass"
   ]
  }
 ],
 "metadata": {
  "kernelspec": {
   "display_name": "Python 3.10.8 64-bit (microsoft store)",
   "language": "python",
   "name": "python3"
  },
  "language_info": {
   "codemirror_mode": {
    "name": "ipython",
    "version": 3
   },
   "file_extension": ".py",
   "mimetype": "text/x-python",
   "name": "python",
   "nbconvert_exporter": "python",
   "pygments_lexer": "ipython3",
   "version": "3.10.8"
  },
  "vscode": {
   "interpreter": {
    "hash": "f830a0b92f9402ada73ab18b791d0d56a17bcb95f2d2c2d8f192cc2d1d3ea08b"
   }
  }
 },
 "nbformat": 4,
 "nbformat_minor": 5
}

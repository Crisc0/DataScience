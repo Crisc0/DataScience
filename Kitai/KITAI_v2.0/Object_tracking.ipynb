{
 "cells": [
  {
   "cell_type": "code",
   "execution_count": 1,
   "id": "6274c208-cdef-4f78-880f-a504ad1ab97a",
   "metadata": {},
   "outputs": [
    {
     "name": "stderr",
     "output_type": "stream",
     "text": [
      "c:\\Users\\ccana\\AppData\\Local\\Programs\\Python\\Python39\\lib\\site-packages\\numpy\\_distributor_init.py:30: UserWarning: loaded more than 1 DLL from .libs:\n",
      "c:\\Users\\ccana\\AppData\\Local\\Programs\\Python\\Python39\\lib\\site-packages\\numpy\\.libs\\libopenblas.EL2C6PLE4ZYW3ECEVIV3OXXGRN2NRFM2.gfortran-win_amd64.dll\n",
      "c:\\Users\\ccana\\AppData\\Local\\Programs\\Python\\Python39\\lib\\site-packages\\numpy\\.libs\\libopenblas.GK7GX5KEQ4F6UYO3P26ULGBQYHGQO7J4.gfortran-win_amd64.dll\n",
      "  warnings.warn(\"loaded more than 1 DLL from .libs:\"\n"
     ]
    },
    {
     "ename": "ModuleNotFoundError",
     "evalue": "No module named 'motpy'",
     "output_type": "error",
     "traceback": [
      "\u001b[1;31m---------------------------------------------------------------------------\u001b[0m",
      "\u001b[1;31mModuleNotFoundError\u001b[0m                       Traceback (most recent call last)",
      "\u001b[1;32m<ipython-input-1-914a1cc6facd>\u001b[0m in \u001b[0;36m<module>\u001b[1;34m\u001b[0m\n\u001b[0;32m      3\u001b[0m \u001b[1;32mimport\u001b[0m \u001b[0mos\u001b[0m\u001b[1;33m\u001b[0m\u001b[1;33m\u001b[0m\u001b[0m\n\u001b[0;32m      4\u001b[0m \u001b[1;32mimport\u001b[0m \u001b[0mbck_adq\u001b[0m\u001b[1;33m\u001b[0m\u001b[1;33m\u001b[0m\u001b[0m\n\u001b[1;32m----> 5\u001b[1;33m \u001b[1;32mfrom\u001b[0m \u001b[0mmotpy\u001b[0m \u001b[1;32mimport\u001b[0m \u001b[0mDetection\u001b[0m\u001b[1;33m,\u001b[0m \u001b[0mMultiObjectTracker\u001b[0m\u001b[1;33m\u001b[0m\u001b[1;33m\u001b[0m\u001b[0m\n\u001b[0m\u001b[0;32m      6\u001b[0m \u001b[1;32mfrom\u001b[0m \u001b[0mcsv\u001b[0m \u001b[1;32mimport\u001b[0m \u001b[0mwriter\u001b[0m\u001b[1;33m\u001b[0m\u001b[1;33m\u001b[0m\u001b[0m\n\u001b[0;32m      7\u001b[0m \u001b[1;32mimport\u001b[0m \u001b[0mpandas\u001b[0m \u001b[1;32mas\u001b[0m \u001b[0mpd\u001b[0m\u001b[1;33m\u001b[0m\u001b[1;33m\u001b[0m\u001b[0m\n",
      "\u001b[1;31mModuleNotFoundError\u001b[0m: No module named 'motpy'"
     ]
    }
   ],
   "source": [
    "import numpy as np\n",
    "import cv2\n",
    "import os\n",
    "import bck_adq\n",
    "from motpy import Detection, MultiObjectTracker\n",
    "from csv import writer \n",
    "import pandas as pd\n",
    "from deep_sort_realtime.deepsort_tracker import DeepSort\n",
    "import sys"
   ]
  },
  {
   "cell_type": "code",
   "execution_count": 2,
   "id": "083369dc-32b3-43cd-939f-5ec4285c1a85",
   "metadata": {},
   "outputs": [],
   "source": [
    "def fixColor(image):\n",
    "    return(cv2.cvtColor(image, cv2.COLOR_BGR2RGB))"
   ]
  },
  {
   "cell_type": "code",
   "execution_count": 6,
   "id": "a57d6210",
   "metadata": {},
   "outputs": [
    {
     "name": "stdout",
     "output_type": "stream",
     "text": [
      "C:\\Users\\ccana\\Documents\\Kitai\\KITAI_v2.0\\muestras\n"
     ]
    }
   ],
   "source": [
    "%cd C:/Users/ccana/Documents/Kitai/KITAI_v2.0/muestras"
   ]
  },
  {
   "cell_type": "code",
   "execution_count": 7,
   "id": "76dc5dbf-1b96-4c2f-ade9-d066705111e4",
   "metadata": {},
   "outputs": [],
   "source": [
    "#path='trial.mp4'\n",
    "path='7211454.mp4'\n",
    "video_stream= cv2.VideoCapture(path)\n",
    "total_frames=video_stream.get(cv2.CAP_PROP_FRAME_COUNT)"
   ]
  },
  {
   "cell_type": "code",
   "execution_count": 8,
   "id": "6492f212",
   "metadata": {},
   "outputs": [
    {
     "data": {
      "text/plain": [
       "52389.0"
      ]
     },
     "execution_count": 8,
     "metadata": {},
     "output_type": "execute_result"
    }
   ],
   "source": [
    "total_frames"
   ]
  },
  {
   "cell_type": "code",
   "execution_count": 21,
   "id": "81f6ac5e-f1bc-4451-a9e6-b3cdab48acc3",
   "metadata": {},
   "outputs": [],
   "source": [
    "#Create folder for the result\n",
    "folderpath=path.split('.')[0]+' Dataset'\n",
    "if not os.path.isdir(folderpath):\n",
    "   os.makedirs(folderpath)"
   ]
  },
  {
   "cell_type": "code",
   "execution_count": 6,
   "id": "322f2ccf-ee12-4ae7-8053-99f5a106fb7d",
   "metadata": {},
   "outputs": [],
   "source": [
    "# Putting in together for processing video\n",
    "#writer = cv2.VideoWriter(os.path.join(folderpath,\"output.avi\"),cv2.VideoWriter_fourcc('M','J','P','G'), 30,(640,480))"
   ]
  },
  {
   "cell_type": "code",
   "execution_count": 22,
   "id": "98787629-36b6-4985-9bb1-795f2cb2325a",
   "metadata": {},
   "outputs": [],
   "source": [
    "grayMedianFrame= bck_adq.grayFrame(path)"
   ]
  },
  {
   "cell_type": "code",
   "execution_count": 23,
   "id": "edd895e4-02ae-4396-9ee0-5dbf88ab6a5e",
   "metadata": {},
   "outputs": [],
   "source": [
    "model_spec = {\n",
    "        'order_pos': 1, 'dim_pos': 2, # position is a center in 2D space; under constant velocity model\n",
    "        'order_size': 0, 'dim_size': 2, # bounding box is 2 dimensional; under constant velocity model\n",
    "        'q_var_pos': 1000., # process noise\n",
    "        'r_var_pos': 0.1 # measurement noise\n",
    "    }\n",
    "tracker = MultiObjectTracker(dt=0.1)"
   ]
  },
  {
   "cell_type": "code",
   "execution_count": 24,
   "id": "513c308a-b5c3-4d84-8592-57e7190b7323",
   "metadata": {},
   "outputs": [
    {
     "name": "stdout",
     "output_type": "stream",
     "text": [
      "Process: 99.99809120235163%     \r"
     ]
    }
   ],
   "source": [
    "frameCnt=0\n",
    "data=[]\n",
    "try:\n",
    "    while(frameCnt < total_frames-1):\n",
    "        ret, frame = video_stream.read()\n",
    "        #% of conversion\n",
    "        frameCnt+=1\n",
    "        print('Process: '+str(frameCnt/total_frames*100)+'% ',end=\"\\r\")\n",
    "\n",
    "        # Convert current frame to grayscale\n",
    "        gframe = cv2.cvtColor(frame, cv2.COLOR_BGR2GRAY)\n",
    "\n",
    "        # Calculate absolute difference of current frame and the median frame\n",
    "        dframe = cv2.absdiff(gframe, grayMedianFrame)\n",
    "\n",
    "        # Gaussian\n",
    "        blurred = cv2.GaussianBlur(dframe, (11, 11), 0)\n",
    "\n",
    "        #Thresholding to binarise\n",
    "        ret, tframe= cv2.threshold(blurred,0,255,\n",
    "                                   cv2.THRESH_BINARY+cv2.THRESH_OTSU)\n",
    "\n",
    "        #Identifying contours from the threshold\n",
    "        (cnts, _) = cv2.findContours(tframe.copy(), \n",
    "                                     cv2.RETR_EXTERNAL, cv2 .CHAIN_APPROX_SIMPLE)\n",
    "\n",
    "\n",
    "        if len(cnts) < 100:\n",
    "            #For each contour draw the bounding bos\n",
    "            for cnt in cnts:\n",
    "                x,y,w,h = cv2.boundingRect(cnt)\n",
    "                tracker.step(detections=[Detection(box=np.array([int(x-w),int(y-h),int(x+2*w),int(y+2*h)]))])\n",
    "                tracks = tracker.active_tracks()\n",
    "                #cv2.rectangle(frame,(int(x-w),int(y-h)),(int(x+2*w),int(y+2*h)),(0,255,0),2)\n",
    "                #cv2.circle(frame, (int((x+x+w)/2),int((y+y+h)/2)),5,(0,0,255),5)\n",
    "                if len(tracks)>0:\n",
    "                    #cv2.putText(frame, tracks[0][0], (int(x-w),int(y-h-10)), cv2.FONT_HERSHEY_SIMPLEX, 0.9, (36,255,12), 2)\n",
    "                    \n",
    "                    #['Frame','id','xmin','xmax','ymin','ymax']\n",
    "                    data.append([frameCnt,tracks[0][0],int(x-w), int(x+2*w),int(y-h),int(y+2*h)])\n",
    "            #Convert frames into png files\n",
    "            cv2.imwrite(os.path.join(folderpath,str(frameCnt)+'.png'),frame)\n",
    "\n",
    "\n",
    "        #Create video \n",
    "        #writer.write(cv2.resize(frame, (640,480)))\n",
    "\n",
    "    #Release video object\n",
    "    #video_stream.release()\n",
    "    #writer.release()\n",
    "except:\n",
    "    pass"
   ]
  },
  {
   "cell_type": "code",
   "execution_count": 57,
   "id": "e1d1ea13",
   "metadata": {},
   "outputs": [
    {
     "name": "stdout",
     "output_type": "stream",
     "text": [
      "C:\\Users\\ccana\\Documents\\Kitai\\KITAI_v2.0\n"
     ]
    }
   ],
   "source": [
    "%cd Documents/Kitai/KITAI_v2.0"
   ]
  },
  {
   "cell_type": "code",
   "execution_count": 72,
   "id": "fe76df18",
   "metadata": {},
   "outputs": [
    {
     "name": "stdout",
     "output_type": "stream",
     "text": [
      "Empty File Created Successfully\n"
     ]
    }
   ],
   "source": [
    "with open('Data.csv', 'w') as creating_new_csv_file: \n",
    "   pass \n",
    "print(\"Empty File Created Successfully\")"
   ]
  },
  {
   "cell_type": "code",
   "execution_count": 13,
   "id": "a2fdef50-8291-4eec-a97e-d2dc718b019b",
   "metadata": {},
   "outputs": [],
   "source": [
    "file= open(os.path.join(folderpath,'Data.csv'), 'w') \n",
    "writer = writer(file)\n",
    "writer.writerow(['Frame','id','xmin','xmax','ymin','ymax'])\n",
    "writer.writerows(data)\n",
    "file.close()"
   ]
  }
 ],
 "metadata": {
  "kernelspec": {
   "display_name": "Python 3.10.8 64-bit (microsoft store)",
   "language": "python",
   "name": "python3"
  },
  "language_info": {
   "codemirror_mode": {
    "name": "ipython",
    "version": 3
   },
   "file_extension": ".py",
   "mimetype": "text/x-python",
   "name": "python",
   "nbconvert_exporter": "python",
   "pygments_lexer": "ipython3",
   "version": "3.9.6"
  },
  "vscode": {
   "interpreter": {
    "hash": "f830a0b92f9402ada73ab18b791d0d56a17bcb95f2d2c2d8f192cc2d1d3ea08b"
   }
  }
 },
 "nbformat": 4,
 "nbformat_minor": 5
}

{
 "cells": [
  {
   "cell_type": "markdown",
   "metadata": {},
   "source": [
    "# Laboratorio 1\n",
    "\n",
    "Bienvenido al primer laboratorio del curso Análisis de Datos en Python. \n",
    "\n",
    "Escribe el código correspondiente para contestar cada una de las preguntas. Fíjate muy bien en el nombre de las variables, ya que de lo contrario, tu trabajo no podrá ser evaluado de manera correcta. \n",
    "\n",
    "Debes ir ejecutando las celdas de codigo en el orden que aparecen, para evitar tener errores. \n",
    "\n",
    "Este trabajo tiene un límite de tiempo que puedes visualizar al inicio de esta pantalla. "
   ]
  },
  {
   "cell_type": "code",
   "execution_count": 2,
   "metadata": {
    "deletable": false,
    "editable": false,
    "nbgrader": {
     "cell_type": "code",
     "checksum": "ec5d7c4e7873376f37e4455522b18a0a",
     "grade": false,
     "grade_id": "cell-cf7ebef8b0d2f431",
     "locked": true,
     "schema_version": 3,
     "solution": false,
     "task": false
    }
   },
   "outputs": [],
   "source": [
    "# Primero importamos las librerias y los datos que utilizaremos.\n",
    "\n",
    "import pandas as pd\n",
    "import numpy as np\n",
    "import matplotlib.pyplot as plt\n",
    "import seaborn as sns\n",
    "import datetime\n",
    "import matplotlib.pyplot as plt\n",
    "import warnings\n",
    "warnings.filterwarnings('ignore')\n",
    "df = pd.read_csv('data_football_ratings.csv')"
   ]
  },
  {
   "cell_type": "markdown",
   "metadata": {
    "deletable": false,
    "editable": false,
    "nbgrader": {
     "cell_type": "markdown",
     "checksum": "5a7bf6507a9aadb1a1cc2d6e2f3da0eb",
     "grade": false,
     "grade_id": "cell-eba39bd0225994a3",
     "locked": true,
     "schema_version": 3,
     "solution": false,
     "task": false
    }
   },
   "source": [
    "# Pregunta 1\n",
    "¿Cuál es el promedio, mediana y desviación estándar de los datos registrados en la columna “original_rating”? \n",
    "\n",
    "Deben crear el código necesario para el promedio, la mediana y la desviación standard\n",
    "*almacena las respuestas en formato int en las variables promedio, mediana y desvest respectivamente*\n",
    "\n",
    "Usa la funcion `int()` para convertir a entero. "
   ]
  },
  {
   "cell_type": "code",
   "execution_count": 5,
   "metadata": {},
   "outputs": [
    {
     "data": {
      "text/html": [
       "<div>\n",
       "<style scoped>\n",
       "    .dataframe tbody tr th:only-of-type {\n",
       "        vertical-align: middle;\n",
       "    }\n",
       "\n",
       "    .dataframe tbody tr th {\n",
       "        vertical-align: top;\n",
       "    }\n",
       "\n",
       "    .dataframe thead th {\n",
       "        text-align: right;\n",
       "    }\n",
       "</style>\n",
       "<table border=\"1\" class=\"dataframe\">\n",
       "  <thead>\n",
       "    <tr style=\"text-align: right;\">\n",
       "      <th></th>\n",
       "      <th>competition</th>\n",
       "      <th>date</th>\n",
       "      <th>match</th>\n",
       "      <th>team</th>\n",
       "      <th>pos</th>\n",
       "      <th>pos_role</th>\n",
       "      <th>player</th>\n",
       "      <th>rater</th>\n",
       "      <th>is_human</th>\n",
       "      <th>original_rating</th>\n",
       "      <th>...</th>\n",
       "      <th>betweenness_centrality</th>\n",
       "      <th>closeness_centrality</th>\n",
       "      <th>flow_centrality</th>\n",
       "      <th>flow_success</th>\n",
       "      <th>betweenness2goals</th>\n",
       "      <th>win</th>\n",
       "      <th>lost</th>\n",
       "      <th>is_home_team</th>\n",
       "      <th>minutesPlayed</th>\n",
       "      <th>game_duration</th>\n",
       "    </tr>\n",
       "  </thead>\n",
       "  <tbody>\n",
       "    <tr>\n",
       "      <th>0</th>\n",
       "      <td>Euro 2016</td>\n",
       "      <td>10/06/2016</td>\n",
       "      <td>France - Romania, 2 - 1</td>\n",
       "      <td>Romania</td>\n",
       "      <td>DF</td>\n",
       "      <td>DC</td>\n",
       "      <td>Dragos Grigore</td>\n",
       "      <td>Kicker</td>\n",
       "      <td>1</td>\n",
       "      <td>3.50</td>\n",
       "      <td>...</td>\n",
       "      <td>0.143055</td>\n",
       "      <td>0.603571</td>\n",
       "      <td>0.304348</td>\n",
       "      <td>0.000000</td>\n",
       "      <td>0.0</td>\n",
       "      <td>0</td>\n",
       "      <td>1</td>\n",
       "      <td>0</td>\n",
       "      <td>90</td>\n",
       "      <td>90</td>\n",
       "    </tr>\n",
       "    <tr>\n",
       "      <th>1</th>\n",
       "      <td>Euro 2016</td>\n",
       "      <td>10/06/2016</td>\n",
       "      <td>France - Romania, 2 - 1</td>\n",
       "      <td>Romania</td>\n",
       "      <td>DF</td>\n",
       "      <td>DC</td>\n",
       "      <td>Dragos Grigore</td>\n",
       "      <td>WhoScored</td>\n",
       "      <td>0</td>\n",
       "      <td>6.56</td>\n",
       "      <td>...</td>\n",
       "      <td>0.143055</td>\n",
       "      <td>0.603571</td>\n",
       "      <td>0.304348</td>\n",
       "      <td>0.000000</td>\n",
       "      <td>0.0</td>\n",
       "      <td>0</td>\n",
       "      <td>1</td>\n",
       "      <td>0</td>\n",
       "      <td>90</td>\n",
       "      <td>90</td>\n",
       "    </tr>\n",
       "    <tr>\n",
       "      <th>2</th>\n",
       "      <td>Euro 2016</td>\n",
       "      <td>10/06/2016</td>\n",
       "      <td>France - Romania, 2 - 1</td>\n",
       "      <td>Romania</td>\n",
       "      <td>DF</td>\n",
       "      <td>DC</td>\n",
       "      <td>Dragos Grigore</td>\n",
       "      <td>SofaScore</td>\n",
       "      <td>0</td>\n",
       "      <td>6.70</td>\n",
       "      <td>...</td>\n",
       "      <td>0.143055</td>\n",
       "      <td>0.603571</td>\n",
       "      <td>0.304348</td>\n",
       "      <td>0.000000</td>\n",
       "      <td>0.0</td>\n",
       "      <td>0</td>\n",
       "      <td>1</td>\n",
       "      <td>0</td>\n",
       "      <td>90</td>\n",
       "      <td>90</td>\n",
       "    </tr>\n",
       "    <tr>\n",
       "      <th>3</th>\n",
       "      <td>Euro 2016</td>\n",
       "      <td>10/06/2016</td>\n",
       "      <td>France - Romania, 2 - 1</td>\n",
       "      <td>France</td>\n",
       "      <td>Sub</td>\n",
       "      <td>Sub</td>\n",
       "      <td>Anthony Martial</td>\n",
       "      <td>WhoScored</td>\n",
       "      <td>0</td>\n",
       "      <td>6.19</td>\n",
       "      <td>...</td>\n",
       "      <td>0.051556</td>\n",
       "      <td>0.524845</td>\n",
       "      <td>0.041096</td>\n",
       "      <td>0.166667</td>\n",
       "      <td>0.0</td>\n",
       "      <td>1</td>\n",
       "      <td>0</td>\n",
       "      <td>1</td>\n",
       "      <td>13</td>\n",
       "      <td>90</td>\n",
       "    </tr>\n",
       "    <tr>\n",
       "      <th>4</th>\n",
       "      <td>Euro 2016</td>\n",
       "      <td>10/06/2016</td>\n",
       "      <td>France - Romania, 2 - 1</td>\n",
       "      <td>Romania</td>\n",
       "      <td>MF</td>\n",
       "      <td>DMC</td>\n",
       "      <td>Mihai Pintilii</td>\n",
       "      <td>Kicker</td>\n",
       "      <td>1</td>\n",
       "      <td>3.50</td>\n",
       "      <td>...</td>\n",
       "      <td>0.333284</td>\n",
       "      <td>0.710084</td>\n",
       "      <td>0.347826</td>\n",
       "      <td>0.675075</td>\n",
       "      <td>0.0</td>\n",
       "      <td>0</td>\n",
       "      <td>1</td>\n",
       "      <td>0</td>\n",
       "      <td>90</td>\n",
       "      <td>90</td>\n",
       "    </tr>\n",
       "  </tbody>\n",
       "</table>\n",
       "<p>5 rows × 63 columns</p>\n",
       "</div>"
      ],
      "text/plain": [
       "  competition        date                    match     team  pos pos_role  \\\n",
       "0   Euro 2016  10/06/2016  France - Romania, 2 - 1  Romania   DF       DC   \n",
       "1   Euro 2016  10/06/2016  France - Romania, 2 - 1  Romania   DF       DC   \n",
       "2   Euro 2016  10/06/2016  France - Romania, 2 - 1  Romania   DF       DC   \n",
       "3   Euro 2016  10/06/2016  France - Romania, 2 - 1   France  Sub      Sub   \n",
       "4   Euro 2016  10/06/2016  France - Romania, 2 - 1  Romania   MF      DMC   \n",
       "\n",
       "            player      rater  is_human  original_rating  ...  \\\n",
       "0   Dragos Grigore     Kicker         1             3.50  ...   \n",
       "1   Dragos Grigore  WhoScored         0             6.56  ...   \n",
       "2   Dragos Grigore  SofaScore         0             6.70  ...   \n",
       "3  Anthony Martial  WhoScored         0             6.19  ...   \n",
       "4   Mihai Pintilii     Kicker         1             3.50  ...   \n",
       "\n",
       "   betweenness_centrality  closeness_centrality  flow_centrality  \\\n",
       "0                0.143055              0.603571         0.304348   \n",
       "1                0.143055              0.603571         0.304348   \n",
       "2                0.143055              0.603571         0.304348   \n",
       "3                0.051556              0.524845         0.041096   \n",
       "4                0.333284              0.710084         0.347826   \n",
       "\n",
       "   flow_success  betweenness2goals  win  lost  is_home_team  minutesPlayed  \\\n",
       "0      0.000000                0.0    0     1             0             90   \n",
       "1      0.000000                0.0    0     1             0             90   \n",
       "2      0.000000                0.0    0     1             0             90   \n",
       "3      0.166667                0.0    1     0             1             13   \n",
       "4      0.675075                0.0    0     1             0             90   \n",
       "\n",
       "   game_duration  \n",
       "0             90  \n",
       "1             90  \n",
       "2             90  \n",
       "3             90  \n",
       "4             90  \n",
       "\n",
       "[5 rows x 63 columns]"
      ]
     },
     "execution_count": 5,
     "metadata": {},
     "output_type": "execute_result"
    }
   ],
   "source": [
    "df.head()"
   ]
  },
  {
   "cell_type": "markdown",
   "metadata": {
    "deletable": false,
    "editable": false,
    "nbgrader": {
     "cell_type": "markdown",
     "checksum": "f617d668ff114da391aad1ac59a70286",
     "grade": false,
     "grade_id": "cell-97b5a59a5ade0496",
     "locked": true,
     "schema_version": 3,
     "solution": false,
     "task": false
    }
   },
   "source": [
    "### Pregunta 2\n",
    "¿Cuántos de los partidos de la base de datos tuvieron una duración (“game_duration”) de 120 minutos?\n",
    "*Alamacena la respuesta en formato int en la variable rep_P2*"
   ]
  },
  {
   "cell_type": "code",
   "execution_count": null,
   "metadata": {
    "deletable": false,
    "nbgrader": {
     "cell_type": "code",
     "checksum": "6b187142746fdad97f0416a2e0f016b3",
     "grade": false,
     "grade_id": "cell-a9e742e4c226ea1a",
     "locked": false,
     "schema_version": 3,
     "solution": true,
     "task": false
    }
   },
   "outputs": [],
   "source": [
    "rep_P2=0\n",
    "# your code here\n",
    "raise NotImplementedError"
   ]
  },
  {
   "cell_type": "code",
   "execution_count": null,
   "metadata": {
    "deletable": false,
    "editable": false,
    "nbgrader": {
     "cell_type": "code",
     "checksum": "f99b6222c58b0e521b797c9da318ebed",
     "grade": true,
     "grade_id": "cell-a2495efa7628513a",
     "locked": true,
     "points": 10,
     "schema_version": 3,
     "solution": false,
     "task": false
    }
   },
   "outputs": [],
   "source": []
  },
  {
   "cell_type": "markdown",
   "metadata": {
    "deletable": false,
    "editable": false,
    "nbgrader": {
     "cell_type": "markdown",
     "checksum": "d666a33288f4f2c203340830a9f7daab",
     "grade": false,
     "grade_id": "cell-6c57e733fccc6466",
     "locked": true,
     "schema_version": 3,
     "solution": false,
     "task": false
    }
   },
   "source": [
    "### Pregunta 3\n",
    "Considerando solamente los partidos de la Copa del Mundo 2018 (“World Cup 2018”), ¿cuántos partidos disputó Croacia?\n",
    "*almacena tu respuesta en la variable n_croacia*"
   ]
  },
  {
   "cell_type": "code",
   "execution_count": null,
   "metadata": {
    "deletable": false,
    "nbgrader": {
     "cell_type": "code",
     "checksum": "6865eb84c0571ce3f7daef1b2c145baf",
     "grade": false,
     "grade_id": "cell-c4ec5d3f2b70991e",
     "locked": false,
     "schema_version": 3,
     "solution": true,
     "task": false
    }
   },
   "outputs": [],
   "source": [
    "n_croacia = 0\n",
    "# your code here\n",
    "raise NotImplementedError"
   ]
  },
  {
   "cell_type": "code",
   "execution_count": null,
   "metadata": {
    "deletable": false,
    "editable": false,
    "nbgrader": {
     "cell_type": "code",
     "checksum": "f6ccd6796b05e2c4c0fc83935c990773",
     "grade": true,
     "grade_id": "cell-fcdc878340735073",
     "locked": true,
     "points": 10,
     "schema_version": 3,
     "solution": false,
     "task": false
    }
   },
   "outputs": [],
   "source": []
  },
  {
   "cell_type": "markdown",
   "metadata": {
    "deletable": false,
    "editable": false,
    "nbgrader": {
     "cell_type": "markdown",
     "checksum": "2bc2d23f39117bab6b3ac049ff9d9a62",
     "grade": false,
     "grade_id": "cell-5ccae1f3b9993f81",
     "locked": true,
     "schema_version": 3,
     "solution": false,
     "task": false
    }
   },
   "source": [
    "### Pregunta 4\n",
    "Construya un gráfico de torta con los goles marcados por Robert Lewandowski, agrupando los goles que marcó por su selección y por su club.\n",
    "\n",
    "**Importante considerar que para esta pregunta se revisarán manualmente las entregas der manera aleatoria, quién responda sin realizar el gráfico solicitado tendrá 0 puntos.**"
   ]
  },
  {
   "cell_type": "code",
   "execution_count": null,
   "metadata": {
    "deletable": false,
    "nbgrader": {
     "cell_type": "code",
     "checksum": "9f6411115c8cc06e8c73d71d569c5eb6",
     "grade": false,
     "grade_id": "cell-120b7b8fcfc97fd1",
     "locked": false,
     "schema_version": 3,
     "solution": true,
     "task": false
    }
   },
   "outputs": [],
   "source": [
    "## Usen esta celda para crear el grafico. \n",
    "\n",
    "# your code here\n",
    "raise NotImplementedError"
   ]
  },
  {
   "cell_type": "markdown",
   "metadata": {
    "deletable": false,
    "editable": false,
    "nbgrader": {
     "cell_type": "markdown",
     "checksum": "48bf33650f2cae5a1cc21a61e46a9a5d",
     "grade": false,
     "grade_id": "cell-c6a4c4a0ad65aa61",
     "locked": true,
     "schema_version": 3,
     "solution": false,
     "task": false
    }
   },
   "source": [
    "### A partir del gráfico construido, complete la información de las siguientes variables en formato int: \"Goles_Bayern\",\"Goles_Poland\",\"Porcentaje_Bayern\",\"Porcentaje_Poland\"\n",
    "\n",
    "Los porcentajes se aproximan al entero más cercano, por ejemplo 97.32% será 0.97 o 7.85% será 0.08"
   ]
  },
  {
   "cell_type": "code",
   "execution_count": null,
   "metadata": {
    "deletable": false,
    "nbgrader": {
     "cell_type": "code",
     "checksum": "ea3a696276599a03625872c838f5f2a1",
     "grade": false,
     "grade_id": "cell-ab0b8fac7d11b0ef",
     "locked": false,
     "schema_version": 3,
     "solution": true,
     "task": false
    }
   },
   "outputs": [],
   "source": [
    "\n",
    "Goles_Bayern=0\n",
    "Goles_Poland=0\n",
    "Porcentaje_Bayern=0\n",
    "Porcentaje_Poland=0\n",
    "\n",
    "\n",
    "# your code here\n",
    "raise NotImplementedError"
   ]
  },
  {
   "cell_type": "code",
   "execution_count": null,
   "metadata": {
    "deletable": false,
    "editable": false,
    "nbgrader": {
     "cell_type": "code",
     "checksum": "1a25f2fce255ed9edf72491920d83fc4",
     "grade": true,
     "grade_id": "cell-70762188e9a9150e",
     "locked": true,
     "points": 10,
     "schema_version": 3,
     "solution": false,
     "task": false
    }
   },
   "outputs": [],
   "source": []
  },
  {
   "cell_type": "markdown",
   "metadata": {
    "deletable": false,
    "editable": false,
    "nbgrader": {
     "cell_type": "markdown",
     "checksum": "399065dea54f875b1f9bc1d726b5e664",
     "grade": false,
     "grade_id": "cell-f4d73d366976de24",
     "locked": true,
     "schema_version": 3,
     "solution": false,
     "task": false
    }
   },
   "source": [
    "### Pregunta 5\n",
    "¿Cuántas tarjetas rojas fueron mostradas en la Eurocopa 2016 (“Euro 2016”)? *Almacena tu respuesta en la variable rcards*"
   ]
  },
  {
   "cell_type": "code",
   "execution_count": null,
   "metadata": {
    "deletable": false,
    "nbgrader": {
     "cell_type": "code",
     "checksum": "33ade1ec7d0a32f63fddb1a850b40df1",
     "grade": false,
     "grade_id": "cell-ca547a367e621187",
     "locked": false,
     "schema_version": 3,
     "solution": true,
     "task": false
    }
   },
   "outputs": [],
   "source": [
    "rcards = 0\n",
    "\n",
    "# your code here\n",
    "raise NotImplementedError"
   ]
  },
  {
   "cell_type": "code",
   "execution_count": null,
   "metadata": {
    "deletable": false,
    "editable": false,
    "nbgrader": {
     "cell_type": "code",
     "checksum": "cf62255ad37a691215d2487cded4df59",
     "grade": true,
     "grade_id": "cell-cf57b3130ebb2e08",
     "locked": true,
     "points": 10,
     "schema_version": 3,
     "solution": false,
     "task": false
    }
   },
   "outputs": [],
   "source": []
  },
  {
   "cell_type": "markdown",
   "metadata": {
    "deletable": false,
    "editable": false,
    "nbgrader": {
     "cell_type": "markdown",
     "checksum": "184f109c14aba764e716ea5e2b582181",
     "grade": false,
     "grade_id": "cell-dbd7b59f0b4298c8",
     "locked": true,
     "schema_version": 3,
     "solution": false,
     "task": false
    }
   },
   "source": [
    "### Pregunta 6\n",
    "Construya un Dataframe que contenga, para cada jugador del archivo, la cantidad total de partidos en los que fue evaluado. Muestre solamente los 10 primeros registros (según orden alfabético del nombre del jugador) de este DataFrame. Considere que un jugador no es evaluado cuando original_rating = 1 y los minutos jugados por el jugador es menor que 20 (minutos).\n",
    "\n",
    "Indicaciones: \n",
    "- el nombre de las columnas del dataframe no importa\n",
    "- el dataframe solo debe tener 2 columnas, la primera con el nombre del jugador y la segunda con la cantidad de partidos en los que fue evaluado\n",
    "- almacena el dataframe en la variable df_p6\n",
    "- ordena el dataframe según el nombre de los jugadores, de manera ascendente (en general al hacer el group by deberia quedar con este orden!)\n",
    "- *Hint: los métodos .head() y .groupby() puede ser útiles*. Cuidado con los duplicados!!"
   ]
  },
  {
   "cell_type": "code",
   "execution_count": null,
   "metadata": {
    "deletable": false,
    "nbgrader": {
     "cell_type": "code",
     "checksum": "d05175c4d333a4375c843d1e95398621",
     "grade": false,
     "grade_id": "cell-1d89c7054a6e49f8",
     "locked": false,
     "schema_version": 3,
     "solution": true,
     "task": false
    }
   },
   "outputs": [],
   "source": [
    "\n",
    "df_p6= df\n",
    "\n",
    "# your code here\n",
    "raise NotImplementedError"
   ]
  },
  {
   "cell_type": "markdown",
   "metadata": {
    "deletable": false,
    "editable": false,
    "nbgrader": {
     "cell_type": "markdown",
     "checksum": "52c94bd63f531dfb6b77f7f23405b869",
     "grade": false,
     "grade_id": "cell-f1c3602d52b5872c",
     "locked": true,
     "schema_version": 3,
     "solution": false,
     "task": false
    }
   },
   "source": [
    "Probemos el resultado aqui: "
   ]
  },
  {
   "cell_type": "code",
   "execution_count": null,
   "metadata": {
    "deletable": false,
    "editable": false,
    "nbgrader": {
     "cell_type": "code",
     "checksum": "9424399a83428c9bc09aa0c1a49e7c6f",
     "grade": false,
     "grade_id": "cell-203ff162094b8928",
     "locked": true,
     "schema_version": 3,
     "solution": false,
     "task": false
    }
   },
   "outputs": [],
   "source": [
    "df_p6.head(1)"
   ]
  },
  {
   "cell_type": "markdown",
   "metadata": {
    "deletable": false,
    "editable": false,
    "nbgrader": {
     "cell_type": "markdown",
     "checksum": "07cf758b9ce3aebdff8646b1ba979414",
     "grade": false,
     "grade_id": "cell-328175a14c282e7c",
     "locked": true,
     "schema_version": 3,
     "solution": false,
     "task": false
    }
   },
   "source": [
    "La celda anterior debe tener los datos: \n",
    "**Aaron Cresswell 34**"
   ]
  },
  {
   "cell_type": "markdown",
   "metadata": {
    "deletable": false,
    "editable": false,
    "nbgrader": {
     "cell_type": "markdown",
     "checksum": "3936b68037ebabafa25c43494b488545",
     "grade": false,
     "grade_id": "cell-8d5ce5b8cbdfe73d",
     "locked": true,
     "schema_version": 3,
     "solution": false,
     "task": false
    }
   },
   "source": [
    "**Cuidado!! Deja a los jugadores como indice!!**\n",
    "\n",
    "No crees un indice numerico nuevo. En caso de que se haya creado automaticamente, usa el comando\n",
    "\n",
    "``` df_p6.set_index('player', inplace=True)```\n",
    "\n",
    "donde `player` corresponde al nombre de la variable donde guardas los nombres de los jugadores\n",
    "\n",
    "A continuación, hay un test visible, para que puedas ver que tu dataframe este bien creado. Este test vale 1 punto."
   ]
  },
  {
   "cell_type": "code",
   "execution_count": null,
   "metadata": {
    "deletable": false,
    "editable": false,
    "nbgrader": {
     "cell_type": "code",
     "checksum": "3319c4fab3ab01c3c80ca1acd643be57",
     "grade": true,
     "grade_id": "cell-3037a1d13268ba68",
     "locked": true,
     "points": 1,
     "schema_version": 3,
     "solution": false,
     "task": false
    }
   },
   "outputs": [],
   "source": [
    "assert df_p6.head(1).values == 34, \"Revisa el formato de tu DataFrame. El primer registro debe ser Aaron Cresswell y los partidos en que fue evaluado son 34\""
   ]
  },
  {
   "cell_type": "markdown",
   "metadata": {
    "deletable": false,
    "editable": false,
    "nbgrader": {
     "cell_type": "markdown",
     "checksum": "24e88948b1577eeb9ef1c314e292f572",
     "grade": false,
     "grade_id": "cell-6ae6e9ee8edae519",
     "locked": true,
     "schema_version": 3,
     "solution": false,
     "task": false
    }
   },
   "source": [
    "La última celda corresponde a un test oculto, que revisa el dataframe pedido en la pregunta 6. **El dataframe solo debe contener los primeros 10 registros. De lo contrario, no tendrás puntaje.**  "
   ]
  },
  {
   "cell_type": "code",
   "execution_count": null,
   "metadata": {
    "deletable": false,
    "editable": false,
    "nbgrader": {
     "cell_type": "code",
     "checksum": "f0d0bf8dc389f424758dc9dfef3a9383",
     "grade": false,
     "grade_id": "cell-9033117351cab9c4",
     "locked": true,
     "schema_version": 3,
     "solution": false,
     "task": false
    }
   },
   "outputs": [],
   "source": [
    "## Revisa que tu dataframe tenga el largo correcto!! \n",
    "\n",
    "len(df_p6) == 10"
   ]
  },
  {
   "cell_type": "code",
   "execution_count": null,
   "metadata": {
    "deletable": false,
    "editable": false,
    "nbgrader": {
     "cell_type": "code",
     "checksum": "948cd529fe260a0aa9a71966e5570570",
     "grade": true,
     "grade_id": "cell-48e9c954bcf215da",
     "locked": true,
     "points": 9,
     "schema_version": 3,
     "solution": false,
     "task": false
    }
   },
   "outputs": [],
   "source": [
    "\n"
   ]
  }
 ],
 "metadata": {
  "kernelspec": {
   "display_name": "Python 3",
   "language": "python",
   "name": "python3"
  },
  "language_info": {
   "codemirror_mode": {
    "name": "ipython",
    "version": 3
   },
   "file_extension": ".py",
   "mimetype": "text/x-python",
   "name": "python",
   "nbconvert_exporter": "python",
   "pygments_lexer": "ipython3",
   "version": "3.10.11"
  }
 },
 "nbformat": 4,
 "nbformat_minor": 4
}

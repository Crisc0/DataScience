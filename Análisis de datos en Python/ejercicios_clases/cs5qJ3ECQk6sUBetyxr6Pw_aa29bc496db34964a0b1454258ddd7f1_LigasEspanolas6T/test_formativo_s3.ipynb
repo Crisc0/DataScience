{
 "cells": [
  {
   "cell_type": "code",
   "execution_count": 1,
   "metadata": {},
   "outputs": [],
   "source": [
    "import pandas as pd\n",
    "import numpy as np\n",
    "import matplotlib.pyplot as plt\n",
    "import plotly.express as px"
   ]
  },
  {
   "cell_type": "code",
   "execution_count": 22,
   "metadata": {},
   "outputs": [],
   "source": [
    "laliga2122 = pd.read_excel('LaLiga21 22.xlsx', )\n",
    "laliga2021 = pd.read_excel('LaLiga20 21.xlsx', )\n",
    "laliga1920 = pd.read_excel('LaLiga19 20.xlsx', )\n",
    "laliga1819 = pd.read_excel('LaLiga18 19.xlsx', )\n",
    "laliga1718 = pd.read_excel('LaLiga17 18.xlsx', )\n",
    "laliga1617 = pd.read_excel('LaLiga16 17.xlsx', )"
   ]
  },
  {
   "cell_type": "code",
   "execution_count": 23,
   "metadata": {},
   "outputs": [
    {
     "data": {
      "text/plain": [
       "0      1–0\n",
       "1      1–1\n",
       "2      1–1\n",
       "3      0–0\n",
       "4      1–4\n",
       "      ... \n",
       "419    0–1\n",
       "420    0–0\n",
       "421    1–2\n",
       "422    0–2\n",
       "423    1–0\n",
       "Name: Score, Length: 424, dtype: object"
      ]
     },
     "execution_count": 23,
     "metadata": {},
     "output_type": "execute_result"
    }
   ],
   "source": [
    "laliga2122['Score']"
   ]
  },
  {
   "cell_type": "code",
   "execution_count": 25,
   "metadata": {},
   "outputs": [
    {
     "name": "stderr",
     "output_type": "stream",
     "text": [
      "C:\\Users\\ccana\\AppData\\Local\\Temp\\ipykernel_21716\\851043449.py:1: FutureWarning: The default value of numeric_only in DataFrame.sum is deprecated. In a future version, it will default to False. In addition, specifying 'numeric_only=None' is deprecated. Select only valid columns or specify the value of numeric_only to silence this warning.\n",
      "  empates_2122 = laliga2122[laliga2122['Score'] == '0-0'].sum()\n"
     ]
    },
    {
     "data": {
      "text/plain": [
       "Wk                     0.0\n",
       "Day                    0.0\n",
       "Time                   0.0\n",
       "Local                  0.0\n",
       "xG                     0.0\n",
       "Score                  0.0\n",
       "xG.1                   0.0\n",
       "Visitante              0.0\n",
       "Attendance             0.0\n",
       "Venue                  0.0\n",
       "Referee                0.0\n",
       "Informe del partido    0.0\n",
       "Notes                  0.0\n",
       "dtype: float64"
      ]
     },
     "execution_count": 25,
     "metadata": {},
     "output_type": "execute_result"
    }
   ],
   "source": [
    "empates_2122 = laliga2122[laliga2122['Score'] == '0-0'].sum()\n",
    "empates_2122\n",
    "\n",
    "\n"
   ]
  },
  {
   "cell_type": "code",
   "execution_count": 4,
   "metadata": {},
   "outputs": [
    {
     "name": "stdout",
     "output_type": "stream",
     "text": [
      "Temporada 2021-2022: 0 partidos empatados 0-0\n",
      "Temporada 2020-2021: 0 partidos empatados 0-0\n",
      "Temporada 2019-2020: 0 partidos empatados 0-0\n",
      "Temporada 2018-2019: 0 partidos empatados 0-0\n",
      "Temporada 2017-2018: 0 partidos empatados 0-0\n",
      "Temporada 2016-2017: 0 partidos empatados 0-0\n"
     ]
    }
   ],
   "source": [
    "# Filtrar los partidos con resultado 0-0 en cada dataframe\n",
    "empates_2122 = laliga2122[laliga2122['Score'] == '0-0']\n",
    "empates_2021 = laliga2021[laliga2021['Score'] == '0-0']\n",
    "empates_1920 = laliga1920[laliga1920['Score'] == '0-0']\n",
    "empates_1819 = laliga1819[laliga1819['Score'] == '0-0']\n",
    "empates_1718 = laliga1718[laliga1718['Score'] == '0-0']\n",
    "empates_1617 = laliga1617[laliga1617['Score'] == '0-0']\n",
    "\n",
    "# Contar la cantidad de partidos en cada temporada\n",
    "cantidad_empates_2122 = empates_2122.shape[0]\n",
    "cantidad_empates_2021 = empates_2021.shape[0]\n",
    "cantidad_empates_1920 = empates_1920.shape[0]\n",
    "cantidad_empates_1819 = empates_1819.shape[0]\n",
    "cantidad_empates_1718 = empates_1718.shape[0]\n",
    "cantidad_empates_1617 = empates_1617.shape[0]\n",
    "\n",
    "# Imprimir los resultados\n",
    "print(f\"Temporada 2021-2022: {cantidad_empates_2122} partidos empatados 0-0\")\n",
    "print(f\"Temporada 2020-2021: {cantidad_empates_2021} partidos empatados 0-0\")\n",
    "print(f\"Temporada 2019-2020: {cantidad_empates_1920} partidos empatados 0-0\")\n",
    "print(f\"Temporada 2018-2019: {cantidad_empates_1819} partidos empatados 0-0\")\n",
    "print(f\"Temporada 2017-2018: {cantidad_empates_1718} partidos empatados 0-0\")\n",
    "print(f\"Temporada 2016-2017: {cantidad_empates_1617} partidos empatados 0-0\")\n"
   ]
  }
 ],
 "metadata": {
  "kernelspec": {
   "display_name": "Python 3",
   "language": "python",
   "name": "python3"
  },
  "language_info": {
   "codemirror_mode": {
    "name": "ipython",
    "version": 3
   },
   "file_extension": ".py",
   "mimetype": "text/x-python",
   "name": "python",
   "nbconvert_exporter": "python",
   "pygments_lexer": "ipython3",
   "version": "3.10.11"
  }
 },
 "nbformat": 4,
 "nbformat_minor": 2
}
